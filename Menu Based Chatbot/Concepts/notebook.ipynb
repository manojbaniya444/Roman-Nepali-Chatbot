{
 "cells": [
  {
   "cell_type": "markdown",
   "metadata": {},
   "source": [
    "## Trying"
   ]
  },
  {
   "cell_type": "code",
   "execution_count": 1,
   "metadata": {},
   "outputs": [],
   "source": [
    "status_db = [\n",
    "    {\n",
    "        \"orderId\": \"ORD123\",\n",
    "        \"status\": \"processing\",\n",
    "    },\n",
    "    {\n",
    "        \"orderId\": \"ORD234\",\n",
    "        \"status\": \"delivered\",\n",
    "    },\n",
    "    {\n",
    "        \"orderId\": \"ORD986\",\n",
    "        \"status\": \"shipping\",\n",
    "    },\n",
    "    {\n",
    "        \"orderId\": \"ORD232\",\n",
    "        \"status\": \"processing\",\n",
    "    },\n",
    "    {\n",
    "        \"orderId\": \"ORD121\",\n",
    "        \"status\": \"shipping\",\n",
    "    }\n",
    "]"
   ]
  },
  {
   "cell_type": "code",
   "execution_count": 2,
   "metadata": {},
   "outputs": [
    {
     "name": "stdout",
     "output_type": "stream",
     "text": [
      "{'orderId': 'ORD123', 'status': 'processing'}\n",
      "{'orderId': 'ORD234', 'status': 'delivered'}\n",
      "{'orderId': 'ORD986', 'status': 'shipping'}\n",
      "{'orderId': 'ORD232', 'status': 'processing'}\n",
      "{'orderId': 'ORD121', 'status': 'shipping'}\n"
     ]
    }
   ],
   "source": [
    "for order in status_db:\n",
    "    print(order)"
   ]
  },
  {
   "cell_type": "code",
   "execution_count": 4,
   "metadata": {},
   "outputs": [
    {
     "name": "stdout",
     "output_type": "stream",
     "text": [
      "shipping\n"
     ]
    }
   ],
   "source": [
    "for order in status_db:\n",
    "    if order[\"orderId\"] == \"ORD121\":\n",
    "        print(order[\"status\"])"
   ]
  },
  {
   "cell_type": "code",
   "execution_count": 5,
   "metadata": {},
   "outputs": [],
   "source": [
    "status_response_utterences = {\n",
    "    \"processing\": [\n",
    "        \"Tapaiko order {orderId} processing hudei xa kripaya parkhanu hos.\",\n",
    "        \"Hajurko order {orderId} processing hudei xa.\",\n",
    "        \"{orderId} ko order processing stage ma cha.\"\n",
    "    ],\n",
    "    \"shipping\": [\n",
    "        \"Tapaiko order number {orderId} shipping hudei xa kehi din ma delivery hune cha.\",\n",
    "        \"Hajurko order {orderId} shipping hudei cha.\"\n",
    "    ],\n",
    "    \"delivered\": [\n",
    "        \"Order: {orderId} deliver vai sakyo.\",\n",
    "        \"Tapaiko saman {orderId} delivered vali sakeko cha.\"\n",
    "    ]\n",
    "}"
   ]
  },
  {
   "cell_type": "code",
   "execution_count": 6,
   "metadata": {},
   "outputs": [],
   "source": [
    "import random"
   ]
  },
  {
   "cell_type": "code",
   "execution_count": 10,
   "metadata": {},
   "outputs": [
    {
     "data": {
      "text/plain": [
       "'Tapaiko order ORD123 processing hudei xa kripaya parkhanu hos.'"
      ]
     },
     "execution_count": 10,
     "metadata": {},
     "output_type": "execute_result"
    }
   ],
   "source": [
    "random.sample(status_response_utterences[\"processing\"], 1)[0].format(orderId=\"ORD123\")"
   ]
  },
  {
   "cell_type": "markdown",
   "metadata": {},
   "source": [
    "## matching slug"
   ]
  },
  {
   "cell_type": "code",
   "execution_count": 20,
   "metadata": {},
   "outputs": [],
   "source": [
    "products_slug = [\n",
    "    \"redmi-note-9-pro\",\n",
    "    \"macbook-pro\",\n",
    "    \"macbook-m1-chip\"\n",
    "]"
   ]
  },
  {
   "cell_type": "code",
   "execution_count": 63,
   "metadata": {},
   "outputs": [
    {
     "data": {
      "text/plain": [
       "{'9', 'chaiyeko', 'note', 'pro', 'redmi', 'xa'}"
      ]
     },
     "execution_count": 63,
     "metadata": {},
     "output_type": "execute_result"
    }
   ],
   "source": [
    "query = \"redmi note 9 pro chaiyeko xa\".lower().split(\" \")\n",
    "query = set(query)\n",
    "query"
   ]
  },
  {
   "cell_type": "code",
   "execution_count": 64,
   "metadata": {},
   "outputs": [
    {
     "name": "stdout",
     "output_type": "stream",
     "text": [
      "redmi-note-9-pro\n",
      "macbook-pro\n"
     ]
    }
   ],
   "source": [
    "for slug in products_slug:\n",
    "    slug_keyword = set(slug.split(\"-\"))\n",
    "    if any(part in query for part in slug_keyword):\n",
    "        print(slug)"
   ]
  },
  {
   "cell_type": "code",
   "execution_count": 67,
   "metadata": {},
   "outputs": [
    {
     "name": "stdout",
     "output_type": "stream",
     "text": [
      "Found a match\n"
     ]
    }
   ],
   "source": [
    "if any(x in [\"a\", \"b\", \"c\"] for x in [\"a\", \"a\"]):\n",
    "    print(\"Found a match\")"
   ]
  },
  {
   "cell_type": "code",
   "execution_count": 24,
   "metadata": {},
   "outputs": [
    {
     "data": {
      "text/plain": [
       "({'chaiyeko', 'macbook', 'xa'}, {'chip', 'm1', 'macbook'})"
      ]
     },
     "execution_count": 24,
     "metadata": {},
     "output_type": "execute_result"
    }
   ],
   "source": [
    "query, slug_keyword"
   ]
  },
  {
   "cell_type": "code",
   "execution_count": 25,
   "metadata": {},
   "outputs": [
    {
     "name": "stdout",
     "output_type": "stream",
     "text": [
      "macbook\n",
      "chaiyeko\n",
      "xa\n"
     ]
    }
   ],
   "source": [
    "for part in query:\n",
    "    print(part)"
   ]
  },
  {
   "cell_type": "code",
   "execution_count": 29,
   "metadata": {},
   "outputs": [
    {
     "name": "stdout",
     "output_type": "stream",
     "text": [
      "macbook-m1-chip\n"
     ]
    }
   ],
   "source": [
    "for part in query:\n",
    "    if part in slug_keyword:\n",
    "        print(slug)"
   ]
  },
  {
   "cell_type": "code",
   "execution_count": 31,
   "metadata": {},
   "outputs": [
    {
     "data": {
      "text/plain": [
       "True"
      ]
     },
     "execution_count": 31,
     "metadata": {},
     "output_type": "execute_result"
    }
   ],
   "source": [
    "True if len([1, 2, 3]) > 0 else False"
   ]
  },
  {
   "cell_type": "code",
   "execution_count": 33,
   "metadata": {},
   "outputs": [
    {
     "data": {
      "text/plain": [
       "[3]"
      ]
     },
     "execution_count": 33,
     "metadata": {},
     "output_type": "execute_result"
    }
   ],
   "source": [
    "[x for x in [1,2,3] if x > 2]"
   ]
  },
  {
   "cell_type": "code",
   "execution_count": 49,
   "metadata": {},
   "outputs": [
    {
     "data": {
      "text/plain": [
       "('Alice', 'Alice')"
      ]
     },
     "execution_count": 49,
     "metadata": {},
     "output_type": "execute_result"
    }
   ],
   "source": [
    "name = {\n",
    "    \"name\": \"Alice\",\n",
    "    \"gender\": \"Male\"\n",
    "}\n",
    "\n",
    "name.get(\"name\"), name[\"name\"]"
   ]
  },
  {
   "cell_type": "code",
   "execution_count": 50,
   "metadata": {},
   "outputs": [],
   "source": [
    "name[\"name\"] = \"Username\""
   ]
  },
  {
   "cell_type": "code",
   "execution_count": 51,
   "metadata": {},
   "outputs": [
    {
     "data": {
      "text/plain": [
       "{'name': 'Username', 'gender': 'Male'}"
      ]
     },
     "execution_count": 51,
     "metadata": {},
     "output_type": "execute_result"
    }
   ],
   "source": [
    "name"
   ]
  },
  {
   "cell_type": "code",
   "execution_count": 52,
   "metadata": {},
   "outputs": [],
   "source": [
    "name.__delitem__(\"name\")"
   ]
  },
  {
   "cell_type": "code",
   "execution_count": 53,
   "metadata": {},
   "outputs": [
    {
     "data": {
      "text/plain": [
       "{'gender': 'Male'}"
      ]
     },
     "execution_count": 53,
     "metadata": {},
     "output_type": "execute_result"
    }
   ],
   "source": [
    "name"
   ]
  },
  {
   "cell_type": "code",
   "execution_count": 56,
   "metadata": {},
   "outputs": [],
   "source": [
    "name[\"name\"] = \"newuser\""
   ]
  },
  {
   "cell_type": "code",
   "execution_count": 58,
   "metadata": {},
   "outputs": [],
   "source": [
    "name[\"name\"] = \"rename\""
   ]
  },
  {
   "cell_type": "code",
   "execution_count": 59,
   "metadata": {},
   "outputs": [
    {
     "data": {
      "text/plain": [
       "{'gender': 'Male', 'name': 'rename'}"
      ]
     },
     "execution_count": 59,
     "metadata": {},
     "output_type": "execute_result"
    }
   ],
   "source": [
    "name"
   ]
  },
  {
   "cell_type": "code",
   "execution_count": 61,
   "metadata": {},
   "outputs": [],
   "source": [
    "del name[\"gender\"]"
   ]
  },
  {
   "cell_type": "code",
   "execution_count": 62,
   "metadata": {},
   "outputs": [
    {
     "data": {
      "text/plain": [
       "{'name': 'rename'}"
      ]
     },
     "execution_count": 62,
     "metadata": {},
     "output_type": "execute_result"
    }
   ],
   "source": [
    "name"
   ]
  },
  {
   "cell_type": "code",
   "execution_count": 36,
   "metadata": {},
   "outputs": [
    {
     "data": {
      "text/plain": [
       "['ab']"
      ]
     },
     "execution_count": 36,
     "metadata": {},
     "output_type": "execute_result"
    }
   ],
   "source": [
    "[x[\"name\"] for x in [{\"name\": \"a\"}, {\"name\": \"ab\"}] if x[\"name\"] == \"ab\"]"
   ]
  }
 ],
 "metadata": {
  "kernelspec": {
   "display_name": "Python 3",
   "language": "python",
   "name": "python3"
  },
  "language_info": {
   "codemirror_mode": {
    "name": "ipython",
    "version": 3
   },
   "file_extension": ".py",
   "mimetype": "text/x-python",
   "name": "python",
   "nbconvert_exporter": "python",
   "pygments_lexer": "ipython3",
   "version": "3.12.1"
  }
 },
 "nbformat": 4,
 "nbformat_minor": 2
}
