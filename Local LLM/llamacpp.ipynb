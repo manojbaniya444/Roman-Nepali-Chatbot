{
 "cells": [
  {
   "cell_type": "code",
   "execution_count": 12,
   "metadata": {},
   "outputs": [],
   "source": [
    "from llama_cpp import Llama"
   ]
  },
  {
   "cell_type": "code",
   "execution_count": 16,
   "metadata": {},
   "outputs": [],
   "source": [
    "model = \"./model/unsloth.Q4_K_M.gguf\""
   ]
  },
  {
   "cell_type": "code",
   "execution_count": 17,
   "metadata": {},
   "outputs": [],
   "source": [
    "CONTEXT_SIZE = 512"
   ]
  },
  {
   "cell_type": "code",
   "execution_count": null,
   "metadata": {},
   "outputs": [],
   "source": [
    "# Ensure the model path is correct and the model file exists\n",
    "import os\n",
    "\n",
    "if os.path.exists(model):\n",
    "\ttry:\n",
    "\t\tgemma2nepali = Llama(model_path=model, context_size=CONTEXT_SIZE)\n",
    "\texcept Exception as e:\n",
    "\t\traise RuntimeError(f\"Failed to load the model: {e}\")\n",
    "else:\n",
    "\traise FileNotFoundError(f\"The model file was not found at the specified path: {model}\")"
   ]
  }
 ],
 "metadata": {
  "kernelspec": {
   "display_name": "Python 3",
   "language": "python",
   "name": "python3"
  },
  "language_info": {
   "codemirror_mode": {
    "name": "ipython",
    "version": 3
   },
   "file_extension": ".py",
   "mimetype": "text/x-python",
   "name": "python",
   "nbconvert_exporter": "python",
   "pygments_lexer": "ipython3",
   "version": "3.12.1"
  }
 },
 "nbformat": 4,
 "nbformat_minor": 2
}
