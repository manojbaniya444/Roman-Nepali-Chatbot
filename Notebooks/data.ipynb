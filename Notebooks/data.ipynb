{
 "cells": [
  {
   "cell_type": "code",
   "execution_count": 1,
   "metadata": {},
   "outputs": [
    {
     "name": "stdout",
     "output_type": "stream",
     "text": [
      "Dataset saved to ./chatbot_dataset.txt\n"
     ]
    }
   ],
   "source": [
    "import pandas as pd\n",
    "\n",
    "# Load the CSV file\n",
    "csv_file_path = \"./classification.csv\"  # Replace with your CSV file path\n",
    "data = pd.read_csv(csv_file_path)\n",
    "\n",
    "# Assuming the CSV has 'Question' and 'Answer' columns\n",
    "formatted_lines = data.apply(lambda row: f\"{row['answer']}\\t{row['question']}\", axis=1)\n",
    "\n",
    "# Save the formatted lines to a new text file\n",
    "output_file_path = \"./chatbot_dataset.txt\"  # Replace with your desired output file path\n",
    "with open(output_file_path, \"w\") as file:\n",
    "    file.write(\"\\n\".join(formatted_lines))\n",
    "\n",
    "print(f\"Dataset saved to {output_file_path}\")"
   ]
  }
 ],
 "metadata": {
  "kernelspec": {
   "display_name": "Python 3",
   "language": "python",
   "name": "python3"
  },
  "language_info": {
   "codemirror_mode": {
    "name": "ipython",
    "version": 3
   },
   "file_extension": ".py",
   "mimetype": "text/x-python",
   "name": "python",
   "nbconvert_exporter": "python",
   "pygments_lexer": "ipython3",
   "version": "3.12.1"
  }
 },
 "nbformat": 4,
 "nbformat_minor": 2
}
