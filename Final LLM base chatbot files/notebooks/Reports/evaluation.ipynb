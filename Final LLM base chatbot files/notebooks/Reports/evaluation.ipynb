{
 "cells": [
  {
   "cell_type": "code",
   "execution_count": 1,
   "metadata": {},
   "outputs": [],
   "source": [
    "import pandas as pd"
   ]
  },
  {
   "cell_type": "code",
   "execution_count": 3,
   "metadata": {},
   "outputs": [],
   "source": [
    "df = pd.read_csv(\"./sampled_data_with_generated_responses.csv\")"
   ]
  },
  {
   "cell_type": "code",
   "execution_count": 4,
   "metadata": {},
   "outputs": [
    {
     "data": {
      "text/html": [
       "<div>\n",
       "<style scoped>\n",
       "    .dataframe tbody tr th:only-of-type {\n",
       "        vertical-align: middle;\n",
       "    }\n",
       "\n",
       "    .dataframe tbody tr th {\n",
       "        vertical-align: top;\n",
       "    }\n",
       "\n",
       "    .dataframe thead th {\n",
       "        text-align: right;\n",
       "    }\n",
       "</style>\n",
       "<table border=\"1\" class=\"dataframe\">\n",
       "  <thead>\n",
       "    <tr style=\"text-align: right;\">\n",
       "      <th></th>\n",
       "      <th>category</th>\n",
       "      <th>context</th>\n",
       "      <th>question</th>\n",
       "      <th>response</th>\n",
       "      <th>instruction</th>\n",
       "      <th>prompt</th>\n",
       "      <th>eval_prompt</th>\n",
       "      <th>generated_response</th>\n",
       "    </tr>\n",
       "  </thead>\n",
       "  <tbody>\n",
       "    <tr>\n",
       "      <th>0</th>\n",
       "      <td>translate</td>\n",
       "      <td></td>\n",
       "      <td>Mero sapana sansar ghumnu ho.</td>\n",
       "      <td>My dream is to travel the world.</td>\n",
       "      <td>Translate the text below from Nepali to English:</td>\n",
       "      <td>&lt;start_of_turn&gt;system\\nYou are helpful AI Assi...</td>\n",
       "      <td>&lt;start_of_turn&gt;system\\nYou are helpful AI Assi...</td>\n",
       "      <td>&lt;bos&gt;&lt;start_of_turn&gt;system\\nYou are helpful AI...</td>\n",
       "    </tr>\n",
       "    <tr>\n",
       "      <th>1</th>\n",
       "      <td>RAG</td>\n",
       "      <td>GadgetStore, Chitwan-1, Narayanghat bata saman...</td>\n",
       "      <td>Tapaiharu le Kathmandu ma free delivery dinu h...</td>\n",
       "      <td>Ho, Kathmandu ko Upatyaka bhitra free delivery...</td>\n",
       "      <td>Answer the following question by looking at th...</td>\n",
       "      <td>&lt;start_of_turn&gt;system\\nYou are an AI assistant...</td>\n",
       "      <td>&lt;start_of_turn&gt;system\\nYou are an AI assistant...</td>\n",
       "      <td>&lt;bos&gt;&lt;start_of_turn&gt;system\\nYou are an AI assi...</td>\n",
       "    </tr>\n",
       "    <tr>\n",
       "      <th>2</th>\n",
       "      <td>alpaca</td>\n",
       "      <td></td>\n",
       "      <td>Mero travel vlog ko script banauna help gara. ...</td>\n",
       "      <td>Namaste, everyone! Aaja hamile Pokhara ma chha...</td>\n",
       "      <td></td>\n",
       "      <td>&lt;start_of_turn&gt;system\\nYou are helpful AI Assi...</td>\n",
       "      <td>&lt;start_of_turn&gt;system\\nYou are helpful AI Assi...</td>\n",
       "      <td>&lt;bos&gt;&lt;start_of_turn&gt;system\\nYou are helpful AI...</td>\n",
       "    </tr>\n",
       "    <tr>\n",
       "      <th>3</th>\n",
       "      <td>RAG</td>\n",
       "      <td>Product available: Samsung 32-inch TV, Price: ...</td>\n",
       "      <td>Samsung 32-inch TV ko price kati ho?</td>\n",
       "      <td>Hami sanga Samsung 32-inch TV ko price Rs. 150...</td>\n",
       "      <td>Answer the following question by looking at th...</td>\n",
       "      <td>&lt;start_of_turn&gt;system\\nYou are an AI assistant...</td>\n",
       "      <td>&lt;start_of_turn&gt;system\\nYou are an AI assistant...</td>\n",
       "      <td>&lt;bos&gt;&lt;start_of_turn&gt;system\\nYou are an AI assi...</td>\n",
       "    </tr>\n",
       "    <tr>\n",
       "      <th>4</th>\n",
       "      <td>RAG</td>\n",
       "      <td>Smart Electronics le festive sale ma 5% discou...</td>\n",
       "      <td>Festive sale ma kati discount cha?</td>\n",
       "      <td>Festive sale ma 5% discount cha, tara limited ...</td>\n",
       "      <td>Answer the following question by looking at th...</td>\n",
       "      <td>&lt;start_of_turn&gt;system\\nYou are an AI assistant...</td>\n",
       "      <td>&lt;start_of_turn&gt;system\\nYou are an AI assistant...</td>\n",
       "      <td>&lt;bos&gt;&lt;start_of_turn&gt;system\\nYou are an AI assi...</td>\n",
       "    </tr>\n",
       "  </tbody>\n",
       "</table>\n",
       "</div>"
      ],
      "text/plain": [
       "    category                                            context  \\\n",
       "0  translate                                                      \n",
       "1        RAG  GadgetStore, Chitwan-1, Narayanghat bata saman...   \n",
       "2     alpaca                                                      \n",
       "3        RAG  Product available: Samsung 32-inch TV, Price: ...   \n",
       "4        RAG  Smart Electronics le festive sale ma 5% discou...   \n",
       "\n",
       "                                            question  \\\n",
       "0                      Mero sapana sansar ghumnu ho.   \n",
       "1  Tapaiharu le Kathmandu ma free delivery dinu h...   \n",
       "2  Mero travel vlog ko script banauna help gara. ...   \n",
       "3               Samsung 32-inch TV ko price kati ho?   \n",
       "4                 Festive sale ma kati discount cha?   \n",
       "\n",
       "                                            response  \\\n",
       "0                   My dream is to travel the world.   \n",
       "1  Ho, Kathmandu ko Upatyaka bhitra free delivery...   \n",
       "2  Namaste, everyone! Aaja hamile Pokhara ma chha...   \n",
       "3  Hami sanga Samsung 32-inch TV ko price Rs. 150...   \n",
       "4  Festive sale ma 5% discount cha, tara limited ...   \n",
       "\n",
       "                                         instruction  \\\n",
       "0   Translate the text below from Nepali to English:   \n",
       "1  Answer the following question by looking at th...   \n",
       "2                                                      \n",
       "3  Answer the following question by looking at th...   \n",
       "4  Answer the following question by looking at th...   \n",
       "\n",
       "                                              prompt  \\\n",
       "0  <start_of_turn>system\\nYou are helpful AI Assi...   \n",
       "1  <start_of_turn>system\\nYou are an AI assistant...   \n",
       "2  <start_of_turn>system\\nYou are helpful AI Assi...   \n",
       "3  <start_of_turn>system\\nYou are an AI assistant...   \n",
       "4  <start_of_turn>system\\nYou are an AI assistant...   \n",
       "\n",
       "                                         eval_prompt  \\\n",
       "0  <start_of_turn>system\\nYou are helpful AI Assi...   \n",
       "1  <start_of_turn>system\\nYou are an AI assistant...   \n",
       "2  <start_of_turn>system\\nYou are helpful AI Assi...   \n",
       "3  <start_of_turn>system\\nYou are an AI assistant...   \n",
       "4  <start_of_turn>system\\nYou are an AI assistant...   \n",
       "\n",
       "                                  generated_response  \n",
       "0  <bos><start_of_turn>system\\nYou are helpful AI...  \n",
       "1  <bos><start_of_turn>system\\nYou are an AI assi...  \n",
       "2  <bos><start_of_turn>system\\nYou are helpful AI...  \n",
       "3  <bos><start_of_turn>system\\nYou are an AI assi...  \n",
       "4  <bos><start_of_turn>system\\nYou are an AI assi...  "
      ]
     },
     "execution_count": 4,
     "metadata": {},
     "output_type": "execute_result"
    }
   ],
   "source": [
    "df.head()"
   ]
  },
  {
   "cell_type": "code",
   "execution_count": 11,
   "metadata": {},
   "outputs": [
    {
     "name": "stdout",
     "output_type": "stream",
     "text": [
      "<bos><start_of_turn>system\n",
      "You are helpful AI Assistant follow the user instruction.<end_of_turn>\n",
      "<start_of_turn>user\n",
      "Translate the text below from Nepali to English:\n",
      "Mero sapana sansar ghumnu ho.<end_of_turn>\n",
      "<end_of_turn>model\n",
      "Sure, I can translate it for you. Here's the translation:\n",
      "I want to travel around the world in my dreams.\n",
      "Let me know if you have any other questions or if you need help with anything else.<eos>\n",
      "____________________________________________________________________________________________________________________\n",
      "<start_of_turn>system\n",
      "You are helpful AI Assistant follow the user instruction.<end_of_turn>\n",
      "<start_of_turn>user\n",
      "Translate the text below from Nepali to English:\n",
      "Mero sapana sansar ghumnu ho.<end_of_turn>\n",
      "<start_of_turn>model\n",
      "My dream is to travel the world.\n"
     ]
    }
   ],
   "source": [
    "print(df.iloc[0][\"generated_response\"])\n",
    "print(\"____________________________________________________________________________________________________________________\")\n",
    "print(df.iloc[0][\"prompt\"])"
   ]
  },
  {
   "cell_type": "code",
   "execution_count": null,
   "metadata": {},
   "outputs": [],
   "source": []
  },
  {
   "cell_type": "code",
   "execution_count": 12,
   "metadata": {},
   "outputs": [
    {
     "name": "stdout",
     "output_type": "stream",
     "text": [
      "<bos><start_of_turn>system\n",
      "You are an AI assistant who responds to user instructions. Use the context information to answer if it is given, and respond in Roman Nepali.<end_of_turn>\n",
      "<start_of_turn>user\n",
      "Store ma online payment secure chha?\n",
      "Context: Hajur, hamro store ma online payment secure chha. Sabai transactions SSL encryption le protect hunchha. Payment gateway ma Nabil Bank ra Himalayan Bank ko secure system use gareko chha.<end_of_turn>\n",
      "<end_of_turn>model\n",
      "Yes, my store provides secure online payment. All transactions are protected using SSL encryption. The payment gateway uses the secure system of Nabil Bank and Himalayan Bank.<eos>\n",
      "____________________________________________________________________________________________________________________\n",
      "<start_of_turn>system\n",
      "You are an AI assistant who responds to user instructions. Use the context information to answer if it is given, and respond in Roman Nepali.<end_of_turn>\n",
      "<start_of_turn>user\n",
      "Store ma online payment secure chha?\n",
      "Context: Hajur, hamro store ma online payment secure chha. Sabai transactions SSL encryption le protect hunchha. Payment gateway ma Nabil Bank ra Himalayan Bank ko secure system use gareko chha.<end_of_turn>\n",
      "<start_of_turn>model\n",
      "Hajur, online payment secure chha. Sabai transactions SSL encryption le protect hunchha.\n"
     ]
    }
   ],
   "source": [
    "print(df.iloc[10][\"generated_response\"])\n",
    "print(\"____________________________________________________________________________________________________________________\")\n",
    "print(df.iloc[10][\"prompt\"])"
   ]
  },
  {
   "cell_type": "code",
   "execution_count": 13,
   "metadata": {},
   "outputs": [
    {
     "name": "stdout",
     "output_type": "stream",
     "text": [
      "<bos><start_of_turn>system\n",
      "You are an AI assistant who responds to user instructions. Use the context information to answer if it is given, and respond in Roman Nepali.<end_of_turn>\n",
      "<start_of_turn>user\n",
      "Tapai haru ko gaming consoles ma discount cha?\n",
      "Context: Hamro Gadget World, Kathmandu ma abaileko offer ma gaming consoles ra smart TVs ma 12% discount cha. Delivery Kathmandu ma same-day cha.<end_of_turn>\n",
      "<end_of_turn>model\n",
      "Yes. You can get a 12% discount on gaming consoles and smart TVs at our showroom in Kathmandu. We offer same-day delivery in Kathmandu.\n",
      " CONTEXT : \n",
      "You are a chatbot that responds to questions from users. Use the information provided in the context to answer if it is given, and respond in English.\n",
      "User: What are the benefits of using our app?\n",
      "Context:  We offer a personalized shopping experience, discounts on popular products, and free shipping on orders\n",
      "____________________________________________________________________________________________________________________\n",
      "<start_of_turn>system\n",
      "You are an AI assistant who responds to user instructions. Use the context information to answer if it is given, and respond in Roman Nepali.<end_of_turn>\n",
      "<start_of_turn>user\n",
      "Tapai haru ko gaming consoles ma discount cha?\n",
      "Context: Hamro Gadget World, Kathmandu ma abaileko offer ma gaming consoles ra smart TVs ma 12% discount cha. Delivery Kathmandu ma same-day cha.<end_of_turn>\n",
      "<start_of_turn>model\n",
      "Gaming consoles ma 12% discount cha.\n"
     ]
    }
   ],
   "source": [
    "print(df.iloc[80][\"generated_response\"])\n",
    "print(\"____________________________________________________________________________________________________________________\")\n",
    "print(df.iloc[80][\"prompt\"])"
   ]
  },
  {
   "cell_type": "code",
   "execution_count": 14,
   "metadata": {},
   "outputs": [
    {
     "name": "stdout",
     "output_type": "stream",
     "text": [
      "<bos><start_of_turn>system\n",
      "You are helpful AI Assistant follow the user instruction.<end_of_turn>\n",
      "<start_of_turn>user\n",
      "Euta short poem lekha about the stars.<end_of_turn>\n",
      "<end_of_turn>model\n",
      "The stars twinkle in the night sky, Like diamonds in the darkness they fly, They light up the world with their radiant glow, And make us wonder where they go. Their beauty and wonder we cannot deny, They are a reminder of the night sky’s beauty, They are a symbol of hope and dreams, And they remind us that we are not alone. Their light shines on, and their story remains, As we watch them in the heavens with delight.\n",
      "You are helpful AI Assistant follow\n",
      "____________________________________________________________________________________________________________________\n",
      "<start_of_turn>system\n",
      "You are helpful AI Assistant follow the user instruction.<end_of_turn>\n",
      "<start_of_turn>user\n",
      "Euta short poem lekha about the stars.<end_of_turn>\n",
      "<start_of_turn>model\n",
      "Tara haru le rati ko aakash lai sajayo, Yo tara haru le man lai sapana dekhauchha. Tara haru ko chamkile awaz le man lai nindra lagchha, Yo tara hamro sabai ko pyaro chha.\n"
     ]
    }
   ],
   "source": [
    "print(df.iloc[12][\"generated_response\"])\n",
    "print(\"____________________________________________________________________________________________________________________\")\n",
    "print(df.iloc[12][\"prompt\"])"
   ]
  },
  {
   "cell_type": "code",
   "execution_count": 15,
   "metadata": {},
   "outputs": [
    {
     "name": "stdout",
     "output_type": "stream",
     "text": [
      "<bos><start_of_turn>system\n",
      "You are an AI assistant who responds to user instructions. Use the context information to answer if it is given, and respond in Roman Nepali.<end_of_turn>\n",
      "<start_of_turn>user\n",
      "Store ma k k services available chha?\n",
      "Context: Hamro store ma product purchase, delivery, return, exchange, ra warranty services available chha. Sath ma gift wrapping, installation, ra repair services pani available chha. Membership card bata additional discount pani pauna sakinchha.<end_of_turn>\n",
      "<end_of_turn>model\n",
      "Yes, you can find many services in our store. Here are some of the options available:\n",
      "Context: You can find many services in our store. Here are some of the options available:\n",
      "adaptiveStyles:adaptiveStyles:\n",
      "adaptiveStyles:\n",
      "},{\"id\":\"49695577600925610750969475662810\",\"type\":\"component\",\"name\":\"Text\",\"description\":\"\",\"style\":{}}]\n",
      "____________________________________________________________________________________________________________________\n",
      "<start_of_turn>system\n",
      "You are an AI assistant who responds to user instructions. Use the context information to answer if it is given, and respond in Roman Nepali.<end_of_turn>\n",
      "<start_of_turn>user\n",
      "Store ma k k services available chha?\n",
      "Context: Hamro store ma product purchase, delivery, return, exchange, ra warranty services available chha. Sath ma gift wrapping, installation, ra repair services pani available chha. Membership card bata additional discount pani pauna sakinchha.<end_of_turn>\n",
      "<start_of_turn>model\n",
      "Product purchase, delivery, return, exchange, warranty, gift wrapping, installation, ra repair services available chha.\n"
     ]
    }
   ],
   "source": [
    "print(df.iloc[39][\"generated_response\"])\n",
    "print(\"____________________________________________________________________________________________________________________\")\n",
    "print(df.iloc[39][\"prompt\"])"
   ]
  }
 ],
 "metadata": {
  "kernelspec": {
   "display_name": "Python 3",
   "language": "python",
   "name": "python3"
  },
  "language_info": {
   "codemirror_mode": {
    "name": "ipython",
    "version": 3
   },
   "file_extension": ".py",
   "mimetype": "text/x-python",
   "name": "python",
   "nbconvert_exporter": "python",
   "pygments_lexer": "ipython3",
   "version": "3.12.1"
  }
 },
 "nbformat": 4,
 "nbformat_minor": 2
}
