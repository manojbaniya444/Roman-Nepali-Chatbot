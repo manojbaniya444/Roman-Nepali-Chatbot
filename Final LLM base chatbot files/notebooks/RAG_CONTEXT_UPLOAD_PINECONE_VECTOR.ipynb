{
 "cells": [
  {
   "cell_type": "code",
   "execution_count": 1,
   "metadata": {},
   "outputs": [],
   "source": [
    "data_1 = \"\"\"Store Information:\n",
    "Hamro store ko name All Electronics store ho hamro ma sabai prakar ko electronics saman available xa. Hamro store ko location Dharan ho.\n",
    "Store ko contact no 9844644186 ho. Email allelectronicsstore@gmail.com.\"\"\"\n",
    "\n",
    "data_2 = \"\"\"Payment Methods:\n",
    "Hami online payment accept garxau. Esewa, Khalti wa kunei pani mobile banking baata pay accept garxau. Hami sanga Cash on Delivery (COD) chai available xaina aile.\"\"\"\n",
    "\n",
    "data_3 = \"\"\"Return Policy:\n",
    "Saman kineko 1 week vitra return garna milxa. Tara return guideline follow garnu parne hunxa ra same condition ma hunu parne xa.\"\"\"\n",
    "\n",
    "data_4 = \"\"\"Discount Offer:\n",
    "aile hamro store ma kunei pani saman ma discount offer available xaina.\"\"\"\n",
    "\n",
    "data_5 = \"\"\"Products Available:\n",
    "1. name: 'I Phone 11 Pro' category: mobile price: Rs. 1,30,000 stock: True RAM: 16GB storage: 64GB description: \"I Phone 11 Pro features a triple-camera system and a powerful A13 Bionic chip.\"\n",
    "2. name: 'Samsung Galaxy S21 Ultra' category: mobile price: Rs. 1,40,000 stock: True RAM: 16GB storage: 128GB description: \"The Galaxy S21 Ultra offers a stunning display and a versatile camera system.\"\n",
    "3. name: 'Macbook Pro' price: Rs. 4,10,000 category: laptop stock: True description: The MacBook Pro is a high-performance laptop with a Retina display and M1 chip.\n",
    "4. name: 'Redmi Note 9' Pro price: Rs. 30,000 category: mobile stock: True RAM: 8GB storage: 128GB description: \"The Redmi Note 9 Pro features a quad-camera setup and a large battery.\"\n",
    "5. name: 'Sony Bravia TV' price: Rs. 80,000 category: television stock: False  description: \"The Sony Bravia TV offers stunning 4K resolution and smart TV capabilities.\"\n",
    "6. name: 'Rolex Watch' price: Rs. 10,00,000 category: watch stock: False description: \"The Rolex Watch is a luxury timepiece known for its precision and craftsmanship.\"\n",
    "7. name: 'Nikon D3500 Camera'price: Rs. 60,000 category: camera stock: True description: \"The Nikon D3500 is a beginner-friendly DSLR camera with excellent image quality.\"\n",
    "8. name: 'Casio Calculator' price: Rs. 1500 category: calculator stock: True description: \"Casio Calculator best for Engineering students but everyone can use it.\"\"\"\n",
    "\n",
    "data_6 = \"\"\"mobile: name: 'I Phone 11 Pro' category: mobile price: Rs. 1,30,000 stock: True RAM: 16GB storage: 64GB description: \"I Phone 11 Pro features a triple-camera system and a powerful A13 Bionic chip.\n",
    "\"\"\"\n",
    "\n",
    "data_7 = \"\"\"mobile: name: 'Samsung Galaxy S21 Ultra' category: mobile price: Rs. 1,40,000 stock: True RAM: 16GB storage: 128GB description: \"The Galaxy S21 Ultra offers a stunning display and a versatile camera system.\"\"\"\n",
    "\n",
    "data_8 = \"\"\"mobile: name: 'Redmi Note 9' Pro price: Rs. 30,000 category: mobile stock: True RAM: 8GB storage: 128GB description: \"The Redmi Note 9 Pro features a quad-camera setup and a large battery.\"\"\"\n",
    "\n",
    "data_9 = \"\"\"laptop: name: 'Macbook Pro' price: Rs. 4,10,000 category: laptop stock: True description: The MacBook Pro is a high-performance laptop with a Retina display and M1 chip.\"\"\"\n",
    "\n",
    "data_10 = \"\"\"television(tv): name: 'Sony Bravia TV' price: Rs. 80,000 category: television stock: False  description: \"The Sony Bravia TV offers stunning 4K resolution and smart TV capabilities.\"\"\"\n",
    "\n",
    "data_11 = \"\"\"watch: name: 'Rolex Watch' price: Rs. 10,00,000 category: watch stock: False description: \"The Rolex Watch is a luxury timepiece known for its precision and craftsmanship.\"\"\"\n",
    "\n",
    "data_12 = \"\"\"camera: name: 'Nikon D3500 Camera'price: Rs. 60,000 category: camera stock: True description: \"The Nikon D3500 is a beginner-friendly DSLR camera with excellent image quality.\"\"\"\n",
    "\n",
    "data_13 = \"\"\"calculator: name: 'Casio Calculator' price: Rs. 1500 category: calculator stock: True description: \"Casio Calculator best for Engineering students but everyone can use it.\"\"\"\n",
    "\n",
    "data_14 = \"\"\"Delivery Information:\n",
    "Hami all Nepal saman delivery garxau. Dharan vitra same day deliver hunxa ra Dharan bahira chai 2-3 days samma laagna sakxa.\n",
    "Delivery ko paisa Dharan vitra free ho vane Outside Dharan chai Rs. 160 laagxa.\"\"\""
   ]
  },
  {
   "cell_type": "code",
   "execution_count": 2,
   "metadata": {},
   "outputs": [],
   "source": [
    "data = [\n",
    "    {\n",
    "        \"id\": \"doc1\",\n",
    "        \"text\": data_1\n",
    "    },\n",
    "    {\n",
    "        \"id\": \"doc2\",\n",
    "        \"text\": data_2\n",
    "    },\n",
    "    {\n",
    "        \"id\": \"doc3\",\n",
    "        \"text\": data_3\n",
    "    },\n",
    "    {\n",
    "        \"id\": \"doc4\",\n",
    "        \"text\": data_4\n",
    "    },\n",
    "    {\n",
    "        \"id\": \"doc5\",\n",
    "        \"text\": data_5\n",
    "    },\n",
    "    {\n",
    "        \"id\": \"doc6\",\n",
    "        \"text\": data_6\n",
    "    },\n",
    "    {\n",
    "        \"id\": \"doc7\",\n",
    "        \"text\": data_7\n",
    "    },\n",
    "    {\n",
    "        \"id\": \"doc8\",\n",
    "        \"text\": data_8\n",
    "    },\n",
    "    {\n",
    "        \"id\": \"doc9\",\n",
    "        \"text\": data_9\n",
    "    },\n",
    "    {\n",
    "        \"id\": \"doc10\",\n",
    "        \"text\": data_10\n",
    "    },\n",
    "    {\n",
    "        \"id\": \"doc11\",\n",
    "        \"text\": data_11\n",
    "    },\n",
    "    {\n",
    "        \"id\": \"doc12\",\n",
    "        \"text\": data_12\n",
    "    },\n",
    "    {\n",
    "        \"id\": \"doc13\",\n",
    "        \"text\": data_13\n",
    "    },\n",
    "    {\n",
    "        \"id\": \"doc14\",\n",
    "        \"text\": data_14\n",
    "    }\n",
    "]"
   ]
  },
  {
   "cell_type": "code",
   "execution_count": 3,
   "metadata": {},
   "outputs": [
    {
     "data": {
      "text/plain": [
       "{'id': 'doc1',\n",
       " 'text': 'Store Information:\\nHamro store ko name All Electronics store ho hamro ma sabai prakar ko electronics saman available xa. Hamro store ko location Dharan ho.\\nStore ko contact no 9844644186 ho. Email allelectronicsstore@gmail.com.'}"
      ]
     },
     "execution_count": 3,
     "metadata": {},
     "output_type": "execute_result"
    }
   ],
   "source": [
    "data[0]"
   ]
  },
  {
   "cell_type": "code",
   "execution_count": 4,
   "metadata": {},
   "outputs": [
    {
     "data": {
      "text/plain": [
       "True"
      ]
     },
     "execution_count": 4,
     "metadata": {},
     "output_type": "execute_result"
    }
   ],
   "source": [
    "import os\n",
    "import dotenv\n",
    "\n",
    "from dotenv import load_dotenv\n",
    "\n",
    "load_dotenv()"
   ]
  },
  {
   "cell_type": "code",
   "execution_count": 5,
   "metadata": {},
   "outputs": [],
   "source": [
    "pinecone_api_key = os.environ.get(\"PINECONE_API_KEY\")\n",
    "jina_api_key = os.environ.get(\"JINA_API_KEY\")"
   ]
  },
  {
   "cell_type": "code",
   "execution_count": 6,
   "metadata": {},
   "outputs": [],
   "source": [
    "index_name = os.environ.get(\"PINECONE_INDEX_NAME\")"
   ]
  },
  {
   "cell_type": "code",
   "execution_count": 7,
   "metadata": {},
   "outputs": [
    {
     "name": "stderr",
     "output_type": "stream",
     "text": [
      "C:\\Users\\acer\\AppData\\Roaming\\Python\\Python312\\site-packages\\tqdm\\auto.py:21: TqdmWarning: IProgress not found. Please update jupyter and ipywidgets. See https://ipywidgets.readthedocs.io/en/stable/user_install.html\n",
      "  from .autonotebook import tqdm as notebook_tqdm\n"
     ]
    }
   ],
   "source": [
    "from pinecone import Pinecone, ServerlessSpec\n",
    "\n",
    "pc = Pinecone(api_key=pinecone_api_key)\n",
    "\n",
    "index = pc.Index(index_name)"
   ]
  },
  {
   "cell_type": "code",
   "execution_count": 8,
   "metadata": {},
   "outputs": [],
   "source": [
    "import requests\n",
    "url = 'https://api.jina.ai/v1/embeddings'"
   ]
  },
  {
   "cell_type": "code",
   "execution_count": 9,
   "metadata": {},
   "outputs": [],
   "source": [
    "def get_embeddings(texts):\n",
    "  # returns embeddings given list of texts\n",
    "  headers = {\n",
    "      'Content-Type': 'application/json',\n",
    "      'Authorization': f'Bearer {jina_api_key}'\n",
    "  }\n",
    "  data = {\n",
    "      'input': texts,\n",
    "      'model': 'jina-clip-v2'\n",
    "  }\n",
    "  response = requests.post(url, headers=headers, json=data)\n",
    "  return response.json()\n",
    "\n",
    "embeddings = get_embeddings([d[\"text\"] for d in data])\n",
    "\n",
    "embeddings = [e[\"embedding\"] for e in embeddings[\"data\"]]"
   ]
  },
  {
   "cell_type": "code",
   "execution_count": 10,
   "metadata": {},
   "outputs": [],
   "source": [
    "vectors = []\n",
    "for d, e in zip(data, embeddings):\n",
    "    vectors.append({\n",
    "        \"id\": d['id'],\n",
    "        \"values\": e,\n",
    "        \"metadata\": {'text': d['text']}\n",
    "    })"
   ]
  },
  {
   "cell_type": "code",
   "execution_count": 11,
   "metadata": {},
   "outputs": [
    {
     "data": {
      "text/plain": [
       "'Store Information:\\nHamro store ko name All Electronics store ho hamro ma sabai prakar ko electronics saman available xa. Hamro store ko location Dharan ho.\\nStore ko contact no 9844644186 ho. Email allelectronicsstore@gmail.com.'"
      ]
     },
     "execution_count": 11,
     "metadata": {},
     "output_type": "execute_result"
    }
   ],
   "source": [
    "vectors[0][\"metadata\"][\"text\"]"
   ]
  },
  {
   "cell_type": "code",
   "execution_count": 12,
   "metadata": {},
   "outputs": [
    {
     "data": {
      "text/plain": [
       "{'upserted_count': 14}"
      ]
     },
     "execution_count": 12,
     "metadata": {},
     "output_type": "execute_result"
    }
   ],
   "source": [
    "index.upsert(\n",
    "    vectors=vectors,\n",
    "    namespace=\"ns1\"\n",
    ")"
   ]
  },
  {
   "cell_type": "markdown",
   "metadata": {},
   "source": [
    "## Testing"
   ]
  },
  {
   "cell_type": "code",
   "execution_count": 14,
   "metadata": {},
   "outputs": [
    {
     "name": "stdout",
     "output_type": "stream",
     "text": [
      "{'matches': [{'id': 'doc1',\n",
      "              'metadata': {'text': 'Store Information:\\n'\n",
      "                                   'Hamro store ko name All Electronics store '\n",
      "                                   'ho hamro ma sabai prakar ko electronics '\n",
      "                                   'saman available xa. Hamro store ko '\n",
      "                                   'location Dharan ho.\\n'\n",
      "                                   'Store ko contact no 9844644186 ho. Email '\n",
      "                                   'allelectronicsstore@gmail.com.'},\n",
      "              'score': 0.53206867,\n",
      "              'values': []}],\n",
      " 'namespace': 'ns1',\n",
      " 'usage': {'read_units': 6}}\n"
     ]
    }
   ],
   "source": [
    "query = \"store ko name ke ho\"\n",
    "\n",
    "x = get_embeddings([query])[\"data\"][0][\"embedding\"]\n",
    "\n",
    "results = index.query(\n",
    "    namespace=\"ns1\",\n",
    "    vector=x,\n",
    "    top_k=1,\n",
    "    include_values=False,\n",
    "    include_metadata=True\n",
    ")\n",
    "\n",
    "print(results)"
   ]
  },
  {
   "cell_type": "code",
   "execution_count": 15,
   "metadata": {},
   "outputs": [
    {
     "name": "stdout",
     "output_type": "stream",
     "text": [
      "{'matches': [{'id': 'doc4',\n",
      "              'metadata': {'text': 'Discount Offer:\\n'\n",
      "                                   'aile hamro store ma kunei pani saman ma '\n",
      "                                   'discount offer available xaina.'},\n",
      "              'score': 0.54718703,\n",
      "              'values': []},\n",
      "             {'id': 'doc1',\n",
      "              'metadata': {'text': 'Store Information:\\n'\n",
      "                                   'Hamro store ko name All Electronics store '\n",
      "                                   'ho hamro ma sabai prakar ko electronics '\n",
      "                                   'saman available xa. Hamro store ko '\n",
      "                                   'location Dharan ho.\\n'\n",
      "                                   'Store ko contact no 9844644186 ho. Email '\n",
      "                                   'allelectronicsstore@gmail.com.'},\n",
      "              'score': 0.438667774,\n",
      "              'values': []}],\n",
      " 'namespace': 'ns1',\n",
      " 'usage': {'read_units': 6}}\n"
     ]
    }
   ],
   "source": [
    "query = \"store kaha xa\"\n",
    "\n",
    "x = get_embeddings([query])[\"data\"][0][\"embedding\"]\n",
    "\n",
    "results = index.query(\n",
    "    namespace=\"ns1\",\n",
    "    vector=x,\n",
    "    top_k=2,\n",
    "    include_values=False,\n",
    "    include_metadata=True\n",
    ")\n",
    "\n",
    "print(results)"
   ]
  },
  {
   "cell_type": "code",
   "execution_count": 16,
   "metadata": {},
   "outputs": [
    {
     "name": "stdout",
     "output_type": "stream",
     "text": [
      "{'matches': [{'id': 'doc4',\n",
      "              'metadata': {'text': 'Discount Offer:\\n'\n",
      "                                   'aile hamro store ma kunei pani saman ma '\n",
      "                                   'discount offer available xaina.'},\n",
      "              'score': 0.545037746,\n",
      "              'values': []},\n",
      "             {'id': 'doc3',\n",
      "              'metadata': {'text': 'Return Policy:\\n'\n",
      "                                   'Saman kineko 1 week vitra return garna '\n",
      "                                   'milxa. Tara return guideline follow garnu '\n",
      "                                   'parne hunxa ra same condition ma hunu '\n",
      "                                   'parne xa.'},\n",
      "              'score': 0.405513495,\n",
      "              'values': []}],\n",
      " 'namespace': 'ns1',\n",
      " 'usage': {'read_units': 6}}\n"
     ]
    }
   ],
   "source": [
    "query = \"kun kun product available xa\"\n",
    "\n",
    "x = get_embeddings([query])[\"data\"][0][\"embedding\"]\n",
    "\n",
    "results = index.query(\n",
    "    namespace=\"ns1\",\n",
    "    vector=x,\n",
    "    top_k=2,\n",
    "    include_values=False,\n",
    "    include_metadata=True\n",
    ")\n",
    "\n",
    "print(results)"
   ]
  },
  {
   "cell_type": "code",
   "execution_count": 17,
   "metadata": {},
   "outputs": [
    {
     "name": "stdout",
     "output_type": "stream",
     "text": [
      "{'matches': [{'id': 'doc8',\n",
      "              'metadata': {'text': \"mobile: name: 'Redmi Note 9' Pro price: \"\n",
      "                                   'Rs. 30,000 category: mobile stock: True '\n",
      "                                   'RAM: 8GB storage: 128GB description: \"The '\n",
      "                                   'Redmi Note 9 Pro features a quad-camera '\n",
      "                                   'setup and a large battery.'},\n",
      "              'score': 0.510834634,\n",
      "              'values': []},\n",
      "             {'id': 'doc5',\n",
      "              'metadata': {'text': 'Products Available:\\n'\n",
      "                                   \"1. name: 'I Phone 11 Pro' category: mobile \"\n",
      "                                   'price: Rs. 1,30,000 stock: True RAM: 16GB '\n",
      "                                   'storage: 64GB description: \"I Phone 11 Pro '\n",
      "                                   'features a triple-camera system and a '\n",
      "                                   'powerful A13 Bionic chip.\"\\n'\n",
      "                                   \"2. name: 'Samsung Galaxy S21 Ultra' \"\n",
      "                                   'category: mobile price: Rs. 1,40,000 '\n",
      "                                   'stock: True RAM: 16GB storage: 128GB '\n",
      "                                   'description: \"The Galaxy S21 Ultra offers '\n",
      "                                   'a stunning display and a versatile camera '\n",
      "                                   'system.\"\\n'\n",
      "                                   \"3. name: 'Macbook Pro' price: Rs. 4,10,000 \"\n",
      "                                   'category: laptop stock: True description: '\n",
      "                                   'The MacBook Pro is a high-performance '\n",
      "                                   'laptop with a Retina display and M1 chip.\\n'\n",
      "                                   \"4. name: 'Redmi Note 9' Pro price: Rs. \"\n",
      "                                   '30,000 category: mobile stock: True RAM: '\n",
      "                                   '8GB storage: 128GB description: \"The Redmi '\n",
      "                                   'Note 9 Pro features a quad-camera setup '\n",
      "                                   'and a large battery.\"\\n'\n",
      "                                   \"5. name: 'Sony Bravia TV' price: Rs. \"\n",
      "                                   '80,000 category: television stock: False  '\n",
      "                                   'description: \"The Sony Bravia TV offers '\n",
      "                                   'stunning 4K resolution and smart TV '\n",
      "                                   'capabilities.\"\\n'\n",
      "                                   \"6. name: 'Rolex Watch' price: Rs. \"\n",
      "                                   '10,00,000 category: watch stock: False '\n",
      "                                   'description: \"The Rolex Watch is a luxury '\n",
      "                                   'timepiece known for its precision and '\n",
      "                                   'craftsmanship.\"\\n'\n",
      "                                   \"7. name: 'Nikon D3500 Camera'price: Rs. \"\n",
      "                                   '60,000 category: camera stock: True '\n",
      "                                   'description: \"The Nikon D3500 is a '\n",
      "                                   'beginner-friendly DSLR camera with '\n",
      "                                   'excellent image quality.\"\\n'\n",
      "                                   \"8. name: 'Casio Calculator' price: Rs. \"\n",
      "                                   '1500 category: calculator stock: True '\n",
      "                                   'description: \"Casio Calculator best for '\n",
      "                                   'Engineering students but everyone can use '\n",
      "                                   'it.'},\n",
      "              'score': 0.421287239,\n",
      "              'values': []}],\n",
      " 'namespace': 'ns1',\n",
      " 'usage': {'read_units': 6}}\n"
     ]
    }
   ],
   "source": [
    "query = \"Redmi ko price kati ho\"\n",
    "\n",
    "x = get_embeddings([query])[\"data\"][0][\"embedding\"]\n",
    "\n",
    "results = index.query(\n",
    "    namespace=\"ns1\",\n",
    "    vector=x,\n",
    "    top_k=2,\n",
    "    include_values=False,\n",
    "    include_metadata=True\n",
    ")\n",
    "\n",
    "print(results)"
   ]
  },
  {
   "cell_type": "code",
   "execution_count": 18,
   "metadata": {},
   "outputs": [
    {
     "name": "stdout",
     "output_type": "stream",
     "text": [
      "{'matches': [{'id': 'doc14',\n",
      "              'metadata': {'text': 'Delivery Information:\\n'\n",
      "                                   'Hami all Nepal saman delivery garxau. '\n",
      "                                   'Dharan vitra same day deliver hunxa ra '\n",
      "                                   'Dharan bahira chai 2-3 days samma laagna '\n",
      "                                   'sakxa.\\n'\n",
      "                                   'Delivery ko paisa Dharan vitra free ho '\n",
      "                                   'vane Outside Dharan chai Rs. 160 laagxa.'},\n",
      "              'score': 0.449969262,\n",
      "              'values': []},\n",
      "             {'id': 'doc4',\n",
      "              'metadata': {'text': 'Discount Offer:\\n'\n",
      "                                   'aile hamro store ma kunei pani saman ma '\n",
      "                                   'discount offer available xaina.'},\n",
      "              'score': 0.449107766,\n",
      "              'values': []}],\n",
      " 'namespace': 'ns1',\n",
      " 'usage': {'read_units': 6}}\n"
     ]
    }
   ],
   "source": [
    "query = \"delivery hunxa ki hudaina\"\n",
    "\n",
    "x = get_embeddings([query])[\"data\"][0][\"embedding\"]\n",
    "\n",
    "results = index.query(\n",
    "    namespace=\"ns1\",\n",
    "    vector=x,\n",
    "    top_k=2,\n",
    "    include_values=False,\n",
    "    include_metadata=True\n",
    ")\n",
    "\n",
    "print(results)"
   ]
  },
  {
   "cell_type": "code",
   "execution_count": null,
   "metadata": {},
   "outputs": [
    {
     "name": "stdout",
     "output_type": "stream",
     "text": [
      "{'matches': [{'id': 'doc4',\n",
      "              'metadata': {'text': 'Discount Offer:\\n'\n",
      "                                   'aile hamro store ma kunei pani saman ma '\n",
      "                                   'discount offer available xaina.'},\n",
      "              'score': 0.51751411,\n",
      "              'values': []},\n",
      "             {'id': 'doc2',\n",
      "              'metadata': {'text': 'Payment Methods:\\n'\n",
      "                                   'Hami online payment accept garxau. Esewa, '\n",
      "                                   'Khalti wa kunei pani mobile banking baata '\n",
      "                                   'pay accept garxau. Hami sanga Cash on '\n",
      "                                   'Delivery (COD) chai available xaina aile.'},\n",
      "              'score': 0.444999158,\n",
      "              'values': []},\n",
      "             {'id': 'doc5',\n",
      "              'metadata': {'text': 'Products Available:\\n'\n",
      "                                   \"1. name: 'I Phone 11 Pro' category: mobile \"\n",
      "                                   'price: Rs. 1,30,000 stock: True RAM: 16GB '\n",
      "                                   'storage: 64GB description: \"I Phone 11 Pro '\n",
      "                                   'features a triple-camera system and a '\n",
      "                                   'powerful A13 Bionic chip.\"\\n'\n",
      "                                   \"2. name: 'Samsung Galaxy S21 Ultra' \"\n",
      "                                   'category: mobile price: Rs. 1,40,000 '\n",
      "                                   'stock: True RAM: 16GB storage: 128GB '\n",
      "                                   'description: \"The Galaxy S21 Ultra offers '\n",
      "                                   'a stunning display and a versatile camera '\n",
      "                                   'system.\"\\n'\n",
      "                                   \"3. name: 'Macbook Pro' price: Rs. 4,10,000 \"\n",
      "                                   'category: laptop stock: True description: '\n",
      "                                   'The MacBook Pro is a high-performance '\n",
      "                                   'laptop with a Retina display and M1 chip.\\n'\n",
      "                                   \"4. name: 'Redmi Note 9' Pro price: Rs. \"\n",
      "                                   '30,000 category: mobile stock: True RAM: '\n",
      "                                   '8GB storage: 128GB description: \"The Redmi '\n",
      "                                   'Note 9 Pro features a quad-camera setup '\n",
      "                                   'and a large battery.\"\\n'\n",
      "                                   \"5. name: 'Sony Bravia TV' price: Rs. \"\n",
      "                                   '80,000 category: television stock: False  '\n",
      "                                   'description: \"The Sony Bravia TV offers '\n",
      "                                   'stunning 4K resolution and smart TV '\n",
      "                                   'capabilities.\"\\n'\n",
      "                                   \"6. name: 'Rolex Watch' price: Rs. \"\n",
      "                                   '10,00,000 category: watch stock: False '\n",
      "                                   'description: \"The Rolex Watch is a luxury '\n",
      "                                   'timepiece known for its precision and '\n",
      "                                   'craftsmanship.\"\\n'\n",
      "                                   \"7. name: 'Nikon D3500 Camera'price: Rs. \"\n",
      "                                   '60,000 category: camera stock: True '\n",
      "                                   'description: \"The Nikon D3500 is a '\n",
      "                                   'beginner-friendly DSLR camera with '\n",
      "                                   'excellent image quality.\"\\n'\n",
      "                                   \"8. name: 'Casio Calculator' price: Rs. \"\n",
      "                                   '1500 category: calculator stock: True '\n",
      "                                   'description: \"Casio Calculator best for '\n",
      "                                   'Engineering students but everyone can use '\n",
      "                                   'it.'},\n",
      "              'score': 0.393904507,\n",
      "              'values': []}],\n",
      " 'namespace': 'ns1',\n",
      " 'usage': {'read_units': 6}}\n"
     ]
    }
   ],
   "source": [
    "query = \"product ma kun kun mobile available xa\"\n",
    "\n",
    "x = get_embeddings([query])[\"data\"][0][\"embedding\"]\n",
    "\n",
    "results = index.query(\n",
    "    namespace=\"ns1\",\n",
    "    vector=x,\n",
    "    top_k=3,\n",
    "    include_values=False,\n",
    "    include_metadata=True\n",
    ")\n",
    "\n",
    "print(results)"
   ]
  },
  {
   "cell_type": "code",
   "execution_count": 23,
   "metadata": {},
   "outputs": [
    {
     "name": "stdout",
     "output_type": "stream",
     "text": [
      "{'matches': [{'id': 'doc4',\n",
      "              'metadata': {'text': 'Discount Offer:\\n'\n",
      "                                   'aile hamro store ma kunei pani saman ma '\n",
      "                                   'discount offer available xaina.'},\n",
      "              'score': 0.645994246,\n",
      "              'values': []},\n",
      "             {'id': 'doc1',\n",
      "              'metadata': {'text': 'Store Information:\\n'\n",
      "                                   'Hamro store ko name All Electronics store '\n",
      "                                   'ho hamro ma sabai prakar ko electronics '\n",
      "                                   'saman available xa. Hamro store ko '\n",
      "                                   'location Dharan ho.\\n'\n",
      "                                   'Store ko contact no 9844644186 ho. Email '\n",
      "                                   'allelectronicsstore@gmail.com.'},\n",
      "              'score': 0.473638684,\n",
      "              'values': []},\n",
      "             {'id': 'doc3',\n",
      "              'metadata': {'text': 'Return Policy:\\n'\n",
      "                                   'Saman kineko 1 week vitra return garna '\n",
      "                                   'milxa. Tara return guideline follow garnu '\n",
      "                                   'parne hunxa ra same condition ma hunu '\n",
      "                                   'parne xa.'},\n",
      "              'score': 0.37567091,\n",
      "              'values': []}],\n",
      " 'namespace': 'ns1',\n",
      " 'usage': {'read_units': 6}}\n"
     ]
    }
   ],
   "source": [
    "query = \"products haru k k xa store ma aile\"\n",
    "\n",
    "x = get_embeddings([query])[\"data\"][0][\"embedding\"]\n",
    "\n",
    "results = index.query(\n",
    "    namespace=\"ns1\",\n",
    "    vector=x,\n",
    "    top_k=3,\n",
    "    include_values=False,\n",
    "    include_metadata=True\n",
    ")\n",
    "\n",
    "print(results)"
   ]
  },
  {
   "cell_type": "code",
   "execution_count": 24,
   "metadata": {},
   "outputs": [
    {
     "name": "stdout",
     "output_type": "stream",
     "text": [
      "{'matches': [{'id': 'doc2',\n",
      "              'metadata': {'text': 'Payment Methods:\\n'\n",
      "                                   'Hami online payment accept garxau. Esewa, '\n",
      "                                   'Khalti wa kunei pani mobile banking baata '\n",
      "                                   'pay accept garxau. Hami sanga Cash on '\n",
      "                                   'Delivery (COD) chai available xaina aile.'},\n",
      "              'score': 0.456076026,\n",
      "              'values': []},\n",
      "             {'id': 'doc4',\n",
      "              'metadata': {'text': 'Discount Offer:\\n'\n",
      "                                   'aile hamro store ma kunei pani saman ma '\n",
      "                                   'discount offer available xaina.'},\n",
      "              'score': 0.450243592,\n",
      "              'values': []},\n",
      "             {'id': 'doc5',\n",
      "              'metadata': {'text': 'Products Available:\\n'\n",
      "                                   \"1. name: 'I Phone 11 Pro' category: mobile \"\n",
      "                                   'price: Rs. 1,30,000 stock: True RAM: 16GB '\n",
      "                                   'storage: 64GB description: \"I Phone 11 Pro '\n",
      "                                   'features a triple-camera system and a '\n",
      "                                   'powerful A13 Bionic chip.\"\\n'\n",
      "                                   \"2. name: 'Samsung Galaxy S21 Ultra' \"\n",
      "                                   'category: mobile price: Rs. 1,40,000 '\n",
      "                                   'stock: True RAM: 16GB storage: 128GB '\n",
      "                                   'description: \"The Galaxy S21 Ultra offers '\n",
      "                                   'a stunning display and a versatile camera '\n",
      "                                   'system.\"\\n'\n",
      "                                   \"3. name: 'Macbook Pro' price: Rs. 4,10,000 \"\n",
      "                                   'category: laptop stock: True description: '\n",
      "                                   'The MacBook Pro is a high-performance '\n",
      "                                   'laptop with a Retina display and M1 chip.\\n'\n",
      "                                   \"4. name: 'Redmi Note 9' Pro price: Rs. \"\n",
      "                                   '30,000 category: mobile stock: True RAM: '\n",
      "                                   '8GB storage: 128GB description: \"The Redmi '\n",
      "                                   'Note 9 Pro features a quad-camera setup '\n",
      "                                   'and a large battery.\"\\n'\n",
      "                                   \"5. name: 'Sony Bravia TV' price: Rs. \"\n",
      "                                   '80,000 category: television stock: False  '\n",
      "                                   'description: \"The Sony Bravia TV offers '\n",
      "                                   'stunning 4K resolution and smart TV '\n",
      "                                   'capabilities.\"\\n'\n",
      "                                   \"6. name: 'Rolex Watch' price: Rs. \"\n",
      "                                   '10,00,000 category: watch stock: False '\n",
      "                                   'description: \"The Rolex Watch is a luxury '\n",
      "                                   'timepiece known for its precision and '\n",
      "                                   'craftsmanship.\"\\n'\n",
      "                                   \"7. name: 'Nikon D3500 Camera'price: Rs. \"\n",
      "                                   '60,000 category: camera stock: True '\n",
      "                                   'description: \"The Nikon D3500 is a '\n",
      "                                   'beginner-friendly DSLR camera with '\n",
      "                                   'excellent image quality.\"\\n'\n",
      "                                   \"8. name: 'Casio Calculator' price: Rs. \"\n",
      "                                   '1500 category: calculator stock: True '\n",
      "                                   'description: \"Casio Calculator best for '\n",
      "                                   'Engineering students but everyone can use '\n",
      "                                   'it.'},\n",
      "              'score': 0.374838054,\n",
      "              'values': []}],\n",
      " 'namespace': 'ns1',\n",
      " 'usage': {'read_units': 6}}\n"
     ]
    }
   ],
   "source": [
    "query = \"mobile xa ki xaina\"\n",
    "\n",
    "x = get_embeddings([query])[\"data\"][0][\"embedding\"]\n",
    "\n",
    "results = index.query(\n",
    "    namespace=\"ns1\",\n",
    "    vector=x,\n",
    "    top_k=3,\n",
    "    include_values=False,\n",
    "    include_metadata=True\n",
    ")\n",
    "\n",
    "print(results)"
   ]
  },
  {
   "cell_type": "code",
   "execution_count": 26,
   "metadata": {},
   "outputs": [
    {
     "data": {
      "text/plain": [
       "{'id': 'doc2',\n",
       " 'metadata': {'text': 'Payment Methods:\\n'\n",
       "                      'Hami online payment accept garxau. Esewa, Khalti wa '\n",
       "                      'kunei pani mobile banking baata pay accept garxau. Hami '\n",
       "                      'sanga Cash on Delivery (COD) chai available xaina '\n",
       "                      'aile.'},\n",
       " 'score': 0.456076026,\n",
       " 'values': []}"
      ]
     },
     "execution_count": 26,
     "metadata": {},
     "output_type": "execute_result"
    }
   ],
   "source": [
    "results[\"matches\"][0]"
   ]
  },
  {
   "cell_type": "code",
   "execution_count": 35,
   "metadata": {},
   "outputs": [
    {
     "name": "stdout",
     "output_type": "stream",
     "text": [
      "{'matches': [{'id': 'doc4',\n",
      "              'metadata': {'text': 'Discount Offer:\\n'\n",
      "                                   'aile hamro store ma kunei pani saman ma '\n",
      "                                   'discount offer available xaina.'},\n",
      "              'score': 0.552438796,\n",
      "              'values': []},\n",
      "             {'id': 'doc3',\n",
      "              'metadata': {'text': 'Return Policy:\\n'\n",
      "                                   'Saman kineko 1 week vitra return garna '\n",
      "                                   'milxa. Tara return guideline follow garnu '\n",
      "                                   'parne hunxa ra same condition ma hunu '\n",
      "                                   'parne xa.'},\n",
      "              'score': 0.368117422,\n",
      "              'values': []},\n",
      "             {'id': 'doc2',\n",
      "              'metadata': {'text': 'Payment Methods:\\n'\n",
      "                                   'Hami online payment accept garxau. Esewa, '\n",
      "                                   'Khalti wa kunei pani mobile banking baata '\n",
      "                                   'pay accept garxau. Hami sanga Cash on '\n",
      "                                   'Delivery (COD) chai available xaina aile.'},\n",
      "              'score': 0.366126209,\n",
      "              'values': []},\n",
      "             {'id': 'doc5',\n",
      "              'metadata': {'text': 'Products Available:\\n'\n",
      "                                   \"1. name: 'I Phone 11 Pro' category: mobile \"\n",
      "                                   'price: Rs. 1,30,000 stock: True RAM: 16GB '\n",
      "                                   'storage: 64GB description: \"I Phone 11 Pro '\n",
      "                                   'features a triple-camera system and a '\n",
      "                                   'powerful A13 Bionic chip.\"\\n'\n",
      "                                   \"2. name: 'Samsung Galaxy S21 Ultra' \"\n",
      "                                   'category: mobile price: Rs. 1,40,000 '\n",
      "                                   'stock: True RAM: 16GB storage: 128GB '\n",
      "                                   'description: \"The Galaxy S21 Ultra offers '\n",
      "                                   'a stunning display and a versatile camera '\n",
      "                                   'system.\"\\n'\n",
      "                                   \"3. name: 'Macbook Pro' price: Rs. 4,10,000 \"\n",
      "                                   'category: laptop stock: True description: '\n",
      "                                   'The MacBook Pro is a high-performance '\n",
      "                                   'laptop with a Retina display and M1 chip.\\n'\n",
      "                                   \"4. name: 'Redmi Note 9' Pro price: Rs. \"\n",
      "                                   '30,000 category: mobile stock: True RAM: '\n",
      "                                   '8GB storage: 128GB description: \"The Redmi '\n",
      "                                   'Note 9 Pro features a quad-camera setup '\n",
      "                                   'and a large battery.\"\\n'\n",
      "                                   \"5. name: 'Sony Bravia TV' price: Rs. \"\n",
      "                                   '80,000 category: television stock: False  '\n",
      "                                   'description: \"The Sony Bravia TV offers '\n",
      "                                   'stunning 4K resolution and smart TV '\n",
      "                                   'capabilities.\"\\n'\n",
      "                                   \"6. name: 'Rolex Watch' price: Rs. \"\n",
      "                                   '10,00,000 category: watch stock: False '\n",
      "                                   'description: \"The Rolex Watch is a luxury '\n",
      "                                   'timepiece known for its precision and '\n",
      "                                   'craftsmanship.\"\\n'\n",
      "                                   \"7. name: 'Nikon D3500 Camera'price: Rs. \"\n",
      "                                   '60,000 category: camera stock: True '\n",
      "                                   'description: \"The Nikon D3500 is a '\n",
      "                                   'beginner-friendly DSLR camera with '\n",
      "                                   'excellent image quality.\"\\n'\n",
      "                                   \"8. name: 'Casio Calculator' price: Rs. \"\n",
      "                                   '1500 category: calculator stock: True '\n",
      "                                   'description: \"Casio Calculator best for '\n",
      "                                   'Engineering students but everyone can use '\n",
      "                                   'it.'},\n",
      "              'score': 0.351260662,\n",
      "              'values': []},\n",
      "             {'id': 'doc1',\n",
      "              'metadata': {'text': 'Store Information:\\n'\n",
      "                                   'Hamro store ko name All Electronics store '\n",
      "                                   'ho hamro ma sabai prakar ko electronics '\n",
      "                                   'saman available xa. Hamro store ko '\n",
      "                                   'location Dharan ho.\\n'\n",
      "                                   'Store ko contact no 9844644186 ho. Email '\n",
      "                                   'allelectronicsstore@gmail.com.'},\n",
      "              'score': 0.327380419,\n",
      "              'values': []}],\n",
      " 'namespace': 'ns1',\n",
      " 'usage': {'read_units': 6}}\n"
     ]
    }
   ],
   "source": [
    "query = \"kun kun products available xa\"\n",
    "\n",
    "x = get_embeddings([query])[\"data\"][0][\"embedding\"]\n",
    "\n",
    "results = index.query(\n",
    "    namespace=\"ns1\",\n",
    "    vector=x,\n",
    "    top_k=5,\n",
    "    include_values=False,\n",
    "    include_metadata=True\n",
    ")\n",
    "\n",
    "print(results)"
   ]
  },
  {
   "cell_type": "code",
   "execution_count": 36,
   "metadata": {},
   "outputs": [],
   "source": [
    "context = \"\"\n",
    "\n",
    "for ctx in results[\"matches\"]:\n",
    "    context += ctx[\"metadata\"][\"text\"]"
   ]
  },
  {
   "cell_type": "code",
   "execution_count": null,
   "metadata": {},
   "outputs": [
    {
     "name": "stdout",
     "output_type": "stream",
     "text": [
      "Discount Offer:\n",
      "aile hamro store ma kunei pani saman ma discount offer available xaina.Return Policy:\n",
      "Saman kineko 1 week vitra return garna milxa. Tara return guideline follow garnu parne hunxa ra same condition ma hunu parne xa.Payment Methods:\n",
      "Hami online payment accept garxau. Esewa, Khalti wa kunei pani mobile banking baata pay accept garxau. Hami sanga Cash on Delivery (COD) chai available xaina aile.Products Available:\n",
      "1. name: 'I Phone 11 Pro' category: mobile price: Rs. 1,30,000 stock: True RAM: 16GB storage: 64GB description: \"I Phone 11 Pro features a triple-camera system and a powerful A13 Bionic chip.\"\n",
      "2. name: 'Samsung Galaxy S21 Ultra' category: mobile price: Rs. 1,40,000 stock: True RAM: 16GB storage: 128GB description: \"The Galaxy S21 Ultra offers a stunning display and a versatile camera system.\"\n",
      "3. name: 'Macbook Pro' price: Rs. 4,10,000 category: laptop stock: True description: The MacBook Pro is a high-performance laptop with a Retina display and M1 chip.\n",
      "4. name: 'Redmi Note 9' Pro price: Rs. 30,000 category: mobile stock: True RAM: 8GB storage: 128GB description: \"The Redmi Note 9 Pro features a quad-camera setup and a large battery.\"\n",
      "5. name: 'Sony Bravia TV' price: Rs. 80,000 category: television stock: False  description: \"The Sony Bravia TV offers stunning 4K resolution and smart TV capabilities.\"\n",
      "6. name: 'Rolex Watch' price: Rs. 10,00,000 category: watch stock: False description: \"The Rolex Watch is a luxury timepiece known for its precision and craftsmanship.\"\n",
      "7. name: 'Nikon D3500 Camera'price: Rs. 60,000 category: camera stock: True description: \"The Nikon D3500 is a beginner-friendly DSLR camera with excellent image quality.\"\n",
      "8. name: 'Casio Calculator' price: Rs. 1500 category: calculator stock: True description: \"Casio Calculator best for Engineering students but everyone can use it.Store Information:\n",
      "Hamro store ko name All Electronics store ho hamro ma sabai prakar ko electronics saman available xa. Hamro store ko location Dharan ho.\n",
      "Store ko contact no 9844644186 ho. Email allelectronicsstore@gmail.com.\n"
     ]
    }
   ],
   "source": [
    "print(context)"
   ]
  }
 ],
 "metadata": {
  "kernelspec": {
   "display_name": "Python 3",
   "language": "python",
   "name": "python3"
  },
  "language_info": {
   "codemirror_mode": {
    "name": "ipython",
    "version": 3
   },
   "file_extension": ".py",
   "mimetype": "text/x-python",
   "name": "python",
   "nbconvert_exporter": "python",
   "pygments_lexer": "ipython3",
   "version": "3.12.1"
  }
 },
 "nbformat": 4,
 "nbformat_minor": 2
}
