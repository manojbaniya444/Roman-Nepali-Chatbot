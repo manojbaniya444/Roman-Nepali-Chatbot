{
 "cells": [
  {
   "cell_type": "markdown",
   "metadata": {},
   "source": [
    "## Format dataset v4"
   ]
  },
  {
   "cell_type": "code",
   "execution_count": 1,
   "metadata": {},
   "outputs": [],
   "source": [
    "import pandas as pd"
   ]
  },
  {
   "cell_type": "code",
   "execution_count": 2,
   "metadata": {},
   "outputs": [],
   "source": [
    "new_df = pd.read_csv(\"./fine_tune_no_prompt_final.csv\")"
   ]
  },
  {
   "cell_type": "code",
   "execution_count": 3,
   "metadata": {},
   "outputs": [],
   "source": [
    "new_df.drop(columns=[\"Unnamed: 0\"], inplace=True)"
   ]
  },
  {
   "cell_type": "code",
   "execution_count": 4,
   "metadata": {},
   "outputs": [
    {
     "data": {
      "text/html": [
       "<div>\n",
       "<style scoped>\n",
       "    .dataframe tbody tr th:only-of-type {\n",
       "        vertical-align: middle;\n",
       "    }\n",
       "\n",
       "    .dataframe tbody tr th {\n",
       "        vertical-align: top;\n",
       "    }\n",
       "\n",
       "    .dataframe thead th {\n",
       "        text-align: right;\n",
       "    }\n",
       "</style>\n",
       "<table border=\"1\" class=\"dataframe\">\n",
       "  <thead>\n",
       "    <tr style=\"text-align: right;\">\n",
       "      <th></th>\n",
       "      <th>category</th>\n",
       "      <th>context</th>\n",
       "      <th>question</th>\n",
       "      <th>response</th>\n",
       "      <th>instruction</th>\n",
       "    </tr>\n",
       "  </thead>\n",
       "  <tbody>\n",
       "    <tr>\n",
       "      <th>2996</th>\n",
       "      <td>RAG</td>\n",
       "      <td>Butwal ma delivery normally 3-4 business days ...</td>\n",
       "      <td>Butwal ma delivery ma kati din lagchha?</td>\n",
       "      <td>Butwal ma delivery 3-4 business days ma hunchha.</td>\n",
       "      <td>Answer the following question by looking at th...</td>\n",
       "    </tr>\n",
       "    <tr>\n",
       "      <th>11754</th>\n",
       "      <td>alpaca</td>\n",
       "      <td></td>\n",
       "      <td>Euta short description lekha about a dream vac...</td>\n",
       "      <td>Mero dream vacation Pokhara jane ho. Yaha ma P...</td>\n",
       "      <td></td>\n",
       "    </tr>\n",
       "    <tr>\n",
       "      <th>6430</th>\n",
       "      <td>translate</td>\n",
       "      <td></td>\n",
       "      <td>E-commerce ko uday le mancheharu ko kinbikri r...</td>\n",
       "      <td>The rise of e-commerce has changed the way peo...</td>\n",
       "      <td>Translate the text below from Nepali to English:</td>\n",
       "    </tr>\n",
       "    <tr>\n",
       "      <th>5690</th>\n",
       "      <td>RAG</td>\n",
       "      <td>Delivery Date Change Policy: Delivery date can...</td>\n",
       "      <td>Malai product ko delivery date change garna sa...</td>\n",
       "      <td>Hajur, tapailai order ship huna agadi delivery...</td>\n",
       "      <td>Answer the following question by looking at th...</td>\n",
       "    </tr>\n",
       "    <tr>\n",
       "      <th>13787</th>\n",
       "      <td>open_qa</td>\n",
       "      <td></td>\n",
       "      <td>Tyo kitaab ko lekhak ko naam ke ho?</td>\n",
       "      <td>Tyo kitaab ko lekhak Bishnu Prasad Koirala ho.</td>\n",
       "      <td>You are a helpful assistant. Answer the given ...</td>\n",
       "    </tr>\n",
       "    <tr>\n",
       "      <th>1453</th>\n",
       "      <td>open_qa</td>\n",
       "      <td></td>\n",
       "      <td>Daal ko protin kasari protect garna sakincha?</td>\n",
       "      <td>Daal ko protin protect garna halka aang ma pak...</td>\n",
       "      <td>You are a helpful assistant. Answer the given ...</td>\n",
       "    </tr>\n",
       "    <tr>\n",
       "      <th>15022</th>\n",
       "      <td>RAG</td>\n",
       "      <td>Hamro delivery service Dharan vitra same day g...</td>\n",
       "      <td>delivery garne samay kati ho?</td>\n",
       "      <td>Dharan vitra same day delivery garincha, bahir...</td>\n",
       "      <td></td>\n",
       "    </tr>\n",
       "    <tr>\n",
       "      <th>17177</th>\n",
       "      <td>open_qa</td>\n",
       "      <td></td>\n",
       "      <td>Tapai kasari Nepali font install garna saknuhu...</td>\n",
       "      <td>Font file download garnus, double-click garera...</td>\n",
       "      <td>You are a helpful assistant. Answer the given ...</td>\n",
       "    </tr>\n",
       "    <tr>\n",
       "      <th>8113</th>\n",
       "      <td>alpaca</td>\n",
       "      <td></td>\n",
       "      <td>Yedi timro sathi le timilai 'I forgot my homew...</td>\n",
       "      <td>Ma uslai 'Teacher lai explain gara, ra feri na...</td>\n",
       "      <td></td>\n",
       "    </tr>\n",
       "    <tr>\n",
       "      <th>1166</th>\n",
       "      <td>translate</td>\n",
       "      <td></td>\n",
       "      <td>Aaja mero ghar ma sabai sanga milera khana kha...</td>\n",
       "      <td>Today I ate food with everyone at home. It fee...</td>\n",
       "      <td>Translate the text below from Nepali to English:</td>\n",
       "    </tr>\n",
       "  </tbody>\n",
       "</table>\n",
       "</div>"
      ],
      "text/plain": [
       "        category                                            context  \\\n",
       "2996         RAG  Butwal ma delivery normally 3-4 business days ...   \n",
       "11754     alpaca                                                      \n",
       "6430   translate                                                      \n",
       "5690         RAG  Delivery Date Change Policy: Delivery date can...   \n",
       "13787    open_qa                                                      \n",
       "1453     open_qa                                                      \n",
       "15022        RAG  Hamro delivery service Dharan vitra same day g...   \n",
       "17177    open_qa                                                      \n",
       "8113      alpaca                                                      \n",
       "1166   translate                                                      \n",
       "\n",
       "                                                question  \\\n",
       "2996             Butwal ma delivery ma kati din lagchha?   \n",
       "11754  Euta short description lekha about a dream vac...   \n",
       "6430   E-commerce ko uday le mancheharu ko kinbikri r...   \n",
       "5690   Malai product ko delivery date change garna sa...   \n",
       "13787                Tyo kitaab ko lekhak ko naam ke ho?   \n",
       "1453       Daal ko protin kasari protect garna sakincha?   \n",
       "15022                      delivery garne samay kati ho?   \n",
       "17177  Tapai kasari Nepali font install garna saknuhu...   \n",
       "8113   Yedi timro sathi le timilai 'I forgot my homew...   \n",
       "1166   Aaja mero ghar ma sabai sanga milera khana kha...   \n",
       "\n",
       "                                                response  \\\n",
       "2996    Butwal ma delivery 3-4 business days ma hunchha.   \n",
       "11754  Mero dream vacation Pokhara jane ho. Yaha ma P...   \n",
       "6430   The rise of e-commerce has changed the way peo...   \n",
       "5690   Hajur, tapailai order ship huna agadi delivery...   \n",
       "13787     Tyo kitaab ko lekhak Bishnu Prasad Koirala ho.   \n",
       "1453   Daal ko protin protect garna halka aang ma pak...   \n",
       "15022  Dharan vitra same day delivery garincha, bahir...   \n",
       "17177  Font file download garnus, double-click garera...   \n",
       "8113   Ma uslai 'Teacher lai explain gara, ra feri na...   \n",
       "1166   Today I ate food with everyone at home. It fee...   \n",
       "\n",
       "                                             instruction  \n",
       "2996   Answer the following question by looking at th...  \n",
       "11754                                                     \n",
       "6430    Translate the text below from Nepali to English:  \n",
       "5690   Answer the following question by looking at th...  \n",
       "13787  You are a helpful assistant. Answer the given ...  \n",
       "1453   You are a helpful assistant. Answer the given ...  \n",
       "15022                                                     \n",
       "17177  You are a helpful assistant. Answer the given ...  \n",
       "8113                                                      \n",
       "1166    Translate the text below from Nepali to English:  "
      ]
     },
     "execution_count": 4,
     "metadata": {},
     "output_type": "execute_result"
    }
   ],
   "source": [
    "new_df.sample(10)"
   ]
  },
  {
   "cell_type": "code",
   "execution_count": 5,
   "metadata": {},
   "outputs": [
    {
     "data": {
      "text/plain": [
       "(17866, 5)"
      ]
     },
     "execution_count": 5,
     "metadata": {},
     "output_type": "execute_result"
    }
   ],
   "source": [
    "new_df.shape"
   ]
  },
  {
   "cell_type": "code",
   "execution_count": 6,
   "metadata": {},
   "outputs": [
    {
     "data": {
      "text/plain": [
       "category       0\n",
       "context        0\n",
       "question       0\n",
       "response       0\n",
       "instruction    0\n",
       "dtype: int64"
      ]
     },
     "execution_count": 6,
     "metadata": {},
     "output_type": "execute_result"
    }
   ],
   "source": [
    "new_df.isna().sum()"
   ]
  },
  {
   "cell_type": "markdown",
   "metadata": {},
   "source": [
    "## Format Prompt"
   ]
  },
  {
   "cell_type": "code",
   "execution_count": 7,
   "metadata": {},
   "outputs": [],
   "source": [
    "def format_prompt_gemma(row):\n",
    "# PROMPT FOR RAG DATASET\n",
    "    if row[\"category\"] == \"RAG\":\n",
    "        prompt = f\"\"\"<start_of_turn>system\n",
    "You are an AI assistant who responds to user instructions. Use the context information to answer if it is given, and respond in Roman Nepali.<end_of_turn>\n",
    "<start_of_turn>user\n",
    "{row[\"question\"]}\n",
    "Context: {row[\"context\"]}<end_of_turn>\n",
    "<start_of_turn>model\n",
    "{row[\"response\"]}\"\"\"\n",
    "        return prompt\n",
    "\n",
    "# PROMPT FOR OPEN QA IF CONTEXT IS GIVEN\n",
    "    elif row[\"category\"] == \"open_qa\" and row[\"context\"] != \" \":\n",
    "        prompt = f\"\"\"<start_of_turn>system\n",
    "You are helpful AI Assistant follow the user instruction and respond in Roman Nepali language.<end_of_turn>\n",
    "<start_of_turn>user\n",
    "{row[\"question\"]}\n",
    "Context: {row[\"context\"]}<end_of_turn>\n",
    "<start_of_turn>model\n",
    "{row[\"response\"]}\"\"\"\n",
    "        return prompt\n",
    "   \n",
    "# PROMPT FOR OPEN QA IF CONTEXT IS NOT GIVEN \n",
    "    elif row[\"category\"] == \"open_qa\" and row[\"context\"] == \" \":\n",
    "        prompt = f\"\"\"<start_of_turn>system\n",
    "You are helpful AI Assistant follow the user instruction and respond in Roman Nepali language.<end_of_turn>\n",
    "<start_of_turn>user\n",
    "{row[\"question\"]}<end_of_turn>\n",
    "<start_of_turn>model\n",
    "{row[\"response\"]}\"\"\"\n",
    "        return prompt\n",
    " \n",
    "# PROMPT FOR TRANSLATION   \n",
    "    elif row[\"category\"] == \"translate\":\n",
    "        prompt = f\"\"\"<start_of_turn>system\n",
    "You are helpful AI Assistant follow the user instruction.<end_of_turn>\n",
    "<start_of_turn>user\n",
    "{row[\"instruction\"]}\n",
    "{row[\"question\"]}<end_of_turn>\n",
    "<start_of_turn>model\n",
    "{row[\"response\"]}\"\"\"\n",
    "        return prompt\n",
    " \n",
    "# PROMPT FOR SUMMARIZATION   \n",
    "    elif row[\"category\"] == \"summary\":\n",
    "        prompt = f\"\"\"<start_of_turn>system\n",
    "You are helpful AI Assistant follow the user instruction.<end_of_turn>\n",
    "<start_of_turn>user\n",
    "{row[\"instruction\"]}\n",
    "{row[\"question\"]}<end_of_turn>\n",
    "<start_of_turn>model\n",
    "{row[\"response\"]}\"\"\"\n",
    "        return prompt\n",
    "    \n",
    "# PROMPT FOR ALPACA IF CONTEXT IS NOT GIVEN\n",
    "    elif row[\"category\"] == \"alpaca\" and row[\"context\"] == \" \":\n",
    "        prompt = f\"\"\"<start_of_turn>system\n",
    "You are helpful AI Assistant follow the user instruction.<end_of_turn>\n",
    "<start_of_turn>user\n",
    "{row[\"question\"]}<end_of_turn>\n",
    "<start_of_turn>model\n",
    "{row[\"response\"]}\"\"\"\n",
    "        return prompt\n",
    "     \n",
    "# PROMPT FOR ALPACA IF CONTEXT IS GIVEN   \n",
    "    elif row[\"category\"] == \"alpaca\" and row[\"context\"] != \" \":\n",
    "        prompt = f\"\"\"<start_of_turn>system\n",
    "You are helpful AI Assistant follow the user instruction and respond in Roman Nepali language.<end_of_turn>\n",
    "<start_of_turn>user\n",
    "{row[\"question\"]}\n",
    "Context: {row[\"context\"]}<end_of_turn>\n",
    "<start_of_turn>model\n",
    "{row[\"response\"]}\"\"\"\n",
    "        return prompt"
   ]
  },
  {
   "cell_type": "code",
   "execution_count": 8,
   "metadata": {},
   "outputs": [],
   "source": [
    "new_df[\"prompt\"] = new_df.apply(format_prompt_gemma, axis=1)"
   ]
  },
  {
   "cell_type": "code",
   "execution_count": 9,
   "metadata": {},
   "outputs": [
    {
     "name": "stdout",
     "output_type": "stream",
     "text": [
      "<start_of_turn>system\n",
      "You are an AI assistant who responds to user instructions. Use the context information to answer if it is given, and respond in Roman Nepali.<end_of_turn>\n",
      "<start_of_turn>user\n",
      "Nepal ko sabai bhanda thulo mantralaya k ho?\n",
      "Context: Nepal ko sabai bhanda thulo mantralaya Ministry of Home Affairs ho, jo Nepal ko sabai rajasik, suraksha ra lok prashasan ko kendra ho. Ministry of Home Affairs, jo Kathmandu ma sthit cha, Nepal ko rajnaitik aur vyavasthik gatividhi haru ko mahatvapurn ang ho. Yaha ko prashasan karyakram le Nepal ko sthirata aur suraksha ko sambhar garincha.<end_of_turn>\n",
      "<start_of_turn>model\n",
      "Ministry of Home Affairs, Nepal ko sabai bhanda thulo mantralaya ho, jo rajasik aur suraksha vyavastha ko kendra ho.\n"
     ]
    }
   ],
   "source": [
    "print(new_df[new_df[\"category\"] == \"RAG\"].iloc[0][\"prompt\"])"
   ]
  },
  {
   "cell_type": "code",
   "execution_count": 10,
   "metadata": {},
   "outputs": [
    {
     "name": "stdout",
     "output_type": "stream",
     "text": [
      "<start_of_turn>system\n",
      "You are helpful AI Assistant follow the user instruction and respond in Roman Nepali language.<end_of_turn>\n",
      "<start_of_turn>user\n",
      "Timi afno manparne movie ko bare ma lekh.<end_of_turn>\n",
      "<start_of_turn>model\n",
      "Mero manparne movie 'Kabaddi' ho. Yo movie ma Nepal ko rural life ko taste ra character ko majaki herna majja lagcha. Sundar thau, ramailo story ra sabai character ma ek jindagi jasto feel cha.\n"
     ]
    }
   ],
   "source": [
    "print(new_df[new_df[\"category\"] == \"open_qa\"].iloc[0][\"prompt\"])"
   ]
  },
  {
   "cell_type": "code",
   "execution_count": 11,
   "metadata": {},
   "outputs": [
    {
     "name": "stdout",
     "output_type": "stream",
     "text": [
      "<start_of_turn>system\n",
      "You are helpful AI Assistant follow the user instruction.<end_of_turn>\n",
      "<start_of_turn>user\n",
      "Translate the text below from English to Nepali:\n",
      "The concept of 'Atithi Devo Bhava' reflects the hospitality of Nepali people.<end_of_turn>\n",
      "<start_of_turn>model\n",
      "'Atithi Devo Bhava' ko concept le Nepali manche ko atithi satkar ko pratik garcha.\n"
     ]
    }
   ],
   "source": [
    "print(new_df[new_df[\"category\"] == \"translate\"].iloc[0][\"prompt\"])"
   ]
  },
  {
   "cell_type": "code",
   "execution_count": 12,
   "metadata": {},
   "outputs": [
    {
     "name": "stdout",
     "output_type": "stream",
     "text": [
      "<start_of_turn>system\n",
      "You are helpful AI Assistant follow the user instruction.<end_of_turn>\n",
      "<start_of_turn>user\n",
      "Summarize the following text:\n",
      "Chitwan ma ek din ek narile gaun ko khel ma hissa liyin. Tyo khel gaun ko parampara ra samuhik jeevan ko sundar udaharan baneko thiyo.<end_of_turn>\n",
      "<start_of_turn>model\n",
      "Narile Chitwan ma parampara ko khel ma hissa liin.\n"
     ]
    }
   ],
   "source": [
    "print(new_df[new_df[\"category\"] == \"summary\"].iloc[0][\"prompt\"])"
   ]
  },
  {
   "cell_type": "code",
   "execution_count": 13,
   "metadata": {},
   "outputs": [
    {
     "name": "stdout",
     "output_type": "stream",
     "text": [
      "<start_of_turn>system\n",
      "You are helpful AI Assistant follow the user instruction.<end_of_turn>\n",
      "<start_of_turn>user\n",
      "Nepal ma mobile payment kasari popular bhaeko cha? Explain gara.<end_of_turn>\n",
      "<start_of_turn>model\n",
      "Nepal ma eSewa, Khalti jasta digital wallets le online payment easy banako cha. Pandemic pachhi digital transactions ko demand ajha badeko cha.\n"
     ]
    }
   ],
   "source": [
    "print(new_df[new_df[\"category\"] == \"alpaca\"].iloc[0][\"prompt\"])"
   ]
  },
  {
   "cell_type": "code",
   "execution_count": 14,
   "metadata": {},
   "outputs": [
    {
     "name": "stdout",
     "output_type": "stream",
     "text": [
      "<start_of_turn>system\n",
      "You are helpful AI Assistant follow the user instruction.<end_of_turn>\n",
      "<start_of_turn>user\n",
      "Yo question ko answer deu: 'Nepal ko national bird k ho?'<end_of_turn>\n",
      "<start_of_turn>model\n",
      "Nepal ko national bird Danphe ho.\n"
     ]
    }
   ],
   "source": [
    "print(new_df[new_df[\"category\"] == \"alpaca\"].iloc[100][\"prompt\"])"
   ]
  },
  {
   "cell_type": "code",
   "execution_count": 15,
   "metadata": {},
   "outputs": [],
   "source": [
    "new_df.to_csv(\"./fine_tune_gemma.csv\", index=False)"
   ]
  },
  {
   "cell_type": "code",
   "execution_count": 16,
   "metadata": {},
   "outputs": [
    {
     "data": {
      "text/plain": [
       "(17866, 6)"
      ]
     },
     "execution_count": 16,
     "metadata": {},
     "output_type": "execute_result"
    }
   ],
   "source": [
    "new_df.shape"
   ]
  },
  {
   "cell_type": "code",
   "execution_count": 17,
   "metadata": {},
   "outputs": [],
   "source": [
    "df_load_gemma_fine_tune = pd.read_csv(\"./fine_tune_gemma.csv\")"
   ]
  },
  {
   "cell_type": "code",
   "execution_count": 18,
   "metadata": {},
   "outputs": [
    {
     "data": {
      "text/plain": [
       "(17866, 6)"
      ]
     },
     "execution_count": 18,
     "metadata": {},
     "output_type": "execute_result"
    }
   ],
   "source": [
    "\n",
    "df_load_gemma_fine_tune.shape"
   ]
  },
  {
   "cell_type": "code",
   "execution_count": 19,
   "metadata": {},
   "outputs": [
    {
     "data": {
      "text/html": [
       "<div>\n",
       "<style scoped>\n",
       "    .dataframe tbody tr th:only-of-type {\n",
       "        vertical-align: middle;\n",
       "    }\n",
       "\n",
       "    .dataframe tbody tr th {\n",
       "        vertical-align: top;\n",
       "    }\n",
       "\n",
       "    .dataframe thead th {\n",
       "        text-align: right;\n",
       "    }\n",
       "</style>\n",
       "<table border=\"1\" class=\"dataframe\">\n",
       "  <thead>\n",
       "    <tr style=\"text-align: right;\">\n",
       "      <th></th>\n",
       "      <th>category</th>\n",
       "      <th>context</th>\n",
       "      <th>question</th>\n",
       "      <th>response</th>\n",
       "      <th>instruction</th>\n",
       "      <th>prompt</th>\n",
       "    </tr>\n",
       "  </thead>\n",
       "  <tbody>\n",
       "    <tr>\n",
       "      <th>10553</th>\n",
       "      <td>RAG</td>\n",
       "      <td>Hamro store ma tablets, wireless chargers, ra ...</td>\n",
       "      <td>Hajurko laptops ma kehi discount chha?</td>\n",
       "      <td>Aaile laptops ma 10% discount cha.</td>\n",
       "      <td>Answer the following question by looking at th...</td>\n",
       "      <td>&lt;start_of_turn&gt;system\\nYou are an AI assistant...</td>\n",
       "    </tr>\n",
       "    <tr>\n",
       "      <th>15078</th>\n",
       "      <td>alpaca</td>\n",
       "      <td></td>\n",
       "      <td>Ekta short travel itinerary banauna help gara ...</td>\n",
       "      <td>1. Day 1: Phewa Lake ma boating gar ra Tal Bar...</td>\n",
       "      <td></td>\n",
       "      <td>&lt;start_of_turn&gt;system\\nYou are helpful AI Assi...</td>\n",
       "    </tr>\n",
       "    <tr>\n",
       "      <th>3254</th>\n",
       "      <td>translate</td>\n",
       "      <td></td>\n",
       "      <td>Nepal mahaan biodiversity ko desh ho. Yo dhera...</td>\n",
       "      <td>Nepal is a country of great biodiversity. It i...</td>\n",
       "      <td>Translate the text below from Nepali to English:</td>\n",
       "      <td>&lt;start_of_turn&gt;system\\nYou are helpful AI Assi...</td>\n",
       "    </tr>\n",
       "    <tr>\n",
       "      <th>8031</th>\n",
       "      <td>open_qa</td>\n",
       "      <td></td>\n",
       "      <td>30 bata 12 ghatawa bhaye ko result kati ho?</td>\n",
       "      <td>30 bata 12 ghatawa bhaye ko result 18 ho.</td>\n",
       "      <td>You are a helpful assistant. Answer the given ...</td>\n",
       "      <td>&lt;start_of_turn&gt;system\\nYou are helpful AI Assi...</td>\n",
       "    </tr>\n",
       "    <tr>\n",
       "      <th>17573</th>\n",
       "      <td>RAG</td>\n",
       "      <td>Product available: Nike Running Shoes, Price: ...</td>\n",
       "      <td>Nike Running Shoes ko price kati ho?</td>\n",
       "      <td>Nike Running Shoes ko price Rs. 5000 ho.</td>\n",
       "      <td>Answer the following question by looking at th...</td>\n",
       "      <td>&lt;start_of_turn&gt;system\\nYou are an AI assistant...</td>\n",
       "    </tr>\n",
       "  </tbody>\n",
       "</table>\n",
       "</div>"
      ],
      "text/plain": [
       "        category                                            context  \\\n",
       "10553        RAG  Hamro store ma tablets, wireless chargers, ra ...   \n",
       "15078     alpaca                                                      \n",
       "3254   translate                                                      \n",
       "8031     open_qa                                                      \n",
       "17573        RAG  Product available: Nike Running Shoes, Price: ...   \n",
       "\n",
       "                                                question  \\\n",
       "10553             Hajurko laptops ma kehi discount chha?   \n",
       "15078  Ekta short travel itinerary banauna help gara ...   \n",
       "3254   Nepal mahaan biodiversity ko desh ho. Yo dhera...   \n",
       "8031         30 bata 12 ghatawa bhaye ko result kati ho?   \n",
       "17573               Nike Running Shoes ko price kati ho?   \n",
       "\n",
       "                                                response  \\\n",
       "10553                 Aaile laptops ma 10% discount cha.   \n",
       "15078  1. Day 1: Phewa Lake ma boating gar ra Tal Bar...   \n",
       "3254   Nepal is a country of great biodiversity. It i...   \n",
       "8031           30 bata 12 ghatawa bhaye ko result 18 ho.   \n",
       "17573           Nike Running Shoes ko price Rs. 5000 ho.   \n",
       "\n",
       "                                             instruction  \\\n",
       "10553  Answer the following question by looking at th...   \n",
       "15078                                                      \n",
       "3254    Translate the text below from Nepali to English:   \n",
       "8031   You are a helpful assistant. Answer the given ...   \n",
       "17573  Answer the following question by looking at th...   \n",
       "\n",
       "                                                  prompt  \n",
       "10553  <start_of_turn>system\\nYou are an AI assistant...  \n",
       "15078  <start_of_turn>system\\nYou are helpful AI Assi...  \n",
       "3254   <start_of_turn>system\\nYou are helpful AI Assi...  \n",
       "8031   <start_of_turn>system\\nYou are helpful AI Assi...  \n",
       "17573  <start_of_turn>system\\nYou are an AI assistant...  "
      ]
     },
     "execution_count": 19,
     "metadata": {},
     "output_type": "execute_result"
    }
   ],
   "source": [
    "df_load_gemma_fine_tune.sample(5)"
   ]
  }
 ],
 "metadata": {
  "kernelspec": {
   "display_name": "Python 3",
   "language": "python",
   "name": "python3"
  },
  "language_info": {
   "codemirror_mode": {
    "name": "ipython",
    "version": 3
   },
   "file_extension": ".py",
   "mimetype": "text/x-python",
   "name": "python",
   "nbconvert_exporter": "python",
   "pygments_lexer": "ipython3",
   "version": "3.12.1"
  }
 },
 "nbformat": 4,
 "nbformat_minor": 2
}
