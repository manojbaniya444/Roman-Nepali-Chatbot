{
 "cells": [
  {
   "cell_type": "code",
   "execution_count": 1,
   "metadata": {},
   "outputs": [],
   "source": [
    "import pandas as pd"
   ]
  },
  {
   "cell_type": "code",
   "execution_count": 2,
   "metadata": {},
   "outputs": [],
   "source": [
    "df_sample = pd.read_csv(\"./val_gemma.csv\")"
   ]
  },
  {
   "cell_type": "code",
   "execution_count": 3,
   "metadata": {},
   "outputs": [
    {
     "data": {
      "text/plain": [
       "(2000, 6)"
      ]
     },
     "execution_count": 3,
     "metadata": {},
     "output_type": "execute_result"
    }
   ],
   "source": [
    "df_sample.shape"
   ]
  },
  {
   "cell_type": "code",
   "execution_count": 4,
   "metadata": {},
   "outputs": [
    {
     "data": {
      "text/html": [
       "<div>\n",
       "<style scoped>\n",
       "    .dataframe tbody tr th:only-of-type {\n",
       "        vertical-align: middle;\n",
       "    }\n",
       "\n",
       "    .dataframe tbody tr th {\n",
       "        vertical-align: top;\n",
       "    }\n",
       "\n",
       "    .dataframe thead th {\n",
       "        text-align: right;\n",
       "    }\n",
       "</style>\n",
       "<table border=\"1\" class=\"dataframe\">\n",
       "  <thead>\n",
       "    <tr style=\"text-align: right;\">\n",
       "      <th></th>\n",
       "      <th>category</th>\n",
       "      <th>context</th>\n",
       "      <th>question</th>\n",
       "      <th>response</th>\n",
       "      <th>instruction</th>\n",
       "      <th>prompt</th>\n",
       "    </tr>\n",
       "  </thead>\n",
       "  <tbody>\n",
       "    <tr>\n",
       "      <th>0</th>\n",
       "      <td>open_qa</td>\n",
       "      <td>Ram ra Sita</td>\n",
       "      <td>Ek jodakhat lekhidinus.</td>\n",
       "      <td>Ram ra Sita park ma ghumiraheka chhan.</td>\n",
       "      <td>You are a helpful assistant. Answer the given ...</td>\n",
       "      <td>&lt;start_of_turn&gt;system\\nYou are helpful AI Assi...</td>\n",
       "    </tr>\n",
       "    <tr>\n",
       "      <th>1</th>\n",
       "      <td>RAG</td>\n",
       "      <td>LG 55-inch OLED TV ek premium television ho. y...</td>\n",
       "      <td>LG 55-inch OLED TV available cha?</td>\n",
       "      <td>LG 55-inch OLED TV stock ma available cha. Yes...</td>\n",
       "      <td>Answer the following question by looking at th...</td>\n",
       "      <td>&lt;start_of_turn&gt;system\\nYou are an AI assistant...</td>\n",
       "    </tr>\n",
       "    <tr>\n",
       "      <th>2</th>\n",
       "      <td>open_qa</td>\n",
       "      <td></td>\n",
       "      <td>Nepali ma ek prasiddha tiyaar festival ko naam...</td>\n",
       "      <td>Tihar.</td>\n",
       "      <td>You are a helpful assistant. Answer the given ...</td>\n",
       "      <td>&lt;start_of_turn&gt;system\\nYou are helpful AI Assi...</td>\n",
       "    </tr>\n",
       "    <tr>\n",
       "      <th>3</th>\n",
       "      <td>alpaca</td>\n",
       "      <td></td>\n",
       "      <td>Nepal ko National Flower ko naam ra color bhan...</td>\n",
       "      <td>Nepal ko National Flower ho Laliguras, jun red...</td>\n",
       "      <td></td>\n",
       "      <td>&lt;start_of_turn&gt;system\\nYou are helpful AI Assi...</td>\n",
       "    </tr>\n",
       "    <tr>\n",
       "      <th>4</th>\n",
       "      <td>alpaca</td>\n",
       "      <td>Mutual funds ma invest garna, registered broke...</td>\n",
       "      <td>Stock market ma mutual funds kasari invest garne?</td>\n",
       "      <td>Mutual funds ma invest garna, registered broke...</td>\n",
       "      <td></td>\n",
       "      <td>&lt;start_of_turn&gt;system\\nYou are helpful AI Assi...</td>\n",
       "    </tr>\n",
       "  </tbody>\n",
       "</table>\n",
       "</div>"
      ],
      "text/plain": [
       "  category                                            context  \\\n",
       "0  open_qa                                        Ram ra Sita   \n",
       "1      RAG  LG 55-inch OLED TV ek premium television ho. y...   \n",
       "2  open_qa                                                      \n",
       "3   alpaca                                                      \n",
       "4   alpaca  Mutual funds ma invest garna, registered broke...   \n",
       "\n",
       "                                            question  \\\n",
       "0                            Ek jodakhat lekhidinus.   \n",
       "1                  LG 55-inch OLED TV available cha?   \n",
       "2  Nepali ma ek prasiddha tiyaar festival ko naam...   \n",
       "3  Nepal ko National Flower ko naam ra color bhan...   \n",
       "4  Stock market ma mutual funds kasari invest garne?   \n",
       "\n",
       "                                            response  \\\n",
       "0             Ram ra Sita park ma ghumiraheka chhan.   \n",
       "1  LG 55-inch OLED TV stock ma available cha. Yes...   \n",
       "2                                             Tihar.   \n",
       "3  Nepal ko National Flower ho Laliguras, jun red...   \n",
       "4  Mutual funds ma invest garna, registered broke...   \n",
       "\n",
       "                                         instruction  \\\n",
       "0  You are a helpful assistant. Answer the given ...   \n",
       "1  Answer the following question by looking at th...   \n",
       "2  You are a helpful assistant. Answer the given ...   \n",
       "3                                                      \n",
       "4                                                      \n",
       "\n",
       "                                              prompt  \n",
       "0  <start_of_turn>system\\nYou are helpful AI Assi...  \n",
       "1  <start_of_turn>system\\nYou are an AI assistant...  \n",
       "2  <start_of_turn>system\\nYou are helpful AI Assi...  \n",
       "3  <start_of_turn>system\\nYou are helpful AI Assi...  \n",
       "4  <start_of_turn>system\\nYou are helpful AI Assi...  "
      ]
     },
     "execution_count": 4,
     "metadata": {},
     "output_type": "execute_result"
    }
   ],
   "source": [
    "df_sample.head(5)"
   ]
  },
  {
   "cell_type": "code",
   "execution_count": 5,
   "metadata": {},
   "outputs": [],
   "source": [
    "# df_sample = df.sample(n=500, random_state=10)"
   ]
  },
  {
   "cell_type": "code",
   "execution_count": 6,
   "metadata": {},
   "outputs": [
    {
     "data": {
      "text/plain": [
       "(2000, 6)"
      ]
     },
     "execution_count": 6,
     "metadata": {},
     "output_type": "execute_result"
    }
   ],
   "source": [
    "df_sample.shape"
   ]
  },
  {
   "cell_type": "code",
   "execution_count": 7,
   "metadata": {},
   "outputs": [
    {
     "data": {
      "text/html": [
       "<div>\n",
       "<style scoped>\n",
       "    .dataframe tbody tr th:only-of-type {\n",
       "        vertical-align: middle;\n",
       "    }\n",
       "\n",
       "    .dataframe tbody tr th {\n",
       "        vertical-align: top;\n",
       "    }\n",
       "\n",
       "    .dataframe thead th {\n",
       "        text-align: right;\n",
       "    }\n",
       "</style>\n",
       "<table border=\"1\" class=\"dataframe\">\n",
       "  <thead>\n",
       "    <tr style=\"text-align: right;\">\n",
       "      <th></th>\n",
       "      <th>category</th>\n",
       "      <th>context</th>\n",
       "      <th>question</th>\n",
       "      <th>response</th>\n",
       "      <th>instruction</th>\n",
       "      <th>prompt</th>\n",
       "    </tr>\n",
       "  </thead>\n",
       "  <tbody>\n",
       "    <tr>\n",
       "      <th>0</th>\n",
       "      <td>open_qa</td>\n",
       "      <td>Ram ra Sita</td>\n",
       "      <td>Ek jodakhat lekhidinus.</td>\n",
       "      <td>Ram ra Sita park ma ghumiraheka chhan.</td>\n",
       "      <td>You are a helpful assistant. Answer the given ...</td>\n",
       "      <td>&lt;start_of_turn&gt;system\\nYou are helpful AI Assi...</td>\n",
       "    </tr>\n",
       "    <tr>\n",
       "      <th>1</th>\n",
       "      <td>RAG</td>\n",
       "      <td>LG 55-inch OLED TV ek premium television ho. y...</td>\n",
       "      <td>LG 55-inch OLED TV available cha?</td>\n",
       "      <td>LG 55-inch OLED TV stock ma available cha. Yes...</td>\n",
       "      <td>Answer the following question by looking at th...</td>\n",
       "      <td>&lt;start_of_turn&gt;system\\nYou are an AI assistant...</td>\n",
       "    </tr>\n",
       "    <tr>\n",
       "      <th>2</th>\n",
       "      <td>open_qa</td>\n",
       "      <td></td>\n",
       "      <td>Nepali ma ek prasiddha tiyaar festival ko naam...</td>\n",
       "      <td>Tihar.</td>\n",
       "      <td>You are a helpful assistant. Answer the given ...</td>\n",
       "      <td>&lt;start_of_turn&gt;system\\nYou are helpful AI Assi...</td>\n",
       "    </tr>\n",
       "    <tr>\n",
       "      <th>3</th>\n",
       "      <td>alpaca</td>\n",
       "      <td></td>\n",
       "      <td>Nepal ko National Flower ko naam ra color bhan...</td>\n",
       "      <td>Nepal ko National Flower ho Laliguras, jun red...</td>\n",
       "      <td></td>\n",
       "      <td>&lt;start_of_turn&gt;system\\nYou are helpful AI Assi...</td>\n",
       "    </tr>\n",
       "    <tr>\n",
       "      <th>4</th>\n",
       "      <td>alpaca</td>\n",
       "      <td>Mutual funds ma invest garna, registered broke...</td>\n",
       "      <td>Stock market ma mutual funds kasari invest garne?</td>\n",
       "      <td>Mutual funds ma invest garna, registered broke...</td>\n",
       "      <td></td>\n",
       "      <td>&lt;start_of_turn&gt;system\\nYou are helpful AI Assi...</td>\n",
       "    </tr>\n",
       "    <tr>\n",
       "      <th>5</th>\n",
       "      <td>translate</td>\n",
       "      <td></td>\n",
       "      <td>Naya shikshya prakriyako uddeshya sabai bidyar...</td>\n",
       "      <td>The new educational initiative aims to provide...</td>\n",
       "      <td>Translate the text below from Nepali to English:</td>\n",
       "      <td>&lt;start_of_turn&gt;system\\nYou are helpful AI Assi...</td>\n",
       "    </tr>\n",
       "    <tr>\n",
       "      <th>6</th>\n",
       "      <td>open_qa</td>\n",
       "      <td></td>\n",
       "      <td>Nepal ma sabai bhanda uchcha tower kun ho?</td>\n",
       "      <td>Dharahara (reconstructed).</td>\n",
       "      <td>You are a helpful assistant. Answer the given ...</td>\n",
       "      <td>&lt;start_of_turn&gt;system\\nYou are helpful AI Assi...</td>\n",
       "    </tr>\n",
       "    <tr>\n",
       "      <th>7</th>\n",
       "      <td>open_qa</td>\n",
       "      <td></td>\n",
       "      <td>Nepali dharmik parva ko ek udaharan ra tyo ko ...</td>\n",
       "      <td>Shivaratri ek dharmik parva ho, jun shiva bhak...</td>\n",
       "      <td>You are a helpful assistant. Answer the given ...</td>\n",
       "      <td>&lt;start_of_turn&gt;system\\nYou are helpful AI Assi...</td>\n",
       "    </tr>\n",
       "    <tr>\n",
       "      <th>8</th>\n",
       "      <td>RAG</td>\n",
       "      <td>Accepted Payment Methods: Credit/Debit Card, E...</td>\n",
       "      <td>Payment garna ko lagi payment gateway down bha...</td>\n",
       "      <td>Hajur, payment gateway down bhayo bhane kehi s...</td>\n",
       "      <td>Answer the following question by looking at th...</td>\n",
       "      <td>&lt;start_of_turn&gt;system\\nYou are an AI assistant...</td>\n",
       "    </tr>\n",
       "    <tr>\n",
       "      <th>9</th>\n",
       "      <td>translate</td>\n",
       "      <td></td>\n",
       "      <td>Tapai le chai yo decision kasari linu bho?</td>\n",
       "      <td>How did you make this decision?</td>\n",
       "      <td>Translate the given text from Roman Nepali lan...</td>\n",
       "      <td>&lt;start_of_turn&gt;system\\nYou are helpful AI Assi...</td>\n",
       "    </tr>\n",
       "  </tbody>\n",
       "</table>\n",
       "</div>"
      ],
      "text/plain": [
       "    category                                            context  \\\n",
       "0    open_qa                                        Ram ra Sita   \n",
       "1        RAG  LG 55-inch OLED TV ek premium television ho. y...   \n",
       "2    open_qa                                                      \n",
       "3     alpaca                                                      \n",
       "4     alpaca  Mutual funds ma invest garna, registered broke...   \n",
       "5  translate                                                      \n",
       "6    open_qa                                                      \n",
       "7    open_qa                                                      \n",
       "8        RAG  Accepted Payment Methods: Credit/Debit Card, E...   \n",
       "9  translate                                                      \n",
       "\n",
       "                                            question  \\\n",
       "0                            Ek jodakhat lekhidinus.   \n",
       "1                  LG 55-inch OLED TV available cha?   \n",
       "2  Nepali ma ek prasiddha tiyaar festival ko naam...   \n",
       "3  Nepal ko National Flower ko naam ra color bhan...   \n",
       "4  Stock market ma mutual funds kasari invest garne?   \n",
       "5  Naya shikshya prakriyako uddeshya sabai bidyar...   \n",
       "6         Nepal ma sabai bhanda uchcha tower kun ho?   \n",
       "7  Nepali dharmik parva ko ek udaharan ra tyo ko ...   \n",
       "8  Payment garna ko lagi payment gateway down bha...   \n",
       "9         Tapai le chai yo decision kasari linu bho?   \n",
       "\n",
       "                                            response  \\\n",
       "0             Ram ra Sita park ma ghumiraheka chhan.   \n",
       "1  LG 55-inch OLED TV stock ma available cha. Yes...   \n",
       "2                                             Tihar.   \n",
       "3  Nepal ko National Flower ho Laliguras, jun red...   \n",
       "4  Mutual funds ma invest garna, registered broke...   \n",
       "5  The new educational initiative aims to provide...   \n",
       "6                         Dharahara (reconstructed).   \n",
       "7  Shivaratri ek dharmik parva ho, jun shiva bhak...   \n",
       "8  Hajur, payment gateway down bhayo bhane kehi s...   \n",
       "9                    How did you make this decision?   \n",
       "\n",
       "                                         instruction  \\\n",
       "0  You are a helpful assistant. Answer the given ...   \n",
       "1  Answer the following question by looking at th...   \n",
       "2  You are a helpful assistant. Answer the given ...   \n",
       "3                                                      \n",
       "4                                                      \n",
       "5   Translate the text below from Nepali to English:   \n",
       "6  You are a helpful assistant. Answer the given ...   \n",
       "7  You are a helpful assistant. Answer the given ...   \n",
       "8  Answer the following question by looking at th...   \n",
       "9  Translate the given text from Roman Nepali lan...   \n",
       "\n",
       "                                              prompt  \n",
       "0  <start_of_turn>system\\nYou are helpful AI Assi...  \n",
       "1  <start_of_turn>system\\nYou are an AI assistant...  \n",
       "2  <start_of_turn>system\\nYou are helpful AI Assi...  \n",
       "3  <start_of_turn>system\\nYou are helpful AI Assi...  \n",
       "4  <start_of_turn>system\\nYou are helpful AI Assi...  \n",
       "5  <start_of_turn>system\\nYou are helpful AI Assi...  \n",
       "6  <start_of_turn>system\\nYou are helpful AI Assi...  \n",
       "7  <start_of_turn>system\\nYou are helpful AI Assi...  \n",
       "8  <start_of_turn>system\\nYou are an AI assistant...  \n",
       "9  <start_of_turn>system\\nYou are helpful AI Assi...  "
      ]
     },
     "execution_count": 7,
     "metadata": {},
     "output_type": "execute_result"
    }
   ],
   "source": [
    "df_sample.head(10)"
   ]
  },
  {
   "cell_type": "code",
   "execution_count": 8,
   "metadata": {},
   "outputs": [
    {
     "data": {
      "text/plain": [
       "category\n",
       "RAG          721\n",
       "alpaca       480\n",
       "translate    442\n",
       "open_qa      330\n",
       "summary       27\n",
       "Name: count, dtype: int64"
      ]
     },
     "execution_count": 8,
     "metadata": {},
     "output_type": "execute_result"
    }
   ],
   "source": [
    "df_sample[\"category\"].value_counts()"
   ]
  },
  {
   "cell_type": "code",
   "execution_count": 9,
   "metadata": {},
   "outputs": [
    {
     "data": {
      "text/plain": [
       "category\n",
       "RAG          721\n",
       "alpaca       480\n",
       "translate    442\n",
       "open_qa      330\n",
       "summary       27\n",
       "Name: count, dtype: int64"
      ]
     },
     "execution_count": 9,
     "metadata": {},
     "output_type": "execute_result"
    }
   ],
   "source": [
    "df_sample[\"category\"].value_counts()"
   ]
  },
  {
   "cell_type": "code",
   "execution_count": 10,
   "metadata": {},
   "outputs": [
    {
     "name": "stdout",
     "output_type": "stream",
     "text": [
      "<start_of_turn>system\n",
      "You are helpful AI Assistant follow the user instruction and respond in Roman Nepali language.<end_of_turn>\n",
      "<start_of_turn>user\n",
      "Ek jodakhat lekhidinus.\n",
      "Context: Ram ra Sita<end_of_turn>\n",
      "<start_of_turn>model\n",
      "\n"
     ]
    }
   ],
   "source": [
    "print(df_sample.iloc[0][\"prompt\"].split(\"<start_of_turn>model\")[0] + \"<start_of_turn>model\\n\")"
   ]
  },
  {
   "cell_type": "code",
   "execution_count": 11,
   "metadata": {},
   "outputs": [],
   "source": [
    "def format_eval_prompt(example):\n",
    "    example['eval_prompt'] = example['prompt'].split('<start_of_turn>model')[0] + '<start_of_turn>model\\n'\n",
    "    return example\n",
    "\n",
    "df_sample = df_sample.apply(format_eval_prompt, axis=1)"
   ]
  },
  {
   "cell_type": "code",
   "execution_count": 12,
   "metadata": {},
   "outputs": [
    {
     "data": {
      "text/html": [
       "<div>\n",
       "<style scoped>\n",
       "    .dataframe tbody tr th:only-of-type {\n",
       "        vertical-align: middle;\n",
       "    }\n",
       "\n",
       "    .dataframe tbody tr th {\n",
       "        vertical-align: top;\n",
       "    }\n",
       "\n",
       "    .dataframe thead th {\n",
       "        text-align: right;\n",
       "    }\n",
       "</style>\n",
       "<table border=\"1\" class=\"dataframe\">\n",
       "  <thead>\n",
       "    <tr style=\"text-align: right;\">\n",
       "      <th></th>\n",
       "      <th>category</th>\n",
       "      <th>context</th>\n",
       "      <th>question</th>\n",
       "      <th>response</th>\n",
       "      <th>instruction</th>\n",
       "      <th>prompt</th>\n",
       "      <th>eval_prompt</th>\n",
       "    </tr>\n",
       "  </thead>\n",
       "  <tbody>\n",
       "    <tr>\n",
       "      <th>278</th>\n",
       "      <td>RAG</td>\n",
       "      <td>Nepal ma delivery garna milcha, jun Kathmandu,...</td>\n",
       "      <td>Delivery Nepal ma garna milcha?</td>\n",
       "      <td>Delivery Nepal ma garna milcha, Kathmandu dekh...</td>\n",
       "      <td>Answer the following question by looking at th...</td>\n",
       "      <td>&lt;start_of_turn&gt;system\\nYou are an AI assistant...</td>\n",
       "      <td>&lt;start_of_turn&gt;system\\nYou are an AI assistant...</td>\n",
       "    </tr>\n",
       "    <tr>\n",
       "      <th>1071</th>\n",
       "      <td>open_qa</td>\n",
       "      <td>Payment Options: Credit/Debit Card, Mobile Wal...</td>\n",
       "      <td>Kasari payment garna sakincha?</td>\n",
       "      <td>Credit/Debit Card, Mobile Wallet, ra Cash on D...</td>\n",
       "      <td>You are a helpful assistant. Answer the given ...</td>\n",
       "      <td>&lt;start_of_turn&gt;system\\nYou are helpful AI Assi...</td>\n",
       "      <td>&lt;start_of_turn&gt;system\\nYou are helpful AI Assi...</td>\n",
       "    </tr>\n",
       "    <tr>\n",
       "      <th>1699</th>\n",
       "      <td>RAG</td>\n",
       "      <td>GadgetStore, Chitwan-1, Narayanghat bata saman...</td>\n",
       "      <td>Tapaiharu le Kathmandu ma free delivery dinu h...</td>\n",
       "      <td>Ho, Kathmandu ko Upatyaka bhitra free delivery...</td>\n",
       "      <td>Answer the following question by looking at th...</td>\n",
       "      <td>&lt;start_of_turn&gt;system\\nYou are an AI assistant...</td>\n",
       "      <td>&lt;start_of_turn&gt;system\\nYou are an AI assistant...</td>\n",
       "    </tr>\n",
       "    <tr>\n",
       "      <th>260</th>\n",
       "      <td>alpaca</td>\n",
       "      <td>Tapaiko service ramro cha, tara ali improvemen...</td>\n",
       "      <td>Classify the urgency level of this request (Ur...</td>\n",
       "      <td>Low Priority</td>\n",
       "      <td></td>\n",
       "      <td>&lt;start_of_turn&gt;system\\nYou are helpful AI Assi...</td>\n",
       "      <td>&lt;start_of_turn&gt;system\\nYou are helpful AI Assi...</td>\n",
       "    </tr>\n",
       "    <tr>\n",
       "      <th>1715</th>\n",
       "      <td>RAG</td>\n",
       "      <td>Store ma vacuum cleaner brands jastai Dyson, P...</td>\n",
       "      <td>Store ma vacuum cleaner available cha?</td>\n",
       "      <td>Ho, store ma Dyson, Philips, ra Eureka Forbes ...</td>\n",
       "      <td>Answer the question using the context if it is...</td>\n",
       "      <td>&lt;start_of_turn&gt;system\\nYou are an AI assistant...</td>\n",
       "      <td>&lt;start_of_turn&gt;system\\nYou are an AI assistant...</td>\n",
       "    </tr>\n",
       "  </tbody>\n",
       "</table>\n",
       "</div>"
      ],
      "text/plain": [
       "     category                                            context  \\\n",
       "278       RAG  Nepal ma delivery garna milcha, jun Kathmandu,...   \n",
       "1071  open_qa  Payment Options: Credit/Debit Card, Mobile Wal...   \n",
       "1699      RAG  GadgetStore, Chitwan-1, Narayanghat bata saman...   \n",
       "260    alpaca  Tapaiko service ramro cha, tara ali improvemen...   \n",
       "1715      RAG  Store ma vacuum cleaner brands jastai Dyson, P...   \n",
       "\n",
       "                                               question  \\\n",
       "278                     Delivery Nepal ma garna milcha?   \n",
       "1071                     Kasari payment garna sakincha?   \n",
       "1699  Tapaiharu le Kathmandu ma free delivery dinu h...   \n",
       "260   Classify the urgency level of this request (Ur...   \n",
       "1715             Store ma vacuum cleaner available cha?   \n",
       "\n",
       "                                               response  \\\n",
       "278   Delivery Nepal ma garna milcha, Kathmandu dekh...   \n",
       "1071  Credit/Debit Card, Mobile Wallet, ra Cash on D...   \n",
       "1699  Ho, Kathmandu ko Upatyaka bhitra free delivery...   \n",
       "260                                        Low Priority   \n",
       "1715  Ho, store ma Dyson, Philips, ra Eureka Forbes ...   \n",
       "\n",
       "                                            instruction  \\\n",
       "278   Answer the following question by looking at th...   \n",
       "1071  You are a helpful assistant. Answer the given ...   \n",
       "1699  Answer the following question by looking at th...   \n",
       "260                                                       \n",
       "1715  Answer the question using the context if it is...   \n",
       "\n",
       "                                                 prompt  \\\n",
       "278   <start_of_turn>system\\nYou are an AI assistant...   \n",
       "1071  <start_of_turn>system\\nYou are helpful AI Assi...   \n",
       "1699  <start_of_turn>system\\nYou are an AI assistant...   \n",
       "260   <start_of_turn>system\\nYou are helpful AI Assi...   \n",
       "1715  <start_of_turn>system\\nYou are an AI assistant...   \n",
       "\n",
       "                                            eval_prompt  \n",
       "278   <start_of_turn>system\\nYou are an AI assistant...  \n",
       "1071  <start_of_turn>system\\nYou are helpful AI Assi...  \n",
       "1699  <start_of_turn>system\\nYou are an AI assistant...  \n",
       "260   <start_of_turn>system\\nYou are helpful AI Assi...  \n",
       "1715  <start_of_turn>system\\nYou are an AI assistant...  "
      ]
     },
     "execution_count": 12,
     "metadata": {},
     "output_type": "execute_result"
    }
   ],
   "source": [
    "df_sample.sample(5)"
   ]
  },
  {
   "cell_type": "code",
   "execution_count": 13,
   "metadata": {},
   "outputs": [
    {
     "name": "stdout",
     "output_type": "stream",
     "text": [
      "<start_of_turn>system\n",
      "You are an AI assistant who responds to user instructions. Use the context information to answer if it is given, and respond in Roman Nepali.<end_of_turn>\n",
      "<start_of_turn>user\n",
      "Realme 4K Smart Google TV Stick ko price kati ho?\n",
      "Context: Realme 4K Smart Google TV Stick ek media streaming device ho. Yesko price 5000 ho. Yesma Android TV 11, Google Assistant, ra 4K HDR support available cha.<end_of_turn>\n",
      "<start_of_turn>model\n",
      "\n"
     ]
    }
   ],
   "source": [
    "print(df_sample.iloc[100][\"eval_prompt\"])"
   ]
  },
  {
   "cell_type": "code",
   "execution_count": 14,
   "metadata": {},
   "outputs": [],
   "source": [
    "df_sample.to_csv(\"eval_dataset_full.csv\", index=False)"
   ]
  },
  {
   "cell_type": "code",
   "execution_count": 15,
   "metadata": {},
   "outputs": [
    {
     "data": {
      "text/plain": [
       "(2000, 7)"
      ]
     },
     "execution_count": 15,
     "metadata": {},
     "output_type": "execute_result"
    }
   ],
   "source": [
    "df_sample.shape"
   ]
  },
  {
   "cell_type": "code",
   "execution_count": 16,
   "metadata": {},
   "outputs": [
    {
     "data": {
      "text/plain": [
       "category\n",
       "RAG          721\n",
       "alpaca       480\n",
       "translate    442\n",
       "open_qa      330\n",
       "summary       27\n",
       "Name: count, dtype: int64"
      ]
     },
     "execution_count": 16,
     "metadata": {},
     "output_type": "execute_result"
    }
   ],
   "source": [
    "df_sample[\"category\"].value_counts()"
   ]
  }
 ],
 "metadata": {
  "kernelspec": {
   "display_name": "Python 3",
   "language": "python",
   "name": "python3"
  },
  "language_info": {
   "codemirror_mode": {
    "name": "ipython",
    "version": 3
   },
   "file_extension": ".py",
   "mimetype": "text/x-python",
   "name": "python",
   "nbconvert_exporter": "python",
   "pygments_lexer": "ipython3",
   "version": "3.12.1"
  }
 },
 "nbformat": 4,
 "nbformat_minor": 2
}
