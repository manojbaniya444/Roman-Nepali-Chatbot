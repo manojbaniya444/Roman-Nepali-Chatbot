{
 "cells": [
  {
   "cell_type": "code",
   "execution_count": 2,
   "metadata": {},
   "outputs": [],
   "source": [
    "import pandas as pd"
   ]
  },
  {
   "cell_type": "code",
   "execution_count": 3,
   "metadata": {},
   "outputs": [],
   "source": [
    "df = pd.read_csv(\"./val_gemma.csv\")"
   ]
  },
  {
   "cell_type": "code",
   "execution_count": 4,
   "metadata": {},
   "outputs": [
    {
     "data": {
      "text/plain": [
       "(2000, 6)"
      ]
     },
     "execution_count": 4,
     "metadata": {},
     "output_type": "execute_result"
    }
   ],
   "source": [
    "df.shape"
   ]
  },
  {
   "cell_type": "code",
   "execution_count": 5,
   "metadata": {},
   "outputs": [
    {
     "data": {
      "text/html": [
       "<div>\n",
       "<style scoped>\n",
       "    .dataframe tbody tr th:only-of-type {\n",
       "        vertical-align: middle;\n",
       "    }\n",
       "\n",
       "    .dataframe tbody tr th {\n",
       "        vertical-align: top;\n",
       "    }\n",
       "\n",
       "    .dataframe thead th {\n",
       "        text-align: right;\n",
       "    }\n",
       "</style>\n",
       "<table border=\"1\" class=\"dataframe\">\n",
       "  <thead>\n",
       "    <tr style=\"text-align: right;\">\n",
       "      <th></th>\n",
       "      <th>category</th>\n",
       "      <th>context</th>\n",
       "      <th>question</th>\n",
       "      <th>response</th>\n",
       "      <th>instruction</th>\n",
       "      <th>prompt</th>\n",
       "    </tr>\n",
       "  </thead>\n",
       "  <tbody>\n",
       "    <tr>\n",
       "      <th>0</th>\n",
       "      <td>open_qa</td>\n",
       "      <td>Ram ra Sita</td>\n",
       "      <td>Ek jodakhat lekhidinus.</td>\n",
       "      <td>Ram ra Sita park ma ghumiraheka chhan.</td>\n",
       "      <td>You are a helpful assistant. Answer the given ...</td>\n",
       "      <td>&lt;start_of_turn&gt;system\\nYou are helpful AI Assi...</td>\n",
       "    </tr>\n",
       "    <tr>\n",
       "      <th>1</th>\n",
       "      <td>RAG</td>\n",
       "      <td>LG 55-inch OLED TV ek premium television ho. y...</td>\n",
       "      <td>LG 55-inch OLED TV available cha?</td>\n",
       "      <td>LG 55-inch OLED TV stock ma available cha. Yes...</td>\n",
       "      <td>Answer the following question by looking at th...</td>\n",
       "      <td>&lt;start_of_turn&gt;system\\nYou are an AI assistant...</td>\n",
       "    </tr>\n",
       "    <tr>\n",
       "      <th>2</th>\n",
       "      <td>open_qa</td>\n",
       "      <td></td>\n",
       "      <td>Nepali ma ek prasiddha tiyaar festival ko naam...</td>\n",
       "      <td>Tihar.</td>\n",
       "      <td>You are a helpful assistant. Answer the given ...</td>\n",
       "      <td>&lt;start_of_turn&gt;system\\nYou are helpful AI Assi...</td>\n",
       "    </tr>\n",
       "    <tr>\n",
       "      <th>3</th>\n",
       "      <td>alpaca</td>\n",
       "      <td></td>\n",
       "      <td>Nepal ko National Flower ko naam ra color bhan...</td>\n",
       "      <td>Nepal ko National Flower ho Laliguras, jun red...</td>\n",
       "      <td></td>\n",
       "      <td>&lt;start_of_turn&gt;system\\nYou are helpful AI Assi...</td>\n",
       "    </tr>\n",
       "    <tr>\n",
       "      <th>4</th>\n",
       "      <td>alpaca</td>\n",
       "      <td>Mutual funds ma invest garna, registered broke...</td>\n",
       "      <td>Stock market ma mutual funds kasari invest garne?</td>\n",
       "      <td>Mutual funds ma invest garna, registered broke...</td>\n",
       "      <td></td>\n",
       "      <td>&lt;start_of_turn&gt;system\\nYou are helpful AI Assi...</td>\n",
       "    </tr>\n",
       "  </tbody>\n",
       "</table>\n",
       "</div>"
      ],
      "text/plain": [
       "  category                                            context  \\\n",
       "0  open_qa                                        Ram ra Sita   \n",
       "1      RAG  LG 55-inch OLED TV ek premium television ho. y...   \n",
       "2  open_qa                                                      \n",
       "3   alpaca                                                      \n",
       "4   alpaca  Mutual funds ma invest garna, registered broke...   \n",
       "\n",
       "                                            question  \\\n",
       "0                            Ek jodakhat lekhidinus.   \n",
       "1                  LG 55-inch OLED TV available cha?   \n",
       "2  Nepali ma ek prasiddha tiyaar festival ko naam...   \n",
       "3  Nepal ko National Flower ko naam ra color bhan...   \n",
       "4  Stock market ma mutual funds kasari invest garne?   \n",
       "\n",
       "                                            response  \\\n",
       "0             Ram ra Sita park ma ghumiraheka chhan.   \n",
       "1  LG 55-inch OLED TV stock ma available cha. Yes...   \n",
       "2                                             Tihar.   \n",
       "3  Nepal ko National Flower ho Laliguras, jun red...   \n",
       "4  Mutual funds ma invest garna, registered broke...   \n",
       "\n",
       "                                         instruction  \\\n",
       "0  You are a helpful assistant. Answer the given ...   \n",
       "1  Answer the following question by looking at th...   \n",
       "2  You are a helpful assistant. Answer the given ...   \n",
       "3                                                      \n",
       "4                                                      \n",
       "\n",
       "                                              prompt  \n",
       "0  <start_of_turn>system\\nYou are helpful AI Assi...  \n",
       "1  <start_of_turn>system\\nYou are an AI assistant...  \n",
       "2  <start_of_turn>system\\nYou are helpful AI Assi...  \n",
       "3  <start_of_turn>system\\nYou are helpful AI Assi...  \n",
       "4  <start_of_turn>system\\nYou are helpful AI Assi...  "
      ]
     },
     "execution_count": 5,
     "metadata": {},
     "output_type": "execute_result"
    }
   ],
   "source": [
    "df.head(5)"
   ]
  },
  {
   "cell_type": "code",
   "execution_count": 6,
   "metadata": {},
   "outputs": [],
   "source": [
    "df_sample = df.sample(n=200, random_state=1)"
   ]
  },
  {
   "cell_type": "code",
   "execution_count": 7,
   "metadata": {},
   "outputs": [
    {
     "data": {
      "text/plain": [
       "(200, 6)"
      ]
     },
     "execution_count": 7,
     "metadata": {},
     "output_type": "execute_result"
    }
   ],
   "source": [
    "df_sample.shape"
   ]
  },
  {
   "cell_type": "code",
   "execution_count": 9,
   "metadata": {},
   "outputs": [
    {
     "data": {
      "text/html": [
       "<div>\n",
       "<style scoped>\n",
       "    .dataframe tbody tr th:only-of-type {\n",
       "        vertical-align: middle;\n",
       "    }\n",
       "\n",
       "    .dataframe tbody tr th {\n",
       "        vertical-align: top;\n",
       "    }\n",
       "\n",
       "    .dataframe thead th {\n",
       "        text-align: right;\n",
       "    }\n",
       "</style>\n",
       "<table border=\"1\" class=\"dataframe\">\n",
       "  <thead>\n",
       "    <tr style=\"text-align: right;\">\n",
       "      <th></th>\n",
       "      <th>category</th>\n",
       "      <th>context</th>\n",
       "      <th>question</th>\n",
       "      <th>response</th>\n",
       "      <th>instruction</th>\n",
       "      <th>prompt</th>\n",
       "    </tr>\n",
       "  </thead>\n",
       "  <tbody>\n",
       "    <tr>\n",
       "      <th>674</th>\n",
       "      <td>translate</td>\n",
       "      <td></td>\n",
       "      <td>Mero sapana sansar ghumnu ho.</td>\n",
       "      <td>My dream is to travel the world.</td>\n",
       "      <td>Translate the text below from Nepali to English:</td>\n",
       "      <td>&lt;start_of_turn&gt;system\\nYou are helpful AI Assi...</td>\n",
       "    </tr>\n",
       "    <tr>\n",
       "      <th>1699</th>\n",
       "      <td>RAG</td>\n",
       "      <td>GadgetStore, Chitwan-1, Narayanghat bata saman...</td>\n",
       "      <td>Tapaiharu le Kathmandu ma free delivery dinu h...</td>\n",
       "      <td>Ho, Kathmandu ko Upatyaka bhitra free delivery...</td>\n",
       "      <td>Answer the following question by looking at th...</td>\n",
       "      <td>&lt;start_of_turn&gt;system\\nYou are an AI assistant...</td>\n",
       "    </tr>\n",
       "    <tr>\n",
       "      <th>1282</th>\n",
       "      <td>alpaca</td>\n",
       "      <td></td>\n",
       "      <td>Mero travel vlog ko script banauna help gara. ...</td>\n",
       "      <td>Namaste, everyone! Aaja hamile Pokhara ma chha...</td>\n",
       "      <td></td>\n",
       "      <td>&lt;start_of_turn&gt;system\\nYou are helpful AI Assi...</td>\n",
       "    </tr>\n",
       "    <tr>\n",
       "      <th>1315</th>\n",
       "      <td>RAG</td>\n",
       "      <td>Product available: Samsung 32-inch TV, Price: ...</td>\n",
       "      <td>Samsung 32-inch TV ko price kati ho?</td>\n",
       "      <td>Hami sanga Samsung 32-inch TV ko price Rs. 150...</td>\n",
       "      <td>Answer the following question by looking at th...</td>\n",
       "      <td>&lt;start_of_turn&gt;system\\nYou are an AI assistant...</td>\n",
       "    </tr>\n",
       "    <tr>\n",
       "      <th>1210</th>\n",
       "      <td>RAG</td>\n",
       "      <td>Smart Electronics le festive sale ma 5% discou...</td>\n",
       "      <td>Festive sale ma kati discount cha?</td>\n",
       "      <td>Festive sale ma 5% discount cha, tara limited ...</td>\n",
       "      <td>Answer the following question by looking at th...</td>\n",
       "      <td>&lt;start_of_turn&gt;system\\nYou are an AI assistant...</td>\n",
       "    </tr>\n",
       "    <tr>\n",
       "      <th>1636</th>\n",
       "      <td>open_qa</td>\n",
       "      <td></td>\n",
       "      <td>Hi bot</td>\n",
       "      <td>Namaste! Ma tapai ko virtual assistant ho. Aba...</td>\n",
       "      <td>You are a helpful assistant. Answer the given ...</td>\n",
       "      <td>&lt;start_of_turn&gt;system\\nYou are helpful AI Assi...</td>\n",
       "    </tr>\n",
       "    <tr>\n",
       "      <th>613</th>\n",
       "      <td>open_qa</td>\n",
       "      <td></td>\n",
       "      <td>Tapai email kasari pathaunuhuncha? Steps batau...</td>\n",
       "      <td>Email app kholnus, compose button click garnus...</td>\n",
       "      <td>You are a helpful assistant. Answer the given ...</td>\n",
       "      <td>&lt;start_of_turn&gt;system\\nYou are helpful AI Assi...</td>\n",
       "    </tr>\n",
       "    <tr>\n",
       "      <th>447</th>\n",
       "      <td>RAG</td>\n",
       "      <td>Nepal has immense potential for eco-tourism, w...</td>\n",
       "      <td>Nepal ma eco-tourism ko sambhavana ko barema b...</td>\n",
       "      <td>Nepal ma eco-tourism ko dherai sambhavana cha,...</td>\n",
       "      <td>Answer the following question by looking at th...</td>\n",
       "      <td>&lt;start_of_turn&gt;system\\nYou are an AI assistant...</td>\n",
       "    </tr>\n",
       "    <tr>\n",
       "      <th>1131</th>\n",
       "      <td>translate</td>\n",
       "      <td></td>\n",
       "      <td>Malai aaja football khelne ichcha cha. Sathi h...</td>\n",
       "      <td>I feel like playing football today. I’ll plan ...</td>\n",
       "      <td>Translate the text below from Nepali to English:</td>\n",
       "      <td>&lt;start_of_turn&gt;system\\nYou are helpful AI Assi...</td>\n",
       "    </tr>\n",
       "    <tr>\n",
       "      <th>808</th>\n",
       "      <td>open_qa</td>\n",
       "      <td></td>\n",
       "      <td>Nepali culture ko khasiyat ke ho?</td>\n",
       "      <td>Nepali culture diverse ani rich cha. Harek jat...</td>\n",
       "      <td>You are a helpful assistant. Answer the given ...</td>\n",
       "      <td>&lt;start_of_turn&gt;system\\nYou are helpful AI Assi...</td>\n",
       "    </tr>\n",
       "  </tbody>\n",
       "</table>\n",
       "</div>"
      ],
      "text/plain": [
       "       category                                            context  \\\n",
       "674   translate                                                      \n",
       "1699        RAG  GadgetStore, Chitwan-1, Narayanghat bata saman...   \n",
       "1282     alpaca                                                      \n",
       "1315        RAG  Product available: Samsung 32-inch TV, Price: ...   \n",
       "1210        RAG  Smart Electronics le festive sale ma 5% discou...   \n",
       "1636    open_qa                                                      \n",
       "613     open_qa                                                      \n",
       "447         RAG  Nepal has immense potential for eco-tourism, w...   \n",
       "1131  translate                                                      \n",
       "808     open_qa                                                      \n",
       "\n",
       "                                               question  \\\n",
       "674                       Mero sapana sansar ghumnu ho.   \n",
       "1699  Tapaiharu le Kathmandu ma free delivery dinu h...   \n",
       "1282  Mero travel vlog ko script banauna help gara. ...   \n",
       "1315               Samsung 32-inch TV ko price kati ho?   \n",
       "1210                 Festive sale ma kati discount cha?   \n",
       "1636                                             Hi bot   \n",
       "613   Tapai email kasari pathaunuhuncha? Steps batau...   \n",
       "447   Nepal ma eco-tourism ko sambhavana ko barema b...   \n",
       "1131  Malai aaja football khelne ichcha cha. Sathi h...   \n",
       "808                   Nepali culture ko khasiyat ke ho?   \n",
       "\n",
       "                                               response  \\\n",
       "674                    My dream is to travel the world.   \n",
       "1699  Ho, Kathmandu ko Upatyaka bhitra free delivery...   \n",
       "1282  Namaste, everyone! Aaja hamile Pokhara ma chha...   \n",
       "1315  Hami sanga Samsung 32-inch TV ko price Rs. 150...   \n",
       "1210  Festive sale ma 5% discount cha, tara limited ...   \n",
       "1636  Namaste! Ma tapai ko virtual assistant ho. Aba...   \n",
       "613   Email app kholnus, compose button click garnus...   \n",
       "447   Nepal ma eco-tourism ko dherai sambhavana cha,...   \n",
       "1131  I feel like playing football today. I’ll plan ...   \n",
       "808   Nepali culture diverse ani rich cha. Harek jat...   \n",
       "\n",
       "                                            instruction  \\\n",
       "674    Translate the text below from Nepali to English:   \n",
       "1699  Answer the following question by looking at th...   \n",
       "1282                                                      \n",
       "1315  Answer the following question by looking at th...   \n",
       "1210  Answer the following question by looking at th...   \n",
       "1636  You are a helpful assistant. Answer the given ...   \n",
       "613   You are a helpful assistant. Answer the given ...   \n",
       "447   Answer the following question by looking at th...   \n",
       "1131   Translate the text below from Nepali to English:   \n",
       "808   You are a helpful assistant. Answer the given ...   \n",
       "\n",
       "                                                 prompt  \n",
       "674   <start_of_turn>system\\nYou are helpful AI Assi...  \n",
       "1699  <start_of_turn>system\\nYou are an AI assistant...  \n",
       "1282  <start_of_turn>system\\nYou are helpful AI Assi...  \n",
       "1315  <start_of_turn>system\\nYou are an AI assistant...  \n",
       "1210  <start_of_turn>system\\nYou are an AI assistant...  \n",
       "1636  <start_of_turn>system\\nYou are helpful AI Assi...  \n",
       "613   <start_of_turn>system\\nYou are helpful AI Assi...  \n",
       "447   <start_of_turn>system\\nYou are an AI assistant...  \n",
       "1131  <start_of_turn>system\\nYou are helpful AI Assi...  \n",
       "808   <start_of_turn>system\\nYou are helpful AI Assi...  "
      ]
     },
     "execution_count": 9,
     "metadata": {},
     "output_type": "execute_result"
    }
   ],
   "source": [
    "df_sample.head(10)"
   ]
  },
  {
   "cell_type": "code",
   "execution_count": 11,
   "metadata": {},
   "outputs": [
    {
     "data": {
      "text/plain": [
       "category\n",
       "RAG          721\n",
       "alpaca       480\n",
       "translate    442\n",
       "open_qa      330\n",
       "summary       27\n",
       "Name: count, dtype: int64"
      ]
     },
     "execution_count": 11,
     "metadata": {},
     "output_type": "execute_result"
    }
   ],
   "source": [
    "df[\"category\"].value_counts()"
   ]
  },
  {
   "cell_type": "code",
   "execution_count": 10,
   "metadata": {},
   "outputs": [
    {
     "data": {
      "text/plain": [
       "category\n",
       "RAG          76\n",
       "alpaca       49\n",
       "translate    39\n",
       "open_qa      36\n",
       "Name: count, dtype: int64"
      ]
     },
     "execution_count": 10,
     "metadata": {},
     "output_type": "execute_result"
    }
   ],
   "source": [
    "df_sample[\"category\"].value_counts()"
   ]
  },
  {
   "cell_type": "code",
   "execution_count": 28,
   "metadata": {},
   "outputs": [
    {
     "name": "stdout",
     "output_type": "stream",
     "text": [
      "<start_of_turn>system\n",
      "You are helpful AI Assistant follow the user instruction.<end_of_turn>\n",
      "<start_of_turn>user\n",
      "Translate the text below from Nepali to English:\n",
      "Mero sapana sansar ghumnu ho.<end_of_turn>\n",
      "<end_of_turn>model\n",
      "\n"
     ]
    }
   ],
   "source": [
    "print(df_sample.iloc[0][\"prompt\"].split(\"<start_of_turn>model\")[0] + \"<end_of_turn>model\\n\")"
   ]
  },
  {
   "cell_type": "code",
   "execution_count": 34,
   "metadata": {},
   "outputs": [],
   "source": [
    "def format_eval_prompt(example):\n",
    "    example['eval_prompt'] = example['prompt'].split('<start_of_turn>model')[0] + '<end_of_turn>model\\n'\n",
    "    return example\n",
    "\n",
    "df_sample = df_sample.apply(format_eval_prompt, axis=1)"
   ]
  },
  {
   "cell_type": "code",
   "execution_count": 35,
   "metadata": {},
   "outputs": [
    {
     "data": {
      "text/html": [
       "<div>\n",
       "<style scoped>\n",
       "    .dataframe tbody tr th:only-of-type {\n",
       "        vertical-align: middle;\n",
       "    }\n",
       "\n",
       "    .dataframe tbody tr th {\n",
       "        vertical-align: top;\n",
       "    }\n",
       "\n",
       "    .dataframe thead th {\n",
       "        text-align: right;\n",
       "    }\n",
       "</style>\n",
       "<table border=\"1\" class=\"dataframe\">\n",
       "  <thead>\n",
       "    <tr style=\"text-align: right;\">\n",
       "      <th></th>\n",
       "      <th>category</th>\n",
       "      <th>context</th>\n",
       "      <th>question</th>\n",
       "      <th>response</th>\n",
       "      <th>instruction</th>\n",
       "      <th>prompt</th>\n",
       "      <th>eval_prompt</th>\n",
       "    </tr>\n",
       "  </thead>\n",
       "  <tbody>\n",
       "    <tr>\n",
       "      <th>1073</th>\n",
       "      <td>RAG</td>\n",
       "      <td>Nepal ko sabai bhanda ujjwal barta Lumbini ho,...</td>\n",
       "      <td>Nepal ko sabai bhanda ujjwal barta k ho?</td>\n",
       "      <td>Nepal ko sabai bhanda ujjwal barta Lumbini ho.</td>\n",
       "      <td>Answer the following question by looking at th...</td>\n",
       "      <td>&lt;start_of_turn&gt;system\\nYou are an AI assistant...</td>\n",
       "      <td>&lt;start_of_turn&gt;system\\nYou are an AI assistant...</td>\n",
       "    </tr>\n",
       "    <tr>\n",
       "      <th>1926</th>\n",
       "      <td>alpaca</td>\n",
       "      <td></td>\n",
       "      <td>Yo sentence lai Roman Nepali ma correct gara: ...</td>\n",
       "      <td>Usko ghar ma dherai manche haru chan.</td>\n",
       "      <td></td>\n",
       "      <td>&lt;start_of_turn&gt;system\\nYou are helpful AI Assi...</td>\n",
       "      <td>&lt;start_of_turn&gt;system\\nYou are helpful AI Assi...</td>\n",
       "    </tr>\n",
       "    <tr>\n",
       "      <th>510</th>\n",
       "      <td>alpaca</td>\n",
       "      <td>Dashain</td>\n",
       "      <td>Nepali ma festival barema lekha.</td>\n",
       "      <td>Dashain Nepal ko sabai bhanda thulo chha. Yo f...</td>\n",
       "      <td></td>\n",
       "      <td>&lt;start_of_turn&gt;system\\nYou are helpful AI Assi...</td>\n",
       "      <td>&lt;start_of_turn&gt;system\\nYou are helpful AI Assi...</td>\n",
       "    </tr>\n",
       "    <tr>\n",
       "      <th>1264</th>\n",
       "      <td>RAG</td>\n",
       "      <td>Kathmandu valley bhitra expedited delivery cha...</td>\n",
       "      <td>Kathmandu bhitra expedited delivery charge kat...</td>\n",
       "      <td>Kathmandu valley bhitra expedited delivery cha...</td>\n",
       "      <td>Answer the following question by looking at th...</td>\n",
       "      <td>&lt;start_of_turn&gt;system\\nYou are an AI assistant...</td>\n",
       "      <td>&lt;start_of_turn&gt;system\\nYou are an AI assistant...</td>\n",
       "    </tr>\n",
       "    <tr>\n",
       "      <th>1406</th>\n",
       "      <td>RAG</td>\n",
       "      <td>Digital wallet ko payment Nepal ma dherai popu...</td>\n",
       "      <td>mobile wallet use garna milxa?</td>\n",
       "      <td>Hajur, tapai le esewa ra khalti jasta mobile w...</td>\n",
       "      <td>Answer the following question by looking at th...</td>\n",
       "      <td>&lt;start_of_turn&gt;system\\nYou are an AI assistant...</td>\n",
       "      <td>&lt;start_of_turn&gt;system\\nYou are an AI assistant...</td>\n",
       "    </tr>\n",
       "  </tbody>\n",
       "</table>\n",
       "</div>"
      ],
      "text/plain": [
       "     category                                            context  \\\n",
       "1073      RAG  Nepal ko sabai bhanda ujjwal barta Lumbini ho,...   \n",
       "1926   alpaca                                                      \n",
       "510    alpaca                                            Dashain   \n",
       "1264      RAG  Kathmandu valley bhitra expedited delivery cha...   \n",
       "1406      RAG  Digital wallet ko payment Nepal ma dherai popu...   \n",
       "\n",
       "                                               question  \\\n",
       "1073           Nepal ko sabai bhanda ujjwal barta k ho?   \n",
       "1926  Yo sentence lai Roman Nepali ma correct gara: ...   \n",
       "510                    Nepali ma festival barema lekha.   \n",
       "1264  Kathmandu bhitra expedited delivery charge kat...   \n",
       "1406                     mobile wallet use garna milxa?   \n",
       "\n",
       "                                               response  \\\n",
       "1073     Nepal ko sabai bhanda ujjwal barta Lumbini ho.   \n",
       "1926              Usko ghar ma dherai manche haru chan.   \n",
       "510   Dashain Nepal ko sabai bhanda thulo chha. Yo f...   \n",
       "1264  Kathmandu valley bhitra expedited delivery cha...   \n",
       "1406  Hajur, tapai le esewa ra khalti jasta mobile w...   \n",
       "\n",
       "                                            instruction  \\\n",
       "1073  Answer the following question by looking at th...   \n",
       "1926                                                      \n",
       "510                                                       \n",
       "1264  Answer the following question by looking at th...   \n",
       "1406  Answer the following question by looking at th...   \n",
       "\n",
       "                                                 prompt  \\\n",
       "1073  <start_of_turn>system\\nYou are an AI assistant...   \n",
       "1926  <start_of_turn>system\\nYou are helpful AI Assi...   \n",
       "510   <start_of_turn>system\\nYou are helpful AI Assi...   \n",
       "1264  <start_of_turn>system\\nYou are an AI assistant...   \n",
       "1406  <start_of_turn>system\\nYou are an AI assistant...   \n",
       "\n",
       "                                            eval_prompt  \n",
       "1073  <start_of_turn>system\\nYou are an AI assistant...  \n",
       "1926  <start_of_turn>system\\nYou are helpful AI Assi...  \n",
       "510   <start_of_turn>system\\nYou are helpful AI Assi...  \n",
       "1264  <start_of_turn>system\\nYou are an AI assistant...  \n",
       "1406  <start_of_turn>system\\nYou are an AI assistant...  "
      ]
     },
     "execution_count": 35,
     "metadata": {},
     "output_type": "execute_result"
    }
   ],
   "source": [
    "df_sample.sample(5)"
   ]
  },
  {
   "cell_type": "code",
   "execution_count": 36,
   "metadata": {},
   "outputs": [
    {
     "name": "stdout",
     "output_type": "stream",
     "text": [
      "<start_of_turn>system\n",
      "You are helpful AI Assistant follow the user instruction.<end_of_turn>\n",
      "<start_of_turn>user\n",
      "Write a Roman Nepali conversation between two friends discussing their dream vacations.<end_of_turn>\n",
      "<end_of_turn>model\n",
      "\n"
     ]
    }
   ],
   "source": [
    "print(df_sample.iloc[100][\"eval_prompt\"])"
   ]
  },
  {
   "cell_type": "code",
   "execution_count": 37,
   "metadata": {},
   "outputs": [],
   "source": [
    "df_sample.to_csv(\"eval_dataset.csv\", index=False)"
   ]
  }
 ],
 "metadata": {
  "kernelspec": {
   "display_name": "Python 3",
   "language": "python",
   "name": "python3"
  },
  "language_info": {
   "codemirror_mode": {
    "name": "ipython",
    "version": 3
   },
   "file_extension": ".py",
   "mimetype": "text/x-python",
   "name": "python",
   "nbconvert_exporter": "python",
   "pygments_lexer": "ipython3",
   "version": "3.12.1"
  }
 },
 "nbformat": 4,
 "nbformat_minor": 2
}
