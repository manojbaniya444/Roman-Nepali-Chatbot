{
 "cells": [
  {
   "cell_type": "markdown",
   "metadata": {},
   "source": [
    "## Format dataset v4"
   ]
  },
  {
   "cell_type": "code",
   "execution_count": 1,
   "metadata": {},
   "outputs": [],
   "source": [
    "import pandas as pd"
   ]
  },
  {
   "cell_type": "code",
   "execution_count": 2,
   "metadata": {},
   "outputs": [],
   "source": [
    "new_df = pd.read_csv(\"./version_4.csv\")"
   ]
  },
  {
   "cell_type": "code",
   "execution_count": 3,
   "metadata": {},
   "outputs": [
    {
     "data": {
      "text/html": [
       "<div>\n",
       "<style scoped>\n",
       "    .dataframe tbody tr th:only-of-type {\n",
       "        vertical-align: middle;\n",
       "    }\n",
       "\n",
       "    .dataframe tbody tr th {\n",
       "        vertical-align: top;\n",
       "    }\n",
       "\n",
       "    .dataframe thead th {\n",
       "        text-align: right;\n",
       "    }\n",
       "</style>\n",
       "<table border=\"1\" class=\"dataframe\">\n",
       "  <thead>\n",
       "    <tr style=\"text-align: right;\">\n",
       "      <th></th>\n",
       "      <th>category</th>\n",
       "      <th>context</th>\n",
       "      <th>question</th>\n",
       "      <th>response</th>\n",
       "    </tr>\n",
       "  </thead>\n",
       "  <tbody>\n",
       "    <tr>\n",
       "      <th>237</th>\n",
       "      <td>RAG</td>\n",
       "      <td>Hamro ma minimum order Rs. 500 hunuparcha free...</td>\n",
       "      <td>minimum order amount delivery ko lagi kati hun...</td>\n",
       "      <td>Free delivery ko lagi minimum order Rs. 500 hu...</td>\n",
       "    </tr>\n",
       "    <tr>\n",
       "      <th>164</th>\n",
       "      <td>RAG</td>\n",
       "      <td>Hamro system khalti ko maddat le payment suppo...</td>\n",
       "      <td>khalti ko through payment huncha?</td>\n",
       "      <td>Tapai khalti bata payment garna saknu hunxa.</td>\n",
       "    </tr>\n",
       "    <tr>\n",
       "      <th>152</th>\n",
       "      <td>RAG</td>\n",
       "      <td>Hamro system credit card accept garxau.</td>\n",
       "      <td>credit card bata payment garna milcha?</td>\n",
       "      <td>Tapai credit card ko maddat le payment garna s...</td>\n",
       "    </tr>\n",
       "    <tr>\n",
       "      <th>594</th>\n",
       "      <td>RAG</td>\n",
       "      <td>Product Details: name: JBL Flip 6, price: 1200...</td>\n",
       "      <td>JBL Flip 6 stock ma xa?</td>\n",
       "      <td>Hajur, JBL Flip 6 stock ma available xa.</td>\n",
       "    </tr>\n",
       "    <tr>\n",
       "      <th>11</th>\n",
       "      <td>RAG</td>\n",
       "      <td>Hami esewa, khalti, mobile banking, ra card pa...</td>\n",
       "      <td>kun kun payment method xa?</td>\n",
       "      <td>Tapai le esewa, khalti, mobile banking, ya car...</td>\n",
       "    </tr>\n",
       "    <tr>\n",
       "      <th>986</th>\n",
       "      <td>RAG</td>\n",
       "      <td>Hamro store 'Gift World' ho, hamro store Dhank...</td>\n",
       "      <td>Store ma k k available xa?</td>\n",
       "      <td>Hamro store ma gift boxes, greeting cards, can...</td>\n",
       "    </tr>\n",
       "    <tr>\n",
       "      <th>1184</th>\n",
       "      <td>RAG</td>\n",
       "      <td>You are an AI assistant for an e-commerce stor...</td>\n",
       "      <td>timi ko hau?</td>\n",
       "      <td>ma ek e-commerce assistant hu.</td>\n",
       "    </tr>\n",
       "    <tr>\n",
       "      <th>131</th>\n",
       "      <td>RAG</td>\n",
       "      <td>Hamro system debit ra credit card accept garxau.</td>\n",
       "      <td>credit card le pay garna milcha?</td>\n",
       "      <td>Tapai credit card ko maddat le payment garna s...</td>\n",
       "    </tr>\n",
       "    <tr>\n",
       "      <th>633</th>\n",
       "      <td>RAG</td>\n",
       "      <td>Product Details: name: DJI Mini 3 Pro, price: ...</td>\n",
       "      <td>DJI Mini 3 Pro ko price kati ho?</td>\n",
       "      <td>DJI Mini 3 Pro ko price Rs. 120000 ho.</td>\n",
       "    </tr>\n",
       "    <tr>\n",
       "      <th>561</th>\n",
       "      <td>RAG</td>\n",
       "      <td>Product Details: name: Apple Watch Series 8, p...</td>\n",
       "      <td>Apple Watch Series 8 ko description ma k k xa?</td>\n",
       "      <td>Apple Watch Series 8 ko description ma 45mm GP...</td>\n",
       "    </tr>\n",
       "  </tbody>\n",
       "</table>\n",
       "</div>"
      ],
      "text/plain": [
       "     category                                            context  \\\n",
       "237       RAG  Hamro ma minimum order Rs. 500 hunuparcha free...   \n",
       "164       RAG  Hamro system khalti ko maddat le payment suppo...   \n",
       "152       RAG            Hamro system credit card accept garxau.   \n",
       "594       RAG  Product Details: name: JBL Flip 6, price: 1200...   \n",
       "11        RAG  Hami esewa, khalti, mobile banking, ra card pa...   \n",
       "986       RAG  Hamro store 'Gift World' ho, hamro store Dhank...   \n",
       "1184      RAG  You are an AI assistant for an e-commerce stor...   \n",
       "131       RAG   Hamro system debit ra credit card accept garxau.   \n",
       "633       RAG  Product Details: name: DJI Mini 3 Pro, price: ...   \n",
       "561       RAG  Product Details: name: Apple Watch Series 8, p...   \n",
       "\n",
       "                                               question  \\\n",
       "237   minimum order amount delivery ko lagi kati hun...   \n",
       "164                   khalti ko through payment huncha?   \n",
       "152              credit card bata payment garna milcha?   \n",
       "594                             JBL Flip 6 stock ma xa?   \n",
       "11                           kun kun payment method xa?   \n",
       "986                          Store ma k k available xa?   \n",
       "1184                                       timi ko hau?   \n",
       "131                    credit card le pay garna milcha?   \n",
       "633                    DJI Mini 3 Pro ko price kati ho?   \n",
       "561      Apple Watch Series 8 ko description ma k k xa?   \n",
       "\n",
       "                                               response  \n",
       "237   Free delivery ko lagi minimum order Rs. 500 hu...  \n",
       "164        Tapai khalti bata payment garna saknu hunxa.  \n",
       "152   Tapai credit card ko maddat le payment garna s...  \n",
       "594            Hajur, JBL Flip 6 stock ma available xa.  \n",
       "11    Tapai le esewa, khalti, mobile banking, ya car...  \n",
       "986   Hamro store ma gift boxes, greeting cards, can...  \n",
       "1184                     ma ek e-commerce assistant hu.  \n",
       "131   Tapai credit card ko maddat le payment garna s...  \n",
       "633              DJI Mini 3 Pro ko price Rs. 120000 ho.  \n",
       "561   Apple Watch Series 8 ko description ma 45mm GP...  "
      ]
     },
     "execution_count": 3,
     "metadata": {},
     "output_type": "execute_result"
    }
   ],
   "source": [
    "new_df.sample(10)"
   ]
  },
  {
   "cell_type": "code",
   "execution_count": 4,
   "metadata": {},
   "outputs": [
    {
     "data": {
      "text/plain": [
       "(1252, 4)"
      ]
     },
     "execution_count": 4,
     "metadata": {},
     "output_type": "execute_result"
    }
   ],
   "source": [
    "new_df.shape"
   ]
  },
  {
   "cell_type": "code",
   "execution_count": 5,
   "metadata": {},
   "outputs": [],
   "source": [
    "old_df = pd.read_csv(\"./v3_fine_tune.csv\")"
   ]
  },
  {
   "cell_type": "code",
   "execution_count": 6,
   "metadata": {},
   "outputs": [
    {
     "data": {
      "text/plain": [
       "(16614, 5)"
      ]
     },
     "execution_count": 6,
     "metadata": {},
     "output_type": "execute_result"
    }
   ],
   "source": [
    "old_df.shape"
   ]
  },
  {
   "cell_type": "code",
   "execution_count": 7,
   "metadata": {},
   "outputs": [],
   "source": [
    "df_combined = pd.concat([new_df, old_df], ignore_index=True)"
   ]
  },
  {
   "cell_type": "code",
   "execution_count": 8,
   "metadata": {},
   "outputs": [
    {
     "data": {
      "text/plain": [
       "(17866, 5)"
      ]
     },
     "execution_count": 8,
     "metadata": {},
     "output_type": "execute_result"
    }
   ],
   "source": [
    "df_combined.shape"
   ]
  },
  {
   "cell_type": "code",
   "execution_count": 9,
   "metadata": {},
   "outputs": [],
   "source": [
    "df_combine_shuffled = df_combined.sample(frac=1).reset_index(drop=True)"
   ]
  },
  {
   "cell_type": "code",
   "execution_count": 10,
   "metadata": {},
   "outputs": [
    {
     "data": {
      "text/plain": [
       "(17866, 5)"
      ]
     },
     "execution_count": 10,
     "metadata": {},
     "output_type": "execute_result"
    }
   ],
   "source": [
    "df_combine_shuffled.shape"
   ]
  },
  {
   "cell_type": "code",
   "execution_count": 11,
   "metadata": {},
   "outputs": [
    {
     "data": {
      "text/html": [
       "<div>\n",
       "<style scoped>\n",
       "    .dataframe tbody tr th:only-of-type {\n",
       "        vertical-align: middle;\n",
       "    }\n",
       "\n",
       "    .dataframe tbody tr th {\n",
       "        vertical-align: top;\n",
       "    }\n",
       "\n",
       "    .dataframe thead th {\n",
       "        text-align: right;\n",
       "    }\n",
       "</style>\n",
       "<table border=\"1\" class=\"dataframe\">\n",
       "  <thead>\n",
       "    <tr style=\"text-align: right;\">\n",
       "      <th></th>\n",
       "      <th>category</th>\n",
       "      <th>context</th>\n",
       "      <th>question</th>\n",
       "      <th>response</th>\n",
       "      <th>instruction</th>\n",
       "    </tr>\n",
       "  </thead>\n",
       "  <tbody>\n",
       "    <tr>\n",
       "      <th>1444</th>\n",
       "      <td>translate</td>\n",
       "      <td>NaN</td>\n",
       "      <td>Tyo kaam ko progress timely track garna import...</td>\n",
       "      <td>Itâ€™s important to track the progress of that...</td>\n",
       "      <td>Translate the given text from Roman Nepali lan...</td>\n",
       "    </tr>\n",
       "    <tr>\n",
       "      <th>1085</th>\n",
       "      <td>translate</td>\n",
       "      <td></td>\n",
       "      <td>Healthy work-life balance ko benefits ma stres...</td>\n",
       "      <td>The benefits of a healthy work-life balance in...</td>\n",
       "      <td>Translate the text below from Nepali to English:</td>\n",
       "    </tr>\n",
       "    <tr>\n",
       "      <th>14269</th>\n",
       "      <td>RAG</td>\n",
       "      <td>Hamro Digital Mart ma laptops, gaming keyboard...</td>\n",
       "      <td>Tapaiko laptops ma k discount chha?</td>\n",
       "      <td>Aaile laptops ma 15% discount cha.</td>\n",
       "      <td>Answer the following question by looking at th...</td>\n",
       "    </tr>\n",
       "    <tr>\n",
       "      <th>10650</th>\n",
       "      <td>translate</td>\n",
       "      <td>NaN</td>\n",
       "      <td>Maile chai aba chai ramailo mood ma chu.</td>\n",
       "      <td>I am in a cheerful mood now.</td>\n",
       "      <td>Translate the given text from Roman Nepali lan...</td>\n",
       "    </tr>\n",
       "    <tr>\n",
       "      <th>419</th>\n",
       "      <td>alpaca</td>\n",
       "      <td>NaN</td>\n",
       "      <td>Yo question ko answer deu: 'Kathmandu bata Pok...</td>\n",
       "      <td>Kathmandu bata Pokhara samma bus le lagbhag 6-...</td>\n",
       "      <td>NaN</td>\n",
       "    </tr>\n",
       "    <tr>\n",
       "      <th>14733</th>\n",
       "      <td>RAG</td>\n",
       "      <td>Delivery time 3-5 din ko cha, ra sabai orders ...</td>\n",
       "      <td>Maile product kinisakepachi return garna paryo...</td>\n",
       "      <td>Tapai le product return garna parcha bhane 7 d...</td>\n",
       "      <td>Answer the following question by looking at th...</td>\n",
       "    </tr>\n",
       "    <tr>\n",
       "      <th>7497</th>\n",
       "      <td>translate</td>\n",
       "      <td></td>\n",
       "      <td>Aaja mero gadi ma petrol sakiyo. Petrol pump m...</td>\n",
       "      <td>Today my car ran out of petrol. I need to go t...</td>\n",
       "      <td>Translate the text below from Nepali to English:</td>\n",
       "    </tr>\n",
       "    <tr>\n",
       "      <th>15596</th>\n",
       "      <td>open_qa</td>\n",
       "      <td>NaN</td>\n",
       "      <td>Nepali samajik sadbhawana ka ek udaharan ra ty...</td>\n",
       "      <td>Dashain ek udaharan ho, junle sabai dharma, ja...</td>\n",
       "      <td>You are a helpful assistant. Answer the given ...</td>\n",
       "    </tr>\n",
       "    <tr>\n",
       "      <th>2955</th>\n",
       "      <td>RAG</td>\n",
       "      <td>Hamro delivery service Nepal bhar available xa...</td>\n",
       "      <td>Nepal bhar delivery hunxa?</td>\n",
       "      <td>Ho, Nepal bhar delivery available xa. City vit...</td>\n",
       "      <td>NaN</td>\n",
       "    </tr>\n",
       "    <tr>\n",
       "      <th>17114</th>\n",
       "      <td>alpaca</td>\n",
       "      <td>NaN</td>\n",
       "      <td>Mero lagi ek travel plan banaunus Chitwan Nati...</td>\n",
       "      <td>Day 1: Elephant safari, Day 2: Jungle walk ra ...</td>\n",
       "      <td>NaN</td>\n",
       "    </tr>\n",
       "    <tr>\n",
       "      <th>410</th>\n",
       "      <td>RAG</td>\n",
       "      <td>Product: Asus VivoBook 15, Price: 65000, Featu...</td>\n",
       "      <td>Asus VivoBook laptop ko dam kati ho?</td>\n",
       "      <td>Asus VivoBook 15 laptop ko price 65000 ho. Ism...</td>\n",
       "      <td>Answer the question using the context if it is...</td>\n",
       "    </tr>\n",
       "    <tr>\n",
       "      <th>6768</th>\n",
       "      <td>open_qa</td>\n",
       "      <td>NaN</td>\n",
       "      <td>Internet connection slow bhaeko bela kasari fi...</td>\n",
       "      <td>Internet connection slow bhaeko bela router re...</td>\n",
       "      <td>You are a helpful assistant. Answer the given ...</td>\n",
       "    </tr>\n",
       "    <tr>\n",
       "      <th>1242</th>\n",
       "      <td>RAG</td>\n",
       "      <td>Same day delivery ko lagi Rs. 300 extra charge...</td>\n",
       "      <td>same day delivery kati ko hunxa?</td>\n",
       "      <td>Same day delivery Rs. 300 ko hunxa ra city vit...</td>\n",
       "      <td>NaN</td>\n",
       "    </tr>\n",
       "    <tr>\n",
       "      <th>6564</th>\n",
       "      <td>RAG</td>\n",
       "      <td>Hamro delivery service Dharan vitra free hunxa...</td>\n",
       "      <td>delivery kati din ma garincha Dharan bahira?</td>\n",
       "      <td>Dharan bahira delivery 2-3 din ma garincha.</td>\n",
       "      <td>NaN</td>\n",
       "    </tr>\n",
       "    <tr>\n",
       "      <th>1402</th>\n",
       "      <td>translate</td>\n",
       "      <td></td>\n",
       "      <td>Aaja mero mobile ma naya game download gareko ...</td>\n",
       "      <td>Today I downloaded a new game on my phone. It’...</td>\n",
       "      <td>Translate the text below from Nepali to English:</td>\n",
       "    </tr>\n",
       "    <tr>\n",
       "      <th>12721</th>\n",
       "      <td>RAG</td>\n",
       "      <td>You are an AI assistant for an e-commerce stor...</td>\n",
       "      <td>timi ko hau?</td>\n",
       "      <td>ma ek e-commerce assistant hu.</td>\n",
       "      <td>NaN</td>\n",
       "    </tr>\n",
       "    <tr>\n",
       "      <th>5704</th>\n",
       "      <td>RAG</td>\n",
       "      <td>Product Details: name: Fujifilm X-T4, price: 1...</td>\n",
       "      <td>Fujifilm X-T4 ko price kati ho?</td>\n",
       "      <td>Fujifilm X-T4 ko price Rs. 180000 ho.</td>\n",
       "      <td>NaN</td>\n",
       "    </tr>\n",
       "    <tr>\n",
       "      <th>111</th>\n",
       "      <td>open_qa</td>\n",
       "      <td>NaN</td>\n",
       "      <td>Nepal ko climate kasto diverse chha?</td>\n",
       "      <td>Nepal ko climate ekdum diverse chha. Terai reg...</td>\n",
       "      <td>You are a helpful AI assistant. Answer the use...</td>\n",
       "    </tr>\n",
       "    <tr>\n",
       "      <th>9873</th>\n",
       "      <td>alpaca</td>\n",
       "      <td>Topic: Nature</td>\n",
       "      <td>Nepali ma poem lekha.</td>\n",
       "      <td>Hariyo ban, ujyalo pahad,\\nNepal ko dharti ma ...</td>\n",
       "      <td>NaN</td>\n",
       "    </tr>\n",
       "    <tr>\n",
       "      <th>9389</th>\n",
       "      <td>open_qa</td>\n",
       "      <td>NaN</td>\n",
       "      <td>Osteoporosis ko lakshan haru ke ke hun?</td>\n",
       "      <td>Osteoporosis ko lakshan haru ma bone pain, fra...</td>\n",
       "      <td>You are a helpful AI assistant. Answer the use...</td>\n",
       "    </tr>\n",
       "  </tbody>\n",
       "</table>\n",
       "</div>"
      ],
      "text/plain": [
       "        category                                            context  \\\n",
       "1444   translate                                                NaN   \n",
       "1085   translate                                                      \n",
       "14269        RAG  Hamro Digital Mart ma laptops, gaming keyboard...   \n",
       "10650  translate                                                NaN   \n",
       "419       alpaca                                                NaN   \n",
       "14733        RAG  Delivery time 3-5 din ko cha, ra sabai orders ...   \n",
       "7497   translate                                                      \n",
       "15596    open_qa                                                NaN   \n",
       "2955         RAG  Hamro delivery service Nepal bhar available xa...   \n",
       "17114     alpaca                                                NaN   \n",
       "410          RAG  Product: Asus VivoBook 15, Price: 65000, Featu...   \n",
       "6768     open_qa                                                NaN   \n",
       "1242         RAG  Same day delivery ko lagi Rs. 300 extra charge...   \n",
       "6564         RAG  Hamro delivery service Dharan vitra free hunxa...   \n",
       "1402   translate                                                      \n",
       "12721        RAG  You are an AI assistant for an e-commerce stor...   \n",
       "5704         RAG  Product Details: name: Fujifilm X-T4, price: 1...   \n",
       "111      open_qa                                                NaN   \n",
       "9873      alpaca                                      Topic: Nature   \n",
       "9389     open_qa                                                NaN   \n",
       "\n",
       "                                                question  \\\n",
       "1444   Tyo kaam ko progress timely track garna import...   \n",
       "1085   Healthy work-life balance ko benefits ma stres...   \n",
       "14269                Tapaiko laptops ma k discount chha?   \n",
       "10650           Maile chai aba chai ramailo mood ma chu.   \n",
       "419    Yo question ko answer deu: 'Kathmandu bata Pok...   \n",
       "14733  Maile product kinisakepachi return garna paryo...   \n",
       "7497   Aaja mero gadi ma petrol sakiyo. Petrol pump m...   \n",
       "15596  Nepali samajik sadbhawana ka ek udaharan ra ty...   \n",
       "2955                          Nepal bhar delivery hunxa?   \n",
       "17114  Mero lagi ek travel plan banaunus Chitwan Nati...   \n",
       "410                 Asus VivoBook laptop ko dam kati ho?   \n",
       "6768   Internet connection slow bhaeko bela kasari fi...   \n",
       "1242                    same day delivery kati ko hunxa?   \n",
       "6564        delivery kati din ma garincha Dharan bahira?   \n",
       "1402   Aaja mero mobile ma naya game download gareko ...   \n",
       "12721                                       timi ko hau?   \n",
       "5704                     Fujifilm X-T4 ko price kati ho?   \n",
       "111                 Nepal ko climate kasto diverse chha?   \n",
       "9873                               Nepali ma poem lekha.   \n",
       "9389             Osteoporosis ko lakshan haru ke ke hun?   \n",
       "\n",
       "                                                response  \\\n",
       "1444   Itâ€™s important to track the progress of that...   \n",
       "1085   The benefits of a healthy work-life balance in...   \n",
       "14269                 Aaile laptops ma 15% discount cha.   \n",
       "10650                       I am in a cheerful mood now.   \n",
       "419    Kathmandu bata Pokhara samma bus le lagbhag 6-...   \n",
       "14733  Tapai le product return garna parcha bhane 7 d...   \n",
       "7497   Today my car ran out of petrol. I need to go t...   \n",
       "15596  Dashain ek udaharan ho, junle sabai dharma, ja...   \n",
       "2955   Ho, Nepal bhar delivery available xa. City vit...   \n",
       "17114  Day 1: Elephant safari, Day 2: Jungle walk ra ...   \n",
       "410    Asus VivoBook 15 laptop ko price 65000 ho. Ism...   \n",
       "6768   Internet connection slow bhaeko bela router re...   \n",
       "1242   Same day delivery Rs. 300 ko hunxa ra city vit...   \n",
       "6564         Dharan bahira delivery 2-3 din ma garincha.   \n",
       "1402   Today I downloaded a new game on my phone. It’...   \n",
       "12721                     ma ek e-commerce assistant hu.   \n",
       "5704               Fujifilm X-T4 ko price Rs. 180000 ho.   \n",
       "111    Nepal ko climate ekdum diverse chha. Terai reg...   \n",
       "9873   Hariyo ban, ujyalo pahad,\\nNepal ko dharti ma ...   \n",
       "9389   Osteoporosis ko lakshan haru ma bone pain, fra...   \n",
       "\n",
       "                                             instruction  \n",
       "1444   Translate the given text from Roman Nepali lan...  \n",
       "1085    Translate the text below from Nepali to English:  \n",
       "14269  Answer the following question by looking at th...  \n",
       "10650  Translate the given text from Roman Nepali lan...  \n",
       "419                                                  NaN  \n",
       "14733  Answer the following question by looking at th...  \n",
       "7497    Translate the text below from Nepali to English:  \n",
       "15596  You are a helpful assistant. Answer the given ...  \n",
       "2955                                                 NaN  \n",
       "17114                                                NaN  \n",
       "410    Answer the question using the context if it is...  \n",
       "6768   You are a helpful assistant. Answer the given ...  \n",
       "1242                                                 NaN  \n",
       "6564                                                 NaN  \n",
       "1402    Translate the text below from Nepali to English:  \n",
       "12721                                                NaN  \n",
       "5704                                                 NaN  \n",
       "111    You are a helpful AI assistant. Answer the use...  \n",
       "9873                                                 NaN  \n",
       "9389   You are a helpful AI assistant. Answer the use...  "
      ]
     },
     "execution_count": 11,
     "metadata": {},
     "output_type": "execute_result"
    }
   ],
   "source": [
    "df_combine_shuffled.sample(20)"
   ]
  },
  {
   "cell_type": "code",
   "execution_count": 12,
   "metadata": {},
   "outputs": [],
   "source": [
    "df_combine_shuffled.fillna(\" \", inplace=True)"
   ]
  },
  {
   "cell_type": "code",
   "execution_count": 13,
   "metadata": {},
   "outputs": [
    {
     "data": {
      "text/html": [
       "<div>\n",
       "<style scoped>\n",
       "    .dataframe tbody tr th:only-of-type {\n",
       "        vertical-align: middle;\n",
       "    }\n",
       "\n",
       "    .dataframe tbody tr th {\n",
       "        vertical-align: top;\n",
       "    }\n",
       "\n",
       "    .dataframe thead th {\n",
       "        text-align: right;\n",
       "    }\n",
       "</style>\n",
       "<table border=\"1\" class=\"dataframe\">\n",
       "  <thead>\n",
       "    <tr style=\"text-align: right;\">\n",
       "      <th></th>\n",
       "      <th>category</th>\n",
       "      <th>context</th>\n",
       "      <th>question</th>\n",
       "      <th>response</th>\n",
       "      <th>instruction</th>\n",
       "    </tr>\n",
       "  </thead>\n",
       "  <tbody>\n",
       "    <tr>\n",
       "      <th>2630</th>\n",
       "      <td>RAG</td>\n",
       "      <td>You are an AI assistant for an e-commerce stor...</td>\n",
       "      <td>timi mero ke sahayog garna sakchhau?</td>\n",
       "      <td>ma ek e-commerce assistant hu, hajur lai kasar...</td>\n",
       "      <td></td>\n",
       "    </tr>\n",
       "    <tr>\n",
       "      <th>16440</th>\n",
       "      <td>RAG</td>\n",
       "      <td>Nepal ko ek prasiddha sagarmatha Mount Everest...</td>\n",
       "      <td>Nepal ko ek prasiddha sagarmatha k ho?</td>\n",
       "      <td>Mount Everest, Nepal ko ek prasiddha sagarmath...</td>\n",
       "      <td>Answer the following question by looking at th...</td>\n",
       "    </tr>\n",
       "    <tr>\n",
       "      <th>1816</th>\n",
       "      <td>translate</td>\n",
       "      <td></td>\n",
       "      <td>road trip ko bela hamro car breakdown bhayo. a...</td>\n",
       "      <td>During the road trip, our car broke down. Now,...</td>\n",
       "      <td>Translate the given text in Nepali to English.</td>\n",
       "    </tr>\n",
       "    <tr>\n",
       "      <th>12092</th>\n",
       "      <td>open_qa</td>\n",
       "      <td></td>\n",
       "      <td>Volunteering ko practice le community developm...</td>\n",
       "      <td>Volunteering le local problems solve garna man...</td>\n",
       "      <td>You are a helpful AI assistant. Answer the use...</td>\n",
       "    </tr>\n",
       "    <tr>\n",
       "      <th>9516</th>\n",
       "      <td>alpaca</td>\n",
       "      <td></td>\n",
       "      <td>Yedi timro sathi le timilai 'I am feeling exci...</td>\n",
       "      <td>Ma uslai 'Kina excited bhayau? Share gara na' ...</td>\n",
       "      <td></td>\n",
       "    </tr>\n",
       "  </tbody>\n",
       "</table>\n",
       "</div>"
      ],
      "text/plain": [
       "        category                                            context  \\\n",
       "2630         RAG  You are an AI assistant for an e-commerce stor...   \n",
       "16440        RAG  Nepal ko ek prasiddha sagarmatha Mount Everest...   \n",
       "1816   translate                                                      \n",
       "12092    open_qa                                                      \n",
       "9516      alpaca                                                      \n",
       "\n",
       "                                                question  \\\n",
       "2630                timi mero ke sahayog garna sakchhau?   \n",
       "16440             Nepal ko ek prasiddha sagarmatha k ho?   \n",
       "1816   road trip ko bela hamro car breakdown bhayo. a...   \n",
       "12092  Volunteering ko practice le community developm...   \n",
       "9516   Yedi timro sathi le timilai 'I am feeling exci...   \n",
       "\n",
       "                                                response  \\\n",
       "2630   ma ek e-commerce assistant hu, hajur lai kasar...   \n",
       "16440  Mount Everest, Nepal ko ek prasiddha sagarmath...   \n",
       "1816   During the road trip, our car broke down. Now,...   \n",
       "12092  Volunteering le local problems solve garna man...   \n",
       "9516   Ma uslai 'Kina excited bhayau? Share gara na' ...   \n",
       "\n",
       "                                             instruction  \n",
       "2630                                                      \n",
       "16440  Answer the following question by looking at th...  \n",
       "1816      Translate the given text in Nepali to English.  \n",
       "12092  You are a helpful AI assistant. Answer the use...  \n",
       "9516                                                      "
      ]
     },
     "execution_count": 13,
     "metadata": {},
     "output_type": "execute_result"
    }
   ],
   "source": [
    "df_combine_shuffled.sample(5)"
   ]
  },
  {
   "cell_type": "code",
   "execution_count": 14,
   "metadata": {},
   "outputs": [
    {
     "data": {
      "text/plain": [
       "array(['RAG', 'open_qa', 'alpaca', 'translate', 'summary'], dtype=object)"
      ]
     },
     "execution_count": 14,
     "metadata": {},
     "output_type": "execute_result"
    }
   ],
   "source": [
    "df_combine_shuffled[\"category\"].unique()"
   ]
  },
  {
   "cell_type": "code",
   "execution_count": 15,
   "metadata": {},
   "outputs": [],
   "source": [
    "df_combine_shuffled.to_csv(\"fine_tune_no_prompt_final.csv\")"
   ]
  },
  {
   "cell_type": "markdown",
   "metadata": {},
   "source": [
    "## Format Prompt"
   ]
  },
  {
   "cell_type": "code",
   "execution_count": null,
   "metadata": {},
   "outputs": [],
   "source": [
    "def format_prompt(row):\n",
    "    if row[\"category\"] == \"RAG\":\n",
    "        prompt = f\"\"\"\n",
    "        Below is an instruction that describes a task paired with an input that provides further context. Write a response that appriately complete the request.\n",
    "        \n",
    "        ### Instruction\n",
    "        {row[\"question\"]}\n",
    "        \n",
    "        ### Input\n",
    "        {row[\"context\"]}\n",
    "        \n",
    "        ### Response\n",
    "        {row[\"response\"]}\n",
    "        \"\"\"\n",
    "        return prompt\n",
    "    \n",
    "    elif row[\"category\"] == \"open_qa\":\n",
    "        prompt = f\"\"\"\n",
    "        Below is an instruction that describes a task paired with an input that provides further context. Write a response that appriately complete the request.\n",
    "\n",
    "        ### Instruction\n",
    "        {row[\"question\"]}\n",
    "        \n",
    "        ### Input\n",
    "        {row[\"context\"]}\n",
    "        \n",
    "        ### Response\n",
    "        {row[\"response\"]}\n",
    "        \"\"\"\n",
    "        return prompt\n",
    "    \n",
    "    elif row[\"category\"] == \"translate\":\n",
    "        prompt = f\"\"\"\n",
    "        Below is an instruction that describes a task paired with an input that provides further context. Write a response that appriately complete the request.\n",
    "\n",
    "        ### Instruction\n",
    "        {row[\"instruction\"]}\n",
    "        \n",
    "        ### Input\n",
    "        {row[\"question\"]}\n",
    "        \n",
    "        ### Response\n",
    "        {row[\"response\"]}\n",
    "        \"\"\"\n",
    "        return prompt\n",
    "    \n",
    "    elif row[\"category\"] == \"summary\":\n",
    "        prompt = f\"\"\"\n",
    "        Below is an instruction that describes a task paired with an input that provides further context. Write a response that appriately complete the request.\n",
    "\n",
    "        ### Instruction\n",
    "        {row[\"instruction\"]}\n",
    "        \n",
    "        ### Input\n",
    "        {row[\"question\"]}\n",
    "        \n",
    "        ### Response\n",
    "        {row[\"response\"]}\n",
    "        \"\"\"\n",
    "        return prompt\n",
    "    \n",
    "    elif row[\"category\"] == \"alpaca\":\n",
    "            prompt = f\"\"\"\n",
    "            Below is an instruction that describes a task paired with an input that provides further context. Write a response that appriately complete the request.\n",
    "\n",
    "            ### Instruction\n",
    "            {row[\"question\"]}\n",
    "            \n",
    "            ### Input\n",
    "            {row[\"context\"]}\n",
    "            \n",
    "            ### Response\n",
    "            {row[\"response\"]}\n",
    "            \"\"\"\n",
    "            return prompt"
   ]
  },
  {
   "cell_type": "code",
   "execution_count": null,
   "metadata": {},
   "outputs": [],
   "source": [
    "df_combine_shuffled[\"prompt\"] = df_combine_shuffled.apply(format_prompt, axis=1)"
   ]
  },
  {
   "cell_type": "code",
   "execution_count": null,
   "metadata": {},
   "outputs": [],
   "source": [
    "rag_data = df_combine_shuffled[df_combine_shuffled[\"category\"] == \"RAG\"]"
   ]
  },
  {
   "cell_type": "code",
   "execution_count": null,
   "metadata": {},
   "outputs": [],
   "source": [
    "rag_data.sample(10)"
   ]
  },
  {
   "cell_type": "code",
   "execution_count": null,
   "metadata": {},
   "outputs": [],
   "source": [
    "rag_data.to_csv(\"./rag_only.csv\", index=False)"
   ]
  },
  {
   "cell_type": "code",
   "execution_count": null,
   "metadata": {},
   "outputs": [],
   "source": [
    "print(df_combine_shuffled[df_combine_shuffled[\"category\"] == \"RAG\"].iloc[0][\"prompt\"])"
   ]
  },
  {
   "cell_type": "code",
   "execution_count": null,
   "metadata": {},
   "outputs": [],
   "source": [
    "print(df_combine_shuffled[df_combine_shuffled[\"category\"] == \"open_qa\"].iloc[0][\"prompt\"])"
   ]
  },
  {
   "cell_type": "code",
   "execution_count": null,
   "metadata": {},
   "outputs": [],
   "source": [
    "print(df_combine_shuffled[df_combine_shuffled[\"category\"] == \"translate\"].iloc[0][\"prompt\"])"
   ]
  },
  {
   "cell_type": "code",
   "execution_count": null,
   "metadata": {},
   "outputs": [],
   "source": [
    "print(df_combine_shuffled[df_combine_shuffled[\"category\"] == \"summary\"].iloc[0][\"prompt\"])"
   ]
  },
  {
   "cell_type": "code",
   "execution_count": null,
   "metadata": {},
   "outputs": [],
   "source": [
    "print(df_combine_shuffled[df_combine_shuffled[\"category\"] == \"alpaca\"].iloc[0][\"prompt\"])"
   ]
  },
  {
   "cell_type": "code",
   "execution_count": null,
   "metadata": {},
   "outputs": [],
   "source": [
    "print(df_combine_shuffled[df_combine_shuffled[\"category\"] == \"alpaca\"].iloc[1000][\"prompt\"])"
   ]
  },
  {
   "cell_type": "code",
   "execution_count": null,
   "metadata": {},
   "outputs": [],
   "source": [
    "df_combine_shuffled.to_csv(\"./fine_tune_v5.csv\", index=False)"
   ]
  },
  {
   "cell_type": "code",
   "execution_count": null,
   "metadata": {},
   "outputs": [],
   "source": [
    "df_load_v4_fine_tune = pd.read_csv(\"./fine_tune_v5.csv\")"
   ]
  },
  {
   "cell_type": "code",
   "execution_count": null,
   "metadata": {},
   "outputs": [],
   "source": [
    "df_load_v4_fine_tune.shape"
   ]
  },
  {
   "cell_type": "code",
   "execution_count": null,
   "metadata": {},
   "outputs": [],
   "source": [
    "df_load_v4_fine_tune.sample(5)"
   ]
  }
 ],
 "metadata": {
  "kernelspec": {
   "display_name": "Python 3",
   "language": "python",
   "name": "python3"
  },
  "language_info": {
   "codemirror_mode": {
    "name": "ipython",
    "version": 3
   },
   "file_extension": ".py",
   "mimetype": "text/x-python",
   "name": "python",
   "nbconvert_exporter": "python",
   "pygments_lexer": "ipython3",
   "version": "3.12.1"
  }
 },
 "nbformat": 4,
 "nbformat_minor": 2
}
