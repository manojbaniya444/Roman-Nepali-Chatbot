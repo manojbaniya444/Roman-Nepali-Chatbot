{
 "cells": [
  {
   "cell_type": "markdown",
   "metadata": {},
   "source": [
    "## Format dataset v4"
   ]
  },
  {
   "cell_type": "code",
   "execution_count": 1,
   "metadata": {},
   "outputs": [],
   "source": [
    "import pandas as pd"
   ]
  },
  {
   "cell_type": "code",
   "execution_count": 2,
   "metadata": {},
   "outputs": [],
   "source": [
    "new_df = pd.read_csv(\"./version_4.csv\")"
   ]
  },
  {
   "cell_type": "code",
   "execution_count": 3,
   "metadata": {},
   "outputs": [
    {
     "data": {
      "text/html": [
       "<div>\n",
       "<style scoped>\n",
       "    .dataframe tbody tr th:only-of-type {\n",
       "        vertical-align: middle;\n",
       "    }\n",
       "\n",
       "    .dataframe tbody tr th {\n",
       "        vertical-align: top;\n",
       "    }\n",
       "\n",
       "    .dataframe thead th {\n",
       "        text-align: right;\n",
       "    }\n",
       "</style>\n",
       "<table border=\"1\" class=\"dataframe\">\n",
       "  <thead>\n",
       "    <tr style=\"text-align: right;\">\n",
       "      <th></th>\n",
       "      <th>category</th>\n",
       "      <th>context</th>\n",
       "      <th>question</th>\n",
       "      <th>response</th>\n",
       "    </tr>\n",
       "  </thead>\n",
       "  <tbody>\n",
       "    <tr>\n",
       "      <th>405</th>\n",
       "      <td>RAG</td>\n",
       "      <td>Hamro delivery service Dharan vitra same day g...</td>\n",
       "      <td>delivery kasto fast garincha?</td>\n",
       "      <td>Dharan vitra same day delivery garincha, bahir...</td>\n",
       "    </tr>\n",
       "    <tr>\n",
       "      <th>111</th>\n",
       "      <td>RAG</td>\n",
       "      <td>Hami esewa, khalti, ra aru digital wallets sup...</td>\n",
       "      <td>kun kun wallet le payment garna milcha?</td>\n",
       "      <td>Tapai esewa, khalti, ya aru digital wallets ba...</td>\n",
       "    </tr>\n",
       "    <tr>\n",
       "      <th>863</th>\n",
       "      <td>RAG</td>\n",
       "      <td>Hamro store ko name [FGH Mart] ho, hamro store...</td>\n",
       "      <td>Store ko phone garna ko number k ho?</td>\n",
       "      <td>Hamro contact number 010-123456 ho.</td>\n",
       "    </tr>\n",
       "    <tr>\n",
       "      <th>510</th>\n",
       "      <td>RAG</td>\n",
       "      <td>Hamro delivery Dharan vitra free hunxa. Outsid...</td>\n",
       "      <td>Dharan ko bahira delivery 2-3 din ma garincha?</td>\n",
       "      <td>Ho, Dharan ko bahira delivery 2-3 din lagcha.</td>\n",
       "    </tr>\n",
       "    <tr>\n",
       "      <th>1237</th>\n",
       "      <td>RAG</td>\n",
       "      <td>Hamro ma delivery service all over Nepal avail...</td>\n",
       "      <td>delivery charge kati hunxa?</td>\n",
       "      <td>Inside Hetauda free delivery hunxa ra outside ...</td>\n",
       "    </tr>\n",
       "    <tr>\n",
       "      <th>176</th>\n",
       "      <td>RAG</td>\n",
       "      <td>COD ma cash ko maddat le payment garna milcha.</td>\n",
       "      <td>cash on delivery ko lagi cash dina milcha?</td>\n",
       "      <td>Tapai cash on delivery ko lagi cash pay garna ...</td>\n",
       "    </tr>\n",
       "    <tr>\n",
       "      <th>479</th>\n",
       "      <td>RAG</td>\n",
       "      <td>Hamro delivery Dharan vitra same day garincha....</td>\n",
       "      <td>delivery garna kati din lagcha Dharan ma?</td>\n",
       "      <td>Dharan ma same day delivery garincha.</td>\n",
       "    </tr>\n",
       "    <tr>\n",
       "      <th>512</th>\n",
       "      <td>RAG</td>\n",
       "      <td>Hamro delivery Dharan vitra free hunxa. Outsid...</td>\n",
       "      <td>delivery kasko lagcha?</td>\n",
       "      <td>Dharan vitra delivery free cha, bahira Rs. 120...</td>\n",
       "    </tr>\n",
       "    <tr>\n",
       "      <th>1014</th>\n",
       "      <td>RAG</td>\n",
       "      <td>Hamro store 'Tech Universe' ho, hamro store Jh...</td>\n",
       "      <td>Store ma kun kun product haru xa?</td>\n",
       "      <td>Hamro store ma laptops, tablets, keyboards, mo...</td>\n",
       "    </tr>\n",
       "    <tr>\n",
       "      <th>976</th>\n",
       "      <td>RAG</td>\n",
       "      <td>Hamro store 'Pet Paradise' ho, hamro store Kai...</td>\n",
       "      <td>Store ma k k available xa?</td>\n",
       "      <td>Hamro store ma dog food, cat litter, pet toys,...</td>\n",
       "    </tr>\n",
       "  </tbody>\n",
       "</table>\n",
       "</div>"
      ],
      "text/plain": [
       "     category                                            context  \\\n",
       "405       RAG  Hamro delivery service Dharan vitra same day g...   \n",
       "111       RAG  Hami esewa, khalti, ra aru digital wallets sup...   \n",
       "863       RAG  Hamro store ko name [FGH Mart] ho, hamro store...   \n",
       "510       RAG  Hamro delivery Dharan vitra free hunxa. Outsid...   \n",
       "1237      RAG  Hamro ma delivery service all over Nepal avail...   \n",
       "176       RAG     COD ma cash ko maddat le payment garna milcha.   \n",
       "479       RAG  Hamro delivery Dharan vitra same day garincha....   \n",
       "512       RAG  Hamro delivery Dharan vitra free hunxa. Outsid...   \n",
       "1014      RAG  Hamro store 'Tech Universe' ho, hamro store Jh...   \n",
       "976       RAG  Hamro store 'Pet Paradise' ho, hamro store Kai...   \n",
       "\n",
       "                                            question  \\\n",
       "405                    delivery kasto fast garincha?   \n",
       "111          kun kun wallet le payment garna milcha?   \n",
       "863             Store ko phone garna ko number k ho?   \n",
       "510   Dharan ko bahira delivery 2-3 din ma garincha?   \n",
       "1237                     delivery charge kati hunxa?   \n",
       "176       cash on delivery ko lagi cash dina milcha?   \n",
       "479        delivery garna kati din lagcha Dharan ma?   \n",
       "512                           delivery kasko lagcha?   \n",
       "1014               Store ma kun kun product haru xa?   \n",
       "976                       Store ma k k available xa?   \n",
       "\n",
       "                                               response  \n",
       "405   Dharan vitra same day delivery garincha, bahir...  \n",
       "111   Tapai esewa, khalti, ya aru digital wallets ba...  \n",
       "863                 Hamro contact number 010-123456 ho.  \n",
       "510       Ho, Dharan ko bahira delivery 2-3 din lagcha.  \n",
       "1237  Inside Hetauda free delivery hunxa ra outside ...  \n",
       "176   Tapai cash on delivery ko lagi cash pay garna ...  \n",
       "479               Dharan ma same day delivery garincha.  \n",
       "512   Dharan vitra delivery free cha, bahira Rs. 120...  \n",
       "1014  Hamro store ma laptops, tablets, keyboards, mo...  \n",
       "976   Hamro store ma dog food, cat litter, pet toys,...  "
      ]
     },
     "execution_count": 3,
     "metadata": {},
     "output_type": "execute_result"
    }
   ],
   "source": [
    "new_df.sample(10)"
   ]
  },
  {
   "cell_type": "code",
   "execution_count": 4,
   "metadata": {},
   "outputs": [
    {
     "data": {
      "text/plain": [
       "(1252, 4)"
      ]
     },
     "execution_count": 4,
     "metadata": {},
     "output_type": "execute_result"
    }
   ],
   "source": [
    "new_df.shape"
   ]
  },
  {
   "cell_type": "code",
   "execution_count": 5,
   "metadata": {},
   "outputs": [],
   "source": [
    "old_df = pd.read_csv(\"./v3_fine_tune.csv\")"
   ]
  },
  {
   "cell_type": "code",
   "execution_count": 6,
   "metadata": {},
   "outputs": [
    {
     "data": {
      "text/plain": [
       "(16614, 5)"
      ]
     },
     "execution_count": 6,
     "metadata": {},
     "output_type": "execute_result"
    }
   ],
   "source": [
    "old_df.shape"
   ]
  },
  {
   "cell_type": "code",
   "execution_count": 7,
   "metadata": {},
   "outputs": [],
   "source": [
    "df_combined = pd.concat([new_df, old_df], ignore_index=True)"
   ]
  },
  {
   "cell_type": "code",
   "execution_count": 8,
   "metadata": {},
   "outputs": [
    {
     "data": {
      "text/plain": [
       "(17866, 5)"
      ]
     },
     "execution_count": 8,
     "metadata": {},
     "output_type": "execute_result"
    }
   ],
   "source": [
    "df_combined.shape"
   ]
  },
  {
   "cell_type": "code",
   "execution_count": 9,
   "metadata": {},
   "outputs": [],
   "source": [
    "df_combine_shuffled = df_combined.sample(frac=1).reset_index(drop=True)"
   ]
  },
  {
   "cell_type": "code",
   "execution_count": 10,
   "metadata": {},
   "outputs": [
    {
     "data": {
      "text/plain": [
       "(17866, 5)"
      ]
     },
     "execution_count": 10,
     "metadata": {},
     "output_type": "execute_result"
    }
   ],
   "source": [
    "df_combine_shuffled.shape"
   ]
  },
  {
   "cell_type": "code",
   "execution_count": 11,
   "metadata": {},
   "outputs": [
    {
     "data": {
      "text/html": [
       "<div>\n",
       "<style scoped>\n",
       "    .dataframe tbody tr th:only-of-type {\n",
       "        vertical-align: middle;\n",
       "    }\n",
       "\n",
       "    .dataframe tbody tr th {\n",
       "        vertical-align: top;\n",
       "    }\n",
       "\n",
       "    .dataframe thead th {\n",
       "        text-align: right;\n",
       "    }\n",
       "</style>\n",
       "<table border=\"1\" class=\"dataframe\">\n",
       "  <thead>\n",
       "    <tr style=\"text-align: right;\">\n",
       "      <th></th>\n",
       "      <th>category</th>\n",
       "      <th>context</th>\n",
       "      <th>question</th>\n",
       "      <th>response</th>\n",
       "      <th>instruction</th>\n",
       "    </tr>\n",
       "  </thead>\n",
       "  <tbody>\n",
       "    <tr>\n",
       "      <th>12290</th>\n",
       "      <td>RAG</td>\n",
       "      <td>Hamro delivery Dharan vitra same day hunxa. Dh...</td>\n",
       "      <td>delivery kati din lagxa?</td>\n",
       "      <td>Dharan vitra same day delivery hunxa, Dharan b...</td>\n",
       "      <td>NaN</td>\n",
       "    </tr>\n",
       "    <tr>\n",
       "      <th>6049</th>\n",
       "      <td>translate</td>\n",
       "      <td>NaN</td>\n",
       "      <td>Tyo event ma sabai ko participation dherai ram...</td>\n",
       "      <td>Everyoneâ€™s participation in that event was v...</td>\n",
       "      <td>Translate the given text from Roman Nepali lan...</td>\n",
       "    </tr>\n",
       "    <tr>\n",
       "      <th>13996</th>\n",
       "      <td>alpaca</td>\n",
       "      <td>NaN</td>\n",
       "      <td>Yo context bata answer deu: 'Suman le 1000 rup...</td>\n",
       "      <td>Suman le 800 rupiya tiryo (1000 rupiya ma 200 ...</td>\n",
       "      <td>NaN</td>\n",
       "    </tr>\n",
       "    <tr>\n",
       "      <th>8487</th>\n",
       "      <td>RAG</td>\n",
       "      <td>GadgetShopNepal, Kathmandu-4, Gyaneshwor ma el...</td>\n",
       "      <td>Pokhara ma delivery garna sakinchha?</td>\n",
       "      <td>Pokhara ma delivery garna sakidaina.</td>\n",
       "      <td>Answer the following question by looking at th...</td>\n",
       "    </tr>\n",
       "    <tr>\n",
       "      <th>14683</th>\n",
       "      <td>RAG</td>\n",
       "      <td>Hamro delivery Dharan vitra free hunxa. Outsid...</td>\n",
       "      <td>Dharan ko bahira delivery 2-3 din lagcha?</td>\n",
       "      <td>Ho, Dharan ko bahira delivery 2-3 din lagcha.</td>\n",
       "      <td>NaN</td>\n",
       "    </tr>\n",
       "    <tr>\n",
       "      <th>5192</th>\n",
       "      <td>RAG</td>\n",
       "      <td>Product Details: name: Apple Watch Series 8, p...</td>\n",
       "      <td>Apple Watch Series 8 pauxa ki painna?</td>\n",
       "      <td>Hajur, Apple Watch Series 8 ko stock aile xaina.</td>\n",
       "      <td>NaN</td>\n",
       "    </tr>\n",
       "    <tr>\n",
       "      <th>4744</th>\n",
       "      <td>RAG</td>\n",
       "      <td>EStoreNepal, Pokhara-7, Lakeside ma electronic...</td>\n",
       "      <td>Pokhara ko Newroad samma delivery charge lagda...</td>\n",
       "      <td>Ho, Pokhara ko Newroad samma delivery charge l...</td>\n",
       "      <td>Answer the following question by looking at th...</td>\n",
       "    </tr>\n",
       "    <tr>\n",
       "      <th>272</th>\n",
       "      <td>open_qa</td>\n",
       "      <td>NaN</td>\n",
       "      <td>Nepal ma sabai bhanda popular festival kun ho?</td>\n",
       "      <td>Dashain.</td>\n",
       "      <td>You are a helpful assistant. Answer the given ...</td>\n",
       "    </tr>\n",
       "    <tr>\n",
       "      <th>7003</th>\n",
       "      <td>alpaca</td>\n",
       "      <td>NaN</td>\n",
       "      <td>Mero fitness goal achieve garna help gara. Ma ...</td>\n",
       "      <td>1. Daily 30 minutes cardio gara. 2. Healthy di...</td>\n",
       "      <td>NaN</td>\n",
       "    </tr>\n",
       "    <tr>\n",
       "      <th>16946</th>\n",
       "      <td>open_qa</td>\n",
       "      <td>NaN</td>\n",
       "      <td>Nepali ma ek prasiddha geet ko naam dinus.</td>\n",
       "      <td>Phool ko aankha ma, phoolai sansar.</td>\n",
       "      <td>You are a helpful assistant. Answer the given ...</td>\n",
       "    </tr>\n",
       "    <tr>\n",
       "      <th>16869</th>\n",
       "      <td>translate</td>\n",
       "      <td></td>\n",
       "      <td>Maile kaam ma dherai prabhavi banauna mero tim...</td>\n",
       "      <td>I have been trying to improve my time manageme...</td>\n",
       "      <td>Translate the text below from Nepali to English:</td>\n",
       "    </tr>\n",
       "    <tr>\n",
       "      <th>15195</th>\n",
       "      <td>RAG</td>\n",
       "      <td>Delivery Details: Currently, we only deliver w...</td>\n",
       "      <td>International delivery available xa?</td>\n",
       "      <td>Hajur, hami Nepal bhitra matra delivery gardac...</td>\n",
       "      <td>NaN</td>\n",
       "    </tr>\n",
       "    <tr>\n",
       "      <th>4900</th>\n",
       "      <td>alpaca</td>\n",
       "      <td>Chris Gayle holds the record for the most sixe...</td>\n",
       "      <td>Cricket ma sabai bhanda dherai sixes score gar...</td>\n",
       "      <td>Chris Gayle le 550 bhanda badhi sixes score ga...</td>\n",
       "      <td>NaN</td>\n",
       "    </tr>\n",
       "    <tr>\n",
       "      <th>3025</th>\n",
       "      <td>RAG</td>\n",
       "      <td>Hamro Cash on Delivery option location-wise av...</td>\n",
       "      <td>COD confirm garna milcha?</td>\n",
       "      <td>Tapai COD option available chha ki nai afno lo...</td>\n",
       "      <td>NaN</td>\n",
       "    </tr>\n",
       "    <tr>\n",
       "      <th>12005</th>\n",
       "      <td>alpaca</td>\n",
       "      <td>NaN</td>\n",
       "      <td>Yo sentence lai Roman Nepali ma lekha: 'She is...</td>\n",
       "      <td>Uni kitchen ma khana pakai raheki chin.</td>\n",
       "      <td>NaN</td>\n",
       "    </tr>\n",
       "    <tr>\n",
       "      <th>6822</th>\n",
       "      <td>alpaca</td>\n",
       "      <td>Early symptoms of diabetes include frequent ur...</td>\n",
       "      <td>Diabetes ko early symptoms ke ke huncha?</td>\n",
       "      <td>Diabetes ko early symptoms ma frequent urinati...</td>\n",
       "      <td>NaN</td>\n",
       "    </tr>\n",
       "    <tr>\n",
       "      <th>15226</th>\n",
       "      <td>RAG</td>\n",
       "      <td>Poco X5 Pro ek mid-range smartphone ho. Yesko ...</td>\n",
       "      <td>Poco X5 Pro smartphone ko price kati ho?</td>\n",
       "      <td>Poco X5 Pro ko price 40000 ho. Yesma Snapdrago...</td>\n",
       "      <td>Answer the following question by looking at th...</td>\n",
       "    </tr>\n",
       "    <tr>\n",
       "      <th>3538</th>\n",
       "      <td>open_qa</td>\n",
       "      <td>Cache files delete garne tarika batainus.</td>\n",
       "      <td>Tapai kasari Android phone ma storage clean ga...</td>\n",
       "      <td>Settings ma janus, Storage section kholnus, an...</td>\n",
       "      <td>You are a helpful assistant. Answer the given ...</td>\n",
       "    </tr>\n",
       "    <tr>\n",
       "      <th>15378</th>\n",
       "      <td>translate</td>\n",
       "      <td>NaN</td>\n",
       "      <td>maile bhujhina</td>\n",
       "      <td>I didn't understand.</td>\n",
       "      <td>Translate the given text in Nepali to English.</td>\n",
       "    </tr>\n",
       "    <tr>\n",
       "      <th>7935</th>\n",
       "      <td>RAG</td>\n",
       "      <td>Yo mobile phone ma 128GB storage, 6GB RAM cha....</td>\n",
       "      <td>Mobile ko color option ke ke cha hai?</td>\n",
       "      <td>Black ra blue color option cha yo mobile ma. T...</td>\n",
       "      <td>Answer the following question by looking at th...</td>\n",
       "    </tr>\n",
       "  </tbody>\n",
       "</table>\n",
       "</div>"
      ],
      "text/plain": [
       "        category                                            context  \\\n",
       "12290        RAG  Hamro delivery Dharan vitra same day hunxa. Dh...   \n",
       "6049   translate                                                NaN   \n",
       "13996     alpaca                                                NaN   \n",
       "8487         RAG  GadgetShopNepal, Kathmandu-4, Gyaneshwor ma el...   \n",
       "14683        RAG  Hamro delivery Dharan vitra free hunxa. Outsid...   \n",
       "5192         RAG  Product Details: name: Apple Watch Series 8, p...   \n",
       "4744         RAG  EStoreNepal, Pokhara-7, Lakeside ma electronic...   \n",
       "272      open_qa                                                NaN   \n",
       "7003      alpaca                                                NaN   \n",
       "16946    open_qa                                                NaN   \n",
       "16869  translate                                                      \n",
       "15195        RAG  Delivery Details: Currently, we only deliver w...   \n",
       "4900      alpaca  Chris Gayle holds the record for the most sixe...   \n",
       "3025         RAG  Hamro Cash on Delivery option location-wise av...   \n",
       "12005     alpaca                                                NaN   \n",
       "6822      alpaca  Early symptoms of diabetes include frequent ur...   \n",
       "15226        RAG  Poco X5 Pro ek mid-range smartphone ho. Yesko ...   \n",
       "3538     open_qa          Cache files delete garne tarika batainus.   \n",
       "15378  translate                                                NaN   \n",
       "7935         RAG  Yo mobile phone ma 128GB storage, 6GB RAM cha....   \n",
       "\n",
       "                                                question  \\\n",
       "12290                           delivery kati din lagxa?   \n",
       "6049   Tyo event ma sabai ko participation dherai ram...   \n",
       "13996  Yo context bata answer deu: 'Suman le 1000 rup...   \n",
       "8487                Pokhara ma delivery garna sakinchha?   \n",
       "14683          Dharan ko bahira delivery 2-3 din lagcha?   \n",
       "5192               Apple Watch Series 8 pauxa ki painna?   \n",
       "4744   Pokhara ko Newroad samma delivery charge lagda...   \n",
       "272       Nepal ma sabai bhanda popular festival kun ho?   \n",
       "7003   Mero fitness goal achieve garna help gara. Ma ...   \n",
       "16946         Nepali ma ek prasiddha geet ko naam dinus.   \n",
       "16869  Maile kaam ma dherai prabhavi banauna mero tim...   \n",
       "15195               International delivery available xa?   \n",
       "4900   Cricket ma sabai bhanda dherai sixes score gar...   \n",
       "3025                           COD confirm garna milcha?   \n",
       "12005  Yo sentence lai Roman Nepali ma lekha: 'She is...   \n",
       "6822            Diabetes ko early symptoms ke ke huncha?   \n",
       "15226           Poco X5 Pro smartphone ko price kati ho?   \n",
       "3538   Tapai kasari Android phone ma storage clean ga...   \n",
       "15378                                     maile bhujhina   \n",
       "7935               Mobile ko color option ke ke cha hai?   \n",
       "\n",
       "                                                response  \\\n",
       "12290  Dharan vitra same day delivery hunxa, Dharan b...   \n",
       "6049   Everyoneâ€™s participation in that event was v...   \n",
       "13996  Suman le 800 rupiya tiryo (1000 rupiya ma 200 ...   \n",
       "8487                Pokhara ma delivery garna sakidaina.   \n",
       "14683      Ho, Dharan ko bahira delivery 2-3 din lagcha.   \n",
       "5192    Hajur, Apple Watch Series 8 ko stock aile xaina.   \n",
       "4744   Ho, Pokhara ko Newroad samma delivery charge l...   \n",
       "272                                             Dashain.   \n",
       "7003   1. Daily 30 minutes cardio gara. 2. Healthy di...   \n",
       "16946                Phool ko aankha ma, phoolai sansar.   \n",
       "16869  I have been trying to improve my time manageme...   \n",
       "15195  Hajur, hami Nepal bhitra matra delivery gardac...   \n",
       "4900   Chris Gayle le 550 bhanda badhi sixes score ga...   \n",
       "3025   Tapai COD option available chha ki nai afno lo...   \n",
       "12005            Uni kitchen ma khana pakai raheki chin.   \n",
       "6822   Diabetes ko early symptoms ma frequent urinati...   \n",
       "15226  Poco X5 Pro ko price 40000 ho. Yesma Snapdrago...   \n",
       "3538   Settings ma janus, Storage section kholnus, an...   \n",
       "15378                               I didn't understand.   \n",
       "7935   Black ra blue color option cha yo mobile ma. T...   \n",
       "\n",
       "                                             instruction  \n",
       "12290                                                NaN  \n",
       "6049   Translate the given text from Roman Nepali lan...  \n",
       "13996                                                NaN  \n",
       "8487   Answer the following question by looking at th...  \n",
       "14683                                                NaN  \n",
       "5192                                                 NaN  \n",
       "4744   Answer the following question by looking at th...  \n",
       "272    You are a helpful assistant. Answer the given ...  \n",
       "7003                                                 NaN  \n",
       "16946  You are a helpful assistant. Answer the given ...  \n",
       "16869   Translate the text below from Nepali to English:  \n",
       "15195                                                NaN  \n",
       "4900                                                 NaN  \n",
       "3025                                                 NaN  \n",
       "12005                                                NaN  \n",
       "6822                                                 NaN  \n",
       "15226  Answer the following question by looking at th...  \n",
       "3538   You are a helpful assistant. Answer the given ...  \n",
       "15378     Translate the given text in Nepali to English.  \n",
       "7935   Answer the following question by looking at th...  "
      ]
     },
     "execution_count": 11,
     "metadata": {},
     "output_type": "execute_result"
    }
   ],
   "source": [
    "df_combine_shuffled.sample(20)"
   ]
  },
  {
   "cell_type": "code",
   "execution_count": 12,
   "metadata": {},
   "outputs": [],
   "source": [
    "df_combine_shuffled.fillna(\" \", inplace=True)"
   ]
  },
  {
   "cell_type": "code",
   "execution_count": 13,
   "metadata": {},
   "outputs": [
    {
     "data": {
      "text/html": [
       "<div>\n",
       "<style scoped>\n",
       "    .dataframe tbody tr th:only-of-type {\n",
       "        vertical-align: middle;\n",
       "    }\n",
       "\n",
       "    .dataframe tbody tr th {\n",
       "        vertical-align: top;\n",
       "    }\n",
       "\n",
       "    .dataframe thead th {\n",
       "        text-align: right;\n",
       "    }\n",
       "</style>\n",
       "<table border=\"1\" class=\"dataframe\">\n",
       "  <thead>\n",
       "    <tr style=\"text-align: right;\">\n",
       "      <th></th>\n",
       "      <th>category</th>\n",
       "      <th>context</th>\n",
       "      <th>question</th>\n",
       "      <th>response</th>\n",
       "      <th>instruction</th>\n",
       "    </tr>\n",
       "  </thead>\n",
       "  <tbody>\n",
       "    <tr>\n",
       "      <th>14099</th>\n",
       "      <td>open_qa</td>\n",
       "      <td></td>\n",
       "      <td>Hi timro kaam k ho?</td>\n",
       "      <td>Namaste! Mero kaam tapai ko shopping experienc...</td>\n",
       "      <td>You are a helpful assistant. Answer the given ...</td>\n",
       "    </tr>\n",
       "    <tr>\n",
       "      <th>13191</th>\n",
       "      <td>RAG</td>\n",
       "      <td>Hamro platform ma esewa payment accept huncha.</td>\n",
       "      <td>wallet ma esewa ko option chha?</td>\n",
       "      <td>Tapai esewa ko option le payment garna saknu h...</td>\n",
       "      <td></td>\n",
       "    </tr>\n",
       "    <tr>\n",
       "      <th>9781</th>\n",
       "      <td>translate</td>\n",
       "      <td></td>\n",
       "      <td>The traditional healing practices of Nepal, su...</td>\n",
       "      <td>Nepal ko paramparagat chikitsa paddhati, jaise...</td>\n",
       "      <td>Translate the text below from English to Nepali:</td>\n",
       "    </tr>\n",
       "    <tr>\n",
       "      <th>3685</th>\n",
       "      <td>translate</td>\n",
       "      <td></td>\n",
       "      <td>Naya nitiko uddeshya pradushan kam garnu ra dh...</td>\n",
       "      <td>The new policy aims to reduce pollution and pr...</td>\n",
       "      <td>Translate the text below from Nepali to English:</td>\n",
       "    </tr>\n",
       "    <tr>\n",
       "      <th>16421</th>\n",
       "      <td>translate</td>\n",
       "      <td></td>\n",
       "      <td>Maile aghi kati din dekhi tapailai samparka ga...</td>\n",
       "      <td>I have been trying to contact you for the past...</td>\n",
       "      <td>Translate the text below from Nepali to English:</td>\n",
       "    </tr>\n",
       "  </tbody>\n",
       "</table>\n",
       "</div>"
      ],
      "text/plain": [
       "        category                                         context  \\\n",
       "14099    open_qa                                                   \n",
       "13191        RAG  Hamro platform ma esewa payment accept huncha.   \n",
       "9781   translate                                                   \n",
       "3685   translate                                                   \n",
       "16421  translate                                                   \n",
       "\n",
       "                                                question  \\\n",
       "14099                                Hi timro kaam k ho?   \n",
       "13191                    wallet ma esewa ko option chha?   \n",
       "9781   The traditional healing practices of Nepal, su...   \n",
       "3685   Naya nitiko uddeshya pradushan kam garnu ra dh...   \n",
       "16421  Maile aghi kati din dekhi tapailai samparka ga...   \n",
       "\n",
       "                                                response  \\\n",
       "14099  Namaste! Mero kaam tapai ko shopping experienc...   \n",
       "13191  Tapai esewa ko option le payment garna saknu h...   \n",
       "9781   Nepal ko paramparagat chikitsa paddhati, jaise...   \n",
       "3685   The new policy aims to reduce pollution and pr...   \n",
       "16421  I have been trying to contact you for the past...   \n",
       "\n",
       "                                             instruction  \n",
       "14099  You are a helpful assistant. Answer the given ...  \n",
       "13191                                                     \n",
       "9781    Translate the text below from English to Nepali:  \n",
       "3685    Translate the text below from Nepali to English:  \n",
       "16421   Translate the text below from Nepali to English:  "
      ]
     },
     "execution_count": 13,
     "metadata": {},
     "output_type": "execute_result"
    }
   ],
   "source": [
    "df_combine_shuffled.sample(5)"
   ]
  },
  {
   "cell_type": "code",
   "execution_count": 14,
   "metadata": {},
   "outputs": [
    {
     "data": {
      "text/plain": [
       "array(['translate', 'RAG', 'alpaca', 'open_qa', 'summary'], dtype=object)"
      ]
     },
     "execution_count": 14,
     "metadata": {},
     "output_type": "execute_result"
    }
   ],
   "source": [
    "df_combine_shuffled[\"category\"].unique()"
   ]
  },
  {
   "cell_type": "markdown",
   "metadata": {},
   "source": [
    "## Format Prompt"
   ]
  },
  {
   "cell_type": "code",
   "execution_count": 48,
   "metadata": {},
   "outputs": [],
   "source": [
    "def format_prompt(row):\n",
    "    if row[\"category\"] == \"RAG\":\n",
    "        prompt = f\"\"\"\n",
    "        Below is an instruction that describes a task paried with question and input that provides further context. Write a response that appropriately complete the request.\n",
    "        \n",
    "        ### Instruction\n",
    "        {row[\"instruction\"]}\n",
    "        \n",
    "        ### Question\n",
    "        {row[\"question\"]}\n",
    "        \n",
    "        ### Input\n",
    "        {row[\"context\"]}\n",
    "        \n",
    "        ### Response\n",
    "        {row[\"response\"]}\n",
    "        \"\"\"\n",
    "        return prompt\n",
    "    \n",
    "    elif row[\"category\"] == \"open_qa\":\n",
    "        prompt = f\"\"\"\n",
    "        ### Instruction\n",
    "        {row[\"instruction\"]}\n",
    "        \n",
    "        ### Question\n",
    "        {row[\"question\"]}\n",
    "        \n",
    "        ### Response\n",
    "        {row[\"response\"]}\n",
    "        \"\"\"\n",
    "        return prompt\n",
    "    \n",
    "    elif row[\"category\"] == \"translate\":\n",
    "        prompt = f\"\"\"\n",
    "        ### Instruction\n",
    "        {row[\"instruction\"]}\n",
    "        \n",
    "        ### Question\n",
    "        {row[\"question\"]}\n",
    "        \n",
    "        ### Response\n",
    "        {row[\"response\"]}\n",
    "        \"\"\"\n",
    "        return prompt\n",
    "    \n",
    "    elif row[\"category\"] == \"summary\":\n",
    "        prompt = f\"\"\"\n",
    "        ### Instruction\n",
    "        {row[\"instruction\"]}\n",
    "        \n",
    "        ### Question\n",
    "        {row[\"question\"]}\n",
    "        \n",
    "        ### Response\n",
    "        {row[\"response\"]}\n",
    "        \"\"\"\n",
    "        return prompt\n",
    "    \n",
    "    elif row[\"category\"] == \"alpaca\":\n",
    "        if row[\"context\"] != \" \":\n",
    "            prompt = f\"\"\"\n",
    "            You are a helpful assistant. Follow the instruction with input and answer the user question.\n",
    "            \n",
    "            ### Instruction\n",
    "            {row[\"question\"]}\n",
    "            \n",
    "            ### Input\n",
    "            {row[\"context\"]}\n",
    "            \n",
    "            ### Response\n",
    "            {row[\"response\"]}\n",
    "            \"\"\"\n",
    "        else:\n",
    "            prompt = f\"\"\"\n",
    "            You are a helpful assistant. Follow the instruction and answer the user question.\n",
    "            \n",
    "            ### Instruction\n",
    "            {row[\"question\"]}\n",
    "            \n",
    "            ### Response\n",
    "            {row[\"response\"]}\n",
    "            \"\"\"\n",
    "        return prompt"
   ]
  },
  {
   "cell_type": "code",
   "execution_count": 49,
   "metadata": {},
   "outputs": [],
   "source": [
    "df_combine_shuffled[\"prompt\"] = df_combine_shuffled.apply(format_prompt, axis=1)"
   ]
  },
  {
   "cell_type": "code",
   "execution_count": 50,
   "metadata": {},
   "outputs": [
    {
     "name": "stdout",
     "output_type": "stream",
     "text": [
      "\n",
      "        Below is an instruction that describes a task paried with question and input that provides further context. Write a response that appropriately complete the request.\n",
      "        \n",
      "        ### Instruction\n",
      "        Answer the following question by looking at the context if context is given.\n",
      "        \n",
      "        ### Question\n",
      "        DigitalDeals ma Dell Inspiron laptop cha?\n",
      "        \n",
      "        ### Input\n",
      "        Hamro store DigitalDeals Dharan-4, Putali Line ma chha. Yaha gaming laptops, monitors, printers, mobile accessories jasta electronics saman reasonable price ma paainchha. Hami delivery Dharan bhitra free garchhau. Hamro saman branded ra reliable chha.\n",
      "        \n",
      "        ### Response\n",
      "        Dell Inspiron laptop cha. Model: Inspiron 3511, Price: Rs. 85,000. Warranty 1 barsha ko chha.\n",
      "        \n"
     ]
    }
   ],
   "source": [
    "print(df_combine_shuffled[df_combine_shuffled[\"category\"] == \"RAG\"].iloc[0][\"prompt\"])"
   ]
  },
  {
   "cell_type": "code",
   "execution_count": 51,
   "metadata": {},
   "outputs": [
    {
     "name": "stdout",
     "output_type": "stream",
     "text": [
      "\n",
      "        ### Instruction\n",
      "        You are a helpful AI assistant. Answer the user question:\n",
      "        \n",
      "        ### Question\n",
      "        Industrial Revolution le global society ma ke impact gareko thiyo?\n",
      "        \n",
      "        ### Response\n",
      "        Industrial Revolution le mass production introduce garna, technology advance garna, ra urbanization badhauna madat gareko thiyo. Tara, yasko karan labor exploitation ra pollution pani badheka thiyo.\n",
      "        \n"
     ]
    }
   ],
   "source": [
    "print(df_combine_shuffled[df_combine_shuffled[\"category\"] == \"open_qa\"].iloc[0][\"prompt\"])"
   ]
  },
  {
   "cell_type": "code",
   "execution_count": 52,
   "metadata": {},
   "outputs": [
    {
     "name": "stdout",
     "output_type": "stream",
     "text": [
      "\n",
      "        ### Instruction\n",
      "        Translate the text below from Nepali to English:\n",
      "        \n",
      "        ### Question\n",
      "        Nepal mahaan prakritik sundarta ko desh ho. Himalaya dekhi Terai ko maidaan samma, yo landscape manmohak chha. Yo sundarta le dunia bhar bata tourists lai attract garchha.\n",
      "        \n",
      "        ### Response\n",
      "        Nepal is a country of great natural beauty. From the Himalayas to the Terai plains, the landscape is breathtaking. This beauty attracts tourists from all over the world.\n",
      "        \n"
     ]
    }
   ],
   "source": [
    "print(df_combine_shuffled[df_combine_shuffled[\"category\"] == \"translate\"].iloc[0][\"prompt\"])"
   ]
  },
  {
   "cell_type": "code",
   "execution_count": 53,
   "metadata": {},
   "outputs": [
    {
     "name": "stdout",
     "output_type": "stream",
     "text": [
      "\n",
      "        ### Instruction\n",
      "        Summarize the following text:\n",
      "        \n",
      "        ### Question\n",
      "        Ek nepali writer le novel publish garcha, jun international level ma recognition paunchha. Aba unko story le Nepali culture ko beauty showcase garcha.\n",
      "        \n",
      "        ### Response\n",
      "        Nepali writer ko novel international level ma recognition paunchha ra culture showcase garcha.\n",
      "        \n"
     ]
    }
   ],
   "source": [
    "print(df_combine_shuffled[df_combine_shuffled[\"category\"] == \"summary\"].iloc[0][\"prompt\"])"
   ]
  },
  {
   "cell_type": "code",
   "execution_count": 54,
   "metadata": {},
   "outputs": [
    {
     "name": "stdout",
     "output_type": "stream",
     "text": [
      "\n",
      "            You are a helpful assistant. Follow the instruction with input and answer the user question.\n",
      "            \n",
      "            ### Instruction\n",
      "            Nepali ma dialogue lekha.\n",
      "            \n",
      "            ### Input\n",
      "            Characters: Teacher and Student, Topic: Homework\n",
      "            \n",
      "            ### Response\n",
      "            Teacher: Ram, timile homework sakayo?\n",
      "Ram: Maile homework sakaye, tara kehi question haru garo lagyo.\n",
      "Teacher: Kun question haru garo lagyo? Ma timilai help garchu.\n",
      "            \n"
     ]
    }
   ],
   "source": [
    "print(df_combine_shuffled[df_combine_shuffled[\"category\"] == \"alpaca\"].iloc[0][\"prompt\"])"
   ]
  },
  {
   "cell_type": "code",
   "execution_count": 55,
   "metadata": {},
   "outputs": [
    {
     "name": "stdout",
     "output_type": "stream",
     "text": [
      "\n",
      "            You are a helpful assistant. Follow the instruction and answer the user question.\n",
      "            \n",
      "            ### Instruction\n",
      "            Nepali music ma auta popular song ko naam bataideu.\n",
      "            \n",
      "            ### Response\n",
      "            Popular Nepali song ho: 'Resham Firiri'.\n",
      "            \n"
     ]
    }
   ],
   "source": [
    "print(df_combine_shuffled[df_combine_shuffled[\"category\"] == \"alpaca\"].iloc[1000][\"prompt\"])"
   ]
  },
  {
   "cell_type": "code",
   "execution_count": 59,
   "metadata": {},
   "outputs": [],
   "source": [
    "df_combine_shuffled.to_csv(\"./fine_tune_v4.csv\", index=False)"
   ]
  },
  {
   "cell_type": "code",
   "execution_count": 60,
   "metadata": {},
   "outputs": [],
   "source": [
    "df_load_v4_fine_tune = pd.read_csv(\"./fine_tune_v4.csv\")"
   ]
  },
  {
   "cell_type": "code",
   "execution_count": 61,
   "metadata": {},
   "outputs": [
    {
     "data": {
      "text/plain": [
       "(17866, 6)"
      ]
     },
     "execution_count": 61,
     "metadata": {},
     "output_type": "execute_result"
    }
   ],
   "source": [
    "df_load_v4_fine_tune.shape"
   ]
  },
  {
   "cell_type": "code",
   "execution_count": 62,
   "metadata": {},
   "outputs": [
    {
     "data": {
      "text/html": [
       "<div>\n",
       "<style scoped>\n",
       "    .dataframe tbody tr th:only-of-type {\n",
       "        vertical-align: middle;\n",
       "    }\n",
       "\n",
       "    .dataframe tbody tr th {\n",
       "        vertical-align: top;\n",
       "    }\n",
       "\n",
       "    .dataframe thead th {\n",
       "        text-align: right;\n",
       "    }\n",
       "</style>\n",
       "<table border=\"1\" class=\"dataframe\">\n",
       "  <thead>\n",
       "    <tr style=\"text-align: right;\">\n",
       "      <th></th>\n",
       "      <th>category</th>\n",
       "      <th>context</th>\n",
       "      <th>question</th>\n",
       "      <th>response</th>\n",
       "      <th>instruction</th>\n",
       "      <th>prompt</th>\n",
       "    </tr>\n",
       "  </thead>\n",
       "  <tbody>\n",
       "    <tr>\n",
       "      <th>7998</th>\n",
       "      <td>open_qa</td>\n",
       "      <td></td>\n",
       "      <td>World ko sabai bhanda popular city kun ho?</td>\n",
       "      <td>World ko sabai bhanda popular city New York ho.</td>\n",
       "      <td>You are a helpful AI assistant. Answer the use...</td>\n",
       "      <td>\\n        ### Instruction\\n        You are a h...</td>\n",
       "    </tr>\n",
       "    <tr>\n",
       "      <th>7856</th>\n",
       "      <td>RAG</td>\n",
       "      <td>Nepal ko sabai bhanda badi jilla Rupandehi ho....</td>\n",
       "      <td>Nepal ko sabai bhanda badi jilla kahan cha?</td>\n",
       "      <td>Nepal ko sabai bhanda badi jilla Rupandehi ho.</td>\n",
       "      <td>Answer the following question by looking at th...</td>\n",
       "      <td>\\n        Below is an instruction that describ...</td>\n",
       "    </tr>\n",
       "    <tr>\n",
       "      <th>5810</th>\n",
       "      <td>RAG</td>\n",
       "      <td>Gift card redeem garna checkout page ma 'Apply...</td>\n",
       "      <td>Gift card kasari redeem garne?</td>\n",
       "      <td>Checkout page ma 'Apply Gift Card' option ma c...</td>\n",
       "      <td>Answer the following question by looking at th...</td>\n",
       "      <td>\\n        Below is an instruction that describ...</td>\n",
       "    </tr>\n",
       "    <tr>\n",
       "      <th>5808</th>\n",
       "      <td>RAG</td>\n",
       "      <td>Product Details: name: Logitech G502 Hero, pri...</td>\n",
       "      <td>Logitech G502 Hero ko stock ma xa?</td>\n",
       "      <td>Hajur, Logitech G502 Hero stock ma available xa.</td>\n",
       "      <td></td>\n",
       "      <td>\\n        Below is an instruction that describ...</td>\n",
       "    </tr>\n",
       "    <tr>\n",
       "      <th>9292</th>\n",
       "      <td>translate</td>\n",
       "      <td></td>\n",
       "      <td>Technology has made life easy and convenient.</td>\n",
       "      <td>Technology le life lai easy ra convenient banayo.</td>\n",
       "      <td>Translate the text below from English to Nepali:</td>\n",
       "      <td>\\n        ### Instruction\\n        Translate t...</td>\n",
       "    </tr>\n",
       "  </tbody>\n",
       "</table>\n",
       "</div>"
      ],
      "text/plain": [
       "       category                                            context  \\\n",
       "7998    open_qa                                                      \n",
       "7856        RAG  Nepal ko sabai bhanda badi jilla Rupandehi ho....   \n",
       "5810        RAG  Gift card redeem garna checkout page ma 'Apply...   \n",
       "5808        RAG  Product Details: name: Logitech G502 Hero, pri...   \n",
       "9292  translate                                                      \n",
       "\n",
       "                                           question  \\\n",
       "7998     World ko sabai bhanda popular city kun ho?   \n",
       "7856    Nepal ko sabai bhanda badi jilla kahan cha?   \n",
       "5810                 Gift card kasari redeem garne?   \n",
       "5808             Logitech G502 Hero ko stock ma xa?   \n",
       "9292  Technology has made life easy and convenient.   \n",
       "\n",
       "                                               response  \\\n",
       "7998    World ko sabai bhanda popular city New York ho.   \n",
       "7856     Nepal ko sabai bhanda badi jilla Rupandehi ho.   \n",
       "5810  Checkout page ma 'Apply Gift Card' option ma c...   \n",
       "5808   Hajur, Logitech G502 Hero stock ma available xa.   \n",
       "9292  Technology le life lai easy ra convenient banayo.   \n",
       "\n",
       "                                            instruction  \\\n",
       "7998  You are a helpful AI assistant. Answer the use...   \n",
       "7856  Answer the following question by looking at th...   \n",
       "5810  Answer the following question by looking at th...   \n",
       "5808                                                      \n",
       "9292   Translate the text below from English to Nepali:   \n",
       "\n",
       "                                                 prompt  \n",
       "7998  \\n        ### Instruction\\n        You are a h...  \n",
       "7856  \\n        Below is an instruction that describ...  \n",
       "5810  \\n        Below is an instruction that describ...  \n",
       "5808  \\n        Below is an instruction that describ...  \n",
       "9292  \\n        ### Instruction\\n        Translate t...  "
      ]
     },
     "execution_count": 62,
     "metadata": {},
     "output_type": "execute_result"
    }
   ],
   "source": [
    "df_load_v4_fine_tune.sample(5)"
   ]
  }
 ],
 "metadata": {
  "kernelspec": {
   "display_name": "Python 3",
   "language": "python",
   "name": "python3"
  },
  "language_info": {
   "codemirror_mode": {
    "name": "ipython",
    "version": 3
   },
   "file_extension": ".py",
   "mimetype": "text/x-python",
   "name": "python",
   "nbconvert_exporter": "python",
   "pygments_lexer": "ipython3",
   "version": "3.12.1"
  }
 },
 "nbformat": 4,
 "nbformat_minor": 2
}
