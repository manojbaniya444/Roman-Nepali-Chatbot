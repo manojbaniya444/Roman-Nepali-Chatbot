{
 "cells": [
  {
   "cell_type": "markdown",
   "metadata": {},
   "source": [
    "## Format Dataset V3"
   ]
  },
  {
   "cell_type": "code",
   "execution_count": 1,
   "metadata": {},
   "outputs": [],
   "source": [
    "import pandas as pd"
   ]
  },
  {
   "cell_type": "code",
   "execution_count": 2,
   "metadata": {},
   "outputs": [],
   "source": [
    "df_old = pd.read_csv(\"./v2_fine_tune.csv\")"
   ]
  },
  {
   "cell_type": "code",
   "execution_count": 3,
   "metadata": {},
   "outputs": [
    {
     "data": {
      "text/plain": [
       "(10693, 5)"
      ]
     },
     "execution_count": 3,
     "metadata": {},
     "output_type": "execute_result"
    }
   ],
   "source": [
    "df_old.shape"
   ]
  },
  {
   "cell_type": "code",
   "execution_count": 4,
   "metadata": {},
   "outputs": [
    {
     "data": {
      "text/plain": [
       "Index(['category', 'instruction', 'context', 'question', 'response'], dtype='object')"
      ]
     },
     "execution_count": 4,
     "metadata": {},
     "output_type": "execute_result"
    }
   ],
   "source": [
    "df_old.columns"
   ]
  },
  {
   "cell_type": "code",
   "execution_count": 5,
   "metadata": {},
   "outputs": [
    {
     "data": {
      "text/html": [
       "<div>\n",
       "<style scoped>\n",
       "    .dataframe tbody tr th:only-of-type {\n",
       "        vertical-align: middle;\n",
       "    }\n",
       "\n",
       "    .dataframe tbody tr th {\n",
       "        vertical-align: top;\n",
       "    }\n",
       "\n",
       "    .dataframe thead th {\n",
       "        text-align: right;\n",
       "    }\n",
       "</style>\n",
       "<table border=\"1\" class=\"dataframe\">\n",
       "  <thead>\n",
       "    <tr style=\"text-align: right;\">\n",
       "      <th></th>\n",
       "      <th>category</th>\n",
       "      <th>instruction</th>\n",
       "      <th>context</th>\n",
       "      <th>question</th>\n",
       "      <th>response</th>\n",
       "    </tr>\n",
       "  </thead>\n",
       "  <tbody>\n",
       "    <tr>\n",
       "      <th>4787</th>\n",
       "      <td>translate</td>\n",
       "      <td>Translate the given text from English language...</td>\n",
       "      <td>NaN</td>\n",
       "      <td>The children loved visiting their grandparents...</td>\n",
       "      <td>Ketaketi haru afno hajurbuwa hajurama ko ghar ...</td>\n",
       "    </tr>\n",
       "    <tr>\n",
       "      <th>166</th>\n",
       "      <td>open_qa</td>\n",
       "      <td>You are a helpful assistant. Answer the given ...</td>\n",
       "      <td>NaN</td>\n",
       "      <td>Nepal ko rajdhani ko naam ke ho?</td>\n",
       "      <td>Nepal ko rajdhani Kathmandu ho.</td>\n",
       "    </tr>\n",
       "    <tr>\n",
       "      <th>807</th>\n",
       "      <td>translate</td>\n",
       "      <td>Translate the text below from English to Nepali:</td>\n",
       "      <td></td>\n",
       "      <td>Today I felt like eating momo, but it’s a bit ...</td>\n",
       "      <td>Aajai momo khana man lagyo, tara ghar ma banun...</td>\n",
       "    </tr>\n",
       "    <tr>\n",
       "      <th>7971</th>\n",
       "      <td>RAG</td>\n",
       "      <td>Answer the following question by looking at th...</td>\n",
       "      <td>Nepal ko ek prasiddha sangit gatividhi 'Nepali...</td>\n",
       "      <td>Nepal ko ek prasiddha sangit gatividhi k ho?</td>\n",
       "      <td>Nepali Lok Geet, Nepal ko ek prasiddha sangit ...</td>\n",
       "    </tr>\n",
       "    <tr>\n",
       "      <th>4024</th>\n",
       "      <td>RAG</td>\n",
       "      <td>Answer the following question by looking at th...</td>\n",
       "      <td>SmartHub Electronics, Biratnagar-5, Mahendra R...</td>\n",
       "      <td>Refund approve bhaye pachi kati din ma process...</td>\n",
       "      <td>Refund approve bhaye pachi 7 din bhitra proces...</td>\n",
       "    </tr>\n",
       "    <tr>\n",
       "      <th>3338</th>\n",
       "      <td>translate</td>\n",
       "      <td>Translate the text below from English to Nepali:</td>\n",
       "      <td></td>\n",
       "      <td>Music gives voice to human emotions and can br...</td>\n",
       "      <td>Sangeet le manushya ko bhawana haru lai awaz d...</td>\n",
       "    </tr>\n",
       "    <tr>\n",
       "      <th>8340</th>\n",
       "      <td>translate</td>\n",
       "      <td>Translate the text below from Nepali to English:</td>\n",
       "      <td></td>\n",
       "      <td>Football ek yasto sport ho jasle competition m...</td>\n",
       "      <td>Football is a sport that thrives on competitio...</td>\n",
       "    </tr>\n",
       "    <tr>\n",
       "      <th>3807</th>\n",
       "      <td>RAG</td>\n",
       "      <td>Answer the following question by looking at th...</td>\n",
       "      <td>Dharan-14, Bhanu Chowk ma TechWorld Electronic...</td>\n",
       "      <td>Eco-friendly packaging ma k use garincha?</td>\n",
       "      <td>Recyclable materials.</td>\n",
       "    </tr>\n",
       "    <tr>\n",
       "      <th>318</th>\n",
       "      <td>translate</td>\n",
       "      <td>Translate the text below from English to Nepali:</td>\n",
       "      <td></td>\n",
       "      <td>The education sector in Nepal is facing challe...</td>\n",
       "      <td>Nepal ko education sector maa chunautiharu chh...</td>\n",
       "    </tr>\n",
       "    <tr>\n",
       "      <th>5258</th>\n",
       "      <td>translate</td>\n",
       "      <td>Translate the text below from Nepali to English:</td>\n",
       "      <td></td>\n",
       "      <td>Tapailai le malai recommend gareko kitab ekdam...</td>\n",
       "      <td>The book you recommended to me was absolutely ...</td>\n",
       "    </tr>\n",
       "  </tbody>\n",
       "</table>\n",
       "</div>"
      ],
      "text/plain": [
       "       category                                        instruction  \\\n",
       "4787  translate  Translate the given text from English language...   \n",
       "166     open_qa  You are a helpful assistant. Answer the given ...   \n",
       "807   translate   Translate the text below from English to Nepali:   \n",
       "7971        RAG  Answer the following question by looking at th...   \n",
       "4024        RAG  Answer the following question by looking at th...   \n",
       "3338  translate   Translate the text below from English to Nepali:   \n",
       "8340  translate   Translate the text below from Nepali to English:   \n",
       "3807        RAG  Answer the following question by looking at th...   \n",
       "318   translate   Translate the text below from English to Nepali:   \n",
       "5258  translate   Translate the text below from Nepali to English:   \n",
       "\n",
       "                                                context  \\\n",
       "4787                                                NaN   \n",
       "166                                                 NaN   \n",
       "807                                                       \n",
       "7971  Nepal ko ek prasiddha sangit gatividhi 'Nepali...   \n",
       "4024  SmartHub Electronics, Biratnagar-5, Mahendra R...   \n",
       "3338                                                      \n",
       "8340                                                      \n",
       "3807  Dharan-14, Bhanu Chowk ma TechWorld Electronic...   \n",
       "318                                                       \n",
       "5258                                                      \n",
       "\n",
       "                                               question  \\\n",
       "4787  The children loved visiting their grandparents...   \n",
       "166                    Nepal ko rajdhani ko naam ke ho?   \n",
       "807   Today I felt like eating momo, but it’s a bit ...   \n",
       "7971       Nepal ko ek prasiddha sangit gatividhi k ho?   \n",
       "4024  Refund approve bhaye pachi kati din ma process...   \n",
       "3338  Music gives voice to human emotions and can br...   \n",
       "8340  Football ek yasto sport ho jasle competition m...   \n",
       "3807          Eco-friendly packaging ma k use garincha?   \n",
       "318   The education sector in Nepal is facing challe...   \n",
       "5258  Tapailai le malai recommend gareko kitab ekdam...   \n",
       "\n",
       "                                               response  \n",
       "4787  Ketaketi haru afno hajurbuwa hajurama ko ghar ...  \n",
       "166                     Nepal ko rajdhani Kathmandu ho.  \n",
       "807   Aajai momo khana man lagyo, tara ghar ma banun...  \n",
       "7971  Nepali Lok Geet, Nepal ko ek prasiddha sangit ...  \n",
       "4024  Refund approve bhaye pachi 7 din bhitra proces...  \n",
       "3338  Sangeet le manushya ko bhawana haru lai awaz d...  \n",
       "8340  Football is a sport that thrives on competitio...  \n",
       "3807                              Recyclable materials.  \n",
       "318   Nepal ko education sector maa chunautiharu chh...  \n",
       "5258  The book you recommended to me was absolutely ...  "
      ]
     },
     "execution_count": 5,
     "metadata": {},
     "output_type": "execute_result"
    }
   ],
   "source": [
    "df_old.sample(10)"
   ]
  },
  {
   "cell_type": "markdown",
   "metadata": {},
   "source": [
    "## New Dataset"
   ]
  },
  {
   "cell_type": "code",
   "execution_count": 9,
   "metadata": {},
   "outputs": [],
   "source": [
    "df_new = pd.read_csv(\"./version_3.csv\")"
   ]
  },
  {
   "cell_type": "code",
   "execution_count": 10,
   "metadata": {},
   "outputs": [
    {
     "data": {
      "text/plain": [
       "(5921, 4)"
      ]
     },
     "execution_count": 10,
     "metadata": {},
     "output_type": "execute_result"
    }
   ],
   "source": [
    "df_new.shape"
   ]
  },
  {
   "cell_type": "code",
   "execution_count": 11,
   "metadata": {},
   "outputs": [
    {
     "data": {
      "text/plain": [
       "Index(['category', 'context', 'question', 'response'], dtype='object')"
      ]
     },
     "execution_count": 11,
     "metadata": {},
     "output_type": "execute_result"
    }
   ],
   "source": [
    "df_new.columns"
   ]
  },
  {
   "cell_type": "code",
   "execution_count": 24,
   "metadata": {},
   "outputs": [
    {
     "data": {
      "text/html": [
       "<div>\n",
       "<style scoped>\n",
       "    .dataframe tbody tr th:only-of-type {\n",
       "        vertical-align: middle;\n",
       "    }\n",
       "\n",
       "    .dataframe tbody tr th {\n",
       "        vertical-align: top;\n",
       "    }\n",
       "\n",
       "    .dataframe thead th {\n",
       "        text-align: right;\n",
       "    }\n",
       "</style>\n",
       "<table border=\"1\" class=\"dataframe\">\n",
       "  <thead>\n",
       "    <tr style=\"text-align: right;\">\n",
       "      <th></th>\n",
       "      <th>category</th>\n",
       "      <th>context</th>\n",
       "      <th>question</th>\n",
       "      <th>response</th>\n",
       "    </tr>\n",
       "  </thead>\n",
       "  <tbody>\n",
       "    <tr>\n",
       "      <th>3101</th>\n",
       "      <td>alpaca</td>\n",
       "      <td>No, we require a valid reason for all returns,...</td>\n",
       "      <td>Store ma product ko return without reason milcha?</td>\n",
       "      <td>Hajur, reason bina product return garna mildai...</td>\n",
       "    </tr>\n",
       "    <tr>\n",
       "      <th>4453</th>\n",
       "      <td>alpaca</td>\n",
       "      <td>NaN</td>\n",
       "      <td>What is the concept of the carbon footprint? E...</td>\n",
       "      <td>Carbon footprint bhaneko measure ho jasma huma...</td>\n",
       "    </tr>\n",
       "    <tr>\n",
       "      <th>3590</th>\n",
       "      <td>alpaca</td>\n",
       "      <td>Yo laptop ko RAM upgrade garna sakincha?</td>\n",
       "      <td>Classify whether this query is related to ecom...</td>\n",
       "      <td>Ecommerce</td>\n",
       "    </tr>\n",
       "    <tr>\n",
       "      <th>2794</th>\n",
       "      <td>alpaca</td>\n",
       "      <td>Serena Williams has won 23 Grand Slam singles ...</td>\n",
       "      <td>Serena Williams le kati Grand Slam titles jite...</td>\n",
       "      <td>Serena Williams le afno career ma 23 Grand Sla...</td>\n",
       "    </tr>\n",
       "    <tr>\n",
       "      <th>5805</th>\n",
       "      <td>nep-eng</td>\n",
       "      <td>NaN</td>\n",
       "      <td>momo ko recipe sikna maile YouTube video herne...</td>\n",
       "      <td>To learn the momo recipe, I am thinking of wat...</td>\n",
       "    </tr>\n",
       "  </tbody>\n",
       "</table>\n",
       "</div>"
      ],
      "text/plain": [
       "     category                                            context  \\\n",
       "3101   alpaca  No, we require a valid reason for all returns,...   \n",
       "4453   alpaca                                                NaN   \n",
       "3590   alpaca           Yo laptop ko RAM upgrade garna sakincha?   \n",
       "2794   alpaca  Serena Williams has won 23 Grand Slam singles ...   \n",
       "5805  nep-eng                                                NaN   \n",
       "\n",
       "                                               question  \\\n",
       "3101  Store ma product ko return without reason milcha?   \n",
       "4453  What is the concept of the carbon footprint? E...   \n",
       "3590  Classify whether this query is related to ecom...   \n",
       "2794  Serena Williams le kati Grand Slam titles jite...   \n",
       "5805  momo ko recipe sikna maile YouTube video herne...   \n",
       "\n",
       "                                               response  \n",
       "3101  Hajur, reason bina product return garna mildai...  \n",
       "4453  Carbon footprint bhaneko measure ho jasma huma...  \n",
       "3590                                          Ecommerce  \n",
       "2794  Serena Williams le afno career ma 23 Grand Sla...  \n",
       "5805  To learn the momo recipe, I am thinking of wat...  "
      ]
     },
     "execution_count": 24,
     "metadata": {},
     "output_type": "execute_result"
    }
   ],
   "source": [
    "df_new.sample(5)"
   ]
  },
  {
   "cell_type": "code",
   "execution_count": 18,
   "metadata": {},
   "outputs": [
    {
     "data": {
      "text/plain": [
       "array(['alpaca', 'open_qa', 'RAG', 'nep-eng'], dtype=object)"
      ]
     },
     "execution_count": 18,
     "metadata": {},
     "output_type": "execute_result"
    }
   ],
   "source": [
    "df_new[\"category\"].unique()"
   ]
  },
  {
   "cell_type": "code",
   "execution_count": 21,
   "metadata": {},
   "outputs": [],
   "source": [
    "def generate_instruction(category):\n",
    "    if category == \"nep-eng\":\n",
    "        return \"Translate the given text in Nepali to English.\"\n",
    "    elif category == \"open_qa\":\n",
    "        return \"You are a helpful AI assistant. Answer the user question:\"\n",
    "    elif category == \"RAG\":\n",
    "        return \"Answer the question using the context if it is helpful to answer the question.\"\n",
    "    else:\n",
    "        return \"\""
   ]
  },
  {
   "cell_type": "code",
   "execution_count": 25,
   "metadata": {},
   "outputs": [],
   "source": [
    "df_new[\"instruction\"] = df_new[\"category\"].apply(generate_instruction)"
   ]
  },
  {
   "cell_type": "code",
   "execution_count": 29,
   "metadata": {},
   "outputs": [
    {
     "data": {
      "text/html": [
       "<div>\n",
       "<style scoped>\n",
       "    .dataframe tbody tr th:only-of-type {\n",
       "        vertical-align: middle;\n",
       "    }\n",
       "\n",
       "    .dataframe tbody tr th {\n",
       "        vertical-align: top;\n",
       "    }\n",
       "\n",
       "    .dataframe thead th {\n",
       "        text-align: right;\n",
       "    }\n",
       "</style>\n",
       "<table border=\"1\" class=\"dataframe\">\n",
       "  <thead>\n",
       "    <tr style=\"text-align: right;\">\n",
       "      <th></th>\n",
       "      <th>category</th>\n",
       "      <th>context</th>\n",
       "      <th>question</th>\n",
       "      <th>response</th>\n",
       "      <th>instruction</th>\n",
       "    </tr>\n",
       "  </thead>\n",
       "  <tbody>\n",
       "    <tr>\n",
       "      <th>5337</th>\n",
       "      <td>RAG</td>\n",
       "      <td>Hamro store ma sabai payment methods ma transp...</td>\n",
       "      <td>Online payment ma additional charge lagcha?</td>\n",
       "      <td>Kahi payment gateways ma additional charge lag...</td>\n",
       "      <td>Answer the question using the context if it is...</td>\n",
       "    </tr>\n",
       "    <tr>\n",
       "      <th>550</th>\n",
       "      <td>alpaca</td>\n",
       "      <td>NaN</td>\n",
       "      <td>Nepal ma famous food ko naam lekha ani explain...</td>\n",
       "      <td>Momo Nepal ma ekdam famous food ho, jun steame...</td>\n",
       "      <td></td>\n",
       "    </tr>\n",
       "    <tr>\n",
       "      <th>4282</th>\n",
       "      <td>alpaca</td>\n",
       "      <td>NaN</td>\n",
       "      <td>Describe the concept of robotic surgery in Rom...</td>\n",
       "      <td>Robotic surgery bhaneko medical procedure ho j...</td>\n",
       "      <td></td>\n",
       "    </tr>\n",
       "    <tr>\n",
       "      <th>534</th>\n",
       "      <td>alpaca</td>\n",
       "      <td>NaN</td>\n",
       "      <td>Ek line ma describe gara: 'Nepal ko political ...</td>\n",
       "      <td>Nepal ko political history monarchy bata democ...</td>\n",
       "      <td></td>\n",
       "    </tr>\n",
       "    <tr>\n",
       "      <th>247</th>\n",
       "      <td>alpaca</td>\n",
       "      <td>I am fine, thank you.</td>\n",
       "      <td>Tapailai kasto xa? Tapai le yo text translate ...</td>\n",
       "      <td>Ma thik chu, dhanyabad.</td>\n",
       "      <td></td>\n",
       "    </tr>\n",
       "    <tr>\n",
       "      <th>5133</th>\n",
       "      <td>RAG</td>\n",
       "      <td>Product: LG Single Door Refrigerator, Price: 2...</td>\n",
       "      <td>LG refrigerator ko barema aru jankari dinus.</td>\n",
       "      <td>LG Single Door Refrigerator ko barema jankari ...</td>\n",
       "      <td>Answer the question using the context if it is...</td>\n",
       "    </tr>\n",
       "    <tr>\n",
       "      <th>2536</th>\n",
       "      <td>alpaca</td>\n",
       "      <td>NaN</td>\n",
       "      <td>Yo context bata answer deu: 'Nepal ko jamma po...</td>\n",
       "      <td>Nepal ma Kathmandu bahek 2 crore 80 lakh manch...</td>\n",
       "      <td></td>\n",
       "    </tr>\n",
       "    <tr>\n",
       "      <th>2628</th>\n",
       "      <td>alpaca</td>\n",
       "      <td>NaN</td>\n",
       "      <td>Yo context bata answer deu: 'Nepal ma 7 ota pr...</td>\n",
       "      <td>Province 4 bahek 6 ota province ma thorai jana...</td>\n",
       "      <td></td>\n",
       "    </tr>\n",
       "    <tr>\n",
       "      <th>5899</th>\n",
       "      <td>nep-eng</td>\n",
       "      <td>NaN</td>\n",
       "      <td>music playlist maa naya trending songs add gar...</td>\n",
       "      <td>I added new trending songs to my music playlis...</td>\n",
       "      <td>Translate the given text in Nepali to English.</td>\n",
       "    </tr>\n",
       "    <tr>\n",
       "      <th>17</th>\n",
       "      <td>alpaca</td>\n",
       "      <td>20 ma 15 thapnu ani 10 ghataunu.</td>\n",
       "      <td>Yo problem ko solution step-wise lekha gara.</td>\n",
       "      <td>Step 1: 20 ma 15 thapnu = 35\\nStep 2: 35 ma 10...</td>\n",
       "      <td></td>\n",
       "    </tr>\n",
       "    <tr>\n",
       "      <th>5812</th>\n",
       "      <td>nep-eng</td>\n",
       "      <td>NaN</td>\n",
       "      <td>hami school reunion ko plan banai raheko chau....</td>\n",
       "      <td>We are planning the school reunion. Now we dis...</td>\n",
       "      <td>Translate the given text in Nepali to English.</td>\n",
       "    </tr>\n",
       "    <tr>\n",
       "      <th>5200</th>\n",
       "      <td>RAG</td>\n",
       "      <td>Product: Samsung Galaxy Buds 2 Pro, Price: 220...</td>\n",
       "      <td>Samsung ko Galaxy Buds cha?</td>\n",
       "      <td>Ho, Samsung Galaxy Buds 2 Pro hami sanga avail...</td>\n",
       "      <td>Answer the question using the context if it is...</td>\n",
       "    </tr>\n",
       "    <tr>\n",
       "      <th>2960</th>\n",
       "      <td>alpaca</td>\n",
       "      <td>Yes, we have a membership program that offers ...</td>\n",
       "      <td>Store ma membership program cha?</td>\n",
       "      <td>Hajur, store ma membership program cha. Discou...</td>\n",
       "      <td></td>\n",
       "    </tr>\n",
       "    <tr>\n",
       "      <th>4626</th>\n",
       "      <td>open_qa</td>\n",
       "      <td>NaN</td>\n",
       "      <td>Experiential learning kina students ko underst...</td>\n",
       "      <td>Experiential learning le practical exposure di...</td>\n",
       "      <td>You are a helpful AI assistant. Answer the use...</td>\n",
       "    </tr>\n",
       "    <tr>\n",
       "      <th>5676</th>\n",
       "      <td>RAG</td>\n",
       "      <td>Store ko name: PaySmart. Location: Kathmandu. ...</td>\n",
       "      <td>store ma payment method kasari garne?</td>\n",
       "      <td>Cash, card, ya mobile payment bata kehi pani m...</td>\n",
       "      <td>Answer the question using the context if it is...</td>\n",
       "    </tr>\n",
       "  </tbody>\n",
       "</table>\n",
       "</div>"
      ],
      "text/plain": [
       "     category                                            context  \\\n",
       "5337      RAG  Hamro store ma sabai payment methods ma transp...   \n",
       "550    alpaca                                                NaN   \n",
       "4282   alpaca                                                NaN   \n",
       "534    alpaca                                                NaN   \n",
       "247    alpaca                              I am fine, thank you.   \n",
       "5133      RAG  Product: LG Single Door Refrigerator, Price: 2...   \n",
       "2536   alpaca                                                NaN   \n",
       "2628   alpaca                                                NaN   \n",
       "5899  nep-eng                                                NaN   \n",
       "17     alpaca                   20 ma 15 thapnu ani 10 ghataunu.   \n",
       "5812  nep-eng                                                NaN   \n",
       "5200      RAG  Product: Samsung Galaxy Buds 2 Pro, Price: 220...   \n",
       "2960   alpaca  Yes, we have a membership program that offers ...   \n",
       "4626  open_qa                                                NaN   \n",
       "5676      RAG  Store ko name: PaySmart. Location: Kathmandu. ...   \n",
       "\n",
       "                                               question  \\\n",
       "5337        Online payment ma additional charge lagcha?   \n",
       "550   Nepal ma famous food ko naam lekha ani explain...   \n",
       "4282  Describe the concept of robotic surgery in Rom...   \n",
       "534   Ek line ma describe gara: 'Nepal ko political ...   \n",
       "247   Tapailai kasto xa? Tapai le yo text translate ...   \n",
       "5133       LG refrigerator ko barema aru jankari dinus.   \n",
       "2536  Yo context bata answer deu: 'Nepal ko jamma po...   \n",
       "2628  Yo context bata answer deu: 'Nepal ma 7 ota pr...   \n",
       "5899  music playlist maa naya trending songs add gar...   \n",
       "17         Yo problem ko solution step-wise lekha gara.   \n",
       "5812  hami school reunion ko plan banai raheko chau....   \n",
       "5200                        Samsung ko Galaxy Buds cha?   \n",
       "2960                   Store ma membership program cha?   \n",
       "4626  Experiential learning kina students ko underst...   \n",
       "5676              store ma payment method kasari garne?   \n",
       "\n",
       "                                               response  \\\n",
       "5337  Kahi payment gateways ma additional charge lag...   \n",
       "550   Momo Nepal ma ekdam famous food ho, jun steame...   \n",
       "4282  Robotic surgery bhaneko medical procedure ho j...   \n",
       "534   Nepal ko political history monarchy bata democ...   \n",
       "247                             Ma thik chu, dhanyabad.   \n",
       "5133  LG Single Door Refrigerator ko barema jankari ...   \n",
       "2536  Nepal ma Kathmandu bahek 2 crore 80 lakh manch...   \n",
       "2628  Province 4 bahek 6 ota province ma thorai jana...   \n",
       "5899  I added new trending songs to my music playlis...   \n",
       "17    Step 1: 20 ma 15 thapnu = 35\\nStep 2: 35 ma 10...   \n",
       "5812  We are planning the school reunion. Now we dis...   \n",
       "5200  Ho, Samsung Galaxy Buds 2 Pro hami sanga avail...   \n",
       "2960  Hajur, store ma membership program cha. Discou...   \n",
       "4626  Experiential learning le practical exposure di...   \n",
       "5676  Cash, card, ya mobile payment bata kehi pani m...   \n",
       "\n",
       "                                            instruction  \n",
       "5337  Answer the question using the context if it is...  \n",
       "550                                                      \n",
       "4282                                                     \n",
       "534                                                      \n",
       "247                                                      \n",
       "5133  Answer the question using the context if it is...  \n",
       "2536                                                     \n",
       "2628                                                     \n",
       "5899     Translate the given text in Nepali to English.  \n",
       "17                                                       \n",
       "5812     Translate the given text in Nepali to English.  \n",
       "5200  Answer the question using the context if it is...  \n",
       "2960                                                     \n",
       "4626  You are a helpful AI assistant. Answer the use...  \n",
       "5676  Answer the question using the context if it is...  "
      ]
     },
     "execution_count": 29,
     "metadata": {},
     "output_type": "execute_result"
    }
   ],
   "source": [
    "df_new.sample(15)"
   ]
  },
  {
   "cell_type": "markdown",
   "metadata": {},
   "source": [
    "## Merge dataset"
   ]
  },
  {
   "cell_type": "code",
   "execution_count": 30,
   "metadata": {},
   "outputs": [],
   "source": [
    "df_combined_v2_v3 = pd.concat([df_old, df_new], ignore_index=True)"
   ]
  },
  {
   "cell_type": "code",
   "execution_count": 31,
   "metadata": {},
   "outputs": [
    {
     "data": {
      "text/plain": [
       "(16614, 5)"
      ]
     },
     "execution_count": 31,
     "metadata": {},
     "output_type": "execute_result"
    }
   ],
   "source": [
    "df_combined_v2_v3.shape"
   ]
  },
  {
   "cell_type": "code",
   "execution_count": 34,
   "metadata": {},
   "outputs": [],
   "source": [
    "df_combined_v2_v3[\"category\"] = df_combined_v2_v3[\"category\"].apply(lambda x: \"translate\" if x == \"nep-eng\" else x)"
   ]
  },
  {
   "cell_type": "code",
   "execution_count": 35,
   "metadata": {},
   "outputs": [
    {
     "data": {
      "text/plain": [
       "category\n",
       "RAG          5225\n",
       "alpaca       4498\n",
       "translate    3837\n",
       "open_qa      2831\n",
       "summary       223\n",
       "Name: count, dtype: int64"
      ]
     },
     "execution_count": 35,
     "metadata": {},
     "output_type": "execute_result"
    }
   ],
   "source": [
    "df_combined_v2_v3[\"category\"].value_counts()"
   ]
  },
  {
   "cell_type": "code",
   "execution_count": 36,
   "metadata": {},
   "outputs": [
    {
     "data": {
      "text/plain": [
       "(16614, 5)"
      ]
     },
     "execution_count": 36,
     "metadata": {},
     "output_type": "execute_result"
    }
   ],
   "source": [
    "df_combined_v2_v3.shape"
   ]
  },
  {
   "cell_type": "code",
   "execution_count": 37,
   "metadata": {},
   "outputs": [
    {
     "data": {
      "text/html": [
       "<div>\n",
       "<style scoped>\n",
       "    .dataframe tbody tr th:only-of-type {\n",
       "        vertical-align: middle;\n",
       "    }\n",
       "\n",
       "    .dataframe tbody tr th {\n",
       "        vertical-align: top;\n",
       "    }\n",
       "\n",
       "    .dataframe thead th {\n",
       "        text-align: right;\n",
       "    }\n",
       "</style>\n",
       "<table border=\"1\" class=\"dataframe\">\n",
       "  <thead>\n",
       "    <tr style=\"text-align: right;\">\n",
       "      <th></th>\n",
       "      <th>category</th>\n",
       "      <th>instruction</th>\n",
       "      <th>context</th>\n",
       "      <th>question</th>\n",
       "      <th>response</th>\n",
       "    </tr>\n",
       "  </thead>\n",
       "  <tbody>\n",
       "    <tr>\n",
       "      <th>7081</th>\n",
       "      <td>RAG</td>\n",
       "      <td>Answer the following question by looking at th...</td>\n",
       "      <td>Nepal ko sabai bhanda thulo mantralaya Ministr...</td>\n",
       "      <td>Nepal ko sabai bhanda thulo mantralaya k ho?</td>\n",
       "      <td>Ministry of Home Affairs, Nepal ko sabai bhand...</td>\n",
       "    </tr>\n",
       "    <tr>\n",
       "      <th>9852</th>\n",
       "      <td>open_qa</td>\n",
       "      <td>You are a helpful assistant. Answer the given ...</td>\n",
       "      <td>NaN</td>\n",
       "      <td>Ek prem katha ko suruwat lekha.</td>\n",
       "      <td>Ek din, ek ujyalai bhari bhaeko sahar ma, Aara...</td>\n",
       "    </tr>\n",
       "    <tr>\n",
       "      <th>5146</th>\n",
       "      <td>RAG</td>\n",
       "      <td>Answer the following question by looking at th...</td>\n",
       "      <td>Hajur, hamro store ma free Wi-Fi available chh...</td>\n",
       "      <td>Store ma Wi-Fi available chha?</td>\n",
       "      <td>Hajur, free Wi-Fi available chha. Staff le pas...</td>\n",
       "    </tr>\n",
       "    <tr>\n",
       "      <th>15579</th>\n",
       "      <td>open_qa</td>\n",
       "      <td>You are a helpful AI assistant. Answer the use...</td>\n",
       "      <td>NaN</td>\n",
       "      <td>World ko sabai bhanda popular TV show kun ho r...</td>\n",
       "      <td>World ko sabai bhanda popular TV show 'Game of...</td>\n",
       "    </tr>\n",
       "    <tr>\n",
       "      <th>8225</th>\n",
       "      <td>RAG</td>\n",
       "      <td>Answer the following question by looking at th...</td>\n",
       "      <td>Hamro Pasal ma smartphone, laptop, camera, ra ...</td>\n",
       "      <td>Electronics item ko delivery charge kati ho?</td>\n",
       "      <td>Kathmandu upatyaka vitra free delivery huncha,...</td>\n",
       "    </tr>\n",
       "    <tr>\n",
       "      <th>603</th>\n",
       "      <td>open_qa</td>\n",
       "      <td>You are a helpful assistant. Answer the given ...</td>\n",
       "      <td>I enjoy reading books during my free time.</td>\n",
       "      <td>Nepali ma yo English line ko anuwaad garnuhos.</td>\n",
       "      <td>Ma mero fursad ko samaya ma kitab padhna man p...</td>\n",
       "    </tr>\n",
       "    <tr>\n",
       "      <th>15364</th>\n",
       "      <td>open_qa</td>\n",
       "      <td>You are a helpful AI assistant. Answer the use...</td>\n",
       "      <td>NaN</td>\n",
       "      <td>Nepal ma kati wota district court chha?</td>\n",
       "      <td>Nepal ma 77 wota district court chha.</td>\n",
       "    </tr>\n",
       "    <tr>\n",
       "      <th>6334</th>\n",
       "      <td>open_qa</td>\n",
       "      <td>You are a helpful assistant. Answer the given ...</td>\n",
       "      <td>Community forest ko role batainus.</td>\n",
       "      <td>Nepal ma forest conservation ko lagi kasari co...</td>\n",
       "      <td>Local community forest groups ma join garnus, ...</td>\n",
       "    </tr>\n",
       "    <tr>\n",
       "      <th>5041</th>\n",
       "      <td>open_qa</td>\n",
       "      <td>You are a helpful assistant. Answer the given ...</td>\n",
       "      <td>NaN</td>\n",
       "      <td>Nepali ma 'Financial Planning' ko arth bataunu...</td>\n",
       "      <td>'Financial Planning' ko arth Nepali ma 'Aarthi...</td>\n",
       "    </tr>\n",
       "    <tr>\n",
       "      <th>8245</th>\n",
       "      <td>open_qa</td>\n",
       "      <td>You are a helpful assistant. Answer the given ...</td>\n",
       "      <td>Maile patrika padhe.</td>\n",
       "      <td>Yo sentence ko passive voice ma anuwaad garnuhos.</td>\n",
       "      <td>Patrika padhiyo.</td>\n",
       "    </tr>\n",
       "    <tr>\n",
       "      <th>14651</th>\n",
       "      <td>alpaca</td>\n",
       "      <td></td>\n",
       "      <td>NaN</td>\n",
       "      <td>Write a Roman Nepali poem about the changing s...</td>\n",
       "      <td>Basant ma phul haru khilchan, Grishma ma gham ...</td>\n",
       "    </tr>\n",
       "    <tr>\n",
       "      <th>12898</th>\n",
       "      <td>alpaca</td>\n",
       "      <td></td>\n",
       "      <td>NaN</td>\n",
       "      <td>Yo sentence lai Roman Nepali ma lekha: 'The ch...</td>\n",
       "      <td>Baccha haru park ma kheldai chan.</td>\n",
       "    </tr>\n",
       "    <tr>\n",
       "      <th>15454</th>\n",
       "      <td>open_qa</td>\n",
       "      <td>You are a helpful AI assistant. Answer the use...</td>\n",
       "      <td>NaN</td>\n",
       "      <td>World ko sabai bhanda popular language kun ho?</td>\n",
       "      <td>World ko sabai bhanda popular language English...</td>\n",
       "    </tr>\n",
       "    <tr>\n",
       "      <th>9699</th>\n",
       "      <td>translate</td>\n",
       "      <td>Translate the text below from English to Nepali:</td>\n",
       "      <td></td>\n",
       "      <td>I really love cooking, especially trying new r...</td>\n",
       "      <td>Malai ta cooking dherai man parxa, especially ...</td>\n",
       "    </tr>\n",
       "    <tr>\n",
       "      <th>428</th>\n",
       "      <td>translate</td>\n",
       "      <td>Translate the text below from Nepali to English:</td>\n",
       "      <td></td>\n",
       "      <td>Maile hare bihana yoga abhyas garirakheko chu,...</td>\n",
       "      <td>I have been practicing yoga every morning, and...</td>\n",
       "    </tr>\n",
       "  </tbody>\n",
       "</table>\n",
       "</div>"
      ],
      "text/plain": [
       "        category                                        instruction  \\\n",
       "7081         RAG  Answer the following question by looking at th...   \n",
       "9852     open_qa  You are a helpful assistant. Answer the given ...   \n",
       "5146         RAG  Answer the following question by looking at th...   \n",
       "15579    open_qa  You are a helpful AI assistant. Answer the use...   \n",
       "8225         RAG  Answer the following question by looking at th...   \n",
       "603      open_qa  You are a helpful assistant. Answer the given ...   \n",
       "15364    open_qa  You are a helpful AI assistant. Answer the use...   \n",
       "6334     open_qa  You are a helpful assistant. Answer the given ...   \n",
       "5041     open_qa  You are a helpful assistant. Answer the given ...   \n",
       "8245     open_qa  You are a helpful assistant. Answer the given ...   \n",
       "14651     alpaca                                                      \n",
       "12898     alpaca                                                      \n",
       "15454    open_qa  You are a helpful AI assistant. Answer the use...   \n",
       "9699   translate   Translate the text below from English to Nepali:   \n",
       "428    translate   Translate the text below from Nepali to English:   \n",
       "\n",
       "                                                 context  \\\n",
       "7081   Nepal ko sabai bhanda thulo mantralaya Ministr...   \n",
       "9852                                                 NaN   \n",
       "5146   Hajur, hamro store ma free Wi-Fi available chh...   \n",
       "15579                                                NaN   \n",
       "8225   Hamro Pasal ma smartphone, laptop, camera, ra ...   \n",
       "603           I enjoy reading books during my free time.   \n",
       "15364                                                NaN   \n",
       "6334                  Community forest ko role batainus.   \n",
       "5041                                                 NaN   \n",
       "8245                                Maile patrika padhe.   \n",
       "14651                                                NaN   \n",
       "12898                                                NaN   \n",
       "15454                                                NaN   \n",
       "9699                                                       \n",
       "428                                                        \n",
       "\n",
       "                                                question  \\\n",
       "7081        Nepal ko sabai bhanda thulo mantralaya k ho?   \n",
       "9852                     Ek prem katha ko suruwat lekha.   \n",
       "5146                      Store ma Wi-Fi available chha?   \n",
       "15579  World ko sabai bhanda popular TV show kun ho r...   \n",
       "8225        Electronics item ko delivery charge kati ho?   \n",
       "603       Nepali ma yo English line ko anuwaad garnuhos.   \n",
       "15364            Nepal ma kati wota district court chha?   \n",
       "6334   Nepal ma forest conservation ko lagi kasari co...   \n",
       "5041   Nepali ma 'Financial Planning' ko arth bataunu...   \n",
       "8245   Yo sentence ko passive voice ma anuwaad garnuhos.   \n",
       "14651  Write a Roman Nepali poem about the changing s...   \n",
       "12898  Yo sentence lai Roman Nepali ma lekha: 'The ch...   \n",
       "15454     World ko sabai bhanda popular language kun ho?   \n",
       "9699   I really love cooking, especially trying new r...   \n",
       "428    Maile hare bihana yoga abhyas garirakheko chu,...   \n",
       "\n",
       "                                                response  \n",
       "7081   Ministry of Home Affairs, Nepal ko sabai bhand...  \n",
       "9852   Ek din, ek ujyalai bhari bhaeko sahar ma, Aara...  \n",
       "5146   Hajur, free Wi-Fi available chha. Staff le pas...  \n",
       "15579  World ko sabai bhanda popular TV show 'Game of...  \n",
       "8225   Kathmandu upatyaka vitra free delivery huncha,...  \n",
       "603    Ma mero fursad ko samaya ma kitab padhna man p...  \n",
       "15364              Nepal ma 77 wota district court chha.  \n",
       "6334   Local community forest groups ma join garnus, ...  \n",
       "5041   'Financial Planning' ko arth Nepali ma 'Aarthi...  \n",
       "8245                                    Patrika padhiyo.  \n",
       "14651  Basant ma phul haru khilchan, Grishma ma gham ...  \n",
       "12898                  Baccha haru park ma kheldai chan.  \n",
       "15454  World ko sabai bhanda popular language English...  \n",
       "9699   Malai ta cooking dherai man parxa, especially ...  \n",
       "428    I have been practicing yoga every morning, and...  "
      ]
     },
     "execution_count": 37,
     "metadata": {},
     "output_type": "execute_result"
    }
   ],
   "source": [
    "df_combined_v2_v3.sample(15)"
   ]
  },
  {
   "cell_type": "markdown",
   "metadata": {},
   "source": [
    "## Shuffle and save"
   ]
  },
  {
   "cell_type": "code",
   "execution_count": 38,
   "metadata": {},
   "outputs": [],
   "source": [
    "df_combine_shuffled = df_combined_v2_v3.sample(frac=1).reset_index(drop=True)"
   ]
  },
  {
   "cell_type": "code",
   "execution_count": 39,
   "metadata": {},
   "outputs": [
    {
     "data": {
      "text/plain": [
       "16614"
      ]
     },
     "execution_count": 39,
     "metadata": {},
     "output_type": "execute_result"
    }
   ],
   "source": [
    "df_combine_shuffled.shape[0]"
   ]
  },
  {
   "cell_type": "code",
   "execution_count": 40,
   "metadata": {},
   "outputs": [
    {
     "data": {
      "text/html": [
       "<div>\n",
       "<style scoped>\n",
       "    .dataframe tbody tr th:only-of-type {\n",
       "        vertical-align: middle;\n",
       "    }\n",
       "\n",
       "    .dataframe tbody tr th {\n",
       "        vertical-align: top;\n",
       "    }\n",
       "\n",
       "    .dataframe thead th {\n",
       "        text-align: right;\n",
       "    }\n",
       "</style>\n",
       "<table border=\"1\" class=\"dataframe\">\n",
       "  <thead>\n",
       "    <tr style=\"text-align: right;\">\n",
       "      <th></th>\n",
       "      <th>category</th>\n",
       "      <th>instruction</th>\n",
       "      <th>context</th>\n",
       "      <th>question</th>\n",
       "      <th>response</th>\n",
       "    </tr>\n",
       "  </thead>\n",
       "  <tbody>\n",
       "    <tr>\n",
       "      <th>0</th>\n",
       "      <td>RAG</td>\n",
       "      <td>Answer the following question by looking at th...</td>\n",
       "      <td>Hamro platform ma NIC Asia, Nabil Bank, Global...</td>\n",
       "      <td>mobile banking ko kun kun bank apps support hu...</td>\n",
       "      <td>NIC Asia, Nabil, Global IME, ra anya major ban...</td>\n",
       "    </tr>\n",
       "    <tr>\n",
       "      <th>1</th>\n",
       "      <td>alpaca</td>\n",
       "      <td></td>\n",
       "      <td>NaN</td>\n",
       "      <td>Nepali ko auta old belief ko example lekha.</td>\n",
       "      <td>Dashain ko tika lagda ajako auspicious time ma...</td>\n",
       "    </tr>\n",
       "    <tr>\n",
       "      <th>2</th>\n",
       "      <td>alpaca</td>\n",
       "      <td></td>\n",
       "      <td>NaN</td>\n",
       "      <td>Euta short story lekha about a magical stone.</td>\n",
       "      <td>Euta sano keti le euta magical stone payo. Usl...</td>\n",
       "    </tr>\n",
       "    <tr>\n",
       "      <th>3</th>\n",
       "      <td>alpaca</td>\n",
       "      <td></td>\n",
       "      <td>NaN</td>\n",
       "      <td>What is the concept of bio-inspired robotics? ...</td>\n",
       "      <td>Bio-inspired robotics bhaneko field ho jasma r...</td>\n",
       "    </tr>\n",
       "    <tr>\n",
       "      <th>4</th>\n",
       "      <td>RAG</td>\n",
       "      <td>Answer the following question by looking at th...</td>\n",
       "      <td>Accepted Payment Methods: Credit/Debit Card, E...</td>\n",
       "      <td>Payment garna ko lagi payment dispute resolve ...</td>\n",
       "      <td>Hajur, payment dispute resolve garna 01-234567...</td>\n",
       "    </tr>\n",
       "  </tbody>\n",
       "</table>\n",
       "</div>"
      ],
      "text/plain": [
       "  category                                        instruction  \\\n",
       "0      RAG  Answer the following question by looking at th...   \n",
       "1   alpaca                                                      \n",
       "2   alpaca                                                      \n",
       "3   alpaca                                                      \n",
       "4      RAG  Answer the following question by looking at th...   \n",
       "\n",
       "                                             context  \\\n",
       "0  Hamro platform ma NIC Asia, Nabil Bank, Global...   \n",
       "1                                                NaN   \n",
       "2                                                NaN   \n",
       "3                                                NaN   \n",
       "4  Accepted Payment Methods: Credit/Debit Card, E...   \n",
       "\n",
       "                                            question  \\\n",
       "0  mobile banking ko kun kun bank apps support hu...   \n",
       "1        Nepali ko auta old belief ko example lekha.   \n",
       "2      Euta short story lekha about a magical stone.   \n",
       "3  What is the concept of bio-inspired robotics? ...   \n",
       "4  Payment garna ko lagi payment dispute resolve ...   \n",
       "\n",
       "                                            response  \n",
       "0  NIC Asia, Nabil, Global IME, ra anya major ban...  \n",
       "1  Dashain ko tika lagda ajako auspicious time ma...  \n",
       "2  Euta sano keti le euta magical stone payo. Usl...  \n",
       "3  Bio-inspired robotics bhaneko field ho jasma r...  \n",
       "4  Hajur, payment dispute resolve garna 01-234567...  "
      ]
     },
     "execution_count": 40,
     "metadata": {},
     "output_type": "execute_result"
    }
   ],
   "source": [
    "df_combine_shuffled.head(5)"
   ]
  },
  {
   "cell_type": "code",
   "execution_count": 41,
   "metadata": {},
   "outputs": [
    {
     "data": {
      "text/html": [
       "<div>\n",
       "<style scoped>\n",
       "    .dataframe tbody tr th:only-of-type {\n",
       "        vertical-align: middle;\n",
       "    }\n",
       "\n",
       "    .dataframe tbody tr th {\n",
       "        vertical-align: top;\n",
       "    }\n",
       "\n",
       "    .dataframe thead th {\n",
       "        text-align: right;\n",
       "    }\n",
       "</style>\n",
       "<table border=\"1\" class=\"dataframe\">\n",
       "  <thead>\n",
       "    <tr style=\"text-align: right;\">\n",
       "      <th></th>\n",
       "      <th>category</th>\n",
       "      <th>instruction</th>\n",
       "      <th>context</th>\n",
       "      <th>question</th>\n",
       "      <th>response</th>\n",
       "    </tr>\n",
       "  </thead>\n",
       "  <tbody>\n",
       "    <tr>\n",
       "      <th>16609</th>\n",
       "      <td>RAG</td>\n",
       "      <td>Answer the following question by looking at th...</td>\n",
       "      <td>Tech Store Nepal le Dashain ma 20% discount ch...</td>\n",
       "      <td>Dashain ma kati discount cha mobile phones ra ...</td>\n",
       "      <td>Dashain ma 20% discount cha mobile phones ra e...</td>\n",
       "    </tr>\n",
       "    <tr>\n",
       "      <th>16610</th>\n",
       "      <td>RAG</td>\n",
       "      <td>Answer the question using the context if it is...</td>\n",
       "      <td>Hamro store ma seasonal discounts chalirako ch...</td>\n",
       "      <td>Kun payment methods support garchha?</td>\n",
       "      <td>Hamro store ma eSewa, Khalti, debit card, ra c...</td>\n",
       "    </tr>\n",
       "    <tr>\n",
       "      <th>16611</th>\n",
       "      <td>alpaca</td>\n",
       "      <td></td>\n",
       "      <td>NaN</td>\n",
       "      <td>What is the Internet of Things (IoT)? Explain ...</td>\n",
       "      <td>Internet of Things (IoT) bhaneko ek network ho...</td>\n",
       "    </tr>\n",
       "    <tr>\n",
       "      <th>16612</th>\n",
       "      <td>open_qa</td>\n",
       "      <td>You are a helpful AI assistant. Answer the use...</td>\n",
       "      <td>NaN</td>\n",
       "      <td>Nepal ko sabai bhanda popular singer ko hun?</td>\n",
       "      <td>Nepal ko sabai bhanda popular singer ma Naraya...</td>\n",
       "    </tr>\n",
       "    <tr>\n",
       "      <th>16613</th>\n",
       "      <td>translate</td>\n",
       "      <td>Translate the text below from English to Nepali:</td>\n",
       "      <td></td>\n",
       "      <td>The benefits of a good night’s sleep include i...</td>\n",
       "      <td>Ramro nindra ko fayeda ma gyanatmak karya sudh...</td>\n",
       "    </tr>\n",
       "  </tbody>\n",
       "</table>\n",
       "</div>"
      ],
      "text/plain": [
       "        category                                        instruction  \\\n",
       "16609        RAG  Answer the following question by looking at th...   \n",
       "16610        RAG  Answer the question using the context if it is...   \n",
       "16611     alpaca                                                      \n",
       "16612    open_qa  You are a helpful AI assistant. Answer the use...   \n",
       "16613  translate   Translate the text below from English to Nepali:   \n",
       "\n",
       "                                                 context  \\\n",
       "16609  Tech Store Nepal le Dashain ma 20% discount ch...   \n",
       "16610  Hamro store ma seasonal discounts chalirako ch...   \n",
       "16611                                                NaN   \n",
       "16612                                                NaN   \n",
       "16613                                                      \n",
       "\n",
       "                                                question  \\\n",
       "16609  Dashain ma kati discount cha mobile phones ra ...   \n",
       "16610               Kun payment methods support garchha?   \n",
       "16611  What is the Internet of Things (IoT)? Explain ...   \n",
       "16612       Nepal ko sabai bhanda popular singer ko hun?   \n",
       "16613  The benefits of a good night’s sleep include i...   \n",
       "\n",
       "                                                response  \n",
       "16609  Dashain ma 20% discount cha mobile phones ra e...  \n",
       "16610  Hamro store ma eSewa, Khalti, debit card, ra c...  \n",
       "16611  Internet of Things (IoT) bhaneko ek network ho...  \n",
       "16612  Nepal ko sabai bhanda popular singer ma Naraya...  \n",
       "16613  Ramro nindra ko fayeda ma gyanatmak karya sudh...  "
      ]
     },
     "execution_count": 41,
     "metadata": {},
     "output_type": "execute_result"
    }
   ],
   "source": [
    "df_combine_shuffled.tail(5)"
   ]
  },
  {
   "cell_type": "code",
   "execution_count": 42,
   "metadata": {},
   "outputs": [
    {
     "data": {
      "text/html": [
       "<div>\n",
       "<style scoped>\n",
       "    .dataframe tbody tr th:only-of-type {\n",
       "        vertical-align: middle;\n",
       "    }\n",
       "\n",
       "    .dataframe tbody tr th {\n",
       "        vertical-align: top;\n",
       "    }\n",
       "\n",
       "    .dataframe thead th {\n",
       "        text-align: right;\n",
       "    }\n",
       "</style>\n",
       "<table border=\"1\" class=\"dataframe\">\n",
       "  <thead>\n",
       "    <tr style=\"text-align: right;\">\n",
       "      <th></th>\n",
       "      <th>category</th>\n",
       "      <th>instruction</th>\n",
       "      <th>context</th>\n",
       "      <th>question</th>\n",
       "      <th>response</th>\n",
       "    </tr>\n",
       "  </thead>\n",
       "  <tbody>\n",
       "    <tr>\n",
       "      <th>10000</th>\n",
       "      <td>translate</td>\n",
       "      <td>Translate the given text from English language...</td>\n",
       "      <td>NaN</td>\n",
       "      <td>We spent the afternoon at the zoo, watching th...</td>\n",
       "      <td>Hami zoo ma beluka bitayo, janawar haru herda ...</td>\n",
       "    </tr>\n",
       "    <tr>\n",
       "      <th>10500</th>\n",
       "      <td>alpaca</td>\n",
       "      <td></td>\n",
       "      <td>Timi kahile aaudai chau?</td>\n",
       "      <td>Yo sentence ma vayeko action classify gara (Re...</td>\n",
       "      <td>Question</td>\n",
       "    </tr>\n",
       "    <tr>\n",
       "      <th>11000</th>\n",
       "      <td>translate</td>\n",
       "      <td>Translate the text below from English to Nepali:</td>\n",
       "      <td></td>\n",
       "      <td>Nepali movies are gaining popularity both loca...</td>\n",
       "      <td>Nepali movies le locally ra internationally do...</td>\n",
       "    </tr>\n",
       "    <tr>\n",
       "      <th>11500</th>\n",
       "      <td>open_qa</td>\n",
       "      <td>You are a helpful assistant. Answer the given ...</td>\n",
       "      <td></td>\n",
       "      <td>Hi e-commerce</td>\n",
       "      <td>Namaste! Ma e-commerce assistant ho. Aba ke ch...</td>\n",
       "    </tr>\n",
       "    <tr>\n",
       "      <th>12000</th>\n",
       "      <td>RAG</td>\n",
       "      <td>Answer the following question by looking at th...</td>\n",
       "      <td>Product List: Redmi Note 9 Pro, Price: Rs. 200...</td>\n",
       "      <td>iPhone ko price kati ho?</td>\n",
       "      <td>iPhone ko price Rs. 100000 ho.</td>\n",
       "    </tr>\n",
       "    <tr>\n",
       "      <th>12500</th>\n",
       "      <td>RAG</td>\n",
       "      <td>Answer the following question by looking at th...</td>\n",
       "      <td>Damak Tech Store, Bus Park ma cha. Hamile smar...</td>\n",
       "      <td>Tapai ko store ma 25 hazar bhitra ko kun kun m...</td>\n",
       "      <td>Damak Tech Store ma Samsung Galaxy M12, Realme...</td>\n",
       "    </tr>\n",
       "  </tbody>\n",
       "</table>\n",
       "</div>"
      ],
      "text/plain": [
       "        category                                        instruction  \\\n",
       "10000  translate  Translate the given text from English language...   \n",
       "10500     alpaca                                                      \n",
       "11000  translate   Translate the text below from English to Nepali:   \n",
       "11500    open_qa  You are a helpful assistant. Answer the given ...   \n",
       "12000        RAG  Answer the following question by looking at th...   \n",
       "12500        RAG  Answer the following question by looking at th...   \n",
       "\n",
       "                                                 context  \\\n",
       "10000                                                NaN   \n",
       "10500                           Timi kahile aaudai chau?   \n",
       "11000                                                      \n",
       "11500                                                      \n",
       "12000  Product List: Redmi Note 9 Pro, Price: Rs. 200...   \n",
       "12500  Damak Tech Store, Bus Park ma cha. Hamile smar...   \n",
       "\n",
       "                                                question  \\\n",
       "10000  We spent the afternoon at the zoo, watching th...   \n",
       "10500  Yo sentence ma vayeko action classify gara (Re...   \n",
       "11000  Nepali movies are gaining popularity both loca...   \n",
       "11500                                      Hi e-commerce   \n",
       "12000                           iPhone ko price kati ho?   \n",
       "12500  Tapai ko store ma 25 hazar bhitra ko kun kun m...   \n",
       "\n",
       "                                                response  \n",
       "10000  Hami zoo ma beluka bitayo, janawar haru herda ...  \n",
       "10500                                           Question  \n",
       "11000  Nepali movies le locally ra internationally do...  \n",
       "11500  Namaste! Ma e-commerce assistant ho. Aba ke ch...  \n",
       "12000                     iPhone ko price Rs. 100000 ho.  \n",
       "12500  Damak Tech Store ma Samsung Galaxy M12, Realme...  "
      ]
     },
     "execution_count": 42,
     "metadata": {},
     "output_type": "execute_result"
    }
   ],
   "source": [
    "df_combine_shuffled.iloc[10000:13000:500]"
   ]
  },
  {
   "cell_type": "code",
   "execution_count": 46,
   "metadata": {},
   "outputs": [],
   "source": [
    "df_combine_shuffled.to_csv(\"./fine_tune_v3.csv\", index=False)"
   ]
  },
  {
   "cell_type": "markdown",
   "metadata": {},
   "source": [
    "## Test the dataset"
   ]
  },
  {
   "cell_type": "code",
   "execution_count": 47,
   "metadata": {},
   "outputs": [],
   "source": [
    "load_csv = pd.read_csv(\"./fine_tune_v3.csv\")"
   ]
  },
  {
   "cell_type": "code",
   "execution_count": 48,
   "metadata": {},
   "outputs": [
    {
     "data": {
      "text/plain": [
       "Index(['category', 'instruction', 'context', 'question', 'response'], dtype='object')"
      ]
     },
     "execution_count": 48,
     "metadata": {},
     "output_type": "execute_result"
    }
   ],
   "source": [
    "load_csv.columns"
   ]
  },
  {
   "cell_type": "code",
   "execution_count": 49,
   "metadata": {},
   "outputs": [
    {
     "data": {
      "text/plain": [
       "(16614, 5)"
      ]
     },
     "execution_count": 49,
     "metadata": {},
     "output_type": "execute_result"
    }
   ],
   "source": [
    "load_csv.shape"
   ]
  }
 ],
 "metadata": {
  "kernelspec": {
   "display_name": "Python 3",
   "language": "python",
   "name": "python3"
  },
  "language_info": {
   "codemirror_mode": {
    "name": "ipython",
    "version": 3
   },
   "file_extension": ".py",
   "mimetype": "text/x-python",
   "name": "python",
   "nbconvert_exporter": "python",
   "pygments_lexer": "ipython3",
   "version": "3.12.1"
  }
 },
 "nbformat": 4,
 "nbformat_minor": 2
}
