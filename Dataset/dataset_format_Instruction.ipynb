{
 "cells": [
  {
   "cell_type": "code",
   "execution_count": 1,
   "metadata": {},
   "outputs": [],
   "source": [
    "import json\n",
    "import pandas as pd"
   ]
  },
  {
   "cell_type": "code",
   "execution_count": 2,
   "metadata": {},
   "outputs": [],
   "source": [
    "file_name = r\"D:\\\\Roman Nepali Chatbot\\Dataset\\\\Instruction Fine Tune Dataset\\\\data_54.json\""
   ]
  },
  {
   "cell_type": "code",
   "execution_count": 3,
   "metadata": {},
   "outputs": [],
   "source": [
    "# df = pd.DataFrame({}, columns=[\"category\", \"system\", \"instruction\", \"context\", \"question\",\"response\"])\n",
    "df = pd.read_csv(\"./fine_tune_instruction.csv\")"
   ]
  },
  {
   "cell_type": "code",
   "execution_count": 4,
   "metadata": {},
   "outputs": [],
   "source": [
    "with open(file_name, \"r\", encoding=\"utf-8\") as f:\n",
    "    data = f.read()\n",
    "    \n",
    "json_data = json.loads(data)\n",
    "\n",
    "new_df = []\n",
    "for row in json_data:\n",
    "    question = row[\"instruction\"]\n",
    "    context = row[\"context\"]\n",
    "    response = row[\"response\"]\n",
    "    system = \"Talako instruction follow garera user le gareko question ko Roman Nepali Language ma answer vana\\n\\n\"\n",
    "    instruction = \"User le gareko question lai, answer deu.\\n\"\n",
    "    \n",
    "    new_df.append({\n",
    "        \"category\": \"open_qa\",\n",
    "        \"system\": system,\n",
    "        \"instruction\": instruction,\n",
    "        \"question\": question,\n",
    "        \"context\": context,\n",
    "        \"response\": response\n",
    "    })\n",
    "\n",
    "df_new = pd.DataFrame(new_df)"
   ]
  },
  {
   "cell_type": "code",
   "execution_count": 5,
   "metadata": {},
   "outputs": [],
   "source": [
    "df = pd.concat([df, df_new], ignore_index=True)"
   ]
  },
  {
   "cell_type": "code",
   "execution_count": 6,
   "metadata": {},
   "outputs": [
    {
     "data": {
      "text/html": [
       "<div>\n",
       "<style scoped>\n",
       "    .dataframe tbody tr th:only-of-type {\n",
       "        vertical-align: middle;\n",
       "    }\n",
       "\n",
       "    .dataframe tbody tr th {\n",
       "        vertical-align: top;\n",
       "    }\n",
       "\n",
       "    .dataframe thead th {\n",
       "        text-align: right;\n",
       "    }\n",
       "</style>\n",
       "<table border=\"1\" class=\"dataframe\">\n",
       "  <thead>\n",
       "    <tr style=\"text-align: right;\">\n",
       "      <th></th>\n",
       "      <th>category</th>\n",
       "      <th>system</th>\n",
       "      <th>instruction</th>\n",
       "      <th>context</th>\n",
       "      <th>question</th>\n",
       "      <th>response</th>\n",
       "    </tr>\n",
       "  </thead>\n",
       "  <tbody>\n",
       "    <tr>\n",
       "      <th>1934</th>\n",
       "      <td>open_qa</td>\n",
       "      <td>Talako instruction follow garera user le garek...</td>\n",
       "      <td>User le gareko question lai, answer deu.\\n</td>\n",
       "      <td></td>\n",
       "      <td>36 ko 4 bata bhag garne ho bhane kati hunchha?</td>\n",
       "      <td>36 ko 4 bata bhag garne ho bhane 9 hunchha.</td>\n",
       "    </tr>\n",
       "    <tr>\n",
       "      <th>1935</th>\n",
       "      <td>open_qa</td>\n",
       "      <td>Talako instruction follow garera user le garek...</td>\n",
       "      <td>User le gareko question lai, answer deu.\\n</td>\n",
       "      <td></td>\n",
       "      <td>5 ko 8 bata guna garne ho bhane kati milcha?</td>\n",
       "      <td>5 ko 8 bata guna garne ho bhane 40 milcha.</td>\n",
       "    </tr>\n",
       "    <tr>\n",
       "      <th>1936</th>\n",
       "      <td>open_qa</td>\n",
       "      <td>Talako instruction follow garera user le garek...</td>\n",
       "      <td>User le gareko question lai, answer deu.\\n</td>\n",
       "      <td></td>\n",
       "      <td>42 lai 7 bata bhag garne ho bhane kati hunchha?</td>\n",
       "      <td>42 lai 7 bata bhag garne ho bhane 6 hunchha.</td>\n",
       "    </tr>\n",
       "    <tr>\n",
       "      <th>1937</th>\n",
       "      <td>open_qa</td>\n",
       "      <td>Talako instruction follow garera user le garek...</td>\n",
       "      <td>User le gareko question lai, answer deu.\\n</td>\n",
       "      <td></td>\n",
       "      <td>18 bata 9 ghatawa bhaye ko result kati ho?</td>\n",
       "      <td>18 bata 9 ghatawa bhaye ko result 9 ho.</td>\n",
       "    </tr>\n",
       "    <tr>\n",
       "      <th>1938</th>\n",
       "      <td>open_qa</td>\n",
       "      <td>Talako instruction follow garera user le garek...</td>\n",
       "      <td>User le gareko question lai, answer deu.\\n</td>\n",
       "      <td></td>\n",
       "      <td>40 ma 5 jodne ho bhane kati ho?</td>\n",
       "      <td>40 ma 5 jodne ho bhane 45 ho.</td>\n",
       "    </tr>\n",
       "  </tbody>\n",
       "</table>\n",
       "</div>"
      ],
      "text/plain": [
       "     category                                             system  \\\n",
       "1934  open_qa  Talako instruction follow garera user le garek...   \n",
       "1935  open_qa  Talako instruction follow garera user le garek...   \n",
       "1936  open_qa  Talako instruction follow garera user le garek...   \n",
       "1937  open_qa  Talako instruction follow garera user le garek...   \n",
       "1938  open_qa  Talako instruction follow garera user le garek...   \n",
       "\n",
       "                                     instruction context  \\\n",
       "1934  User le gareko question lai, answer deu.\\n           \n",
       "1935  User le gareko question lai, answer deu.\\n           \n",
       "1936  User le gareko question lai, answer deu.\\n           \n",
       "1937  User le gareko question lai, answer deu.\\n           \n",
       "1938  User le gareko question lai, answer deu.\\n           \n",
       "\n",
       "                                             question  \\\n",
       "1934   36 ko 4 bata bhag garne ho bhane kati hunchha?   \n",
       "1935     5 ko 8 bata guna garne ho bhane kati milcha?   \n",
       "1936  42 lai 7 bata bhag garne ho bhane kati hunchha?   \n",
       "1937       18 bata 9 ghatawa bhaye ko result kati ho?   \n",
       "1938                  40 ma 5 jodne ho bhane kati ho?   \n",
       "\n",
       "                                          response  \n",
       "1934   36 ko 4 bata bhag garne ho bhane 9 hunchha.  \n",
       "1935    5 ko 8 bata guna garne ho bhane 40 milcha.  \n",
       "1936  42 lai 7 bata bhag garne ho bhane 6 hunchha.  \n",
       "1937       18 bata 9 ghatawa bhaye ko result 9 ho.  \n",
       "1938                 40 ma 5 jodne ho bhane 45 ho.  "
      ]
     },
     "execution_count": 6,
     "metadata": {},
     "output_type": "execute_result"
    }
   ],
   "source": [
    "df.tail(5)"
   ]
  },
  {
   "cell_type": "code",
   "execution_count": 7,
   "metadata": {},
   "outputs": [],
   "source": [
    "df.to_csv(\"fine_tune_instruction.csv\", index=False)"
   ]
  },
  {
   "cell_type": "code",
   "execution_count": 8,
   "metadata": {},
   "outputs": [
    {
     "data": {
      "text/plain": [
       "(1939, 6)"
      ]
     },
     "execution_count": 8,
     "metadata": {},
     "output_type": "execute_result"
    }
   ],
   "source": [
    "df.shape"
   ]
  }
 ],
 "metadata": {
  "kernelspec": {
   "display_name": "Python 3",
   "language": "python",
   "name": "python3"
  },
  "language_info": {
   "codemirror_mode": {
    "name": "ipython",
    "version": 3
   },
   "file_extension": ".py",
   "mimetype": "text/x-python",
   "name": "python",
   "nbconvert_exporter": "python",
   "pygments_lexer": "ipython3",
   "version": "3.12.1"
  }
 },
 "nbformat": 4,
 "nbformat_minor": 2
}
