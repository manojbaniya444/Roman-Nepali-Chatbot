{
 "cells": [
  {
   "cell_type": "code",
   "execution_count": 1,
   "metadata": {},
   "outputs": [],
   "source": [
    "import json\n",
    "import pandas as pd"
   ]
  },
  {
   "cell_type": "code",
   "execution_count": 2,
   "metadata": {},
   "outputs": [],
   "source": [
    "file_name = r\"D:\\\\Roman Nepali Chatbot\\Dataset\\\\Instruction Fine Tune V3\\data_7.json\""
   ]
  },
  {
   "cell_type": "code",
   "execution_count": 3,
   "metadata": {},
   "outputs": [],
   "source": [
    "# df = pd.DataFrame({}, columns=[\"category\", \"context\", \"question\",\"response\"])\n",
    "df = pd.read_csv(\"./version_3.csv\")"
   ]
  },
  {
   "cell_type": "code",
   "execution_count": 4,
   "metadata": {},
   "outputs": [
    {
     "data": {
      "text/plain": [
       "(5732, 4)"
      ]
     },
     "execution_count": 4,
     "metadata": {},
     "output_type": "execute_result"
    }
   ],
   "source": [
    "df.shape"
   ]
  },
  {
   "cell_type": "code",
   "execution_count": 5,
   "metadata": {},
   "outputs": [],
   "source": [
    "with open(file_name, \"r\", encoding=\"utf-8\") as f:\n",
    "    data = f.read()\n",
    "    \n",
    "json_data = json.loads(data)\n",
    "\n",
    "new_df = []\n",
    "for row in json_data:\n",
    "    question = row[\"source\"]\n",
    "    context = \"\"\n",
    "    response = row[\"target\"]\n",
    "    \n",
    "    new_df.append({\n",
    "        \"category\": \"nep-eng\",\n",
    "        \"question\": question,\n",
    "        \"context\": context,\n",
    "        \"response\": response\n",
    "    })\n",
    "\n",
    "df_new = pd.DataFrame(new_df)"
   ]
  },
  {
   "cell_type": "code",
   "execution_count": 6,
   "metadata": {},
   "outputs": [],
   "source": [
    "df = pd.concat([df, df_new], ignore_index=True)"
   ]
  },
  {
   "cell_type": "code",
   "execution_count": 7,
   "metadata": {},
   "outputs": [
    {
     "data": {
      "text/html": [
       "<div>\n",
       "<style scoped>\n",
       "    .dataframe tbody tr th:only-of-type {\n",
       "        vertical-align: middle;\n",
       "    }\n",
       "\n",
       "    .dataframe tbody tr th {\n",
       "        vertical-align: top;\n",
       "    }\n",
       "\n",
       "    .dataframe thead th {\n",
       "        text-align: right;\n",
       "    }\n",
       "</style>\n",
       "<table border=\"1\" class=\"dataframe\">\n",
       "  <thead>\n",
       "    <tr style=\"text-align: right;\">\n",
       "      <th></th>\n",
       "      <th>category</th>\n",
       "      <th>context</th>\n",
       "      <th>question</th>\n",
       "      <th>response</th>\n",
       "    </tr>\n",
       "  </thead>\n",
       "  <tbody>\n",
       "    <tr>\n",
       "      <th>5916</th>\n",
       "      <td>nep-eng</td>\n",
       "      <td></td>\n",
       "      <td>maile yoga class ko subscription renew gare. p...</td>\n",
       "      <td>I renewed my subscription for the yoga class. ...</td>\n",
       "    </tr>\n",
       "    <tr>\n",
       "      <th>5917</th>\n",
       "      <td>nep-eng</td>\n",
       "      <td></td>\n",
       "      <td>aaja maile podcast ko episode record gare. top...</td>\n",
       "      <td>Today, I recorded an episode for my podcast. T...</td>\n",
       "    </tr>\n",
       "    <tr>\n",
       "      <th>5918</th>\n",
       "      <td>nep-eng</td>\n",
       "      <td></td>\n",
       "      <td>group project ko task distribution kaam smooth...</td>\n",
       "      <td>I planned the task distribution for the group ...</td>\n",
       "    </tr>\n",
       "    <tr>\n",
       "      <th>5919</th>\n",
       "      <td>nep-eng</td>\n",
       "      <td></td>\n",
       "      <td>aaja maile meditation practice suru gare. mind...</td>\n",
       "      <td>Today, I started practicing meditation. I am t...</td>\n",
       "    </tr>\n",
       "    <tr>\n",
       "      <th>5920</th>\n",
       "      <td>nep-eng</td>\n",
       "      <td></td>\n",
       "      <td>aaja office maa virtual conference attend gare...</td>\n",
       "      <td>Today, I attended a virtual conference at the ...</td>\n",
       "    </tr>\n",
       "  </tbody>\n",
       "</table>\n",
       "</div>"
      ],
      "text/plain": [
       "     category context                                           question  \\\n",
       "5916  nep-eng          maile yoga class ko subscription renew gare. p...   \n",
       "5917  nep-eng          aaja maile podcast ko episode record gare. top...   \n",
       "5918  nep-eng          group project ko task distribution kaam smooth...   \n",
       "5919  nep-eng          aaja maile meditation practice suru gare. mind...   \n",
       "5920  nep-eng          aaja office maa virtual conference attend gare...   \n",
       "\n",
       "                                               response  \n",
       "5916  I renewed my subscription for the yoga class. ...  \n",
       "5917  Today, I recorded an episode for my podcast. T...  \n",
       "5918  I planned the task distribution for the group ...  \n",
       "5919  Today, I started practicing meditation. I am t...  \n",
       "5920  Today, I attended a virtual conference at the ...  "
      ]
     },
     "execution_count": 7,
     "metadata": {},
     "output_type": "execute_result"
    }
   ],
   "source": [
    "df.tail(5)"
   ]
  },
  {
   "cell_type": "code",
   "execution_count": 8,
   "metadata": {},
   "outputs": [],
   "source": [
    "df.to_csv(\"version_3.csv\", index=False)"
   ]
  },
  {
   "cell_type": "code",
   "execution_count": 9,
   "metadata": {},
   "outputs": [
    {
     "data": {
      "text/plain": [
       "(5921, 4)"
      ]
     },
     "execution_count": 9,
     "metadata": {},
     "output_type": "execute_result"
    }
   ],
   "source": [
    "df.shape"
   ]
  }
 ],
 "metadata": {
  "kernelspec": {
   "display_name": "Python 3",
   "language": "python",
   "name": "python3"
  },
  "language_info": {
   "codemirror_mode": {
    "name": "ipython",
    "version": 3
   },
   "file_extension": ".py",
   "mimetype": "text/x-python",
   "name": "python",
   "nbconvert_exporter": "python",
   "pygments_lexer": "ipython3",
   "version": "3.12.1"
  }
 },
 "nbformat": 4,
 "nbformat_minor": 2
}
