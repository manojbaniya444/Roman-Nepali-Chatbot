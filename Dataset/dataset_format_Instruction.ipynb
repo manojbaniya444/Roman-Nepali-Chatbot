{
 "cells": [
  {
   "cell_type": "code",
   "execution_count": 69,
   "metadata": {},
   "outputs": [],
   "source": [
    "import json\n",
    "import pandas as pd"
   ]
  },
  {
   "cell_type": "code",
   "execution_count": 70,
   "metadata": {},
   "outputs": [],
   "source": [
    "file_name = r\"D:\\\\Roman Nepali Chatbot\\Dataset\\\\Ecommerce RAG dataset V4\\\\data_7.json\""
   ]
  },
  {
   "cell_type": "code",
   "execution_count": 71,
   "metadata": {},
   "outputs": [],
   "source": [
    "# df = pd.DataFrame({}, columns=[\"category\", \"context\", \"question\",\"response\"])\n",
    "df = pd.read_csv(\"./version_4.csv\")"
   ]
  },
  {
   "cell_type": "code",
   "execution_count": 72,
   "metadata": {},
   "outputs": [
    {
     "data": {
      "text/plain": [
       "(1211, 4)"
      ]
     },
     "execution_count": 72,
     "metadata": {},
     "output_type": "execute_result"
    }
   ],
   "source": [
    "df.shape"
   ]
  },
  {
   "cell_type": "code",
   "execution_count": 73,
   "metadata": {},
   "outputs": [],
   "source": [
    "with open(file_name, \"r\", encoding=\"utf-8\") as f:\n",
    "    data = f.read()\n",
    "    \n",
    "json_data = json.loads(data)\n",
    "\n",
    "new_df = []\n",
    "for row in json_data:\n",
    "    question = row[\"question\"]\n",
    "    context = row[\"context\"]\n",
    "    response = row[\"response\"]\n",
    "    \n",
    "    new_df.append({\n",
    "        \"category\": \"RAG\",\n",
    "        \"question\": question,\n",
    "        \"context\": context,\n",
    "        \"response\": response\n",
    "    })\n",
    "\n",
    "df_new = pd.DataFrame(new_df)"
   ]
  },
  {
   "cell_type": "code",
   "execution_count": 74,
   "metadata": {},
   "outputs": [],
   "source": [
    "df = pd.concat([df, df_new], ignore_index=True)"
   ]
  },
  {
   "cell_type": "code",
   "execution_count": 75,
   "metadata": {},
   "outputs": [
    {
     "data": {
      "text/html": [
       "<div>\n",
       "<style scoped>\n",
       "    .dataframe tbody tr th:only-of-type {\n",
       "        vertical-align: middle;\n",
       "    }\n",
       "\n",
       "    .dataframe tbody tr th {\n",
       "        vertical-align: top;\n",
       "    }\n",
       "\n",
       "    .dataframe thead th {\n",
       "        text-align: right;\n",
       "    }\n",
       "</style>\n",
       "<table border=\"1\" class=\"dataframe\">\n",
       "  <thead>\n",
       "    <tr style=\"text-align: right;\">\n",
       "      <th></th>\n",
       "      <th>category</th>\n",
       "      <th>context</th>\n",
       "      <th>question</th>\n",
       "      <th>response</th>\n",
       "    </tr>\n",
       "  </thead>\n",
       "  <tbody>\n",
       "    <tr>\n",
       "      <th>1247</th>\n",
       "      <td>RAG</td>\n",
       "      <td>Hamro ma delivery service all over Nepal avail...</td>\n",
       "      <td>delivery charge kati hunxa?</td>\n",
       "      <td>Inside Butwal free delivery hunxa ra outside B...</td>\n",
       "    </tr>\n",
       "    <tr>\n",
       "      <th>1248</th>\n",
       "      <td>RAG</td>\n",
       "      <td>Hamro ma delivery service all over Nepal avail...</td>\n",
       "      <td>delivery charge kati hunxa?</td>\n",
       "      <td>Inside Dharan free delivery hunxa ra outside D...</td>\n",
       "    </tr>\n",
       "    <tr>\n",
       "      <th>1249</th>\n",
       "      <td>RAG</td>\n",
       "      <td>Hamro ma delivery service all over Nepal avail...</td>\n",
       "      <td>delivery charge kati hunxa?</td>\n",
       "      <td>Inside Nepalgunj free delivery hunxa ra outsid...</td>\n",
       "    </tr>\n",
       "    <tr>\n",
       "      <th>1250</th>\n",
       "      <td>RAG</td>\n",
       "      <td>Hamro ma delivery service all over Nepal avail...</td>\n",
       "      <td>delivery charge kati hunxa?</td>\n",
       "      <td>Inside Birgunj free delivery hunxa ra outside ...</td>\n",
       "    </tr>\n",
       "    <tr>\n",
       "      <th>1251</th>\n",
       "      <td>RAG</td>\n",
       "      <td>Hamro ma delivery service all over Nepal avail...</td>\n",
       "      <td>delivery charge kati hunxa?</td>\n",
       "      <td>Inside Dhangadhi free delivery hunxa ra outsid...</td>\n",
       "    </tr>\n",
       "  </tbody>\n",
       "</table>\n",
       "</div>"
      ],
      "text/plain": [
       "     category                                            context  \\\n",
       "1247      RAG  Hamro ma delivery service all over Nepal avail...   \n",
       "1248      RAG  Hamro ma delivery service all over Nepal avail...   \n",
       "1249      RAG  Hamro ma delivery service all over Nepal avail...   \n",
       "1250      RAG  Hamro ma delivery service all over Nepal avail...   \n",
       "1251      RAG  Hamro ma delivery service all over Nepal avail...   \n",
       "\n",
       "                         question  \\\n",
       "1247  delivery charge kati hunxa?   \n",
       "1248  delivery charge kati hunxa?   \n",
       "1249  delivery charge kati hunxa?   \n",
       "1250  delivery charge kati hunxa?   \n",
       "1251  delivery charge kati hunxa?   \n",
       "\n",
       "                                               response  \n",
       "1247  Inside Butwal free delivery hunxa ra outside B...  \n",
       "1248  Inside Dharan free delivery hunxa ra outside D...  \n",
       "1249  Inside Nepalgunj free delivery hunxa ra outsid...  \n",
       "1250  Inside Birgunj free delivery hunxa ra outside ...  \n",
       "1251  Inside Dhangadhi free delivery hunxa ra outsid...  "
      ]
     },
     "execution_count": 75,
     "metadata": {},
     "output_type": "execute_result"
    }
   ],
   "source": [
    "df.tail(5)"
   ]
  },
  {
   "cell_type": "code",
   "execution_count": 76,
   "metadata": {},
   "outputs": [],
   "source": [
    "df.to_csv(\"version_4.csv\", index=False)"
   ]
  },
  {
   "cell_type": "code",
   "execution_count": 77,
   "metadata": {},
   "outputs": [
    {
     "data": {
      "text/plain": [
       "(1252, 4)"
      ]
     },
     "execution_count": 77,
     "metadata": {},
     "output_type": "execute_result"
    }
   ],
   "source": [
    "df.shape"
   ]
  }
 ],
 "metadata": {
  "kernelspec": {
   "display_name": "Python 3",
   "language": "python",
   "name": "python3"
  },
  "language_info": {
   "codemirror_mode": {
    "name": "ipython",
    "version": 3
   },
   "file_extension": ".py",
   "mimetype": "text/x-python",
   "name": "python",
   "nbconvert_exporter": "python",
   "pygments_lexer": "ipython3",
   "version": "3.12.1"
  }
 },
 "nbformat": 4,
 "nbformat_minor": 2
}
