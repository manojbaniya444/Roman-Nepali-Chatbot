{
 "cells": [
  {
   "cell_type": "code",
   "execution_count": 1,
   "metadata": {},
   "outputs": [],
   "source": [
    "import json\n",
    "import pandas as pd"
   ]
  },
  {
   "cell_type": "code",
   "execution_count": 2,
   "metadata": {},
   "outputs": [],
   "source": [
    "file_name = r\"D:\\\\Roman Nepali Chatbot\\Dataset\\\\More IFT dataset after fine tune\\\\data_13.json\""
   ]
  },
  {
   "cell_type": "code",
   "execution_count": 3,
   "metadata": {},
   "outputs": [],
   "source": [
    "# df = pd.DataFrame({}, columns=[\"category\", \"context\", \"question\",\"response\"])\n",
    "df = pd.read_csv(\"./after_finetune.csv\")"
   ]
  },
  {
   "cell_type": "code",
   "execution_count": 4,
   "metadata": {},
   "outputs": [],
   "source": [
    "with open(file_name, \"r\", encoding=\"utf-8\") as f:\n",
    "    data = f.read()\n",
    "    \n",
    "json_data = json.loads(data)\n",
    "\n",
    "new_df = []\n",
    "for row in json_data:\n",
    "    question = row[\"question\"]\n",
    "    context = \"\"\n",
    "    response = row[\"response\"]\n",
    "    \n",
    "    new_df.append({\n",
    "        \"category\": \"open_qa\",\n",
    "        \"question\": question,\n",
    "        \"context\": context,\n",
    "        \"response\": response\n",
    "    })\n",
    "\n",
    "df_new = pd.DataFrame(new_df)"
   ]
  },
  {
   "cell_type": "code",
   "execution_count": 5,
   "metadata": {},
   "outputs": [],
   "source": [
    "df = pd.concat([df, df_new], ignore_index=True)"
   ]
  },
  {
   "cell_type": "code",
   "execution_count": 6,
   "metadata": {},
   "outputs": [
    {
     "data": {
      "text/html": [
       "<div>\n",
       "<style scoped>\n",
       "    .dataframe tbody tr th:only-of-type {\n",
       "        vertical-align: middle;\n",
       "    }\n",
       "\n",
       "    .dataframe tbody tr th {\n",
       "        vertical-align: top;\n",
       "    }\n",
       "\n",
       "    .dataframe thead th {\n",
       "        text-align: right;\n",
       "    }\n",
       "</style>\n",
       "<table border=\"1\" class=\"dataframe\">\n",
       "  <thead>\n",
       "    <tr style=\"text-align: right;\">\n",
       "      <th></th>\n",
       "      <th>category</th>\n",
       "      <th>context</th>\n",
       "      <th>question</th>\n",
       "      <th>response</th>\n",
       "    </tr>\n",
       "  </thead>\n",
       "  <tbody>\n",
       "    <tr>\n",
       "      <th>5920</th>\n",
       "      <td>open_qa</td>\n",
       "      <td></td>\n",
       "      <td>Nepal ko sabai bhanda popular traditional inst...</td>\n",
       "      <td>Nepal ko sabai bhanda popular traditional inst...</td>\n",
       "    </tr>\n",
       "    <tr>\n",
       "      <th>5921</th>\n",
       "      <td>open_qa</td>\n",
       "      <td></td>\n",
       "      <td>Nepal ko sabai bhanda popular folk song k ho?</td>\n",
       "      <td>Nepal ko sabai bhanda popular folk song Resham...</td>\n",
       "    </tr>\n",
       "    <tr>\n",
       "      <th>5922</th>\n",
       "      <td>open_qa</td>\n",
       "      <td></td>\n",
       "      <td>Nepal ko sabai bhanda popular dance form k ho?</td>\n",
       "      <td>Nepal ko sabai bhanda popular dance form Lakhe...</td>\n",
       "    </tr>\n",
       "    <tr>\n",
       "      <th>5923</th>\n",
       "      <td>open_qa</td>\n",
       "      <td></td>\n",
       "      <td>Nepal ko sabai bhanda popular art form k ho?</td>\n",
       "      <td>Nepal ko sabai bhanda popular art form Thangka...</td>\n",
       "    </tr>\n",
       "    <tr>\n",
       "      <th>5924</th>\n",
       "      <td>open_qa</td>\n",
       "      <td></td>\n",
       "      <td>Nepal ko sabai bhanda popular festival k ho?</td>\n",
       "      <td>Nepal ko sabai bhanda popular festival Dashain...</td>\n",
       "    </tr>\n",
       "  </tbody>\n",
       "</table>\n",
       "</div>"
      ],
      "text/plain": [
       "     category context                                           question  \\\n",
       "5920  open_qa          Nepal ko sabai bhanda popular traditional inst...   \n",
       "5921  open_qa              Nepal ko sabai bhanda popular folk song k ho?   \n",
       "5922  open_qa             Nepal ko sabai bhanda popular dance form k ho?   \n",
       "5923  open_qa               Nepal ko sabai bhanda popular art form k ho?   \n",
       "5924  open_qa               Nepal ko sabai bhanda popular festival k ho?   \n",
       "\n",
       "                                               response  \n",
       "5920  Nepal ko sabai bhanda popular traditional inst...  \n",
       "5921  Nepal ko sabai bhanda popular folk song Resham...  \n",
       "5922  Nepal ko sabai bhanda popular dance form Lakhe...  \n",
       "5923  Nepal ko sabai bhanda popular art form Thangka...  \n",
       "5924  Nepal ko sabai bhanda popular festival Dashain...  "
      ]
     },
     "execution_count": 6,
     "metadata": {},
     "output_type": "execute_result"
    }
   ],
   "source": [
    "df.tail(5)"
   ]
  },
  {
   "cell_type": "code",
   "execution_count": 7,
   "metadata": {},
   "outputs": [],
   "source": [
    "df.to_csv(\"after_finetune.csv\", index=False)"
   ]
  },
  {
   "cell_type": "code",
   "execution_count": 8,
   "metadata": {},
   "outputs": [
    {
     "data": {
      "text/plain": [
       "(5925, 4)"
      ]
     },
     "execution_count": 8,
     "metadata": {},
     "output_type": "execute_result"
    }
   ],
   "source": [
    "df.shape"
   ]
  }
 ],
 "metadata": {
  "kernelspec": {
   "display_name": "Python 3",
   "language": "python",
   "name": "python3"
  },
  "language_info": {
   "codemirror_mode": {
    "name": "ipython",
    "version": 3
   },
   "file_extension": ".py",
   "mimetype": "text/x-python",
   "name": "python",
   "nbconvert_exporter": "python",
   "pygments_lexer": "ipython3",
   "version": "3.12.1"
  }
 },
 "nbformat": 4,
 "nbformat_minor": 2
}
