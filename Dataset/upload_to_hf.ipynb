{
 "cells": [
  {
   "cell_type": "code",
   "execution_count": 1,
   "metadata": {},
   "outputs": [
    {
     "name": "stderr",
     "output_type": "stream",
     "text": [
      "C:\\Users\\acer\\AppData\\Roaming\\Python\\Python312\\site-packages\\tqdm\\auto.py:21: TqdmWarning: IProgress not found. Please update jupyter and ipywidgets. See https://ipywidgets.readthedocs.io/en/stable/user_install.html\n",
      "  from .autonotebook import tqdm as notebook_tqdm\n"
     ]
    }
   ],
   "source": [
    "from datasets import load_dataset\n",
    "import pandas as pd"
   ]
  },
  {
   "cell_type": "code",
   "execution_count": null,
   "metadata": {},
   "outputs": [],
   "source": [
    "df = pd.read_csv(\"./\"question\"_\"answer\".csv\")"
   ]
  },
  {
   "cell_type": "code",
   "execution_count": null,
   "metadata": {},
   "outputs": [],
   "source": [
    "df.sample(10)"
   ]
  },
  {
   "cell_type": "code",
   "execution_count": null,
   "metadata": {},
   "outputs": [],
   "source": [
    "data = load_dataset(\"csv\", data_files=\"./output.csv\")"
   ]
  },
  {
   "cell_type": "code",
   "execution_count": null,
   "metadata": {},
   "outputs": [],
   "source": [
    "data"
   ]
  },
  {
   "cell_type": "code",
   "execution_count": null,
   "metadata": {},
   "outputs": [],
   "source": [
    "df"
   ]
  },
  {
   "cell_type": "code",
   "execution_count": null,
   "metadata": {},
   "outputs": [],
   "source": [
    "df.isna().sum()"
   ]
  },
  {
   "cell_type": "code",
   "execution_count": 4,
   "metadata": {},
   "outputs": [],
   "source": [
    "# Fill NaN values with an empty string\n",
    "df.fillna('', inplace=True)\n",
    "\n",
    "with open(\"./chat_data.txt\", \"w\", encoding=\"utf-8\") as f:\n",
    "    for index, row in df.iterrows():\n",
    "        f.write(row[\"response\"] + \"\\t\" + row[\"query\"] + \"\\n\")"
   ]
  },
  {
   "cell_type": "code",
   "execution_count": 5,
   "metadata": {},
   "outputs": [],
   "source": [
    "qaArray = [\n",
    "  { \"question\": \"Yo pasal kaha cha?\", \"answer\": \"Yo pasal Dharan ma cha.\" },\n",
    "  { \"question\": \"Tapai ko store ko location kata ho?\", \"answer\": \"Hamro store Dharan ma cha.\" },\n",
    "  { \"question\": \"Store kun thauma cha?\", \"answer\": \"Store Dharan, Nepal ma cha.\" },\n",
    "  { \"question\": \"Dharan ma kasto pasal cha?\", \"answer\": \"Yo pasal Dharan ma nai cha.\" },\n",
    "  { \"question\": \"Yo shop kaha vetinchha?\", \"answer\": \"Yo shop Dharan ma cha.\" },\n",
    "  { \"question\": \"Pasal ko thau ko nam ke ho?\", \"answer\": \"Pasal ko thau Dharan ho.\" },\n",
    "  { \"question\": \"Pasal kaha ho?\", \"answer\": \"Pasal Dharan ma ho.\" },\n",
    "  { \"question\": \"Yo pasal Dharan ma cha?\", \"answer\": \"Ho, yo pasal Dharan ma cha.\" },\n",
    "  { \"question\": \"Store location kun thau ma ho?\", \"answer\": \"Store location Dharan ma ho.\" },\n",
    "  { \"question\": \"Yo pasal Nepal ko kun thauma cha?\", \"answer\": \"Yo pasal Nepal ko Dharan ma cha.\" },\n",
    "  { \"question\": \"Dharan ma pasal cha?\", \"answer\": \"Ho, Dharan ma pasal cha.\" },\n",
    "  { \"question\": \"Pasal Nepal ko kun sahar ma cha?\", \"answer\": \"Pasal Nepal ko Dharan sahar ma cha.\" },\n",
    "  { \"question\": \"Dharan ma kun type ko store cha?\", \"answer\": \"Dharan ma yo pasal cha.\" },\n",
    "  { \"question\": \"Store Dharan ko kun thauma cha?\", \"answer\": \"Store Dharan ma cha.\" },\n",
    "  { \"question\": \"Yo store Dharan ko ho?\", \"answer\": \"Ho, yo store Dharan ko ho.\" },\n",
    "  { \"question\": \"Pasal ko location pramanit garna saknuhunchha?\", \"answer\": \"Ho, pasal Dharan ma cha.\" },\n",
    "  { \"question\": \"Dharan ma yo pasal ko address ke ho?\", \"answer\": \"Address Dharan ho.\" },\n",
    "  { \"question\": \"Pasal ko location kata ho?\", \"answer\": \"Pasal ko location Dharan ho.\" },\n",
    "  { \"question\": \"Yo pasal Dharan ma cha?\", \"answer\": \"Ho, Dharan ma cha.\" },\n",
    "  { \"question\": \"Tapai ko shop ko thau kaha ho?\", \"answer\": \"Hamro shop Dharan ma ho.\" },\n",
    "  { \"question\": \"Nepal ko kun sahar ma store cha?\", \"answer\": \"Nepal ko Dharan sahar ma store cha.\" },\n",
    "  { \"question\": \"Pasal kaha padhna sakinchha?\", \"answer\": \"Pasal Dharan ma cha.\" },\n",
    "  { \"question\": \"Store ko address confirm garna?\", \"answer\": \"Store Dharan ko ho.\" },\n",
    "  { \"question\": \"Pasal ko location kati thauma ho?\", \"answer\": \"Ek thauma, Dharan ma cha.\" },\n",
    "  { \"question\": \"Yo pasal ko area kun ho?\", \"answer\": \"Pasal ko area Dharan ho.\" },\n",
    "  { \"question\": \"Yo shop kaha dekhna sakinchha?\", \"answer\": \"Shop Dharan ma dekhna sakinchha.\" },\n",
    "  { \"question\": \"Yo pasal kun sahar ma cha?\", \"answer\": \"Pasal Dharan sahar ma cha.\" },\n",
    "  { \"question\": \"Store Dharan ma nai ho?\", \"answer\": \"Ho, store Dharan ma nai ho.\" },\n",
    "  { \"question\": \"Yo store kaha cha?\", \"answer\": \"Yo store Dharan ma cha.\" },\n",
    "  { \"question\": \"Pasal Dharan ma nai ho?\", \"answer\": \"Ho, pasal Dharan ma nai ho.\" },\n",
    "  { \"question\": \"Store kaha ko ho?\", \"answer\": \"Store Dharan ko ho.\" },\n",
    "  { \"question\": \"Pasal ko area k ho?\", \"answer\": \"Area Dharan ho.\" },\n",
    "  { \"question\": \"Yo shop ko location kaha ho?\", \"answer\": \"Yo shop Dharan ma cha.\" },\n",
    "  { \"question\": \"Nepal ko kun thauma yo pasal cha?\", \"answer\": \"Nepal ko Dharan ma yo pasal cha.\" },\n",
    "  { \"question\": \"Dharan ko pasal cha?\", \"answer\": \"Ho, Dharan ko pasal cha.\" },\n",
    "  { \"question\": \"Pasal kaha ho?\", \"answer\": \"Pasal Dharan ma ho.\" },\n",
    "  { \"question\": \"Yo pasal Nepal ma kaha cha?\", \"answer\": \"Yo pasal Nepal ko Dharan ma cha.\" },\n",
    "  { \"question\": \"Store kaha padhna milcha?\", \"answer\": \"Store Dharan ma padhna milcha.\" },\n",
    "  { \"question\": \"Pasal Dharan ma ho?\", \"answer\": \"Ho, Dharan ma ho.\" },\n",
    "  { \"question\": \"Dharan ma pasal cha?\", \"answer\": \"Ho, Dharan ma pasal cha.\" },\n",
    "  { \"question\": \"Yo pasal Nepal ko kun sahar ma cha?\", \"answer\": \"Pasal Nepal ko Dharan sahar ma cha.\" },\n",
    "  { \"question\": \"Pasal ko area Dharan ma cha?\", \"answer\": \"Ho, pasal ko area Dharan ma cha.\" },\n",
    "  { \"question\": \"Store Dharan ma nai cha?\", \"answer\": \"Ho, Dharan ma nai cha.\" },\n",
    "  { \"question\": \"Yo pasal kaha ko ho?\", \"answer\": \"Yo pasal Dharan ko ho.\" },\n",
    "  { \"question\": \"Yo store kaha vetinchha?\", \"answer\": \"Yo store Dharan ma vetinchha.\" },\n",
    "  { \"question\": \"Dharan ma pasal cha ki cha?\", \"answer\": \"Ho, Dharan ma cha.\" },\n",
    "  { \"question\": \"Store ko thau kun ho?\", \"answer\": \"Store ko thau Dharan ho.\" },\n",
    "  { \"question\": \"Pasal kaha ma cha?\", \"answer\": \"Pasal Dharan ma cha.\" },\n",
    "  { \"question\": \"Store kaha cha?\", \"answer\": \"Store Dharan ma cha.\" },\n",
    "    { \"question\": \"Yo pasal kaha cha?\", \"answer\": \"Yo pasal Dharan ma cha.\" },\n",
    "  { \"question\": \"Tapai ko store ko location kata ho?\", \"answer\": \"Hamro store Dharan ma cha.\" },\n",
    "  { \"question\": \"Store kun thauma cha?\", \"answer\": \"Store Dharan, Nepal ma cha.\" },\n",
    "  { \"question\": \"Dharan ma kasto pasal cha?\", \"answer\": \"Yo pasal Dharan ma nai cha.\" },\n",
    "  { \"question\": \"Yo shop kaha vetinchha?\", \"answer\": \"Yo shop Dharan ma cha.\" },\n",
    "  { \"question\": \"Pasal ko thau ko nam ke ho?\", \"answer\": \"Pasal ko thau Dharan ho.\" },\n",
    "  { \"question\": \"Pasal kaha ho?\", \"answer\": \"Pasal Dharan ma ho.\" },\n",
    "  { \"question\": \"Yo pasal Dharan ma cha?\", \"answer\": \"Ho, yo pasal Dharan ma cha.\" },\n",
    "  { \"question\": \"Store location kun thau ma ho?\", \"answer\": \"Store location Dharan ma ho.\" },\n",
    "  { \"question\": \"Yo pasal Nepal ko kun thauma cha?\", \"answer\": \"Yo pasal Nepal ko Dharan ma cha.\" },\n",
    "  { \"question\": \"Dharan ma pasal cha?\", \"answer\": \"Ho, Dharan ma pasal cha.\" },\n",
    "  { \"question\": \"Pasal Nepal ko kun sahar ma cha?\", \"answer\": \"Pasal Nepal ko Dharan sahar ma cha.\" },\n",
    "  { \"question\": \"Dharan ma kun type ko store cha?\", \"answer\": \"Dharan ma yo pasal cha.\" },\n",
    "  { \"question\": \"Store Dharan ko kun thauma cha?\", \"answer\": \"Store Dharan ma cha.\" },\n",
    "  { \"question\": \"Yo store Dharan ko ho?\", \"answer\": \"Ho, yo store Dharan ko ho.\" },\n",
    "  { \"question\": \"Pasal ko location pramanit garna saknuhunchha?\", \"answer\": \"Ho, pasal Dharan ma cha.\" },\n",
    "  { \"question\": \"Dharan ma yo pasal ko address ke ho?\", \"answer\": \"Address Dharan ho.\" },\n",
    "  { \"question\": \"Pasal ko location kata ho?\", \"answer\": \"Pasal ko location Dharan ho.\" },\n",
    "  { \"question\": \"Yo pasal Dharan ma cha?\", \"answer\": \"Ho, Dharan ma cha.\" },\n",
    "  { \"question\": \"Tapai ko shop ko thau kaha ho?\", \"answer\": \"Hamro shop Dharan ma ho.\" },\n",
    "  { \"question\": \"Nepal ko kun sahar ma store cha?\", \"answer\": \"Nepal ko Dharan sahar ma store cha.\" },\n",
    "  { \"question\": \"Pasal kaha padhna sakinchha?\", \"answer\": \"Pasal Dharan ma cha.\" },\n",
    "  { \"question\": \"Store ko address confirm garna?\", \"answer\": \"Store Dharan ko ho.\" },\n",
    "  { \"question\": \"Pasal ko location kati thauma ho?\", \"answer\": \"Ek thauma, Dharan ma cha.\" },\n",
    "  { \"question\": \"Yo pasal ko area kun ho?\", \"answer\": \"Pasal ko area Dharan ho.\" },\n",
    "  { \"question\": \"Yo shop kaha dekhna sakinchha?\", \"answer\": \"Shop Dharan ma dekhna sakinchha.\" },\n",
    "  { \"question\": \"Yo pasal kun sahar ma cha?\", \"answer\": \"Pasal Dharan sahar ma cha.\" },\n",
    "  { \"question\": \"Store Dharan ma nai ho?\", \"answer\": \"Ho, store Dharan ma nai ho.\" },\n",
    "  { \"question\": \"Yo store kaha cha?\", \"answer\": \"Yo store Dharan ma cha.\" },\n",
    "  { \"question\": \"Pasal Dharan ma nai ho?\", \"answer\": \"Ho, pasal Dharan ma nai ho.\" },\n",
    "  { \"question\": \"Store kaha ko ho?\", \"answer\": \"Store Dharan ko ho.\" },\n",
    "  { \"question\": \"Pasal ko area k ho?\", \"answer\": \"Area Dharan ho.\" },\n",
    "  { \"question\": \"Yo shop ko location kaha ho?\", \"answer\": \"Yo shop Dharan ma cha.\" },\n",
    "  { \"question\": \"Nepal ko kun thauma yo pasal cha?\", \"answer\": \"Nepal ko Dharan ma yo pasal cha.\" },\n",
    "  { \"question\": \"Dharan ko pasal cha?\", \"answer\": \"Ho, Dharan ko pasal cha.\" },\n",
    "  { \"question\": \"Pasal kaha ho?\", \"answer\": \"Pasal Dharan ma ho.\" },\n",
    "  { \"question\": \"Yo pasal Nepal ma kaha cha?\", \"answer\": \"Yo pasal Nepal ko Dharan ma cha.\" },\n",
    "  { \"question\": \"Store kaha padhna milcha?\", \"answer\": \"Store Dharan ma padhna milcha.\" },\n",
    "  { \"question\": \"Pasal Dharan ma ho?\", \"answer\": \"Ho, Dharan ma ho.\" },\n",
    "  { \"question\": \"Dharan ma pasal cha?\", \"answer\": \"Ho, Dharan ma pasal cha.\" },\n",
    "  { \"question\": \"Yo pasal Nepal ko kun sahar ma cha?\", \"answer\": \"Pasal Nepal ko Dharan sahar ma cha.\" },\n",
    "  { \"question\": \"Pasal ko area Dharan ma cha?\", \"answer\": \"Ho, pasal ko area Dharan ma cha.\" },\n",
    "  { \"question\": \"Store Dharan ma nai cha?\", \"answer\": \"Ho, Dharan ma nai cha.\" },\n",
    "  { \"question\": \"Yo pasal kaha ko ho?\", \"answer\": \"Yo pasal Dharan ko ho.\" },\n",
    "  { \"question\": \"Yo store kaha vetinchha?\", \"answer\": \"Yo store Dharan ma vetinchha.\" },\n",
    "  { \"question\": \"Dharan ma pasal cha ki cha?\", \"answer\": \"Ho, Dharan ma cha.\" },\n",
    "  { \"question\": \"Store ko thau kun ho?\", \"answer\": \"Store ko thau Dharan ho.\" },\n",
    "  { \"question\": \"Pasal kaha ma cha?\", \"answer\": \"Pasal Dharan ma cha.\" },\n",
    "  { \"question\": \"Store kaha cha?\", \"answer\": \"Store Dharan ma cha.\" },\n",
    "  { \"question\": \"Pasal ko location kun sahar ma ho?\", \"answer\": \"Pasal Dharan sahar ma ho.\" },\n",
    "  { \"question\": \"Yo pasal kaha dekhna sakinchha?\", \"answer\": \"Pasal Dharan ma dekhna sakinchha.\" },\n",
    "  { \"question\": \"Pasal kaha ka ho?\", \"answer\": \"Pasal Dharan ka ho.\" },\n",
    "  { \"question\": \"Nepal ko Dharan ma yo store cha?\", \"answer\": \"Ho, yo store Dharan ma cha.\" },\n",
    "  { \"question\": \"Tapai ko shop ko location kaha ho?\", \"answer\": \"Hamro shop Dharan ma ho.\" },\n",
    "  { \"question\": \"Yo pasal kun thauma cha?\", \"answer\": \"Yo pasal Dharan ma cha.\" },\n",
    "  { \"question\": \"Pasal ko address ke ho?\", \"answer\": \"Address Dharan ho.\" },\n",
    "  { \"question\": \"Store kaha nai ho?\", \"answer\": \"Store Dharan ma nai ho.\" },\n",
    "  { \"question\": \"Yo pasal kaha cha?\", \"answer\": \"Yo pasal Dharan ma cha.\" },\n",
    "  { \"question\": \"Yo store Dharan ma nai ho?\", \"answer\": \"Ho, Dharan ma nai ho.\" },\n",
    "  { \"question\": \"Nepal ko kun thau ma pasal cha?\", \"answer\": \"Nepal ko Dharan ma pasal cha.\" },\n",
    "  { \"question\": \"Store Dharan ma ho?\", \"answer\": \"Ho, Dharan ma ho.\" },\n",
    "  { \"question\": \"Pasal kaha padhna milcha?\", \"answer\": \"Pasal Dharan ma padhna milcha.\" },\n",
    "  { \"question\": \"Dharan ma pasal ko thau ke ho?\", \"answer\": \"Pasal Dharan ma ho.\" },\n",
    "  { \"question\": \"Nepal ma pasal cha ki cha?\", \"answer\": \"Ho, Nepal ko Dharan ma cha.\" },\n",
    "  { \"question\": \"Yo pasal ko location kun thauma ho?\", \"answer\": \"Pasal Dharan ma ho.\" },\n",
    "  { \"question\": \"Yo shop Dharan ma cha?\", \"answer\": \"Ho, yo shop Dharan ma cha.\" },\n",
    "  { \"question\": \"Pasal kaha nai cha?\", \"answer\": \"Pasal Dharan ma nai cha.\" },\n",
    "  { \"question\": \"Yo pasal Nepal ma kaha cha?\", \"answer\": \"Yo pasal Nepal ko Dharan ma cha.\" },\n",
    "  { \"question\": \"Store kaha dekhna sakinchha?\", \"answer\": \"Store Dharan ma dekhna sakinchha.\" },\n",
    "  { \"question\": \"Pasal Dharan ko ho?\", \"answer\": \"Ho, pasal Dharan ko ho.\" },\n",
    "  { \"question\": \"Yo pasal Dharan ma nai ho?\", \"answer\": \"Ho, Dharan ma nai ho.\" },\n",
    "  { \"question\": \"Pasal ko thau Dharan ho?\", \"answer\": \"Ho, Dharan ho.\" },\n",
    "  { \"question\": \"Dharan ma store cha?\", \"answer\": \"Ho, Dharan ma store cha.\" },\n",
    "  { \"question\": \"Yo pasal Dharan ma ho?\", \"answer\": \"Ho, yo pasal Dharan ma ho.\" },\n",
    "  { \"question\": \"Pasal kaha ho?\", \"answer\": \"Pasal Dharan ma ho.\" },\n",
    "  { \"question\": \"Yo pasal Dharan ma nai cha?\", \"answer\": \"Ho, Dharan ma nai cha.\" }\n",
    "];\n"
   ]
  },
  {
   "cell_type": "code",
   "execution_count": 6,
   "metadata": {},
   "outputs": [],
   "source": [
    "for qa in qaArray:\n",
    "    with open(\"./chat_data_.txt\", \"a\", encoding=\"utf-8\") as f:\n",
    "        f.write(qa[\"answer\"] + \"\\t\" + qa[\"question\"] + \"\\n\")"
   ]
  }
 ],
 "metadata": {
  "kernelspec": {
   "display_name": "Python 3",
   "language": "python",
   "name": "python3"
  },
  "language_info": {
   "codemirror_mode": {
    "name": "ipython",
    "version": 3
   },
   "file_extension": ".py",
   "mimetype": "text/x-python",
   "name": "python",
   "nbconvert_exporter": "python",
   "pygments_lexer": "ipython3",
   "version": "3.12.1"
  }
 },
 "nbformat": 4,
 "nbformat_minor": 2
}
