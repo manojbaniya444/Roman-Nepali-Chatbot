{
 "cells": [
  {
   "cell_type": "code",
   "execution_count": 1,
   "metadata": {},
   "outputs": [],
   "source": [
    "import pandas as pd\n",
    "import os"
   ]
  },
  {
   "cell_type": "code",
   "execution_count": 2,
   "metadata": {},
   "outputs": [
    {
     "data": {
      "text/plain": [
       "['chat_data.txt',\n",
       " 'dataset_format.py',\n",
       " 'dataset_format_Instruction.ipynb',\n",
       " 'dataset_format_RAG.ipynb',\n",
       " 'dataset_format_Summary.ipynb',\n",
       " 'dataset_format_Translation.ipynb',\n",
       " 'fine_tune_instruction.csv',\n",
       " 'fine_tune_RAG.csv',\n",
       " 'fine_tune_Summary.csv',\n",
       " 'fine_tune_translate.csv',\n",
       " 'Instruction Fine Tune Dataset',\n",
       " 'merge.ipynb',\n",
       " 'question_answer.csv',\n",
       " 'shuffled_fine_tune_data.csv',\n",
       " 'upload_to_hf.ipynb']"
      ]
     },
     "execution_count": 2,
     "metadata": {},
     "output_type": "execute_result"
    }
   ],
   "source": [
    "files = os.listdir(\"./\")\n",
    "files"
   ]
  },
  {
   "cell_type": "code",
   "execution_count": 3,
   "metadata": {},
   "outputs": [],
   "source": [
    "csv_files = [file for file in files if file.startswith(\"fine_tune\") and file.endswith(\".csv\")]"
   ]
  },
  {
   "cell_type": "code",
   "execution_count": 4,
   "metadata": {},
   "outputs": [
    {
     "data": {
      "text/plain": [
       "['fine_tune_instruction.csv',\n",
       " 'fine_tune_RAG.csv',\n",
       " 'fine_tune_Summary.csv',\n",
       " 'fine_tune_translate.csv']"
      ]
     },
     "execution_count": 4,
     "metadata": {},
     "output_type": "execute_result"
    }
   ],
   "source": [
    "csv_files"
   ]
  },
  {
   "cell_type": "code",
   "execution_count": 5,
   "metadata": {},
   "outputs": [],
   "source": [
    "df = pd.DataFrame()"
   ]
  },
  {
   "cell_type": "code",
   "execution_count": 6,
   "metadata": {},
   "outputs": [],
   "source": [
    "for file in csv_files:\n",
    "    df_file = pd.read_csv(f\"./{file}\")\n",
    "    df = pd.concat([df, df_file], ignore_index=True)"
   ]
  },
  {
   "cell_type": "code",
   "execution_count": 7,
   "metadata": {},
   "outputs": [],
   "source": [
    "df['context'] = df['context'].fillna('')"
   ]
  },
  {
   "cell_type": "code",
   "execution_count": 8,
   "metadata": {},
   "outputs": [
    {
     "data": {
      "text/html": [
       "<div>\n",
       "<style scoped>\n",
       "    .dataframe tbody tr th:only-of-type {\n",
       "        vertical-align: middle;\n",
       "    }\n",
       "\n",
       "    .dataframe tbody tr th {\n",
       "        vertical-align: top;\n",
       "    }\n",
       "\n",
       "    .dataframe thead th {\n",
       "        text-align: right;\n",
       "    }\n",
       "</style>\n",
       "<table border=\"1\" class=\"dataframe\">\n",
       "  <thead>\n",
       "    <tr style=\"text-align: right;\">\n",
       "      <th></th>\n",
       "      <th>category</th>\n",
       "      <th>system</th>\n",
       "      <th>instruction</th>\n",
       "      <th>context</th>\n",
       "      <th>question</th>\n",
       "      <th>response</th>\n",
       "    </tr>\n",
       "  </thead>\n",
       "  <tbody>\n",
       "    <tr>\n",
       "      <th>376</th>\n",
       "      <td>open_qa</td>\n",
       "      <td>Talako instruction follow garera user le garek...</td>\n",
       "      <td>User le gareko question lai, answer deu.\\n</td>\n",
       "      <td>Discount: 10% off on electronics above Rs. 10,...</td>\n",
       "      <td>Discount offer k cha?</td>\n",
       "      <td>Electronics products ma Rs. 10,000 mathi ko or...</td>\n",
       "    </tr>\n",
       "    <tr>\n",
       "      <th>2791</th>\n",
       "      <td>RAG</td>\n",
       "      <td>Talako instruction herera user le gareko quest...</td>\n",
       "      <td>User le gareko question lai, context herera mi...</td>\n",
       "      <td>Bhairabsthan, Dhankuta district ma cha, ra yah...</td>\n",
       "      <td>Bhairabsthan kahaan cha?</td>\n",
       "      <td>Bhairabsthan Dhankuta district ma cha, ra Kosh...</td>\n",
       "    </tr>\n",
       "    <tr>\n",
       "      <th>809</th>\n",
       "      <td>open_qa</td>\n",
       "      <td>Talako instruction follow garera user le garek...</td>\n",
       "      <td>User le gareko question lai, answer deu.\\n</td>\n",
       "      <td></td>\n",
       "      <td>Children ko reading habit kasari develop garne?</td>\n",
       "      <td>Children ko reading habit develop garna unihar...</td>\n",
       "    </tr>\n",
       "    <tr>\n",
       "      <th>1075</th>\n",
       "      <td>open_qa</td>\n",
       "      <td>Talako instruction follow garera user le garek...</td>\n",
       "      <td>User le gareko question lai, answer deu.\\n</td>\n",
       "      <td>biralo, haatti, kukur, bus</td>\n",
       "      <td>Tala vayeka words haru madhye kun odd word ho ...</td>\n",
       "      <td>Bus janawar hoina, aru tinwota janawar hun.</td>\n",
       "    </tr>\n",
       "    <tr>\n",
       "      <th>3428</th>\n",
       "      <td>summary</td>\n",
       "      <td>Talako instruction follow garera user le garek...</td>\n",
       "      <td>Summarize the following text in Roman Nepali\\n</td>\n",
       "      <td></td>\n",
       "      <td>The Dark Knight movie ma Batman le Joker ko ch...</td>\n",
       "      <td>The Dark Knight ma Batman le Joker stop garera...</td>\n",
       "    </tr>\n",
       "    <tr>\n",
       "      <th>510</th>\n",
       "      <td>open_qa</td>\n",
       "      <td>Talako instruction follow garera user le garek...</td>\n",
       "      <td>User le gareko question lai, answer deu.\\n</td>\n",
       "      <td></td>\n",
       "      <td>Facebook ma friends kasari block garna sakincha?</td>\n",
       "      <td>Facebook ma friends block garna ko lagi tyo ma...</td>\n",
       "    </tr>\n",
       "    <tr>\n",
       "      <th>3794</th>\n",
       "      <td>translate</td>\n",
       "      <td>Talako diyeko instruction follow garera sodhiy...</td>\n",
       "      <td>Translate the given text from Roman Nepali lan...</td>\n",
       "      <td></td>\n",
       "      <td>Yo message ko meaning bujhna sajilo chhaina.</td>\n",
       "      <td>Itâ€™s not easy to understand the meaning of t...</td>\n",
       "    </tr>\n",
       "    <tr>\n",
       "      <th>4100</th>\n",
       "      <td>translate</td>\n",
       "      <td>Talako diyeko instruction follow garera sodhiy...</td>\n",
       "      <td>Translate the given text from Roman Nepali lan...</td>\n",
       "      <td></td>\n",
       "      <td>padhai ta aba thik cha?</td>\n",
       "      <td>Is your study going well now?</td>\n",
       "    </tr>\n",
       "    <tr>\n",
       "      <th>1012</th>\n",
       "      <td>open_qa</td>\n",
       "      <td>Talako instruction follow garera user le garek...</td>\n",
       "      <td>User le gareko question lai, answer deu.\\n</td>\n",
       "      <td></td>\n",
       "      <td>Chiya kasari banau?</td>\n",
       "      <td>Chiya banaunda pani tataera, chiya patti ra ch...</td>\n",
       "    </tr>\n",
       "    <tr>\n",
       "      <th>3785</th>\n",
       "      <td>translate</td>\n",
       "      <td>Talako diyeko instruction follow garera sodhiy...</td>\n",
       "      <td>Translate the given text from Roman Nepali lan...</td>\n",
       "      <td></td>\n",
       "      <td>Hami chai yo problem fix garna team ma kaam ga...</td>\n",
       "      <td>We need to work in a team to fix this problem.</td>\n",
       "    </tr>\n",
       "  </tbody>\n",
       "</table>\n",
       "</div>"
      ],
      "text/plain": [
       "       category                                             system  \\\n",
       "376     open_qa  Talako instruction follow garera user le garek...   \n",
       "2791        RAG  Talako instruction herera user le gareko quest...   \n",
       "809     open_qa  Talako instruction follow garera user le garek...   \n",
       "1075    open_qa  Talako instruction follow garera user le garek...   \n",
       "3428    summary  Talako instruction follow garera user le garek...   \n",
       "510     open_qa  Talako instruction follow garera user le garek...   \n",
       "3794  translate  Talako diyeko instruction follow garera sodhiy...   \n",
       "4100  translate  Talako diyeko instruction follow garera sodhiy...   \n",
       "1012    open_qa  Talako instruction follow garera user le garek...   \n",
       "3785  translate  Talako diyeko instruction follow garera sodhiy...   \n",
       "\n",
       "                                            instruction  \\\n",
       "376          User le gareko question lai, answer deu.\\n   \n",
       "2791  User le gareko question lai, context herera mi...   \n",
       "809          User le gareko question lai, answer deu.\\n   \n",
       "1075         User le gareko question lai, answer deu.\\n   \n",
       "3428     Summarize the following text in Roman Nepali\\n   \n",
       "510          User le gareko question lai, answer deu.\\n   \n",
       "3794  Translate the given text from Roman Nepali lan...   \n",
       "4100  Translate the given text from Roman Nepali lan...   \n",
       "1012         User le gareko question lai, answer deu.\\n   \n",
       "3785  Translate the given text from Roman Nepali lan...   \n",
       "\n",
       "                                                context  \\\n",
       "376   Discount: 10% off on electronics above Rs. 10,...   \n",
       "2791  Bhairabsthan, Dhankuta district ma cha, ra yah...   \n",
       "809                                                       \n",
       "1075                         biralo, haatti, kukur, bus   \n",
       "3428                                                      \n",
       "510                                                       \n",
       "3794                                                      \n",
       "4100                                                      \n",
       "1012                                                      \n",
       "3785                                                      \n",
       "\n",
       "                                               question  \\\n",
       "376                               Discount offer k cha?   \n",
       "2791                           Bhairabsthan kahaan cha?   \n",
       "809     Children ko reading habit kasari develop garne?   \n",
       "1075  Tala vayeka words haru madhye kun odd word ho ...   \n",
       "3428  The Dark Knight movie ma Batman le Joker ko ch...   \n",
       "510    Facebook ma friends kasari block garna sakincha?   \n",
       "3794       Yo message ko meaning bujhna sajilo chhaina.   \n",
       "4100                            padhai ta aba thik cha?   \n",
       "1012                                Chiya kasari banau?   \n",
       "3785  Hami chai yo problem fix garna team ma kaam ga...   \n",
       "\n",
       "                                               response  \n",
       "376   Electronics products ma Rs. 10,000 mathi ko or...  \n",
       "2791  Bhairabsthan Dhankuta district ma cha, ra Kosh...  \n",
       "809   Children ko reading habit develop garna unihar...  \n",
       "1075        Bus janawar hoina, aru tinwota janawar hun.  \n",
       "3428  The Dark Knight ma Batman le Joker stop garera...  \n",
       "510   Facebook ma friends block garna ko lagi tyo ma...  \n",
       "3794  Itâ€™s not easy to understand the meaning of t...  \n",
       "4100                      Is your study going well now?  \n",
       "1012  Chiya banaunda pani tataera, chiya patti ra ch...  \n",
       "3785     We need to work in a team to fix this problem.  "
      ]
     },
     "execution_count": 8,
     "metadata": {},
     "output_type": "execute_result"
    }
   ],
   "source": [
    "df.sample(10)"
   ]
  },
  {
   "cell_type": "code",
   "execution_count": 9,
   "metadata": {},
   "outputs": [
    {
     "data": {
      "text/plain": [
       "4768"
      ]
     },
     "execution_count": 9,
     "metadata": {},
     "output_type": "execute_result"
    }
   ],
   "source": [
    "df.value_counts().sum()"
   ]
  },
  {
   "cell_type": "code",
   "execution_count": 10,
   "metadata": {},
   "outputs": [
    {
     "data": {
      "text/plain": [
       "category       4768\n",
       "system         4768\n",
       "instruction    4768\n",
       "context        4768\n",
       "question       4768\n",
       "response       4768\n",
       "dtype: int64"
      ]
     },
     "execution_count": 10,
     "metadata": {},
     "output_type": "execute_result"
    }
   ],
   "source": [
    "df.notnull().sum()"
   ]
  },
  {
   "cell_type": "code",
   "execution_count": 11,
   "metadata": {},
   "outputs": [
    {
     "data": {
      "text/plain": [
       "Index(['category', 'system', 'instruction', 'context', 'question', 'response'], dtype='object')"
      ]
     },
     "execution_count": 11,
     "metadata": {},
     "output_type": "execute_result"
    }
   ],
   "source": [
    "df.columns"
   ]
  },
  {
   "cell_type": "code",
   "execution_count": 12,
   "metadata": {},
   "outputs": [
    {
     "data": {
      "text/plain": [
       "(4768, 6)"
      ]
     },
     "execution_count": 12,
     "metadata": {},
     "output_type": "execute_result"
    }
   ],
   "source": [
    "df.shape"
   ]
  },
  {
   "cell_type": "code",
   "execution_count": 13,
   "metadata": {},
   "outputs": [
    {
     "data": {
      "text/plain": [
       "4"
      ]
     },
     "execution_count": 13,
     "metadata": {},
     "output_type": "execute_result"
    }
   ],
   "source": [
    "df[\"category\"].nunique()"
   ]
  },
  {
   "cell_type": "code",
   "execution_count": 14,
   "metadata": {},
   "outputs": [],
   "source": [
    "df.to_csv(\"v1_fine_tune.csv\", index=False)"
   ]
  },
  {
   "cell_type": "code",
   "execution_count": 15,
   "metadata": {},
   "outputs": [],
   "source": [
    "fine_tune_dataset = pd.read_csv(\"./v1_fine_tune.csv\")"
   ]
  },
  {
   "cell_type": "code",
   "execution_count": 18,
   "metadata": {},
   "outputs": [
    {
     "data": {
      "text/html": [
       "<div>\n",
       "<style scoped>\n",
       "    .dataframe tbody tr th:only-of-type {\n",
       "        vertical-align: middle;\n",
       "    }\n",
       "\n",
       "    .dataframe tbody tr th {\n",
       "        vertical-align: top;\n",
       "    }\n",
       "\n",
       "    .dataframe thead th {\n",
       "        text-align: right;\n",
       "    }\n",
       "</style>\n",
       "<table border=\"1\" class=\"dataframe\">\n",
       "  <thead>\n",
       "    <tr style=\"text-align: right;\">\n",
       "      <th></th>\n",
       "      <th>category</th>\n",
       "      <th>system</th>\n",
       "      <th>instruction</th>\n",
       "      <th>context</th>\n",
       "      <th>question</th>\n",
       "      <th>response</th>\n",
       "    </tr>\n",
       "  </thead>\n",
       "  <tbody>\n",
       "    <tr>\n",
       "      <th>4648</th>\n",
       "      <td>translate</td>\n",
       "      <td>Talako diyeko instruction follow garera sodhiy...</td>\n",
       "      <td>Translate the given text from English language...</td>\n",
       "      <td>NaN</td>\n",
       "      <td>The scientists conducted a groundbreaking stud...</td>\n",
       "      <td>Vaigyanik haru le hawa ko dukha manis ko swast...</td>\n",
       "    </tr>\n",
       "    <tr>\n",
       "      <th>281</th>\n",
       "      <td>open_qa</td>\n",
       "      <td>Talako instruction follow garera user le garek...</td>\n",
       "      <td>User le gareko question lai, answer deu.\\n</td>\n",
       "      <td>NaN</td>\n",
       "      <td>Nepali thulo bhukampa ko ek udaharan ra tyo le...</td>\n",
       "      <td>2015 ko Gorkha Bhukampa ek thulo bhukampa ho, ...</td>\n",
       "    </tr>\n",
       "    <tr>\n",
       "      <th>1433</th>\n",
       "      <td>open_qa</td>\n",
       "      <td>Talako instruction follow garera user le garek...</td>\n",
       "      <td>User le gareko question lai, answer deu.\\n</td>\n",
       "      <td>NaN</td>\n",
       "      <td>Timi afno adarsha byakti ko bare ma lekh.</td>\n",
       "      <td>Mero adarsha byakti mero buwa hunuhunchha. Wah...</td>\n",
       "    </tr>\n",
       "    <tr>\n",
       "      <th>36</th>\n",
       "      <td>open_qa</td>\n",
       "      <td>Talako instruction follow garera user le garek...</td>\n",
       "      <td>User le gareko question lai, answer deu.\\n</td>\n",
       "      <td>NaN</td>\n",
       "      <td>Nepal ma first hydropower plant kahaan baneko ho?</td>\n",
       "      <td>Pharping ma</td>\n",
       "    </tr>\n",
       "    <tr>\n",
       "      <th>969</th>\n",
       "      <td>open_qa</td>\n",
       "      <td>Talako instruction follow garera user le garek...</td>\n",
       "      <td>User le gareko question lai, answer deu.\\n</td>\n",
       "      <td>NaN</td>\n",
       "      <td>Kathmandu ma durgami karyalaya haru kasari kho...</td>\n",
       "      <td>Kathmandu ma durgami karyalaya haru khojna onl...</td>\n",
       "    </tr>\n",
       "    <tr>\n",
       "      <th>3432</th>\n",
       "      <td>summary</td>\n",
       "      <td>Talako instruction follow garera user le garek...</td>\n",
       "      <td>Summarize the following text in Roman Nepali\\n</td>\n",
       "      <td>NaN</td>\n",
       "      <td>Ek city ma green initiative start huncha. Aba ...</td>\n",
       "      <td>Green initiative ma locals le trees plant gare...</td>\n",
       "    </tr>\n",
       "    <tr>\n",
       "      <th>1921</th>\n",
       "      <td>open_qa</td>\n",
       "      <td>Talako instruction follow garera user le garek...</td>\n",
       "      <td>User le gareko question lai, answer deu.\\n</td>\n",
       "      <td>NaN</td>\n",
       "      <td>20 ra 5 ko jod kati ho?</td>\n",
       "      <td>20 ra 5 ko jod 25 ho.</td>\n",
       "    </tr>\n",
       "    <tr>\n",
       "      <th>2009</th>\n",
       "      <td>RAG</td>\n",
       "      <td>Talako instruction herera user le gareko quest...</td>\n",
       "      <td>User le gareko question lai, context herera mi...</td>\n",
       "      <td>Product: Oppo A78, Price: Rs. 22,499, Features...</td>\n",
       "      <td>Oppo A78 ko camera resolution kati ho?</td>\n",
       "      <td>Oppo A78 ko camera resolution 50MP ho.</td>\n",
       "    </tr>\n",
       "    <tr>\n",
       "      <th>1475</th>\n",
       "      <td>open_qa</td>\n",
       "      <td>Talako instruction follow garera user le garek...</td>\n",
       "      <td>User le gareko question lai, answer deu.\\n</td>\n",
       "      <td>NaN</td>\n",
       "      <td>Chemistry ko importance ke ho? Lekhnuhos.</td>\n",
       "      <td>Chemistry ko importance ta dherai cha. Aba yo ...</td>\n",
       "    </tr>\n",
       "    <tr>\n",
       "      <th>2517</th>\n",
       "      <td>RAG</td>\n",
       "      <td>Talako instruction herera user le gareko quest...</td>\n",
       "      <td>User le gareko question lai, context herera mi...</td>\n",
       "      <td>Nepal has immense potential for renewable ener...</td>\n",
       "      <td>Nepal ma renewable energy sources ko sambhavan...</td>\n",
       "      <td>Nepal ma renewable energy ko possibility dhera...</td>\n",
       "    </tr>\n",
       "  </tbody>\n",
       "</table>\n",
       "</div>"
      ],
      "text/plain": [
       "       category                                             system  \\\n",
       "4648  translate  Talako diyeko instruction follow garera sodhiy...   \n",
       "281     open_qa  Talako instruction follow garera user le garek...   \n",
       "1433    open_qa  Talako instruction follow garera user le garek...   \n",
       "36      open_qa  Talako instruction follow garera user le garek...   \n",
       "969     open_qa  Talako instruction follow garera user le garek...   \n",
       "3432    summary  Talako instruction follow garera user le garek...   \n",
       "1921    open_qa  Talako instruction follow garera user le garek...   \n",
       "2009        RAG  Talako instruction herera user le gareko quest...   \n",
       "1475    open_qa  Talako instruction follow garera user le garek...   \n",
       "2517        RAG  Talako instruction herera user le gareko quest...   \n",
       "\n",
       "                                            instruction  \\\n",
       "4648  Translate the given text from English language...   \n",
       "281          User le gareko question lai, answer deu.\\n   \n",
       "1433         User le gareko question lai, answer deu.\\n   \n",
       "36           User le gareko question lai, answer deu.\\n   \n",
       "969          User le gareko question lai, answer deu.\\n   \n",
       "3432     Summarize the following text in Roman Nepali\\n   \n",
       "1921         User le gareko question lai, answer deu.\\n   \n",
       "2009  User le gareko question lai, context herera mi...   \n",
       "1475         User le gareko question lai, answer deu.\\n   \n",
       "2517  User le gareko question lai, context herera mi...   \n",
       "\n",
       "                                                context  \\\n",
       "4648                                                NaN   \n",
       "281                                                 NaN   \n",
       "1433                                                NaN   \n",
       "36                                                  NaN   \n",
       "969                                                 NaN   \n",
       "3432                                                NaN   \n",
       "1921                                                NaN   \n",
       "2009  Product: Oppo A78, Price: Rs. 22,499, Features...   \n",
       "1475                                                NaN   \n",
       "2517  Nepal has immense potential for renewable ener...   \n",
       "\n",
       "                                               question  \\\n",
       "4648  The scientists conducted a groundbreaking stud...   \n",
       "281   Nepali thulo bhukampa ko ek udaharan ra tyo le...   \n",
       "1433          Timi afno adarsha byakti ko bare ma lekh.   \n",
       "36    Nepal ma first hydropower plant kahaan baneko ho?   \n",
       "969   Kathmandu ma durgami karyalaya haru kasari kho...   \n",
       "3432  Ek city ma green initiative start huncha. Aba ...   \n",
       "1921                            20 ra 5 ko jod kati ho?   \n",
       "2009             Oppo A78 ko camera resolution kati ho?   \n",
       "1475          Chemistry ko importance ke ho? Lekhnuhos.   \n",
       "2517  Nepal ma renewable energy sources ko sambhavan...   \n",
       "\n",
       "                                               response  \n",
       "4648  Vaigyanik haru le hawa ko dukha manis ko swast...  \n",
       "281   2015 ko Gorkha Bhukampa ek thulo bhukampa ho, ...  \n",
       "1433  Mero adarsha byakti mero buwa hunuhunchha. Wah...  \n",
       "36                                          Pharping ma  \n",
       "969   Kathmandu ma durgami karyalaya haru khojna onl...  \n",
       "3432  Green initiative ma locals le trees plant gare...  \n",
       "1921                              20 ra 5 ko jod 25 ho.  \n",
       "2009             Oppo A78 ko camera resolution 50MP ho.  \n",
       "1475  Chemistry ko importance ta dherai cha. Aba yo ...  \n",
       "2517  Nepal ma renewable energy ko possibility dhera...  "
      ]
     },
     "execution_count": 18,
     "metadata": {},
     "output_type": "execute_result"
    }
   ],
   "source": [
    "fine_tune_dataset.sample(10)"
   ]
  },
  {
   "cell_type": "code",
   "execution_count": 33,
   "metadata": {},
   "outputs": [
    {
     "data": {
      "text/html": [
       "<div>\n",
       "<style scoped>\n",
       "    .dataframe tbody tr th:only-of-type {\n",
       "        vertical-align: middle;\n",
       "    }\n",
       "\n",
       "    .dataframe tbody tr th {\n",
       "        vertical-align: top;\n",
       "    }\n",
       "\n",
       "    .dataframe thead th {\n",
       "        text-align: right;\n",
       "    }\n",
       "</style>\n",
       "<table border=\"1\" class=\"dataframe\">\n",
       "  <thead>\n",
       "    <tr style=\"text-align: right;\">\n",
       "      <th></th>\n",
       "      <th>category</th>\n",
       "      <th>system</th>\n",
       "      <th>instruction</th>\n",
       "      <th>context</th>\n",
       "      <th>question</th>\n",
       "      <th>response</th>\n",
       "    </tr>\n",
       "  </thead>\n",
       "  <tbody>\n",
       "    <tr>\n",
       "      <th>2486</th>\n",
       "      <td>RAG</td>\n",
       "      <td>Talako instruction herera user le gareko quest...</td>\n",
       "      <td>User le gareko question lai, context herera mi...</td>\n",
       "      <td>NaN</td>\n",
       "      <td>Kathmandu ma ghumne ramro thau haru bataunus.</td>\n",
       "      <td>Kathmandu ma ghumne ramro thau haru Bhaktapur ...</td>\n",
       "    </tr>\n",
       "    <tr>\n",
       "      <th>2487</th>\n",
       "      <td>RAG</td>\n",
       "      <td>Talako instruction herera user le gareko quest...</td>\n",
       "      <td>User le gareko question lai, context herera mi...</td>\n",
       "      <td>NaN</td>\n",
       "      <td>Nepal ko itihas ko barema jankari dinus.</td>\n",
       "      <td>Nepal ek prachin desh ho, jaha ekikaran Prithv...</td>\n",
       "    </tr>\n",
       "    <tr>\n",
       "      <th>2488</th>\n",
       "      <td>RAG</td>\n",
       "      <td>Talako instruction herera user le gareko quest...</td>\n",
       "      <td>User le gareko question lai, context herera mi...</td>\n",
       "      <td>NaN</td>\n",
       "      <td>Nepali khana ko barema bataunus.</td>\n",
       "      <td>Nepali khana ma dal bhat tarkari mukhya ho. An...</td>\n",
       "    </tr>\n",
       "    <tr>\n",
       "      <th>2489</th>\n",
       "      <td>RAG</td>\n",
       "      <td>Talako instruction herera user le gareko quest...</td>\n",
       "      <td>User le gareko question lai, context herera mi...</td>\n",
       "      <td>NaN</td>\n",
       "      <td>Hawaijahaj ticket kasari book garne?</td>\n",
       "      <td>Online travel websites jastai Yatra, Makemytri...</td>\n",
       "    </tr>\n",
       "    <tr>\n",
       "      <th>2490</th>\n",
       "      <td>RAG</td>\n",
       "      <td>Talako instruction herera user le gareko quest...</td>\n",
       "      <td>User le gareko question lai, context herera mi...</td>\n",
       "      <td>NaN</td>\n",
       "      <td>Pokhara ma adventure activities ko jankari dinus.</td>\n",
       "      <td>Pokhara ma paragliding, zip-lining, boating, r...</td>\n",
       "    </tr>\n",
       "  </tbody>\n",
       "</table>\n",
       "</div>"
      ],
      "text/plain": [
       "     category                                             system  \\\n",
       "2486      RAG  Talako instruction herera user le gareko quest...   \n",
       "2487      RAG  Talako instruction herera user le gareko quest...   \n",
       "2488      RAG  Talako instruction herera user le gareko quest...   \n",
       "2489      RAG  Talako instruction herera user le gareko quest...   \n",
       "2490      RAG  Talako instruction herera user le gareko quest...   \n",
       "\n",
       "                                            instruction context  \\\n",
       "2486  User le gareko question lai, context herera mi...     NaN   \n",
       "2487  User le gareko question lai, context herera mi...     NaN   \n",
       "2488  User le gareko question lai, context herera mi...     NaN   \n",
       "2489  User le gareko question lai, context herera mi...     NaN   \n",
       "2490  User le gareko question lai, context herera mi...     NaN   \n",
       "\n",
       "                                               question  \\\n",
       "2486      Kathmandu ma ghumne ramro thau haru bataunus.   \n",
       "2487           Nepal ko itihas ko barema jankari dinus.   \n",
       "2488                   Nepali khana ko barema bataunus.   \n",
       "2489               Hawaijahaj ticket kasari book garne?   \n",
       "2490  Pokhara ma adventure activities ko jankari dinus.   \n",
       "\n",
       "                                               response  \n",
       "2486  Kathmandu ma ghumne ramro thau haru Bhaktapur ...  \n",
       "2487  Nepal ek prachin desh ho, jaha ekikaran Prithv...  \n",
       "2488  Nepali khana ma dal bhat tarkari mukhya ho. An...  \n",
       "2489  Online travel websites jastai Yatra, Makemytri...  \n",
       "2490  Pokhara ma paragliding, zip-lining, boating, r...  "
      ]
     },
     "execution_count": 33,
     "metadata": {},
     "output_type": "execute_result"
    }
   ],
   "source": [
    "null_rag_context = fine_tune_dataset[(fine_tune_dataset[\"category\"] == \"RAG\") & (fine_tune_dataset[\"context\"].isna())]\n",
    "null_rag_context"
   ]
  },
  {
   "cell_type": "code",
   "execution_count": 37,
   "metadata": {},
   "outputs": [
    {
     "data": {
      "text/html": [
       "<div>\n",
       "<style scoped>\n",
       "    .dataframe tbody tr th:only-of-type {\n",
       "        vertical-align: middle;\n",
       "    }\n",
       "\n",
       "    .dataframe tbody tr th {\n",
       "        vertical-align: top;\n",
       "    }\n",
       "\n",
       "    .dataframe thead th {\n",
       "        text-align: right;\n",
       "    }\n",
       "</style>\n",
       "<table border=\"1\" class=\"dataframe\">\n",
       "  <thead>\n",
       "    <tr style=\"text-align: right;\">\n",
       "      <th></th>\n",
       "      <th>category</th>\n",
       "      <th>system</th>\n",
       "      <th>instruction</th>\n",
       "      <th>context</th>\n",
       "      <th>question</th>\n",
       "      <th>response</th>\n",
       "    </tr>\n",
       "  </thead>\n",
       "  <tbody>\n",
       "    <tr>\n",
       "      <th>0</th>\n",
       "      <td>open_qa</td>\n",
       "      <td>Talako instruction follow garera user le garek...</td>\n",
       "      <td>User le gareko question lai, answer deu.\\n</td>\n",
       "      <td>NaN</td>\n",
       "      <td>Yo calculator le 5 + 3 ko value find garera ba...</td>\n",
       "      <td>8</td>\n",
       "    </tr>\n",
       "    <tr>\n",
       "      <th>1</th>\n",
       "      <td>open_qa</td>\n",
       "      <td>Talako instruction follow garera user le garek...</td>\n",
       "      <td>User le gareko question lai, answer deu.\\n</td>\n",
       "      <td>NaN</td>\n",
       "      <td>Nepal ko rastriya phool ko naam lekhnus.</td>\n",
       "      <td>Laligurans</td>\n",
       "    </tr>\n",
       "    <tr>\n",
       "      <th>2</th>\n",
       "      <td>open_qa</td>\n",
       "      <td>Talako instruction follow garera user le garek...</td>\n",
       "      <td>User le gareko question lai, answer deu.\\n</td>\n",
       "      <td>NaN</td>\n",
       "      <td>Tapai kasari English ma 'Namaste' bhanchha bat...</td>\n",
       "      <td>Hello</td>\n",
       "    </tr>\n",
       "    <tr>\n",
       "      <th>3</th>\n",
       "      <td>open_qa</td>\n",
       "      <td>Talako instruction follow garera user le garek...</td>\n",
       "      <td>User le gareko question lai, answer deu.\\n</td>\n",
       "      <td>NaN</td>\n",
       "      <td>Kathmandu bata Pokhara ko distance km ma lekhnus.</td>\n",
       "      <td>200 km</td>\n",
       "    </tr>\n",
       "    <tr>\n",
       "      <th>4</th>\n",
       "      <td>open_qa</td>\n",
       "      <td>Talako instruction follow garera user le garek...</td>\n",
       "      <td>User le gareko question lai, answer deu.\\n</td>\n",
       "      <td>NaN</td>\n",
       "      <td>Mobile ma screenshot kasari linu parcha? Steps...</td>\n",
       "      <td>Power button ra volume down button ekai choti ...</td>\n",
       "    </tr>\n",
       "    <tr>\n",
       "      <th>...</th>\n",
       "      <td>...</td>\n",
       "      <td>...</td>\n",
       "      <td>...</td>\n",
       "      <td>...</td>\n",
       "      <td>...</td>\n",
       "      <td>...</td>\n",
       "    </tr>\n",
       "    <tr>\n",
       "      <th>1934</th>\n",
       "      <td>open_qa</td>\n",
       "      <td>Talako instruction follow garera user le garek...</td>\n",
       "      <td>User le gareko question lai, answer deu.\\n</td>\n",
       "      <td>NaN</td>\n",
       "      <td>36 ko 4 bata bhag garne ho bhane kati hunchha?</td>\n",
       "      <td>36 ko 4 bata bhag garne ho bhane 9 hunchha.</td>\n",
       "    </tr>\n",
       "    <tr>\n",
       "      <th>1935</th>\n",
       "      <td>open_qa</td>\n",
       "      <td>Talako instruction follow garera user le garek...</td>\n",
       "      <td>User le gareko question lai, answer deu.\\n</td>\n",
       "      <td>NaN</td>\n",
       "      <td>5 ko 8 bata guna garne ho bhane kati milcha?</td>\n",
       "      <td>5 ko 8 bata guna garne ho bhane 40 milcha.</td>\n",
       "    </tr>\n",
       "    <tr>\n",
       "      <th>1936</th>\n",
       "      <td>open_qa</td>\n",
       "      <td>Talako instruction follow garera user le garek...</td>\n",
       "      <td>User le gareko question lai, answer deu.\\n</td>\n",
       "      <td>NaN</td>\n",
       "      <td>42 lai 7 bata bhag garne ho bhane kati hunchha?</td>\n",
       "      <td>42 lai 7 bata bhag garne ho bhane 6 hunchha.</td>\n",
       "    </tr>\n",
       "    <tr>\n",
       "      <th>1937</th>\n",
       "      <td>open_qa</td>\n",
       "      <td>Talako instruction follow garera user le garek...</td>\n",
       "      <td>User le gareko question lai, answer deu.\\n</td>\n",
       "      <td>NaN</td>\n",
       "      <td>18 bata 9 ghatawa bhaye ko result kati ho?</td>\n",
       "      <td>18 bata 9 ghatawa bhaye ko result 9 ho.</td>\n",
       "    </tr>\n",
       "    <tr>\n",
       "      <th>1938</th>\n",
       "      <td>open_qa</td>\n",
       "      <td>Talako instruction follow garera user le garek...</td>\n",
       "      <td>User le gareko question lai, answer deu.\\n</td>\n",
       "      <td>NaN</td>\n",
       "      <td>40 ma 5 jodne ho bhane kati ho?</td>\n",
       "      <td>40 ma 5 jodne ho bhane 45 ho.</td>\n",
       "    </tr>\n",
       "  </tbody>\n",
       "</table>\n",
       "<p>1476 rows × 6 columns</p>\n",
       "</div>"
      ],
      "text/plain": [
       "     category                                             system  \\\n",
       "0     open_qa  Talako instruction follow garera user le garek...   \n",
       "1     open_qa  Talako instruction follow garera user le garek...   \n",
       "2     open_qa  Talako instruction follow garera user le garek...   \n",
       "3     open_qa  Talako instruction follow garera user le garek...   \n",
       "4     open_qa  Talako instruction follow garera user le garek...   \n",
       "...       ...                                                ...   \n",
       "1934  open_qa  Talako instruction follow garera user le garek...   \n",
       "1935  open_qa  Talako instruction follow garera user le garek...   \n",
       "1936  open_qa  Talako instruction follow garera user le garek...   \n",
       "1937  open_qa  Talako instruction follow garera user le garek...   \n",
       "1938  open_qa  Talako instruction follow garera user le garek...   \n",
       "\n",
       "                                     instruction context  \\\n",
       "0     User le gareko question lai, answer deu.\\n     NaN   \n",
       "1     User le gareko question lai, answer deu.\\n     NaN   \n",
       "2     User le gareko question lai, answer deu.\\n     NaN   \n",
       "3     User le gareko question lai, answer deu.\\n     NaN   \n",
       "4     User le gareko question lai, answer deu.\\n     NaN   \n",
       "...                                          ...     ...   \n",
       "1934  User le gareko question lai, answer deu.\\n     NaN   \n",
       "1935  User le gareko question lai, answer deu.\\n     NaN   \n",
       "1936  User le gareko question lai, answer deu.\\n     NaN   \n",
       "1937  User le gareko question lai, answer deu.\\n     NaN   \n",
       "1938  User le gareko question lai, answer deu.\\n     NaN   \n",
       "\n",
       "                                               question  \\\n",
       "0     Yo calculator le 5 + 3 ko value find garera ba...   \n",
       "1              Nepal ko rastriya phool ko naam lekhnus.   \n",
       "2     Tapai kasari English ma 'Namaste' bhanchha bat...   \n",
       "3     Kathmandu bata Pokhara ko distance km ma lekhnus.   \n",
       "4     Mobile ma screenshot kasari linu parcha? Steps...   \n",
       "...                                                 ...   \n",
       "1934     36 ko 4 bata bhag garne ho bhane kati hunchha?   \n",
       "1935       5 ko 8 bata guna garne ho bhane kati milcha?   \n",
       "1936    42 lai 7 bata bhag garne ho bhane kati hunchha?   \n",
       "1937         18 bata 9 ghatawa bhaye ko result kati ho?   \n",
       "1938                    40 ma 5 jodne ho bhane kati ho?   \n",
       "\n",
       "                                               response  \n",
       "0                                                     8  \n",
       "1                                            Laligurans  \n",
       "2                                                 Hello  \n",
       "3                                                200 km  \n",
       "4     Power button ra volume down button ekai choti ...  \n",
       "...                                                 ...  \n",
       "1934        36 ko 4 bata bhag garne ho bhane 9 hunchha.  \n",
       "1935         5 ko 8 bata guna garne ho bhane 40 milcha.  \n",
       "1936       42 lai 7 bata bhag garne ho bhane 6 hunchha.  \n",
       "1937            18 bata 9 ghatawa bhaye ko result 9 ho.  \n",
       "1938                      40 ma 5 jodne ho bhane 45 ho.  \n",
       "\n",
       "[1476 rows x 6 columns]"
      ]
     },
     "execution_count": 37,
     "metadata": {},
     "output_type": "execute_result"
    }
   ],
   "source": [
    "fine_tune_dataset[(fine_tune_dataset[\"category\"] == \"open_qa\") & (fine_tune_dataset[\"context\"].isna())]"
   ]
  },
  {
   "cell_type": "code",
   "execution_count": 41,
   "metadata": {},
   "outputs": [],
   "source": [
    "category_df = fine_tune_dataset.groupby(\"category\")"
   ]
  },
  {
   "cell_type": "code",
   "execution_count": 42,
   "metadata": {},
   "outputs": [
    {
     "name": "stdout",
     "output_type": "stream",
     "text": [
      "category\n",
      "RAG          1318\n",
      "open_qa      1939\n",
      "summary       223\n",
      "translate    1288\n",
      "dtype: int64\n"
     ]
    }
   ],
   "source": [
    "category_counts = category_df.size()\n",
    "print(category_counts)"
   ]
  },
  {
   "cell_type": "code",
   "execution_count": 50,
   "metadata": {},
   "outputs": [
    {
     "data": {
      "text/plain": [
       "1313"
      ]
     },
     "execution_count": 50,
     "metadata": {},
     "output_type": "execute_result"
    }
   ],
   "source": [
    "rag_category = category_df.get_group('RAG')\n",
    "rag_category.value_counts().sum()"
   ]
  }
 ],
 "metadata": {
  "kernelspec": {
   "display_name": "Python 3",
   "language": "python",
   "name": "python3"
  },
  "language_info": {
   "codemirror_mode": {
    "name": "ipython",
    "version": 3
   },
   "file_extension": ".py",
   "mimetype": "text/x-python",
   "name": "python",
   "nbconvert_exporter": "python",
   "pygments_lexer": "ipython3",
   "version": "3.12.1"
  }
 },
 "nbformat": 4,
 "nbformat_minor": 2
}
