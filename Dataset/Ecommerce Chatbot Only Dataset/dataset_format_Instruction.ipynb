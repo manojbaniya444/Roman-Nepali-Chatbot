{
 "cells": [
  {
   "cell_type": "code",
   "execution_count": 132,
   "metadata": {},
   "outputs": [],
   "source": [
    "import json\n",
    "import pandas as pd"
   ]
  },
  {
   "cell_type": "code",
   "execution_count": 133,
   "metadata": {},
   "outputs": [],
   "source": [
    "file_name = r\"D:\\\\Roman Nepali Chatbot\\Dataset\\\\Ecommerce Chatbot Only Dataset\\\\product_inquiry.json\""
   ]
  },
  {
   "cell_type": "code",
   "execution_count": 134,
   "metadata": {},
   "outputs": [],
   "source": [
    "# df = pd.DataFrame({}, columns=[\"question\", \"context\", \"response\"])\n",
    "df = pd.read_csv(\"./ecommerce_only.csv\")"
   ]
  },
  {
   "cell_type": "code",
   "execution_count": 135,
   "metadata": {},
   "outputs": [
    {
     "data": {
      "text/plain": [
       "(5528, 3)"
      ]
     },
     "execution_count": 135,
     "metadata": {},
     "output_type": "execute_result"
    }
   ],
   "source": [
    "df.shape"
   ]
  },
  {
   "cell_type": "code",
   "execution_count": 136,
   "metadata": {},
   "outputs": [],
   "source": [
    "with open(file_name, \"r\", encoding=\"utf-8\") as f:\n",
    "    data = f.read()\n",
    "    \n",
    "json_data = json.loads(data)\n",
    "\n",
    "new_df = []\n",
    "for row in json_data:\n",
    "    question = row[\"question\"]\n",
    "    context = row[\"context\"]\n",
    "    response = row[\"response\"]\n",
    "    \n",
    "    new_df.append({\n",
    "        \"question\": question,\n",
    "        \"context\": context,\n",
    "        \"response\": response\n",
    "    })\n",
    "\n",
    "df_new = pd.DataFrame(new_df)"
   ]
  },
  {
   "cell_type": "code",
   "execution_count": 137,
   "metadata": {},
   "outputs": [],
   "source": [
    "df = pd.concat([df, df_new], ignore_index=True)"
   ]
  },
  {
   "cell_type": "code",
   "execution_count": 138,
   "metadata": {},
   "outputs": [
    {
     "data": {
      "text/html": [
       "<div>\n",
       "<style scoped>\n",
       "    .dataframe tbody tr th:only-of-type {\n",
       "        vertical-align: middle;\n",
       "    }\n",
       "\n",
       "    .dataframe tbody tr th {\n",
       "        vertical-align: top;\n",
       "    }\n",
       "\n",
       "    .dataframe thead th {\n",
       "        text-align: right;\n",
       "    }\n",
       "</style>\n",
       "<table border=\"1\" class=\"dataframe\">\n",
       "  <thead>\n",
       "    <tr style=\"text-align: right;\">\n",
       "      <th></th>\n",
       "      <th>question</th>\n",
       "      <th>context</th>\n",
       "      <th>response</th>\n",
       "    </tr>\n",
       "  </thead>\n",
       "  <tbody>\n",
       "    <tr>\n",
       "      <th>6025</th>\n",
       "      <td>Under 45000 tapai saga kun kun mobile availabl...</td>\n",
       "      <td>Pokhara Tech Mart, Lakeside ma cha. Tapai le V...</td>\n",
       "      <td>Hami ko store ma Vivo Y21, Samsung Galaxy M31,...</td>\n",
       "    </tr>\n",
       "    <tr>\n",
       "      <th>6026</th>\n",
       "      <td>Under 50000 tapai saga kun kun mobile availabl...</td>\n",
       "      <td>Birtamode Digital Hub, Birtamode-3 ma cha. Tap...</td>\n",
       "      <td>Hami ko store ma Xiaomi Redmi Note 11, Oppo Re...</td>\n",
       "    </tr>\n",
       "    <tr>\n",
       "      <th>6027</th>\n",
       "      <td>Under 40000 tapai saga kun kun mobile availabl...</td>\n",
       "      <td>Itahari Tech Plaza, Itahari-1 ma cha. Tapai le...</td>\n",
       "      <td>Hami ko store ma Vivo Y20, Oppo F19, ra Xiaomi...</td>\n",
       "    </tr>\n",
       "    <tr>\n",
       "      <th>6028</th>\n",
       "      <td>Under 70000 tapai saga kun kun laptop availabl...</td>\n",
       "      <td>Pokhara Digital Shop, Lakeside ma cha. Tapai l...</td>\n",
       "      <td>Hami ko store ma Asus Zenbook 14, HP Pavilion ...</td>\n",
       "    </tr>\n",
       "    <tr>\n",
       "      <th>6029</th>\n",
       "      <td>Under 25000 tapai saga kun kun mobile availabl...</td>\n",
       "      <td>Birtamode Mobile Mart, Birtamode-6 ma cha. Tap...</td>\n",
       "      <td>Hami ko store ma Xiaomi Redmi Note 9, Vivo Y30...</td>\n",
       "    </tr>\n",
       "  </tbody>\n",
       "</table>\n",
       "</div>"
      ],
      "text/plain": [
       "                                               question  \\\n",
       "6025  Under 45000 tapai saga kun kun mobile availabl...   \n",
       "6026  Under 50000 tapai saga kun kun mobile availabl...   \n",
       "6027  Under 40000 tapai saga kun kun mobile availabl...   \n",
       "6028  Under 70000 tapai saga kun kun laptop availabl...   \n",
       "6029  Under 25000 tapai saga kun kun mobile availabl...   \n",
       "\n",
       "                                                context  \\\n",
       "6025  Pokhara Tech Mart, Lakeside ma cha. Tapai le V...   \n",
       "6026  Birtamode Digital Hub, Birtamode-3 ma cha. Tap...   \n",
       "6027  Itahari Tech Plaza, Itahari-1 ma cha. Tapai le...   \n",
       "6028  Pokhara Digital Shop, Lakeside ma cha. Tapai l...   \n",
       "6029  Birtamode Mobile Mart, Birtamode-6 ma cha. Tap...   \n",
       "\n",
       "                                               response  \n",
       "6025  Hami ko store ma Vivo Y21, Samsung Galaxy M31,...  \n",
       "6026  Hami ko store ma Xiaomi Redmi Note 11, Oppo Re...  \n",
       "6027  Hami ko store ma Vivo Y20, Oppo F19, ra Xiaomi...  \n",
       "6028  Hami ko store ma Asus Zenbook 14, HP Pavilion ...  \n",
       "6029  Hami ko store ma Xiaomi Redmi Note 9, Vivo Y30...  "
      ]
     },
     "execution_count": 138,
     "metadata": {},
     "output_type": "execute_result"
    }
   ],
   "source": [
    "df.tail(5)"
   ]
  },
  {
   "cell_type": "code",
   "execution_count": 139,
   "metadata": {},
   "outputs": [],
   "source": [
    "df.to_csv(\"ecommerce_only.csv\", index=False)"
   ]
  },
  {
   "cell_type": "code",
   "execution_count": 140,
   "metadata": {},
   "outputs": [
    {
     "data": {
      "text/plain": [
       "(6030, 3)"
      ]
     },
     "execution_count": 140,
     "metadata": {},
     "output_type": "execute_result"
    }
   ],
   "source": [
    "df.shape"
   ]
  }
 ],
 "metadata": {
  "kernelspec": {
   "display_name": "Python 3",
   "language": "python",
   "name": "python3"
  },
  "language_info": {
   "codemirror_mode": {
    "name": "ipython",
    "version": 3
   },
   "file_extension": ".py",
   "mimetype": "text/x-python",
   "name": "python",
   "nbconvert_exporter": "python",
   "pygments_lexer": "ipython3",
   "version": "3.12.1"
  }
 },
 "nbformat": 4,
 "nbformat_minor": 2
}
