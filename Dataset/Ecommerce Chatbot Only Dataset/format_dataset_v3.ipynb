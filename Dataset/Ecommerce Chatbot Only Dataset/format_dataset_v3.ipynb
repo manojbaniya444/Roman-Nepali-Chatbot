{
 "cells": [
  {
   "cell_type": "markdown",
   "metadata": {},
   "source": [
    "## Format Dataset V3"
   ]
  },
  {
   "cell_type": "code",
   "execution_count": 1,
   "metadata": {},
   "outputs": [],
   "source": [
    "import pandas as pd"
   ]
  },
  {
   "cell_type": "code",
   "execution_count": 2,
   "metadata": {},
   "outputs": [],
   "source": [
    "df_old = pd.read_csv(\"./ecommerce_only.csv\")"
   ]
  },
  {
   "cell_type": "code",
   "execution_count": 3,
   "metadata": {},
   "outputs": [
    {
     "data": {
      "text/plain": [
       "(6030, 3)"
      ]
     },
     "execution_count": 3,
     "metadata": {},
     "output_type": "execute_result"
    }
   ],
   "source": [
    "df_old.shape"
   ]
  },
  {
   "cell_type": "code",
   "execution_count": 4,
   "metadata": {},
   "outputs": [
    {
     "data": {
      "text/plain": [
       "Index(['question', 'context', 'response'], dtype='object')"
      ]
     },
     "execution_count": 4,
     "metadata": {},
     "output_type": "execute_result"
    }
   ],
   "source": [
    "df_old.columns"
   ]
  },
  {
   "cell_type": "code",
   "execution_count": 5,
   "metadata": {},
   "outputs": [
    {
     "data": {
      "text/html": [
       "<div>\n",
       "<style scoped>\n",
       "    .dataframe tbody tr th:only-of-type {\n",
       "        vertical-align: middle;\n",
       "    }\n",
       "\n",
       "    .dataframe tbody tr th {\n",
       "        vertical-align: top;\n",
       "    }\n",
       "\n",
       "    .dataframe thead th {\n",
       "        text-align: right;\n",
       "    }\n",
       "</style>\n",
       "<table border=\"1\" class=\"dataframe\">\n",
       "  <thead>\n",
       "    <tr style=\"text-align: right;\">\n",
       "      <th></th>\n",
       "      <th>question</th>\n",
       "      <th>context</th>\n",
       "      <th>response</th>\n",
       "    </tr>\n",
       "  </thead>\n",
       "  <tbody>\n",
       "    <tr>\n",
       "      <th>4273</th>\n",
       "      <td>Tapai le ke type ko information dinuhuncha?</td>\n",
       "      <td>NaN</td>\n",
       "      <td>Ma Ecommerce Customer Support AI ho.</td>\n",
       "    </tr>\n",
       "    <tr>\n",
       "      <th>4849</th>\n",
       "      <td>Hajurko fitness trackers ma Dashain ma discoun...</td>\n",
       "      <td>Hamro store ma smartwatches, fitness trackers,...</td>\n",
       "      <td>Fitness trackers ma Dashain ko 7% discount cha.</td>\n",
       "    </tr>\n",
       "    <tr>\n",
       "      <th>5580</th>\n",
       "      <td>EasyElectro ma k k saman paainchha?</td>\n",
       "      <td>EasyElectro, Dharan-6, Zero Point ma sabai tha...</td>\n",
       "      <td>EasyElectro ma sabai thari mobile accessories ...</td>\n",
       "    </tr>\n",
       "    <tr>\n",
       "      <th>5579</th>\n",
       "      <td>BiratGadget ma kun kun saman chha?</td>\n",
       "      <td>BiratGadget, Biratnagar-7, Devkota Chowk ma ha...</td>\n",
       "      <td>BiratGadget ma mobiles, tablets ra camera acce...</td>\n",
       "    </tr>\n",
       "    <tr>\n",
       "      <th>4604</th>\n",
       "      <td>Pokhara ra purba ma delivery garna sakidaina?</td>\n",
       "      <td>TechMart, Kathmandu-12, New Baneshwor ma elect...</td>\n",
       "      <td>Ho, Pokhara ra purba ma delivery garna sakidaina.</td>\n",
       "    </tr>\n",
       "    <tr>\n",
       "      <th>3285</th>\n",
       "      <td>Store ma smartwatches pani available cha?</td>\n",
       "      <td>Store ma smartwatches ko wide collection cha, ...</td>\n",
       "      <td>Ho, store ma Apple Watch, Samsung Galaxy Watch...</td>\n",
       "    </tr>\n",
       "    <tr>\n",
       "      <th>4064</th>\n",
       "      <td>Kasari timi ko ho?</td>\n",
       "      <td>NaN</td>\n",
       "      <td>Ma Ecommerce Customer Support AI ho, tapai ko ...</td>\n",
       "    </tr>\n",
       "    <tr>\n",
       "      <th>510</th>\n",
       "      <td>Hi timi sangai ko ho?</td>\n",
       "      <td></td>\n",
       "      <td>Namaste! Ma e-commerce assistant ho. Aba tapai...</td>\n",
       "    </tr>\n",
       "    <tr>\n",
       "      <th>855</th>\n",
       "      <td>Dharan ko bahira delivery charge kati ho?</td>\n",
       "      <td>Hamro delivery Dharan vitra free hunxa. Outsid...</td>\n",
       "      <td>Outside Dharan delivery charge Rs. 120 hunxa.</td>\n",
       "    </tr>\n",
       "    <tr>\n",
       "      <th>4976</th>\n",
       "      <td>Mobile accessories ma discount cha?</td>\n",
       "      <td>TechPlus, Pokhara ma abaileko special offer ma...</td>\n",
       "      <td>Mobile accessories ra laptops ma 8% discount c...</td>\n",
       "    </tr>\n",
       "  </tbody>\n",
       "</table>\n",
       "</div>"
      ],
      "text/plain": [
       "                                               question  \\\n",
       "4273        Tapai le ke type ko information dinuhuncha?   \n",
       "4849  Hajurko fitness trackers ma Dashain ma discoun...   \n",
       "5580                EasyElectro ma k k saman paainchha?   \n",
       "5579                 BiratGadget ma kun kun saman chha?   \n",
       "4604      Pokhara ra purba ma delivery garna sakidaina?   \n",
       "3285          Store ma smartwatches pani available cha?   \n",
       "4064                                 Kasari timi ko ho?   \n",
       "510                               Hi timi sangai ko ho?   \n",
       "855           Dharan ko bahira delivery charge kati ho?   \n",
       "4976                Mobile accessories ma discount cha?   \n",
       "\n",
       "                                                context  \\\n",
       "4273                                                NaN   \n",
       "4849  Hamro store ma smartwatches, fitness trackers,...   \n",
       "5580  EasyElectro, Dharan-6, Zero Point ma sabai tha...   \n",
       "5579  BiratGadget, Biratnagar-7, Devkota Chowk ma ha...   \n",
       "4604  TechMart, Kathmandu-12, New Baneshwor ma elect...   \n",
       "3285  Store ma smartwatches ko wide collection cha, ...   \n",
       "4064                                                NaN   \n",
       "510                                                       \n",
       "855   Hamro delivery Dharan vitra free hunxa. Outsid...   \n",
       "4976  TechPlus, Pokhara ma abaileko special offer ma...   \n",
       "\n",
       "                                               response  \n",
       "4273               Ma Ecommerce Customer Support AI ho.  \n",
       "4849    Fitness trackers ma Dashain ko 7% discount cha.  \n",
       "5580  EasyElectro ma sabai thari mobile accessories ...  \n",
       "5579  BiratGadget ma mobiles, tablets ra camera acce...  \n",
       "4604  Ho, Pokhara ra purba ma delivery garna sakidaina.  \n",
       "3285  Ho, store ma Apple Watch, Samsung Galaxy Watch...  \n",
       "4064  Ma Ecommerce Customer Support AI ho, tapai ko ...  \n",
       "510   Namaste! Ma e-commerce assistant ho. Aba tapai...  \n",
       "855       Outside Dharan delivery charge Rs. 120 hunxa.  \n",
       "4976  Mobile accessories ra laptops ma 8% discount c...  "
      ]
     },
     "execution_count": 5,
     "metadata": {},
     "output_type": "execute_result"
    }
   ],
   "source": [
    "df_old.sample(10)"
   ]
  },
  {
   "cell_type": "markdown",
   "metadata": {},
   "source": [
    "## Shuffle and save"
   ]
  },
  {
   "cell_type": "code",
   "execution_count": 6,
   "metadata": {},
   "outputs": [],
   "source": [
    "df_shuffle = df_old.sample(frac=1).reset_index(drop=True)"
   ]
  },
  {
   "cell_type": "code",
   "execution_count": 7,
   "metadata": {},
   "outputs": [
    {
     "data": {
      "text/plain": [
       "6030"
      ]
     },
     "execution_count": 7,
     "metadata": {},
     "output_type": "execute_result"
    }
   ],
   "source": [
    "df_shuffle.shape[0]"
   ]
  },
  {
   "cell_type": "code",
   "execution_count": 8,
   "metadata": {},
   "outputs": [
    {
     "data": {
      "text/html": [
       "<div>\n",
       "<style scoped>\n",
       "    .dataframe tbody tr th:only-of-type {\n",
       "        vertical-align: middle;\n",
       "    }\n",
       "\n",
       "    .dataframe tbody tr th {\n",
       "        vertical-align: top;\n",
       "    }\n",
       "\n",
       "    .dataframe thead th {\n",
       "        text-align: right;\n",
       "    }\n",
       "</style>\n",
       "<table border=\"1\" class=\"dataframe\">\n",
       "  <thead>\n",
       "    <tr style=\"text-align: right;\">\n",
       "      <th></th>\n",
       "      <th>question</th>\n",
       "      <th>context</th>\n",
       "      <th>response</th>\n",
       "    </tr>\n",
       "  </thead>\n",
       "  <tbody>\n",
       "    <tr>\n",
       "      <th>0</th>\n",
       "      <td>Samsung ko Galaxy Buds cha?</td>\n",
       "      <td>Product: Samsung Galaxy Buds 2 Pro, Price: 220...</td>\n",
       "      <td>Ho, Samsung Galaxy Buds 2 Pro hami sanga avail...</td>\n",
       "    </tr>\n",
       "    <tr>\n",
       "      <th>1</th>\n",
       "      <td>Nike Air Max 270 sneakers ma kun technology us...</td>\n",
       "      <td>Nike Air Max 270 sneakers hamro platform ma sa...</td>\n",
       "      <td>Air cushion technology use gareko chha.</td>\n",
       "    </tr>\n",
       "    <tr>\n",
       "      <th>2</th>\n",
       "      <td>Tapaiharu ko payment system kasari cha?</td>\n",
       "      <td>Hamro store ma eSewa, Khalti, credit card, ra ...</td>\n",
       "      <td>Hamro store ma eSewa, Khalti, credit card, ra ...</td>\n",
       "    </tr>\n",
       "    <tr>\n",
       "      <th>3</th>\n",
       "      <td>Store lai sampark garna ko number k xa?</td>\n",
       "      <td>Hamro store ko name [NOP Bakery] ho, hamro sto...</td>\n",
       "      <td>Hamro contact number 091-456123 ho.</td>\n",
       "    </tr>\n",
       "    <tr>\n",
       "      <th>4</th>\n",
       "      <td>Hamro shop ko location kahaan cha?</td>\n",
       "      <td>Hamro shop ko location Lumbini ko entrance ko ...</td>\n",
       "      <td>Hamro shop ko location Lumbini ko entrance ko ...</td>\n",
       "    </tr>\n",
       "  </tbody>\n",
       "</table>\n",
       "</div>"
      ],
      "text/plain": [
       "                                            question  \\\n",
       "0                        Samsung ko Galaxy Buds cha?   \n",
       "1  Nike Air Max 270 sneakers ma kun technology us...   \n",
       "2            Tapaiharu ko payment system kasari cha?   \n",
       "3            Store lai sampark garna ko number k xa?   \n",
       "4                 Hamro shop ko location kahaan cha?   \n",
       "\n",
       "                                             context  \\\n",
       "0  Product: Samsung Galaxy Buds 2 Pro, Price: 220...   \n",
       "1  Nike Air Max 270 sneakers hamro platform ma sa...   \n",
       "2  Hamro store ma eSewa, Khalti, credit card, ra ...   \n",
       "3  Hamro store ko name [NOP Bakery] ho, hamro sto...   \n",
       "4  Hamro shop ko location Lumbini ko entrance ko ...   \n",
       "\n",
       "                                            response  \n",
       "0  Ho, Samsung Galaxy Buds 2 Pro hami sanga avail...  \n",
       "1            Air cushion technology use gareko chha.  \n",
       "2  Hamro store ma eSewa, Khalti, credit card, ra ...  \n",
       "3                Hamro contact number 091-456123 ho.  \n",
       "4  Hamro shop ko location Lumbini ko entrance ko ...  "
      ]
     },
     "execution_count": 8,
     "metadata": {},
     "output_type": "execute_result"
    }
   ],
   "source": [
    "df_shuffle.head(5)"
   ]
  },
  {
   "cell_type": "code",
   "execution_count": 9,
   "metadata": {},
   "outputs": [
    {
     "data": {
      "text/html": [
       "<div>\n",
       "<style scoped>\n",
       "    .dataframe tbody tr th:only-of-type {\n",
       "        vertical-align: middle;\n",
       "    }\n",
       "\n",
       "    .dataframe tbody tr th {\n",
       "        vertical-align: top;\n",
       "    }\n",
       "\n",
       "    .dataframe thead th {\n",
       "        text-align: right;\n",
       "    }\n",
       "</style>\n",
       "<table border=\"1\" class=\"dataframe\">\n",
       "  <thead>\n",
       "    <tr style=\"text-align: right;\">\n",
       "      <th></th>\n",
       "      <th>question</th>\n",
       "      <th>context</th>\n",
       "      <th>response</th>\n",
       "    </tr>\n",
       "  </thead>\n",
       "  <tbody>\n",
       "    <tr>\n",
       "      <th>6025</th>\n",
       "      <td>delivery ko service kasto cha?</td>\n",
       "      <td>Hamro delivery service Dharan vitra free hunxa...</td>\n",
       "      <td>Hamro delivery service fast ra reliable cha. D...</td>\n",
       "    </tr>\n",
       "    <tr>\n",
       "      <th>6026</th>\n",
       "      <td>Store ko phone number k xa?</td>\n",
       "      <td>Hamro store ko name [Evergreen Mart] ho, hamro...</td>\n",
       "      <td>Hamro contact number 025-4455667 ho.</td>\n",
       "    </tr>\n",
       "    <tr>\n",
       "      <th>6027</th>\n",
       "      <td>Dharan ko bahira delivery charge kati ho?</td>\n",
       "      <td>Hamro delivery Dharan vitra free hunxa. Outsid...</td>\n",
       "      <td>Outside Dharan delivery charge Rs. 120 hunxa.</td>\n",
       "    </tr>\n",
       "    <tr>\n",
       "      <th>6028</th>\n",
       "      <td>Warranty kati samay samma valid huncha?</td>\n",
       "      <td>Prakash Tech Zone, Biratnagar-12, Airport Chow...</td>\n",
       "      <td>1 barsha samma valid huncha.</td>\n",
       "    </tr>\n",
       "    <tr>\n",
       "      <th>6029</th>\n",
       "      <td>Ko design gareko ho timi?</td>\n",
       "      <td>NaN</td>\n",
       "      <td>Ma Ecommerce Customer Support AI ho, tapai ko ...</td>\n",
       "    </tr>\n",
       "  </tbody>\n",
       "</table>\n",
       "</div>"
      ],
      "text/plain": [
       "                                       question  \\\n",
       "6025             delivery ko service kasto cha?   \n",
       "6026                Store ko phone number k xa?   \n",
       "6027  Dharan ko bahira delivery charge kati ho?   \n",
       "6028    Warranty kati samay samma valid huncha?   \n",
       "6029                  Ko design gareko ho timi?   \n",
       "\n",
       "                                                context  \\\n",
       "6025  Hamro delivery service Dharan vitra free hunxa...   \n",
       "6026  Hamro store ko name [Evergreen Mart] ho, hamro...   \n",
       "6027  Hamro delivery Dharan vitra free hunxa. Outsid...   \n",
       "6028  Prakash Tech Zone, Biratnagar-12, Airport Chow...   \n",
       "6029                                                NaN   \n",
       "\n",
       "                                               response  \n",
       "6025  Hamro delivery service fast ra reliable cha. D...  \n",
       "6026               Hamro contact number 025-4455667 ho.  \n",
       "6027      Outside Dharan delivery charge Rs. 120 hunxa.  \n",
       "6028                       1 barsha samma valid huncha.  \n",
       "6029  Ma Ecommerce Customer Support AI ho, tapai ko ...  "
      ]
     },
     "execution_count": 9,
     "metadata": {},
     "output_type": "execute_result"
    }
   ],
   "source": [
    "df_shuffle.tail(5)"
   ]
  },
  {
   "cell_type": "code",
   "execution_count": 12,
   "metadata": {},
   "outputs": [
    {
     "data": {
      "text/html": [
       "<div>\n",
       "<style scoped>\n",
       "    .dataframe tbody tr th:only-of-type {\n",
       "        vertical-align: middle;\n",
       "    }\n",
       "\n",
       "    .dataframe tbody tr th {\n",
       "        vertical-align: top;\n",
       "    }\n",
       "\n",
       "    .dataframe thead th {\n",
       "        text-align: right;\n",
       "    }\n",
       "</style>\n",
       "<table border=\"1\" class=\"dataframe\">\n",
       "  <thead>\n",
       "    <tr style=\"text-align: right;\">\n",
       "      <th></th>\n",
       "      <th>question</th>\n",
       "      <th>context</th>\n",
       "      <th>response</th>\n",
       "    </tr>\n",
       "  </thead>\n",
       "  <tbody>\n",
       "    <tr>\n",
       "      <th>600</th>\n",
       "      <td>Ke khabar?</td>\n",
       "      <td></td>\n",
       "      <td>Sabai thik thak cha! Aba tapaiko shopping ma k...</td>\n",
       "    </tr>\n",
       "    <tr>\n",
       "      <th>650</th>\n",
       "      <td>Expedited delivery ma free delivery chha?</td>\n",
       "      <td>Expedited delivery ma free delivery available ...</td>\n",
       "      <td>Expedited delivery ma free delivery available ...</td>\n",
       "    </tr>\n",
       "    <tr>\n",
       "      <th>700</th>\n",
       "      <td>Gift card kinera kasari send garna sakchhu?</td>\n",
       "      <td>Platform ma gift cards leko option cha, jun sa...</td>\n",
       "      <td>Gift card kinera send garna, recipient ko emai...</td>\n",
       "    </tr>\n",
       "    <tr>\n",
       "      <th>750</th>\n",
       "      <td>Ko hunuhuncha tapai?</td>\n",
       "      <td>NaN</td>\n",
       "      <td>Ma Ecommerce Customer Support AI ho.</td>\n",
       "    </tr>\n",
       "    <tr>\n",
       "      <th>800</th>\n",
       "      <td>QR code scan gardai khalti bata payment safe cha?</td>\n",
       "      <td>Khalti le secure QR code system use garcha, ja...</td>\n",
       "      <td>Hajur, khalti ko QR code system secure cha, ra...</td>\n",
       "    </tr>\n",
       "    <tr>\n",
       "      <th>850</th>\n",
       "      <td>DJI Mavic Air 2 ko spec vanidinu</td>\n",
       "      <td>Product Details: name: DJI Mavic Air 2, price:...</td>\n",
       "      <td>DJI Mavic Air 2 ko spec ma drone with 4K camer...</td>\n",
       "    </tr>\n",
       "    <tr>\n",
       "      <th>900</th>\n",
       "      <td>Bardiya National Park kahaan cha?</td>\n",
       "      <td>Nepal ko Bardiya National Park, Bardiya distri...</td>\n",
       "      <td>Bardiya National Park Bardiya district ma cha,...</td>\n",
       "    </tr>\n",
       "    <tr>\n",
       "      <th>950</th>\n",
       "      <td>Asus ROG Zephyrus G14 stock ma xa?</td>\n",
       "      <td>Product Details: name: Asus ROG Zephyrus G14, ...</td>\n",
       "      <td>Hajur, Asus ROG Zephyrus G14 pauxa.</td>\n",
       "    </tr>\n",
       "  </tbody>\n",
       "</table>\n",
       "</div>"
      ],
      "text/plain": [
       "                                              question  \\\n",
       "600                                         Ke khabar?   \n",
       "650          Expedited delivery ma free delivery chha?   \n",
       "700        Gift card kinera kasari send garna sakchhu?   \n",
       "750                               Ko hunuhuncha tapai?   \n",
       "800  QR code scan gardai khalti bata payment safe cha?   \n",
       "850                   DJI Mavic Air 2 ko spec vanidinu   \n",
       "900                  Bardiya National Park kahaan cha?   \n",
       "950                 Asus ROG Zephyrus G14 stock ma xa?   \n",
       "\n",
       "                                               context  \\\n",
       "600                                                      \n",
       "650  Expedited delivery ma free delivery available ...   \n",
       "700  Platform ma gift cards leko option cha, jun sa...   \n",
       "750                                                NaN   \n",
       "800  Khalti le secure QR code system use garcha, ja...   \n",
       "850  Product Details: name: DJI Mavic Air 2, price:...   \n",
       "900  Nepal ko Bardiya National Park, Bardiya distri...   \n",
       "950  Product Details: name: Asus ROG Zephyrus G14, ...   \n",
       "\n",
       "                                              response  \n",
       "600  Sabai thik thak cha! Aba tapaiko shopping ma k...  \n",
       "650  Expedited delivery ma free delivery available ...  \n",
       "700  Gift card kinera send garna, recipient ko emai...  \n",
       "750               Ma Ecommerce Customer Support AI ho.  \n",
       "800  Hajur, khalti ko QR code system secure cha, ra...  \n",
       "850  DJI Mavic Air 2 ko spec ma drone with 4K camer...  \n",
       "900  Bardiya National Park Bardiya district ma cha,...  \n",
       "950                Hajur, Asus ROG Zephyrus G14 pauxa.  "
      ]
     },
     "execution_count": 12,
     "metadata": {},
     "output_type": "execute_result"
    }
   ],
   "source": [
    "df_shuffle.iloc[600:1000:50]"
   ]
  },
  {
   "cell_type": "code",
   "execution_count": 13,
   "metadata": {},
   "outputs": [],
   "source": [
    "df_shuffle.to_csv(\"./ecommerce_only_shuffl_data.csv\", index=False)"
   ]
  },
  {
   "cell_type": "markdown",
   "metadata": {},
   "source": [
    "## Test the dataset"
   ]
  },
  {
   "cell_type": "code",
   "execution_count": 14,
   "metadata": {},
   "outputs": [],
   "source": [
    "load_csv = pd.read_csv(\"./ecommerce_only_shuffl_data.csv\")"
   ]
  },
  {
   "cell_type": "code",
   "execution_count": 15,
   "metadata": {},
   "outputs": [
    {
     "data": {
      "text/plain": [
       "Index(['question', 'context', 'response'], dtype='object')"
      ]
     },
     "execution_count": 15,
     "metadata": {},
     "output_type": "execute_result"
    }
   ],
   "source": [
    "load_csv.columns"
   ]
  },
  {
   "cell_type": "code",
   "execution_count": 16,
   "metadata": {},
   "outputs": [
    {
     "data": {
      "text/plain": [
       "(6030, 3)"
      ]
     },
     "execution_count": 16,
     "metadata": {},
     "output_type": "execute_result"
    }
   ],
   "source": [
    "load_csv.shape"
   ]
  }
 ],
 "metadata": {
  "kernelspec": {
   "display_name": "Python 3",
   "language": "python",
   "name": "python3"
  },
  "language_info": {
   "codemirror_mode": {
    "name": "ipython",
    "version": 3
   },
   "file_extension": ".py",
   "mimetype": "text/x-python",
   "name": "python",
   "nbconvert_exporter": "python",
   "pygments_lexer": "ipython3",
   "version": "3.12.1"
  }
 },
 "nbformat": 4,
 "nbformat_minor": 2
}
