{
 "cells": [
  {
   "cell_type": "code",
   "execution_count": 1,
   "metadata": {},
   "outputs": [],
   "source": [
    "import json\n",
    "import pandas as pd"
   ]
  },
  {
   "cell_type": "code",
   "execution_count": 2,
   "metadata": {},
   "outputs": [],
   "source": [
    "file_name = r\"D:\\\\Roman Nepali Chatbot\\Dataset\\\\Instruction Fine Tune Dataset\\\\data_41.json\""
   ]
  },
  {
   "cell_type": "code",
   "execution_count": 3,
   "metadata": {},
   "outputs": [],
   "source": [
    "# df = pd.DataFrame({}, columns=[\"category\", \"system\", \"instruction\", \"context\", \"question\",\"response\"])\n",
    "df = pd.read_csv(\"./fine_tune_Summary.csv\")"
   ]
  },
  {
   "cell_type": "code",
   "execution_count": 4,
   "metadata": {},
   "outputs": [],
   "source": [
    "with open(file_name, \"r\", encoding=\"utf-8\") as f:\n",
    "    data = f.read()\n",
    "    \n",
    "json_data = json.loads(data)\n",
    "\n",
    "new_df = []\n",
    "for row in json_data:\n",
    "    question = row[\"text\"]\n",
    "    context = \"\"\n",
    "    response = row[\"response\"]\n",
    "    system = \"Talako instruction follow garera user le gareko question ko Roman Nepali Language ma answer vana\\n\\n\"\n",
    "    instruction = \"Summarize the following text in Roman Nepali\\n\"\n",
    "    \n",
    "    new_df.append({\n",
    "        \"category\": \"open_qa\",\n",
    "        \"system\": system,\n",
    "        \"instruction\": instruction,\n",
    "        \"question\": question,\n",
    "        \"context\": context,\n",
    "        \"response\": response\n",
    "    })\n",
    "\n",
    "df_new = pd.DataFrame(new_df)"
   ]
  },
  {
   "cell_type": "code",
   "execution_count": 5,
   "metadata": {},
   "outputs": [],
   "source": [
    "df = pd.concat([df, df_new], ignore_index=True)"
   ]
  },
  {
   "cell_type": "code",
   "execution_count": 6,
   "metadata": {},
   "outputs": [
    {
     "data": {
      "text/html": [
       "<div>\n",
       "<style scoped>\n",
       "    .dataframe tbody tr th:only-of-type {\n",
       "        vertical-align: middle;\n",
       "    }\n",
       "\n",
       "    .dataframe tbody tr th {\n",
       "        vertical-align: top;\n",
       "    }\n",
       "\n",
       "    .dataframe thead th {\n",
       "        text-align: right;\n",
       "    }\n",
       "</style>\n",
       "<table border=\"1\" class=\"dataframe\">\n",
       "  <thead>\n",
       "    <tr style=\"text-align: right;\">\n",
       "      <th></th>\n",
       "      <th>category</th>\n",
       "      <th>system</th>\n",
       "      <th>instruction</th>\n",
       "      <th>context</th>\n",
       "      <th>question</th>\n",
       "      <th>response</th>\n",
       "    </tr>\n",
       "  </thead>\n",
       "  <tbody>\n",
       "    <tr>\n",
       "      <th>218</th>\n",
       "      <td>open_qa</td>\n",
       "      <td>Talako instruction follow garera user le garek...</td>\n",
       "      <td>Summarize the following text in Roman Nepali\\n</td>\n",
       "      <td></td>\n",
       "      <td>Ek boy le apno first science project ma volcan...</td>\n",
       "      <td>Boy ko volcano model le school ma creativity k...</td>\n",
       "    </tr>\n",
       "    <tr>\n",
       "      <th>219</th>\n",
       "      <td>open_qa</td>\n",
       "      <td>Talako instruction follow garera user le garek...</td>\n",
       "      <td>Summarize the following text in Roman Nepali\\n</td>\n",
       "      <td></td>\n",
       "      <td>Ek software developer le language translation ...</td>\n",
       "      <td>Translation app le users ko communication easy...</td>\n",
       "    </tr>\n",
       "    <tr>\n",
       "      <th>220</th>\n",
       "      <td>open_qa</td>\n",
       "      <td>Talako instruction follow garera user le garek...</td>\n",
       "      <td>Summarize the following text in Roman Nepali\\n</td>\n",
       "      <td></td>\n",
       "      <td>Ek city ma solar-powered buses operate huncha....</td>\n",
       "      <td>Solar-powered buses le pollution reduce garera...</td>\n",
       "    </tr>\n",
       "    <tr>\n",
       "      <th>221</th>\n",
       "      <td>open_qa</td>\n",
       "      <td>Talako instruction follow garera user le garek...</td>\n",
       "      <td>Summarize the following text in Roman Nepali\\n</td>\n",
       "      <td></td>\n",
       "      <td>Ek young girl le robotics competition ma human...</td>\n",
       "      <td>Humanoid robot le advanced features le judges ...</td>\n",
       "    </tr>\n",
       "    <tr>\n",
       "      <th>222</th>\n",
       "      <td>open_qa</td>\n",
       "      <td>Talako instruction follow garera user le garek...</td>\n",
       "      <td>Summarize the following text in Roman Nepali\\n</td>\n",
       "      <td></td>\n",
       "      <td>Ek wildlife photographer le jungle ma rare bir...</td>\n",
       "      <td>Wildlife photographer ko rare bird photo inter...</td>\n",
       "    </tr>\n",
       "  </tbody>\n",
       "</table>\n",
       "</div>"
      ],
      "text/plain": [
       "    category                                             system  \\\n",
       "218  open_qa  Talako instruction follow garera user le garek...   \n",
       "219  open_qa  Talako instruction follow garera user le garek...   \n",
       "220  open_qa  Talako instruction follow garera user le garek...   \n",
       "221  open_qa  Talako instruction follow garera user le garek...   \n",
       "222  open_qa  Talako instruction follow garera user le garek...   \n",
       "\n",
       "                                        instruction context  \\\n",
       "218  Summarize the following text in Roman Nepali\\n           \n",
       "219  Summarize the following text in Roman Nepali\\n           \n",
       "220  Summarize the following text in Roman Nepali\\n           \n",
       "221  Summarize the following text in Roman Nepali\\n           \n",
       "222  Summarize the following text in Roman Nepali\\n           \n",
       "\n",
       "                                              question  \\\n",
       "218  Ek boy le apno first science project ma volcan...   \n",
       "219  Ek software developer le language translation ...   \n",
       "220  Ek city ma solar-powered buses operate huncha....   \n",
       "221  Ek young girl le robotics competition ma human...   \n",
       "222  Ek wildlife photographer le jungle ma rare bir...   \n",
       "\n",
       "                                              response  \n",
       "218  Boy ko volcano model le school ma creativity k...  \n",
       "219  Translation app le users ko communication easy...  \n",
       "220  Solar-powered buses le pollution reduce garera...  \n",
       "221  Humanoid robot le advanced features le judges ...  \n",
       "222  Wildlife photographer ko rare bird photo inter...  "
      ]
     },
     "execution_count": 6,
     "metadata": {},
     "output_type": "execute_result"
    }
   ],
   "source": [
    "df.tail(5)"
   ]
  },
  {
   "cell_type": "code",
   "execution_count": 7,
   "metadata": {},
   "outputs": [],
   "source": [
    "df.to_csv(\"fine_tune_instriction.csv\", index=False)"
   ]
  }
 ],
 "metadata": {
  "kernelspec": {
   "display_name": "Python 3",
   "language": "python",
   "name": "python3"
  },
  "language_info": {
   "codemirror_mode": {
    "name": "ipython",
    "version": 3
   },
   "file_extension": ".py",
   "mimetype": "text/x-python",
   "name": "python",
   "nbconvert_exporter": "python",
   "pygments_lexer": "ipython3",
   "version": "3.12.1"
  }
 },
 "nbformat": 4,
 "nbformat_minor": 2
}
