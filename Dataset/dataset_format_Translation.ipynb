{
 "cells": [
  {
   "cell_type": "code",
   "execution_count": 1,
   "metadata": {},
   "outputs": [],
   "source": [
    "import json\n",
    "import pandas as pd"
   ]
  },
  {
   "cell_type": "code",
   "execution_count": 2,
   "metadata": {},
   "outputs": [],
   "source": [
    "file_name = r\"D:\\\\Roman Nepali Chatbot\\Dataset\\\\Instruction Fine Tune Dataset\\\\data_32.json\""
   ]
  },
  {
   "cell_type": "code",
   "execution_count": 3,
   "metadata": {},
   "outputs": [],
   "source": [
    "# df = pd.DataFrame({}, columns=[\"category\", \"system\", \"instruction\", \"context\", \"question\",\"response\"])\n",
    "df = pd.read_csv(\"fine_tune_translate.csv\")"
   ]
  },
  {
   "cell_type": "code",
   "execution_count": 4,
   "metadata": {},
   "outputs": [],
   "source": [
    "with open(file_name, \"r\") as f:\n",
    "    data = f.read()\n",
    "    \n",
    "json_data = json.loads(data)\n",
    "\n",
    "\n",
    "new_df = []\n",
    "for row in json_data:\n",
    "    question = row[\"source\"]\n",
    "    context = \"\"\n",
    "    response = row[\"target\"]\n",
    "    system = \"Talako diyeko instruction follow garera sodhiyeko answer vana.\\n\\n\"\n",
    "    instruction = \"Translate the given text from English language to Roman Nepali Language language.\\n\"\n",
    "    \n",
    "    new_df.append({\n",
    "        \"category\": \"translate\",\n",
    "        \"system\": system,\n",
    "        \"instruction\": instruction,\n",
    "        \"question\": question,\n",
    "        \"context\": context,\n",
    "        \"response\": response\n",
    "    })\n",
    "\n",
    "df_new = pd.DataFrame(new_df)"
   ]
  },
  {
   "cell_type": "code",
   "execution_count": 5,
   "metadata": {},
   "outputs": [
    {
     "data": {
      "text/html": [
       "<div>\n",
       "<style scoped>\n",
       "    .dataframe tbody tr th:only-of-type {\n",
       "        vertical-align: middle;\n",
       "    }\n",
       "\n",
       "    .dataframe tbody tr th {\n",
       "        vertical-align: top;\n",
       "    }\n",
       "\n",
       "    .dataframe thead th {\n",
       "        text-align: right;\n",
       "    }\n",
       "</style>\n",
       "<table border=\"1\" class=\"dataframe\">\n",
       "  <thead>\n",
       "    <tr style=\"text-align: right;\">\n",
       "      <th></th>\n",
       "      <th>category</th>\n",
       "      <th>system</th>\n",
       "      <th>instruction</th>\n",
       "      <th>question</th>\n",
       "      <th>context</th>\n",
       "      <th>response</th>\n",
       "    </tr>\n",
       "  </thead>\n",
       "  <tbody>\n",
       "    <tr>\n",
       "      <th>130</th>\n",
       "      <td>translate</td>\n",
       "      <td>Talako diyeko instruction follow garera sodhiy...</td>\n",
       "      <td>Translate the given text from English language...</td>\n",
       "      <td>The grandparents love spending time with their...</td>\n",
       "      <td></td>\n",
       "      <td>Bajai bajai haru afno nati natni sanga ramailo...</td>\n",
       "    </tr>\n",
       "    <tr>\n",
       "      <th>148</th>\n",
       "      <td>translate</td>\n",
       "      <td>Talako diyeko instruction follow garera sodhiy...</td>\n",
       "      <td>Translate the given text from English language...</td>\n",
       "      <td>The siblings fought over the last piece of cho...</td>\n",
       "      <td></td>\n",
       "      <td>Dai bahini haru last chocolate ko lagi jhagadc...</td>\n",
       "    </tr>\n",
       "    <tr>\n",
       "      <th>64</th>\n",
       "      <td>translate</td>\n",
       "      <td>Talako diyeko instruction follow garera sodhiy...</td>\n",
       "      <td>Translate the given text from English language...</td>\n",
       "      <td>The organization is working tirelessly to ensu...</td>\n",
       "      <td></td>\n",
       "      <td>Sangathan haru bhag ma sapai ghar ra ma sapai ...</td>\n",
       "    </tr>\n",
       "    <tr>\n",
       "      <th>97</th>\n",
       "      <td>translate</td>\n",
       "      <td>Talako diyeko instruction follow garera sodhiy...</td>\n",
       "      <td>Translate the given text from English language...</td>\n",
       "      <td>The children were excited to play in the park ...</td>\n",
       "      <td></td>\n",
       "      <td>Bachha haru school pachhi park ma khelna jada ...</td>\n",
       "    </tr>\n",
       "    <tr>\n",
       "      <th>58</th>\n",
       "      <td>translate</td>\n",
       "      <td>Talako diyeko instruction follow garera sodhiy...</td>\n",
       "      <td>Translate the given text from English language...</td>\n",
       "      <td>The recent advancements in technology have tra...</td>\n",
       "      <td></td>\n",
       "      <td>Pachhilo takniki pragati le hami sanchaar garn...</td>\n",
       "    </tr>\n",
       "  </tbody>\n",
       "</table>\n",
       "</div>"
      ],
      "text/plain": [
       "      category                                             system  \\\n",
       "130  translate  Talako diyeko instruction follow garera sodhiy...   \n",
       "148  translate  Talako diyeko instruction follow garera sodhiy...   \n",
       "64   translate  Talako diyeko instruction follow garera sodhiy...   \n",
       "97   translate  Talako diyeko instruction follow garera sodhiy...   \n",
       "58   translate  Talako diyeko instruction follow garera sodhiy...   \n",
       "\n",
       "                                           instruction  \\\n",
       "130  Translate the given text from English language...   \n",
       "148  Translate the given text from English language...   \n",
       "64   Translate the given text from English language...   \n",
       "97   Translate the given text from English language...   \n",
       "58   Translate the given text from English language...   \n",
       "\n",
       "                                              question context  \\\n",
       "130  The grandparents love spending time with their...           \n",
       "148  The siblings fought over the last piece of cho...           \n",
       "64   The organization is working tirelessly to ensu...           \n",
       "97   The children were excited to play in the park ...           \n",
       "58   The recent advancements in technology have tra...           \n",
       "\n",
       "                                              response  \n",
       "130  Bajai bajai haru afno nati natni sanga ramailo...  \n",
       "148  Dai bahini haru last chocolate ko lagi jhagadc...  \n",
       "64   Sangathan haru bhag ma sapai ghar ra ma sapai ...  \n",
       "97   Bachha haru school pachhi park ma khelna jada ...  \n",
       "58   Pachhilo takniki pragati le hami sanchaar garn...  "
      ]
     },
     "execution_count": 5,
     "metadata": {},
     "output_type": "execute_result"
    }
   ],
   "source": [
    "df_new.sample(5)"
   ]
  },
  {
   "cell_type": "code",
   "execution_count": 6,
   "metadata": {},
   "outputs": [],
   "source": [
    "df = pd.concat([df, df_new], ignore_index=True)"
   ]
  },
  {
   "cell_type": "code",
   "execution_count": 7,
   "metadata": {},
   "outputs": [
    {
     "data": {
      "text/html": [
       "<div>\n",
       "<style scoped>\n",
       "    .dataframe tbody tr th:only-of-type {\n",
       "        vertical-align: middle;\n",
       "    }\n",
       "\n",
       "    .dataframe tbody tr th {\n",
       "        vertical-align: top;\n",
       "    }\n",
       "\n",
       "    .dataframe thead th {\n",
       "        text-align: right;\n",
       "    }\n",
       "</style>\n",
       "<table border=\"1\" class=\"dataframe\">\n",
       "  <thead>\n",
       "    <tr style=\"text-align: right;\">\n",
       "      <th></th>\n",
       "      <th>category</th>\n",
       "      <th>system</th>\n",
       "      <th>instruction</th>\n",
       "      <th>context</th>\n",
       "      <th>question</th>\n",
       "      <th>response</th>\n",
       "    </tr>\n",
       "  </thead>\n",
       "  <tbody>\n",
       "    <tr>\n",
       "      <th>1283</th>\n",
       "      <td>translate</td>\n",
       "      <td>Talako diyeko instruction follow garera sodhiy...</td>\n",
       "      <td>Translate the given text from English language...</td>\n",
       "      <td></td>\n",
       "      <td>The musician played his guitar in the park, dr...</td>\n",
       "      <td>Musician le park ma guitar bajayo, ani dherai ...</td>\n",
       "    </tr>\n",
       "    <tr>\n",
       "      <th>1284</th>\n",
       "      <td>translate</td>\n",
       "      <td>Talako diyeko instruction follow garera sodhiy...</td>\n",
       "      <td>Translate the given text from English language...</td>\n",
       "      <td></td>\n",
       "      <td>We spent the weekend hiking through the forest...</td>\n",
       "      <td>Hami weekend ma jungle ko bich ghumera, chara ...</td>\n",
       "    </tr>\n",
       "    <tr>\n",
       "      <th>1285</th>\n",
       "      <td>translate</td>\n",
       "      <td>Talako diyeko instruction follow garera sodhiy...</td>\n",
       "      <td>Translate the given text from English language...</td>\n",
       "      <td></td>\n",
       "      <td>The children painted colorful pictures of anim...</td>\n",
       "      <td>Bachha haru le rangichangi janawar ko photo pa...</td>\n",
       "    </tr>\n",
       "    <tr>\n",
       "      <th>1286</th>\n",
       "      <td>translate</td>\n",
       "      <td>Talako diyeko instruction follow garera sodhiy...</td>\n",
       "      <td>Translate the given text from English language...</td>\n",
       "      <td></td>\n",
       "      <td>The old man sat on the rocking chair, reading ...</td>\n",
       "      <td>Buda manche rocking chair ma basera kitab padh...</td>\n",
       "    </tr>\n",
       "    <tr>\n",
       "      <th>1287</th>\n",
       "      <td>translate</td>\n",
       "      <td>Talako diyeko instruction follow garera sodhiy...</td>\n",
       "      <td>Translate the given text from English language...</td>\n",
       "      <td></td>\n",
       "      <td>We had a great time at the amusement park, rid...</td>\n",
       "      <td>Hami amusement park ma roller coaster ma ride ...</td>\n",
       "    </tr>\n",
       "  </tbody>\n",
       "</table>\n",
       "</div>"
      ],
      "text/plain": [
       "       category                                             system  \\\n",
       "1283  translate  Talako diyeko instruction follow garera sodhiy...   \n",
       "1284  translate  Talako diyeko instruction follow garera sodhiy...   \n",
       "1285  translate  Talako diyeko instruction follow garera sodhiy...   \n",
       "1286  translate  Talako diyeko instruction follow garera sodhiy...   \n",
       "1287  translate  Talako diyeko instruction follow garera sodhiy...   \n",
       "\n",
       "                                            instruction context  \\\n",
       "1283  Translate the given text from English language...           \n",
       "1284  Translate the given text from English language...           \n",
       "1285  Translate the given text from English language...           \n",
       "1286  Translate the given text from English language...           \n",
       "1287  Translate the given text from English language...           \n",
       "\n",
       "                                               question  \\\n",
       "1283  The musician played his guitar in the park, dr...   \n",
       "1284  We spent the weekend hiking through the forest...   \n",
       "1285  The children painted colorful pictures of anim...   \n",
       "1286  The old man sat on the rocking chair, reading ...   \n",
       "1287  We had a great time at the amusement park, rid...   \n",
       "\n",
       "                                               response  \n",
       "1283  Musician le park ma guitar bajayo, ani dherai ...  \n",
       "1284  Hami weekend ma jungle ko bich ghumera, chara ...  \n",
       "1285  Bachha haru le rangichangi janawar ko photo pa...  \n",
       "1286  Buda manche rocking chair ma basera kitab padh...  \n",
       "1287  Hami amusement park ma roller coaster ma ride ...  "
      ]
     },
     "execution_count": 7,
     "metadata": {},
     "output_type": "execute_result"
    }
   ],
   "source": [
    "df.tail(5)"
   ]
  },
  {
   "cell_type": "code",
   "execution_count": 8,
   "metadata": {},
   "outputs": [],
   "source": [
    "df.to_csv(\"fine_tune_translate.csv\", index=False)"
   ]
  },
  {
   "cell_type": "code",
   "execution_count": 9,
   "metadata": {},
   "outputs": [
    {
     "data": {
      "text/plain": [
       "(1288, 6)"
      ]
     },
     "execution_count": 9,
     "metadata": {},
     "output_type": "execute_result"
    }
   ],
   "source": [
    "df.shape"
   ]
  }
 ],
 "metadata": {
  "kernelspec": {
   "display_name": "Python 3",
   "language": "python",
   "name": "python3"
  },
  "language_info": {
   "codemirror_mode": {
    "name": "ipython",
    "version": 3
   },
   "file_extension": ".py",
   "mimetype": "text/x-python",
   "name": "python",
   "nbconvert_exporter": "python",
   "pygments_lexer": "ipython3",
   "version": "3.12.1"
  }
 },
 "nbformat": 4,
 "nbformat_minor": 2
}
