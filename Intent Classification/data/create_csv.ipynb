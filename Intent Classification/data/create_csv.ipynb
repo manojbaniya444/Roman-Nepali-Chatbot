{
 "cells": [
  {
   "cell_type": "markdown",
   "metadata": {},
   "source": [
    "## Prepare the dataset"
   ]
  },
  {
   "cell_type": "code",
   "execution_count": 1,
   "metadata": {},
   "outputs": [],
   "source": [
    "import os\n",
    "import pandas as pd"
   ]
  },
  {
   "cell_type": "code",
   "execution_count": 2,
   "metadata": {},
   "outputs": [],
   "source": [
    "data_dir = \"./\""
   ]
  },
  {
   "cell_type": "code",
   "execution_count": 3,
   "metadata": {},
   "outputs": [
    {
     "data": {
      "text/plain": [
       "['order_product.txt',\n",
       " 'order_status_inquiry.txt',\n",
       " 'payment_method.txt',\n",
       " 'product_inquiry.txt']"
      ]
     },
     "execution_count": 3,
     "metadata": {},
     "output_type": "execute_result"
    }
   ],
   "source": [
    "all_text_files = os.listdir(data_dir)\n",
    "all_text_files = [files for files in all_text_files if files.endswith(\".txt\")]\n",
    "all_text_files"
   ]
  },
  {
   "cell_type": "code",
   "execution_count": 4,
   "metadata": {},
   "outputs": [
    {
     "data": {
      "text/html": [
       "<div>\n",
       "<style scoped>\n",
       "    .dataframe tbody tr th:only-of-type {\n",
       "        vertical-align: middle;\n",
       "    }\n",
       "\n",
       "    .dataframe tbody tr th {\n",
       "        vertical-align: top;\n",
       "    }\n",
       "\n",
       "    .dataframe thead th {\n",
       "        text-align: right;\n",
       "    }\n",
       "</style>\n",
       "<table border=\"1\" class=\"dataframe\">\n",
       "  <thead>\n",
       "    <tr style=\"text-align: right;\">\n",
       "      <th></th>\n",
       "    </tr>\n",
       "  </thead>\n",
       "  <tbody>\n",
       "  </tbody>\n",
       "</table>\n",
       "</div>"
      ],
      "text/plain": [
       "Empty DataFrame\n",
       "Columns: []\n",
       "Index: []"
      ]
     },
     "execution_count": 4,
     "metadata": {},
     "output_type": "execute_result"
    }
   ],
   "source": [
    "df = pd.DataFrame()\n",
    "df"
   ]
  },
  {
   "cell_type": "code",
   "execution_count": 5,
   "metadata": {},
   "outputs": [
    {
     "data": {
      "text/plain": [
       "RangeIndex(start=0, stop=0, step=1)"
      ]
     },
     "execution_count": 5,
     "metadata": {},
     "output_type": "execute_result"
    }
   ],
   "source": [
    "df.columns"
   ]
  },
  {
   "cell_type": "code",
   "execution_count": 6,
   "metadata": {},
   "outputs": [
    {
     "data": {
      "text/html": [
       "<div>\n",
       "<style scoped>\n",
       "    .dataframe tbody tr th:only-of-type {\n",
       "        vertical-align: middle;\n",
       "    }\n",
       "\n",
       "    .dataframe tbody tr th {\n",
       "        vertical-align: top;\n",
       "    }\n",
       "\n",
       "    .dataframe thead th {\n",
       "        text-align: right;\n",
       "    }\n",
       "</style>\n",
       "<table border=\"1\" class=\"dataframe\">\n",
       "  <thead>\n",
       "    <tr style=\"text-align: right;\">\n",
       "      <th></th>\n",
       "      <th>col1</th>\n",
       "    </tr>\n",
       "  </thead>\n",
       "  <tbody>\n",
       "    <tr>\n",
       "      <th>0</th>\n",
       "      <td>1</td>\n",
       "    </tr>\n",
       "    <tr>\n",
       "      <th>1</th>\n",
       "      <td>2</td>\n",
       "    </tr>\n",
       "  </tbody>\n",
       "</table>\n",
       "</div>"
      ],
      "text/plain": [
       "   col1\n",
       "0     1\n",
       "1     2"
      ]
     },
     "execution_count": 6,
     "metadata": {},
     "output_type": "execute_result"
    }
   ],
   "source": [
    "pd.concat([df, pd.DataFrame([{\"col1\": 1}, {\"col1\": 2}])])"
   ]
  },
  {
   "cell_type": "code",
   "execution_count": 7,
   "metadata": {},
   "outputs": [
    {
     "name": "stdout",
     "output_type": "stream",
     "text": [
      "order_product\n",
      "order_status_inquiry\n",
      "payment_method\n",
      "product_inquiry\n"
     ]
    }
   ],
   "source": [
    "dataset = pd.DataFrame()\n",
    "for text_file in all_text_files:\n",
    "    intent = text_file.split(\".\")[0]\n",
    "    print(intent)\n",
    "    data = {\"text\": [], \"intent\": []}\n",
    "    with open(text_file, \"r\", encoding=\"utf-8\") as f:\n",
    "        text_lines = f.readlines()\n",
    "        for line in text_lines:\n",
    "            data[\"text\"].append(line.strip())\n",
    "            data[\"intent\"].append(intent)\n",
    "    dataset = pd.concat([dataset, pd.DataFrame(data)], ignore_index=True)"
   ]
  },
  {
   "cell_type": "code",
   "execution_count": 8,
   "metadata": {},
   "outputs": [
    {
     "data": {
      "text/html": [
       "<div>\n",
       "<style scoped>\n",
       "    .dataframe tbody tr th:only-of-type {\n",
       "        vertical-align: middle;\n",
       "    }\n",
       "\n",
       "    .dataframe tbody tr th {\n",
       "        vertical-align: top;\n",
       "    }\n",
       "\n",
       "    .dataframe thead th {\n",
       "        text-align: right;\n",
       "    }\n",
       "</style>\n",
       "<table border=\"1\" class=\"dataframe\">\n",
       "  <thead>\n",
       "    <tr style=\"text-align: right;\">\n",
       "      <th></th>\n",
       "      <th>text</th>\n",
       "      <th>intent</th>\n",
       "    </tr>\n",
       "  </thead>\n",
       "  <tbody>\n",
       "    <tr>\n",
       "      <th>0</th>\n",
       "      <td>malai 5 ota Redmi ko mobile order garna man xa</td>\n",
       "      <td>order_product</td>\n",
       "    </tr>\n",
       "    <tr>\n",
       "      <th>1</th>\n",
       "      <td>malai 1 ta Redmi ko mobile order garna man xa</td>\n",
       "      <td>order_product</td>\n",
       "    </tr>\n",
       "    <tr>\n",
       "      <th>2</th>\n",
       "      <td>Apple ko Iphone 5 ota order garna man xa</td>\n",
       "      <td>order_product</td>\n",
       "    </tr>\n",
       "    <tr>\n",
       "      <th>3</th>\n",
       "      <td>ma 2 ta Casio ko calculator order garxu</td>\n",
       "      <td>order_product</td>\n",
       "    </tr>\n",
       "    <tr>\n",
       "      <th>4</th>\n",
       "      <td>mero order 1 ota Xiaomi ko Redmi mobile ho</td>\n",
       "      <td>order_product</td>\n",
       "    </tr>\n",
       "    <tr>\n",
       "      <th>...</th>\n",
       "      <td>...</td>\n",
       "      <td>...</td>\n",
       "    </tr>\n",
       "    <tr>\n",
       "      <th>196</th>\n",
       "      <td>Samsung ko mobile kun kun xa</td>\n",
       "      <td>product_inquiry</td>\n",
       "    </tr>\n",
       "    <tr>\n",
       "      <th>197</th>\n",
       "      <td>Oppo ra Samsung ko mobile dekhaunu</td>\n",
       "      <td>product_inquiry</td>\n",
       "    </tr>\n",
       "    <tr>\n",
       "      <th>198</th>\n",
       "      <td>Xiaomi ko Redmi mobile xa ki xaina</td>\n",
       "      <td>product_inquiry</td>\n",
       "    </tr>\n",
       "    <tr>\n",
       "      <th>199</th>\n",
       "      <td>Xiaomi ra Samsung ko mobile lina aako</td>\n",
       "      <td>product_inquiry</td>\n",
       "    </tr>\n",
       "    <tr>\n",
       "      <th>200</th>\n",
       "      <td>Oppo ra Xiaomi ko mobile lina aako</td>\n",
       "      <td>product_inquiry</td>\n",
       "    </tr>\n",
       "  </tbody>\n",
       "</table>\n",
       "<p>201 rows × 2 columns</p>\n",
       "</div>"
      ],
      "text/plain": [
       "                                               text           intent\n",
       "0    malai 5 ota Redmi ko mobile order garna man xa    order_product\n",
       "1     malai 1 ta Redmi ko mobile order garna man xa    order_product\n",
       "2          Apple ko Iphone 5 ota order garna man xa    order_product\n",
       "3           ma 2 ta Casio ko calculator order garxu    order_product\n",
       "4        mero order 1 ota Xiaomi ko Redmi mobile ho    order_product\n",
       "..                                              ...              ...\n",
       "196                    Samsung ko mobile kun kun xa  product_inquiry\n",
       "197              Oppo ra Samsung ko mobile dekhaunu  product_inquiry\n",
       "198              Xiaomi ko Redmi mobile xa ki xaina  product_inquiry\n",
       "199           Xiaomi ra Samsung ko mobile lina aako  product_inquiry\n",
       "200              Oppo ra Xiaomi ko mobile lina aako  product_inquiry\n",
       "\n",
       "[201 rows x 2 columns]"
      ]
     },
     "execution_count": 8,
     "metadata": {},
     "output_type": "execute_result"
    }
   ],
   "source": [
    "dataset"
   ]
  },
  {
   "cell_type": "markdown",
   "metadata": {},
   "source": [
    "## Replacement text"
   ]
  },
  {
   "cell_type": "code",
   "execution_count": 9,
   "metadata": {},
   "outputs": [],
   "source": [
    "import json"
   ]
  },
  {
   "cell_type": "code",
   "execution_count": 10,
   "metadata": {},
   "outputs": [],
   "source": [
    "json_file = \"./replacement.json\""
   ]
  },
  {
   "cell_type": "code",
   "execution_count": 11,
   "metadata": {},
   "outputs": [],
   "source": [
    "with open(json_file, \"r\") as f:\n",
    "    file_data = json.load(f)"
   ]
  },
  {
   "cell_type": "code",
   "execution_count": 12,
   "metadata": {},
   "outputs": [
    {
     "data": {
      "text/plain": [
       "{'replacement': {'cha': ['chha', 'chhaa', 'xa', 'xha', 'xaa', 'x'],\n",
       "  'malai': ['mlai', 'malaai', 'malae', 'molai', 'maalai', 'maalaai'],\n",
       "  'kaha': ['kahaa', 'kah', 'kha', 'ka', 'khaa'],\n",
       "  'baare': ['bare', 'baaree', 'barey', 'baarey'],\n",
       "  'maile': ['mailee', 'mailey', 'mailei', 'maileey'],\n",
       "  'ke': ['k'],\n",
       "  'paryo': ['paro', 'pariyo', 'pario', 'parryo', 'parryoo'],\n",
       "  'chahanchu': ['chaahanxu',\n",
       "   'chahnxu',\n",
       "   'chaahaanxu',\n",
       "   'chaahanchu',\n",
       "   'chaahaanchu'],\n",
       "  'aaucha': ['auxa', 'aauxa', 'aauchha', 'auchha', 'axa'],\n",
       "  'baata': ['bata', 'baat'],\n",
       "  'milcha': ['milxa', 'milchha', 'milx'],\n",
       "  'sakchu': ['sakxu', 'sakchhu', 'sakchhhu', 'sakchhuu'],\n",
       "  'pauchu': ['pauxu', 'pauchhu', 'paauchhu', 'paauxu'],\n",
       "  'laagcha': ['lagcha', 'laagchha', 'lagxa', 'lagx', 'laagxa']}}"
      ]
     },
     "execution_count": 12,
     "metadata": {},
     "output_type": "execute_result"
    }
   ],
   "source": [
    "file_data"
   ]
  },
  {
   "cell_type": "code",
   "execution_count": 13,
   "metadata": {},
   "outputs": [],
   "source": [
    "replacement_values = list(file_data[\"replacement\"].keys())"
   ]
  },
  {
   "cell_type": "code",
   "execution_count": 14,
   "metadata": {},
   "outputs": [
    {
     "data": {
      "text/plain": [
       "['cha',\n",
       " 'malai',\n",
       " 'kaha',\n",
       " 'baare',\n",
       " 'maile',\n",
       " 'ke',\n",
       " 'paryo',\n",
       " 'chahanchu',\n",
       " 'aaucha',\n",
       " 'baata',\n",
       " 'milcha',\n",
       " 'sakchu',\n",
       " 'pauchu',\n",
       " 'laagcha']"
      ]
     },
     "execution_count": 14,
     "metadata": {},
     "output_type": "execute_result"
    }
   ],
   "source": [
    "replacement_values"
   ]
  },
  {
   "cell_type": "code",
   "execution_count": 15,
   "metadata": {},
   "outputs": [],
   "source": [
    "replacement_keys = file_data[\"replacement\"].values()"
   ]
  },
  {
   "cell_type": "code",
   "execution_count": 16,
   "metadata": {},
   "outputs": [],
   "source": [
    "replacement_keys = [key for item in replacement_keys for key in item]"
   ]
  },
  {
   "cell_type": "code",
   "execution_count": 17,
   "metadata": {},
   "outputs": [
    {
     "data": {
      "text/plain": [
       "(14, 59)"
      ]
     },
     "execution_count": 17,
     "metadata": {},
     "output_type": "execute_result"
    }
   ],
   "source": [
    "len(replacement_values), len(replacement_keys)"
   ]
  },
  {
   "cell_type": "code",
   "execution_count": 18,
   "metadata": {},
   "outputs": [
    {
     "data": {
      "text/plain": [
       "{'new_key': 'new_value'}"
      ]
     },
     "execution_count": 18,
     "metadata": {},
     "output_type": "execute_result"
    }
   ],
   "source": [
    "a = dict()\n",
    "a.update({\"new_key\": \"new_value\"})\n",
    "a"
   ]
  },
  {
   "cell_type": "code",
   "execution_count": 19,
   "metadata": {},
   "outputs": [],
   "source": [
    "# reverse mapping for the words\n",
    "reverse_map = dict()\n",
    "for key, values in file_data[\"replacement\"].items():\n",
    "    new_key_value = {v: key for v in values}\n",
    "    reverse_map.update(new_key_value)"
   ]
  },
  {
   "cell_type": "code",
   "execution_count": 20,
   "metadata": {},
   "outputs": [
    {
     "data": {
      "text/plain": [
       "{'chha': 'cha',\n",
       " 'chhaa': 'cha',\n",
       " 'xa': 'cha',\n",
       " 'xha': 'cha',\n",
       " 'xaa': 'cha',\n",
       " 'x': 'cha',\n",
       " 'mlai': 'malai',\n",
       " 'malaai': 'malai',\n",
       " 'malae': 'malai',\n",
       " 'molai': 'malai',\n",
       " 'maalai': 'malai',\n",
       " 'maalaai': 'malai',\n",
       " 'kahaa': 'kaha',\n",
       " 'kah': 'kaha',\n",
       " 'kha': 'kaha',\n",
       " 'ka': 'kaha',\n",
       " 'khaa': 'kaha',\n",
       " 'bare': 'baare',\n",
       " 'baaree': 'baare',\n",
       " 'barey': 'baare',\n",
       " 'baarey': 'baare',\n",
       " 'mailee': 'maile',\n",
       " 'mailey': 'maile',\n",
       " 'mailei': 'maile',\n",
       " 'maileey': 'maile',\n",
       " 'k': 'ke',\n",
       " 'paro': 'paryo',\n",
       " 'pariyo': 'paryo',\n",
       " 'pario': 'paryo',\n",
       " 'parryo': 'paryo',\n",
       " 'parryoo': 'paryo',\n",
       " 'chaahanxu': 'chahanchu',\n",
       " 'chahnxu': 'chahanchu',\n",
       " 'chaahaanxu': 'chahanchu',\n",
       " 'chaahanchu': 'chahanchu',\n",
       " 'chaahaanchu': 'chahanchu',\n",
       " 'auxa': 'aaucha',\n",
       " 'aauxa': 'aaucha',\n",
       " 'aauchha': 'aaucha',\n",
       " 'auchha': 'aaucha',\n",
       " 'axa': 'aaucha',\n",
       " 'bata': 'baata',\n",
       " 'baat': 'baata',\n",
       " 'milxa': 'milcha',\n",
       " 'milchha': 'milcha',\n",
       " 'milx': 'milcha',\n",
       " 'sakxu': 'sakchu',\n",
       " 'sakchhu': 'sakchu',\n",
       " 'sakchhhu': 'sakchu',\n",
       " 'sakchhuu': 'sakchu',\n",
       " 'pauxu': 'pauchu',\n",
       " 'pauchhu': 'pauchu',\n",
       " 'paauchhu': 'pauchu',\n",
       " 'paauxu': 'pauchu',\n",
       " 'lagcha': 'laagcha',\n",
       " 'laagchha': 'laagcha',\n",
       " 'lagxa': 'laagcha',\n",
       " 'lagx': 'laagcha',\n",
       " 'laagxa': 'laagcha'}"
      ]
     },
     "execution_count": 20,
     "metadata": {},
     "output_type": "execute_result"
    }
   ],
   "source": [
    "reverse_map"
   ]
  },
  {
   "cell_type": "code",
   "execution_count": 21,
   "metadata": {},
   "outputs": [
    {
     "data": {
      "text/html": [
       "<div>\n",
       "<style scoped>\n",
       "    .dataframe tbody tr th:only-of-type {\n",
       "        vertical-align: middle;\n",
       "    }\n",
       "\n",
       "    .dataframe tbody tr th {\n",
       "        vertical-align: top;\n",
       "    }\n",
       "\n",
       "    .dataframe thead th {\n",
       "        text-align: right;\n",
       "    }\n",
       "</style>\n",
       "<table border=\"1\" class=\"dataframe\">\n",
       "  <thead>\n",
       "    <tr style=\"text-align: right;\">\n",
       "      <th></th>\n",
       "      <th>text</th>\n",
       "      <th>intent</th>\n",
       "    </tr>\n",
       "  </thead>\n",
       "  <tbody>\n",
       "    <tr>\n",
       "      <th>0</th>\n",
       "      <td>malai saman kinnu chha xa chaahanxu</td>\n",
       "      <td>product_inquiry</td>\n",
       "    </tr>\n",
       "    <tr>\n",
       "      <th>1</th>\n",
       "      <td>k baata payment garne</td>\n",
       "      <td>payment_method</td>\n",
       "    </tr>\n",
       "  </tbody>\n",
       "</table>\n",
       "</div>"
      ],
      "text/plain": [
       "                                  text           intent\n",
       "0  malai saman kinnu chha xa chaahanxu  product_inquiry\n",
       "1                k baata payment garne   payment_method"
      ]
     },
     "execution_count": 21,
     "metadata": {},
     "output_type": "execute_result"
    }
   ],
   "source": [
    "sample_df = pd.DataFrame({\n",
    "    \"text\": [\"malai saman kinnu chha xa chaahanxu\", \"k baata payment garne\"],\n",
    "    \"intent\": [\"product_inquiry\", \"payment_method\"]\n",
    "})\n",
    "\n",
    "sample_df"
   ]
  },
  {
   "cell_type": "code",
   "execution_count": 22,
   "metadata": {},
   "outputs": [],
   "source": [
    "def replace_text(row):\n",
    "    replaced_text = \"\"\n",
    "    for word in row[\"text\"].split():\n",
    "        if word in replacement_keys:\n",
    "            print(f\"Replaced <{word}> with <{reverse_map[word]}>\")\n",
    "            replaced_text = replaced_text + \" \" + reverse_map[word]\n",
    "        else:\n",
    "            replaced_text = replaced_text + \" \" + word\n",
    "    row[\"text\"] = replaced_text\n",
    "    return row"
   ]
  },
  {
   "cell_type": "code",
   "execution_count": 23,
   "metadata": {},
   "outputs": [
    {
     "name": "stdout",
     "output_type": "stream",
     "text": [
      "Replaced <chha> with <cha>\n",
      "Replaced <xa> with <cha>\n",
      "Replaced <chaahanxu> with <chahanchu>\n",
      "Replaced <k> with <ke>\n"
     ]
    },
    {
     "data": {
      "text/html": [
       "<div>\n",
       "<style scoped>\n",
       "    .dataframe tbody tr th:only-of-type {\n",
       "        vertical-align: middle;\n",
       "    }\n",
       "\n",
       "    .dataframe tbody tr th {\n",
       "        vertical-align: top;\n",
       "    }\n",
       "\n",
       "    .dataframe thead th {\n",
       "        text-align: right;\n",
       "    }\n",
       "</style>\n",
       "<table border=\"1\" class=\"dataframe\">\n",
       "  <thead>\n",
       "    <tr style=\"text-align: right;\">\n",
       "      <th></th>\n",
       "      <th>text</th>\n",
       "      <th>intent</th>\n",
       "    </tr>\n",
       "  </thead>\n",
       "  <tbody>\n",
       "    <tr>\n",
       "      <th>0</th>\n",
       "      <td>malai saman kinnu cha cha chahanchu</td>\n",
       "      <td>product_inquiry</td>\n",
       "    </tr>\n",
       "    <tr>\n",
       "      <th>1</th>\n",
       "      <td>ke baata payment garne</td>\n",
       "      <td>payment_method</td>\n",
       "    </tr>\n",
       "  </tbody>\n",
       "</table>\n",
       "</div>"
      ],
      "text/plain": [
       "                                   text           intent\n",
       "0   malai saman kinnu cha cha chahanchu  product_inquiry\n",
       "1                ke baata payment garne   payment_method"
      ]
     },
     "execution_count": 23,
     "metadata": {},
     "output_type": "execute_result"
    }
   ],
   "source": [
    "sample_df.apply(replace_text, axis=1)"
   ]
  },
  {
   "cell_type": "code",
   "execution_count": 24,
   "metadata": {},
   "outputs": [
    {
     "name": "stdout",
     "output_type": "stream",
     "text": [
      "Replaced <xa> with <cha>\n",
      "Replaced <xa> with <cha>\n",
      "Replaced <xa> with <cha>\n",
      "Replaced <xa> with <cha>\n",
      "Replaced <xa> with <cha>\n",
      "Replaced <xa> with <cha>\n",
      "Replaced <xa> with <cha>\n",
      "Replaced <xa> with <cha>\n",
      "Replaced <aauxa> with <aaucha>\n",
      "Replaced <xa> with <cha>\n",
      "Replaced <xa> with <cha>\n",
      "Replaced <xa> with <cha>\n",
      "Replaced <aauxa> with <aaucha>\n",
      "Replaced <aauxa> with <aaucha>\n",
      "Replaced <aauxa> with <aaucha>\n",
      "Replaced <xa> with <cha>\n",
      "Replaced <xa> with <cha>\n",
      "Replaced <xa> with <cha>\n",
      "Replaced <xa> with <cha>\n",
      "Replaced <k> with <ke>\n",
      "Replaced <bata> with <baata>\n",
      "Replaced <k> with <ke>\n",
      "Replaced <k> with <ke>\n",
      "Replaced <xa> with <cha>\n",
      "Replaced <xa> with <cha>\n",
      "Replaced <xa> with <cha>\n",
      "Replaced <xa> with <cha>\n",
      "Replaced <xa> with <cha>\n",
      "Replaced <k> with <ke>\n",
      "Replaced <k> with <ke>\n",
      "Replaced <k> with <ke>\n",
      "Replaced <xa> with <cha>\n",
      "Replaced <xa> with <cha>\n",
      "Replaced <k> with <ke>\n",
      "Replaced <k> with <ke>\n",
      "Replaced <k> with <ke>\n",
      "Replaced <k> with <ke>\n",
      "Replaced <k> with <ke>\n",
      "Replaced <k> with <ke>\n",
      "Replaced <k> with <ke>\n",
      "Replaced <k> with <ke>\n",
      "Replaced <k> with <ke>\n",
      "Replaced <k> with <ke>\n",
      "Replaced <xa> with <cha>\n",
      "Replaced <xa> with <cha>\n",
      "Replaced <xa> with <cha>\n",
      "Replaced <xa> with <cha>\n",
      "Replaced <xa> with <cha>\n",
      "Replaced <xa> with <cha>\n",
      "Replaced <xa> with <cha>\n",
      "Replaced <xa> with <cha>\n",
      "Replaced <xa> with <cha>\n",
      "Replaced <xa> with <cha>\n",
      "Replaced <xa> with <cha>\n",
      "Replaced <xa> with <cha>\n",
      "Replaced <xa> with <cha>\n",
      "Replaced <xa> with <cha>\n",
      "Replaced <xa> with <cha>\n",
      "Replaced <xa> with <cha>\n",
      "Replaced <xa> with <cha>\n",
      "Replaced <xa> with <cha>\n",
      "Replaced <xa> with <cha>\n"
     ]
    }
   ],
   "source": [
    "intent_dataset = dataset.apply(replace_text, axis=1)"
   ]
  },
  {
   "cell_type": "code",
   "execution_count": 25,
   "metadata": {},
   "outputs": [
    {
     "data": {
      "text/html": [
       "<div>\n",
       "<style scoped>\n",
       "    .dataframe tbody tr th:only-of-type {\n",
       "        vertical-align: middle;\n",
       "    }\n",
       "\n",
       "    .dataframe tbody tr th {\n",
       "        vertical-align: top;\n",
       "    }\n",
       "\n",
       "    .dataframe thead th {\n",
       "        text-align: right;\n",
       "    }\n",
       "</style>\n",
       "<table border=\"1\" class=\"dataframe\">\n",
       "  <thead>\n",
       "    <tr style=\"text-align: right;\">\n",
       "      <th></th>\n",
       "      <th>text</th>\n",
       "      <th>intent</th>\n",
       "    </tr>\n",
       "  </thead>\n",
       "  <tbody>\n",
       "    <tr>\n",
       "      <th>0</th>\n",
       "      <td>malai 5 ota Redmi ko mobile order garna man cha</td>\n",
       "      <td>order_product</td>\n",
       "    </tr>\n",
       "    <tr>\n",
       "      <th>1</th>\n",
       "      <td>malai 1 ta Redmi ko mobile order garna man cha</td>\n",
       "      <td>order_product</td>\n",
       "    </tr>\n",
       "    <tr>\n",
       "      <th>2</th>\n",
       "      <td>Apple ko Iphone 5 ota order garna man cha</td>\n",
       "      <td>order_product</td>\n",
       "    </tr>\n",
       "    <tr>\n",
       "      <th>3</th>\n",
       "      <td>ma 2 ta Casio ko calculator order garxu</td>\n",
       "      <td>order_product</td>\n",
       "    </tr>\n",
       "    <tr>\n",
       "      <th>4</th>\n",
       "      <td>mero order 1 ota Xiaomi ko Redmi mobile ho</td>\n",
       "      <td>order_product</td>\n",
       "    </tr>\n",
       "    <tr>\n",
       "      <th>5</th>\n",
       "      <td>malai 9 ota Apple ko Iphone mobile Kathmandu ...</td>\n",
       "      <td>order_product</td>\n",
       "    </tr>\n",
       "    <tr>\n",
       "      <th>6</th>\n",
       "      <td>1 ota Sony ko TV, delivery location Dharan</td>\n",
       "      <td>order_product</td>\n",
       "    </tr>\n",
       "    <tr>\n",
       "      <th>7</th>\n",
       "      <td>2 ota mobile, delivery location Sunsari</td>\n",
       "      <td>order_product</td>\n",
       "    </tr>\n",
       "    <tr>\n",
       "      <th>8</th>\n",
       "      <td>1 ota calculator delivery location Dharan</td>\n",
       "      <td>order_product</td>\n",
       "    </tr>\n",
       "    <tr>\n",
       "      <th>9</th>\n",
       "      <td>3 ta Sony ko TV delivery location Kathmandu</td>\n",
       "      <td>order_product</td>\n",
       "    </tr>\n",
       "  </tbody>\n",
       "</table>\n",
       "</div>"
      ],
      "text/plain": [
       "                                                text         intent\n",
       "0    malai 5 ota Redmi ko mobile order garna man cha  order_product\n",
       "1     malai 1 ta Redmi ko mobile order garna man cha  order_product\n",
       "2          Apple ko Iphone 5 ota order garna man cha  order_product\n",
       "3            ma 2 ta Casio ko calculator order garxu  order_product\n",
       "4         mero order 1 ota Xiaomi ko Redmi mobile ho  order_product\n",
       "5   malai 9 ota Apple ko Iphone mobile Kathmandu ...  order_product\n",
       "6         1 ota Sony ko TV, delivery location Dharan  order_product\n",
       "7            2 ota mobile, delivery location Sunsari  order_product\n",
       "8          1 ota calculator delivery location Dharan  order_product\n",
       "9        3 ta Sony ko TV delivery location Kathmandu  order_product"
      ]
     },
     "execution_count": 25,
     "metadata": {},
     "output_type": "execute_result"
    }
   ],
   "source": [
    "intent_dataset.head(10)"
   ]
  },
  {
   "cell_type": "code",
   "execution_count": 28,
   "metadata": {},
   "outputs": [
    {
     "name": "stdout",
     "output_type": "stream",
     "text": [
      "0: Original:  malai 5 ota Redmi ko mobile order garna man cha = Replaced:  malai 5 ota Redmi ko mobile order garna man cha\n",
      "1: Original:  malai 1 ta Redmi ko mobile order garna man cha = Replaced:  malai 1 ta Redmi ko mobile order garna man cha\n",
      "2: Original:  Apple ko Iphone 5 ota order garna man cha = Replaced:  Apple ko Iphone 5 ota order garna man cha\n",
      "3: Original:  ma 2 ta Casio ko calculator order garxu = Replaced:  ma 2 ta Casio ko calculator order garxu\n",
      "4: Original:  mero order 1 ota Xiaomi ko Redmi mobile ho = Replaced:  mero order 1 ota Xiaomi ko Redmi mobile ho\n",
      "5: Original:  malai 9 ota Apple ko Iphone mobile Kathmandu ma delivery = Replaced:  malai 9 ota Apple ko Iphone mobile Kathmandu ma delivery\n",
      "6: Original:  1 ota Sony ko TV, delivery location Dharan = Replaced:  1 ota Sony ko TV, delivery location Dharan\n",
      "7: Original:  2 ota mobile, delivery location Sunsari = Replaced:  2 ota mobile, delivery location Sunsari\n",
      "8: Original:  1 ota calculator delivery location Dharan = Replaced:  1 ota calculator delivery location Dharan\n",
      "9: Original:  3 ta Sony ko TV delivery location Kathmandu = Replaced:  3 ta Sony ko TV delivery location Kathmandu\n"
     ]
    }
   ],
   "source": [
    "for i, (original, replaced) in enumerate(zip(dataset.iloc[:10].iterrows(), intent_dataset.iloc[:10].iterrows())):\n",
    "    print(f\"{i}: Original: {original[1]['text']} = Replaced: {replaced[1]['text']}\")"
   ]
  },
  {
   "cell_type": "code",
   "execution_count": 29,
   "metadata": {},
   "outputs": [],
   "source": [
    "intent_dataset.to_csv(\"intent_dataset.csv\")"
   ]
  },
  {
   "cell_type": "markdown",
   "metadata": {},
   "source": [
    "## Load the dataset"
   ]
  },
  {
   "cell_type": "code",
   "execution_count": 30,
   "metadata": {},
   "outputs": [],
   "source": [
    "df = pd.read_csv(\"./intent_dataset.csv\")"
   ]
  },
  {
   "cell_type": "code",
   "execution_count": 31,
   "metadata": {},
   "outputs": [
    {
     "data": {
      "text/html": [
       "<div>\n",
       "<style scoped>\n",
       "    .dataframe tbody tr th:only-of-type {\n",
       "        vertical-align: middle;\n",
       "    }\n",
       "\n",
       "    .dataframe tbody tr th {\n",
       "        vertical-align: top;\n",
       "    }\n",
       "\n",
       "    .dataframe thead th {\n",
       "        text-align: right;\n",
       "    }\n",
       "</style>\n",
       "<table border=\"1\" class=\"dataframe\">\n",
       "  <thead>\n",
       "    <tr style=\"text-align: right;\">\n",
       "      <th></th>\n",
       "      <th>Unnamed: 0</th>\n",
       "      <th>text</th>\n",
       "      <th>intent</th>\n",
       "    </tr>\n",
       "  </thead>\n",
       "  <tbody>\n",
       "    <tr>\n",
       "      <th>29</th>\n",
       "      <td>29</td>\n",
       "      <td>ma product order garna chahanxu</td>\n",
       "      <td>order_product</td>\n",
       "    </tr>\n",
       "    <tr>\n",
       "      <th>145</th>\n",
       "      <td>145</td>\n",
       "      <td>pay garne method haru ke ke cha</td>\n",
       "      <td>payment_method</td>\n",
       "    </tr>\n",
       "  </tbody>\n",
       "</table>\n",
       "</div>"
      ],
      "text/plain": [
       "     Unnamed: 0                              text          intent\n",
       "29           29   ma product order garna chahanxu   order_product\n",
       "145         145   pay garne method haru ke ke cha  payment_method"
      ]
     },
     "execution_count": 31,
     "metadata": {},
     "output_type": "execute_result"
    }
   ],
   "source": [
    "df.sample(2)"
   ]
  }
 ],
 "metadata": {
  "kernelspec": {
   "display_name": "Python 3",
   "language": "python",
   "name": "python3"
  },
  "language_info": {
   "codemirror_mode": {
    "name": "ipython",
    "version": 3
   },
   "file_extension": ".py",
   "mimetype": "text/x-python",
   "name": "python",
   "nbconvert_exporter": "python",
   "pygments_lexer": "ipython3",
   "version": "3.12.1"
  }
 },
 "nbformat": 4,
 "nbformat_minor": 2
}
