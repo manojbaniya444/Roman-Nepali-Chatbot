{
 "cells": [
  {
   "cell_type": "markdown",
   "metadata": {},
   "source": [
    "## Intent Classification"
   ]
  },
  {
   "cell_type": "code",
   "execution_count": 1,
   "metadata": {},
   "outputs": [],
   "source": [
    "import os \n",
    "import pandas as pd\n",
    "import numpy as np"
   ]
  },
  {
   "cell_type": "code",
   "execution_count": 2,
   "metadata": {},
   "outputs": [],
   "source": [
    "dataset = pd.read_csv(\"./data/intent_dataset.csv\")"
   ]
  },
  {
   "cell_type": "code",
   "execution_count": 3,
   "metadata": {},
   "outputs": [
    {
     "data": {
      "text/html": [
       "<div>\n",
       "<style scoped>\n",
       "    .dataframe tbody tr th:only-of-type {\n",
       "        vertical-align: middle;\n",
       "    }\n",
       "\n",
       "    .dataframe tbody tr th {\n",
       "        vertical-align: top;\n",
       "    }\n",
       "\n",
       "    .dataframe thead th {\n",
       "        text-align: right;\n",
       "    }\n",
       "</style>\n",
       "<table border=\"1\" class=\"dataframe\">\n",
       "  <thead>\n",
       "    <tr style=\"text-align: right;\">\n",
       "      <th></th>\n",
       "      <th>Unnamed: 0</th>\n",
       "      <th>text</th>\n",
       "      <th>intent</th>\n",
       "    </tr>\n",
       "  </thead>\n",
       "  <tbody>\n",
       "    <tr>\n",
       "      <th>130</th>\n",
       "      <td>130</td>\n",
       "      <td>paisa tirne method ke ke cha</td>\n",
       "      <td>payment_method</td>\n",
       "    </tr>\n",
       "    <tr>\n",
       "      <th>139</th>\n",
       "      <td>139</td>\n",
       "      <td>ma ke ke tarika baata paisa tirna sakchu</td>\n",
       "      <td>payment_method</td>\n",
       "    </tr>\n",
       "    <tr>\n",
       "      <th>83</th>\n",
       "      <td>83</td>\n",
       "      <td>ma mero order kaile samma pauchu</td>\n",
       "      <td>order_status_inquiry</td>\n",
       "    </tr>\n",
       "    <tr>\n",
       "      <th>132</th>\n",
       "      <td>132</td>\n",
       "      <td>ma ke baata paisa tirna sakchu</td>\n",
       "      <td>payment_method</td>\n",
       "    </tr>\n",
       "    <tr>\n",
       "      <th>21</th>\n",
       "      <td>21</td>\n",
       "      <td>Casio calculator 9 items Kathmandu delivery lo...</td>\n",
       "      <td>order_product</td>\n",
       "    </tr>\n",
       "  </tbody>\n",
       "</table>\n",
       "</div>"
      ],
      "text/plain": [
       "     Unnamed: 0                                               text  \\\n",
       "130         130                       paisa tirne method ke ke cha   \n",
       "139         139           ma ke ke tarika baata paisa tirna sakchu   \n",
       "83           83                   ma mero order kaile samma pauchu   \n",
       "132         132                     ma ke baata paisa tirna sakchu   \n",
       "21           21  Casio calculator 9 items Kathmandu delivery lo...   \n",
       "\n",
       "                   intent  \n",
       "130        payment_method  \n",
       "139        payment_method  \n",
       "83   order_status_inquiry  \n",
       "132        payment_method  \n",
       "21          order_product  "
      ]
     },
     "execution_count": 3,
     "metadata": {},
     "output_type": "execute_result"
    }
   ],
   "source": [
    "dataset.sample(5)"
   ]
  },
  {
   "cell_type": "code",
   "execution_count": 4,
   "metadata": {},
   "outputs": [
    {
     "data": {
      "text/plain": [
       "['malai 5 ota Redmi ko mobile order garna man cha',\n",
       " 'malai 1 ta Redmi ko mobile order garna man cha',\n",
       " 'Apple ko Iphone 5 ota order garna man cha',\n",
       " 'ma 2 ta Casio ko calculator order garxu',\n",
       " 'mero order 1 ota Xiaomi ko Redmi mobile ho',\n",
       " 'malai 9 ota Apple ko Iphone mobile Kathmandu ma delivery',\n",
       " '1 ota Sony ko TV, delivery location Dharan',\n",
       " '2 ota mobile, delivery location Sunsari',\n",
       " '1 ota calculator delivery location Dharan',\n",
       " '3 ta Sony ko TV delivery location Kathmandu']"
      ]
     },
     "execution_count": 4,
     "metadata": {},
     "output_type": "execute_result"
    }
   ],
   "source": [
    "dataset[\"text\"].tolist()[:10]"
   ]
  },
  {
   "cell_type": "code",
   "execution_count": 5,
   "metadata": {},
   "outputs": [],
   "source": [
    "dataset[\"text\"] = dataset[\"text\"].str.lower()"
   ]
  },
  {
   "cell_type": "markdown",
   "metadata": {},
   "source": [
    "## Prepare data"
   ]
  },
  {
   "cell_type": "code",
   "execution_count": 6,
   "metadata": {},
   "outputs": [],
   "source": [
    "import torch"
   ]
  },
  {
   "cell_type": "code",
   "execution_count": 7,
   "metadata": {},
   "outputs": [],
   "source": [
    "from torch.utils.data import Dataset\n",
    "from torch.utils.data import dataloader"
   ]
  },
  {
   "cell_type": "code",
   "execution_count": 8,
   "metadata": {},
   "outputs": [],
   "source": [
    "from sklearn.feature_extraction.text import CountVectorizer\n",
    "from sklearn.preprocessing import LabelEncoder"
   ]
  },
  {
   "cell_type": "code",
   "execution_count": 9,
   "metadata": {},
   "outputs": [],
   "source": [
    "class IntentDataset(Dataset):\n",
    "    \"\"\"Intent classification dataset\"\"\"\n",
    "    def __init__(self, dataset):\n",
    "        self.X = dataset[\"text\"].tolist()\n",
    "        self.y = dataset[\"intent\"].tolist()\n",
    "        \n",
    "        # bag of words\n",
    "        self.vectorizer = CountVectorizer()\n",
    "        self.bow_features = self.vectorizer.fit_transform(self.X).toarray()\n",
    "        # label encoding\n",
    "        self.label_encoder = LabelEncoder()\n",
    "        self.labels = self.label_encoder.fit_transform(self.y)\n",
    "        \n",
    "    def __len__(self):\n",
    "        \"\"\"Get the total length of the dataset\"\"\"\n",
    "        return len(self.X)\n",
    "    \n",
    "    def __getitem__(self, index):\n",
    "        \"\"\"Get the item from the dataset\"\"\"\n",
    "        bow_features = torch.tensor(self.bow_features[index], dtype=torch.float32)\n",
    "        label = torch.tensor(self.labels[index], dtype=torch.long)\n",
    "        return bow_features, label\n",
    "    \n",
    "    def get_labels(self):\n",
    "        \"\"\"Get all the labels\"\"\"\n",
    "        return self.y.unique()\n",
    "    \n",
    "    def get_vocab_size(self):\n",
    "        \"\"\"Get vocab size\"\"\"\n",
    "        return len(self.vectorizer.vocabulary_)\n",
    "    \n",
    "    def get_num_classes(self):\n",
    "        \"\"\"Get number of classes\"\"\"\n",
    "        return len(self.label_encoder.classes_)\n",
    "    \n",
    "    def id2label(self, label):\n",
    "        \"\"\"mapping from id to label\"\"\"\n",
    "        classes = self.label_encoder.classes_\n",
    "        return classes[label]\n",
    "        "
   ]
  },
  {
   "cell_type": "code",
   "execution_count": 10,
   "metadata": {},
   "outputs": [],
   "source": [
    "intentDataset = IntentDataset(dataset)"
   ]
  },
  {
   "cell_type": "code",
   "execution_count": 11,
   "metadata": {},
   "outputs": [
    {
     "data": {
      "text/plain": [
       "201"
      ]
     },
     "execution_count": 11,
     "metadata": {},
     "output_type": "execute_result"
    }
   ],
   "source": [
    "len(intentDataset)"
   ]
  },
  {
   "cell_type": "code",
   "execution_count": 12,
   "metadata": {},
   "outputs": [
    {
     "data": {
      "text/plain": [
       "(tensor([0., 0., 0., 0., 0., 0., 1., 0., 0., 0., 0., 0., 0., 0., 0., 0., 0., 0.,\n",
       "         0., 1., 0., 0., 0., 0., 0., 0., 0., 0., 0., 0., 0., 0., 1., 0., 0., 0.,\n",
       "         0., 0., 0., 0., 0., 0., 0., 1., 0., 0., 0., 0., 0., 0., 0., 0., 0., 0.,\n",
       "         0., 0., 0., 0., 1., 0., 0., 0., 0., 0., 0., 0., 0., 0., 0., 1., 0., 0.,\n",
       "         0., 0., 0., 0., 0., 1., 1., 0., 0., 0., 0., 0., 0., 0., 0., 0., 0., 0.,\n",
       "         0., 0., 0., 0., 0., 0., 0., 0., 0., 0., 0., 0., 0., 0., 0., 0., 0., 0.,\n",
       "         0., 0., 0., 0., 0., 0., 0., 0., 0., 0., 0., 0., 0., 0., 0., 0., 0., 0.,\n",
       "         0., 0.]),\n",
       " tensor(0))"
      ]
     },
     "execution_count": 12,
     "metadata": {},
     "output_type": "execute_result"
    }
   ],
   "source": [
    "intentDataset[2]"
   ]
  },
  {
   "cell_type": "code",
   "execution_count": 13,
   "metadata": {},
   "outputs": [
    {
     "data": {
      "text/plain": [
       "'order_status_inquiry'"
      ]
     },
     "execution_count": 13,
     "metadata": {},
     "output_type": "execute_result"
    }
   ],
   "source": [
    "intentDataset.id2label(1)"
   ]
  },
  {
   "cell_type": "code",
   "execution_count": 14,
   "metadata": {},
   "outputs": [
    {
     "data": {
      "text/plain": [
       "(201, 128)"
      ]
     },
     "execution_count": 14,
     "metadata": {},
     "output_type": "execute_result"
    }
   ],
   "source": [
    "intentDataset.bow_features.shape # total data with feature size"
   ]
  },
  {
   "cell_type": "markdown",
   "metadata": {},
   "source": [
    "## Data loader"
   ]
  },
  {
   "cell_type": "code",
   "execution_count": 15,
   "metadata": {},
   "outputs": [],
   "source": [
    "train_dataloader = torch.utils.data.DataLoader(intentDataset, batch_size=8, shuffle=True)"
   ]
  },
  {
   "cell_type": "markdown",
   "metadata": {},
   "source": [
    "## Model: Neural Network"
   ]
  },
  {
   "cell_type": "code",
   "execution_count": 16,
   "metadata": {},
   "outputs": [],
   "source": [
    "class NeuralNetwork(torch.nn.Module):\n",
    "    def __init__(self, input_size: int, hidden_size: int, num_classes: int):\n",
    "        super().__init__()\n",
    "        self.layer_1 = torch.nn.Linear(in_features=input_size, out_features=hidden_size)\n",
    "        self.layer_2 = torch.nn.Linear(in_features=hidden_size, out_features=hidden_size)\n",
    "        self.layer_3 = torch.nn.Linear(in_features=hidden_size, out_features=num_classes)\n",
    "        self.relu = torch.nn.ReLU()\n",
    "        \n",
    "    def forward(self, x):\n",
    "        out = self.relu(self.layer_1(x))\n",
    "        out = self.relu(self.layer_2(out))\n",
    "        out = self.layer_3(out)\n",
    "        return out"
   ]
  },
  {
   "cell_type": "markdown",
   "metadata": {},
   "source": [
    "## Model HyperParameters"
   ]
  },
  {
   "cell_type": "code",
   "execution_count": 17,
   "metadata": {},
   "outputs": [],
   "source": [
    "input_size = intentDataset.get_vocab_size()\n",
    "batch_size = 8\n",
    "hidden_size = 20\n",
    "num_classes = intentDataset.get_num_classes()\n",
    "learning_rate = 0.001\n",
    "num_epochs = 30"
   ]
  },
  {
   "cell_type": "code",
   "execution_count": 18,
   "metadata": {},
   "outputs": [],
   "source": [
    "model = NeuralNetwork(input_size, hidden_size, num_classes)"
   ]
  },
  {
   "cell_type": "code",
   "execution_count": 19,
   "metadata": {},
   "outputs": [],
   "source": [
    "criterion = torch.nn.CrossEntropyLoss()\n",
    "optimizer = torch.optim.Adam(model.parameters(), lr=learning_rate)"
   ]
  },
  {
   "cell_type": "code",
   "execution_count": 20,
   "metadata": {},
   "outputs": [
    {
     "name": "stdout",
     "output_type": "stream",
     "text": [
      "[tensor([[0., 0., 0.,  ..., 0., 0., 0.],\n",
      "        [0., 0., 0.,  ..., 0., 0., 0.],\n",
      "        [0., 0., 0.,  ..., 0., 0., 1.],\n",
      "        ...,\n",
      "        [0., 0., 0.,  ..., 0., 0., 0.],\n",
      "        [0., 0., 0.,  ..., 0., 0., 0.],\n",
      "        [0., 0., 0.,  ..., 0., 0., 0.]]), tensor([2, 1, 0, 1, 2, 3, 2, 0])]\n"
     ]
    }
   ],
   "source": [
    "for i, x in enumerate(train_dataloader):\n",
    "    if i == 0:\n",
    "        print(x)\n",
    "        break"
   ]
  },
  {
   "cell_type": "markdown",
   "metadata": {},
   "source": [
    "## Training Loop"
   ]
  },
  {
   "cell_type": "code",
   "execution_count": 21,
   "metadata": {},
   "outputs": [
    {
     "name": "stdout",
     "output_type": "stream",
     "text": [
      "Epoch: 5 and Loss: 1.0875896215438843\n",
      "Epoch: 10 and Loss: 0.13114473223686218\n",
      "Epoch: 15 and Loss: 0.02218209207057953\n",
      "Epoch: 20 and Loss: 0.053770408034324646\n",
      "Epoch: 25 and Loss: 0.016969481483101845\n",
      "Epoch: 30 and Loss: 0.0007309625507332385\n",
      "Final Loss: 0.0007309625507332385\n"
     ]
    }
   ],
   "source": [
    "loss_tracking = []\n",
    "\n",
    "for epoch in range(num_epochs):\n",
    "    loss_per_epoch = 0\n",
    "    for i, (bow_features, labels) in enumerate(train_dataloader):\n",
    "        logits = model(bow_features)\n",
    "        loss = criterion(logits, labels)\n",
    "        \n",
    "        optimizer.zero_grad()\n",
    "        loss.backward()\n",
    "        \n",
    "        optimizer.step()\n",
    "        loss_per_epoch += loss.item()\n",
    "        \n",
    "    loss_tracking.append(loss_per_epoch)\n",
    "    if (epoch + 1) % 5 == 0:\n",
    "        print(f\"Epoch: {epoch+1} and Loss: {loss.item()}\")\n",
    "\n",
    "print(f\"Final Loss: {loss.item()}\")"
   ]
  },
  {
   "cell_type": "markdown",
   "metadata": {},
   "source": [
    "## Evaluation"
   ]
  },
  {
   "cell_type": "code",
   "execution_count": 22,
   "metadata": {},
   "outputs": [
    {
     "data": {
      "text/plain": [
       "NeuralNetwork(\n",
       "  (layer_1): Linear(in_features=128, out_features=20, bias=True)\n",
       "  (layer_2): Linear(in_features=20, out_features=20, bias=True)\n",
       "  (layer_3): Linear(in_features=20, out_features=4, bias=True)\n",
       "  (relu): ReLU()\n",
       ")"
      ]
     },
     "execution_count": 22,
     "metadata": {},
     "output_type": "execute_result"
    }
   ],
   "source": [
    "model.eval()"
   ]
  },
  {
   "cell_type": "code",
   "execution_count": 23,
   "metadata": {},
   "outputs": [
    {
     "data": {
      "image/png": "[encoded data removed]",
      "text/plain": [
       "<Figure size 640x480 with 1 Axes>"
      ]
     },
     "metadata": {},
     "output_type": "display_data"
    }
   ],
   "source": [
    "import matplotlib.pyplot as plt\n",
    "\n",
    "epochs_range = np.arange(num_epochs)\n",
    "plt.plot(epochs_range, loss_tracking)\n",
    "plt.xlabel(\"Number of Epochs\")\n",
    "plt.ylabel(\"Training Loss\")\n",
    "plt.title(\"Training\")\n",
    "plt.grid(True)"
   ]
  },
  {
   "cell_type": "markdown",
   "metadata": {},
   "source": [
    "## Inference"
   ]
  },
  {
   "cell_type": "code",
   "execution_count": 24,
   "metadata": {},
   "outputs": [],
   "source": [
    "import json"
   ]
  },
  {
   "cell_type": "code",
   "execution_count": 25,
   "metadata": {},
   "outputs": [],
   "source": [
    "with open(\"./data/replacement.json\", \"r\") as f:\n",
    "    file_data = json.load(f)"
   ]
  },
  {
   "cell_type": "code",
   "execution_count": 26,
   "metadata": {},
   "outputs": [
    {
     "data": {
      "text/plain": [
       "{'replacement': {'cha': ['chha', 'chhaa', 'xa', 'xha', 'xaa', 'x'],\n",
       "  'malai': ['mlai', 'malaai', 'malae', 'molai', 'maalai', 'maalaai'],\n",
       "  'kaha': ['kahaa', 'kah', 'kha', 'ka', 'khaa'],\n",
       "  'baare': ['bare', 'baaree', 'barey', 'baarey'],\n",
       "  'maile': ['mailee', 'mailey', 'mailei', 'maileey'],\n",
       "  'ke': ['k'],\n",
       "  'paryo': ['paro', 'pariyo', 'pario', 'parryo', 'parryoo'],\n",
       "  'chahanchu': ['chaahanxu',\n",
       "   'chahnxu',\n",
       "   'chaahaanxu',\n",
       "   'chaahanchu',\n",
       "   'chaahaanchu'],\n",
       "  'aaucha': ['auxa', 'aauxa', 'aauchha', 'auchha', 'axa'],\n",
       "  'baata': ['bata', 'baat'],\n",
       "  'milcha': ['milxa', 'milchha', 'milx'],\n",
       "  'sakchu': ['sakxu', 'sakchhu', 'sakchhhu', 'sakchhuu'],\n",
       "  'pauchu': ['pauxu', 'pauchhu', 'paauchhu', 'paauxu'],\n",
       "  'laagcha': ['lagcha', 'laagchha', 'lagxa', 'lagx', 'laagxa']}}"
      ]
     },
     "execution_count": 26,
     "metadata": {},
     "output_type": "execute_result"
    }
   ],
   "source": [
    "file_data"
   ]
  },
  {
   "cell_type": "code",
   "execution_count": 27,
   "metadata": {},
   "outputs": [
    {
     "data": {
      "text/plain": [
       "['chha', 'chhaa', 'xa', 'xha', 'xaa', 'x', 'mlai', 'malaai', 'malae', 'molai']"
      ]
     },
     "execution_count": 27,
     "metadata": {},
     "output_type": "execute_result"
    }
   ],
   "source": [
    "replacement_keys = file_data[\"replacement\"].values()\n",
    "replacement_keys = [k for key in replacement_keys for k in key]\n",
    "replacement_keys[:10]"
   ]
  },
  {
   "cell_type": "code",
   "execution_count": 28,
   "metadata": {},
   "outputs": [
    {
     "data": {
      "text/plain": [
       "['cha',\n",
       " 'malai',\n",
       " 'kaha',\n",
       " 'baare',\n",
       " 'maile',\n",
       " 'ke',\n",
       " 'paryo',\n",
       " 'chahanchu',\n",
       " 'aaucha',\n",
       " 'baata',\n",
       " 'milcha',\n",
       " 'sakchu',\n",
       " 'pauchu',\n",
       " 'laagcha']"
      ]
     },
     "execution_count": 28,
     "metadata": {},
     "output_type": "execute_result"
    }
   ],
   "source": [
    "replacement_values = list(file_data[\"replacement\"].keys())\n",
    "replacement_values"
   ]
  },
  {
   "cell_type": "code",
   "execution_count": 29,
   "metadata": {},
   "outputs": [],
   "source": [
    "mapping_key_value = dict()\n",
    "\n",
    "for key, values in file_data[\"replacement\"].items():\n",
    "    new_key_value = {\n",
    "        new_value: key for new_value in values\n",
    "    }\n",
    "    mapping_key_value.update(new_key_value)"
   ]
  },
  {
   "cell_type": "code",
   "execution_count": 30,
   "metadata": {},
   "outputs": [
    {
     "data": {
      "text/plain": [
       "{'chha': 'cha',\n",
       " 'chhaa': 'cha',\n",
       " 'xa': 'cha',\n",
       " 'xha': 'cha',\n",
       " 'xaa': 'cha',\n",
       " 'x': 'cha',\n",
       " 'mlai': 'malai',\n",
       " 'malaai': 'malai',\n",
       " 'malae': 'malai',\n",
       " 'molai': 'malai',\n",
       " 'maalai': 'malai',\n",
       " 'maalaai': 'malai',\n",
       " 'kahaa': 'kaha',\n",
       " 'kah': 'kaha',\n",
       " 'kha': 'kaha',\n",
       " 'ka': 'kaha',\n",
       " 'khaa': 'kaha',\n",
       " 'bare': 'baare',\n",
       " 'baaree': 'baare',\n",
       " 'barey': 'baare',\n",
       " 'baarey': 'baare',\n",
       " 'mailee': 'maile',\n",
       " 'mailey': 'maile',\n",
       " 'mailei': 'maile',\n",
       " 'maileey': 'maile',\n",
       " 'k': 'ke',\n",
       " 'paro': 'paryo',\n",
       " 'pariyo': 'paryo',\n",
       " 'pario': 'paryo',\n",
       " 'parryo': 'paryo',\n",
       " 'parryoo': 'paryo',\n",
       " 'chaahanxu': 'chahanchu',\n",
       " 'chahnxu': 'chahanchu',\n",
       " 'chaahaanxu': 'chahanchu',\n",
       " 'chaahanchu': 'chahanchu',\n",
       " 'chaahaanchu': 'chahanchu',\n",
       " 'auxa': 'aaucha',\n",
       " 'aauxa': 'aaucha',\n",
       " 'aauchha': 'aaucha',\n",
       " 'auchha': 'aaucha',\n",
       " 'axa': 'aaucha',\n",
       " 'bata': 'baata',\n",
       " 'baat': 'baata',\n",
       " 'milxa': 'milcha',\n",
       " 'milchha': 'milcha',\n",
       " 'milx': 'milcha',\n",
       " 'sakxu': 'sakchu',\n",
       " 'sakchhu': 'sakchu',\n",
       " 'sakchhhu': 'sakchu',\n",
       " 'sakchhuu': 'sakchu',\n",
       " 'pauxu': 'pauchu',\n",
       " 'pauchhu': 'pauchu',\n",
       " 'paauchhu': 'pauchu',\n",
       " 'paauxu': 'pauchu',\n",
       " 'lagcha': 'laagcha',\n",
       " 'laagchha': 'laagcha',\n",
       " 'lagxa': 'laagcha',\n",
       " 'lagx': 'laagcha',\n",
       " 'laagxa': 'laagcha'}"
      ]
     },
     "execution_count": 30,
     "metadata": {},
     "output_type": "execute_result"
    }
   ],
   "source": [
    "mapping_key_value"
   ]
  },
  {
   "cell_type": "code",
   "execution_count": 31,
   "metadata": {},
   "outputs": [],
   "source": [
    "def preprocess_text(sentence):\n",
    "    \"\"\"Get the sentence and then correct the Roman Nepali text like cha xa chha to common\"\"\"\n",
    "    replaced_text = \"\"\n",
    "    for word in sentence.split():\n",
    "        if word in replacement_keys:\n",
    "            replaced_text = replaced_text + \" \" + mapping_key_value[word]\n",
    "        else:\n",
    "            replaced_text = replaced_text + \" \" + word\n",
    "            \n",
    "    return replaced_text.lower().strip()"
   ]
  },
  {
   "cell_type": "code",
   "execution_count": 32,
   "metadata": {},
   "outputs": [
    {
     "data": {
      "text/plain": [
       "'ma kun kun method baata payment garna sakchu'"
      ]
     },
     "execution_count": 32,
     "metadata": {},
     "output_type": "execute_result"
    }
   ],
   "source": [
    "sentence = \"Ma kun kun method baata payment garna sakchu\"\n",
    "sentence = preprocess_text(sentence)\n",
    "sentence"
   ]
  },
  {
   "cell_type": "code",
   "execution_count": 33,
   "metadata": {},
   "outputs": [
    {
     "data": {
      "text/plain": [
       "tensor([[0., 0., 0., 0., 0., 0., 0., 0., 0., 0., 1., 0., 0., 0., 0., 0., 0., 0.,\n",
       "         0., 0., 0., 0., 0., 0., 0., 0., 0., 0., 0., 0., 0., 0., 1., 0., 0., 0.,\n",
       "         0., 0., 0., 0., 0., 0., 0., 0., 0., 0., 0., 0., 0., 0., 0., 0., 0., 0.,\n",
       "         0., 0., 0., 0., 0., 2., 0., 0., 0., 0., 0., 1., 0., 0., 0., 0., 0., 0.,\n",
       "         1., 0., 0., 0., 0., 0., 0., 0., 0., 0., 0., 0., 0., 0., 0., 0., 0., 1.,\n",
       "         0., 0., 0., 0., 0., 0., 0., 0., 1., 0., 0., 0., 0., 0., 0., 0., 0., 0.,\n",
       "         0., 0., 0., 0., 0., 0., 0., 0., 0., 0., 0., 0., 0., 0., 0., 0., 0., 0.,\n",
       "         0., 0.]])"
      ]
     },
     "execution_count": 33,
     "metadata": {},
     "output_type": "execute_result"
    }
   ],
   "source": [
    "dataset_vectorize = intentDataset.vectorizer.transform([sentence]).toarray()\n",
    "data_tensor = torch.tensor(dataset_vectorize, dtype=torch.float32)\n",
    "data_tensor"
   ]
  },
  {
   "cell_type": "code",
   "execution_count": 38,
   "metadata": {},
   "outputs": [
    {
     "data": {
      "text/plain": [
       "'payment_method'"
      ]
     },
     "execution_count": 38,
     "metadata": {},
     "output_type": "execute_result"
    }
   ],
   "source": [
    "logits = model(data_tensor)\n",
    "pred_prob = torch.softmax(logits, dim=-1)\n",
    "assert pred_prob.sum(dim=1), \"Softmax dimension error\"\n",
    "intent = intentDataset.id2label(torch.argmax(pred_prob, dim=-1))\n",
    "intent"
   ]
  },
  {
   "cell_type": "markdown",
   "metadata": {},
   "source": [
    "## Classify "
   ]
  },
  {
   "cell_type": "code",
   "execution_count": 43,
   "metadata": {},
   "outputs": [],
   "source": [
    "def classify_intent(sentence: str) -> str:\n",
    "    \"\"\"Get the sentence and predict the any one of 4 intents\"\"\"\n",
    "    preprocessed = preprocess_text(sentence)\n",
    "    bow_sentence = intentDataset.vectorizer.transform([preprocessed]).toarray()\n",
    "    bow_tensor = torch.tensor(bow_sentence, dtype=torch.float32)\n",
    "    with torch.no_grad():\n",
    "        pred = model(bow_tensor)\n",
    "        pred = torch.softmax(pred, dim=1)\n",
    "        pred_label = torch.argmax(pred, dim=1)\n",
    "        \n",
    "    predicted_intent = intentDataset.id2label(pred_label)\n",
    "    return predicted_intent"
   ]
  },
  {
   "cell_type": "code",
   "execution_count": 40,
   "metadata": {},
   "outputs": [
    {
     "data": {
      "text/plain": [
       "array(['order_product', 'order_status_inquiry', 'payment_method',\n",
       "       'product_inquiry'], dtype='<U20')"
      ]
     },
     "execution_count": 40,
     "metadata": {},
     "output_type": "execute_result"
    }
   ],
   "source": [
    "intentDataset.label_encoder.classes_"
   ]
  },
  {
   "cell_type": "code",
   "execution_count": 45,
   "metadata": {},
   "outputs": [],
   "source": [
    "test_data = [\n",
    "    \"malai Redmi ko mobile order garnu xa\",\n",
    "    \"malai naya saman order garnu xa\",\n",
    "    \"mero order ko status ke xa\",\n",
    "    \"ma kasari pay garna sakchu\",\n",
    "    \"Samsung Galaxy ko barema bujhnu xa\",\n",
    "    \"pasal ma k k saman xa\"\n",
    "]"
   ]
  },
  {
   "cell_type": "code",
   "execution_count": 47,
   "metadata": {},
   "outputs": [
    {
     "name": "stdout",
     "output_type": "stream",
     "text": [
      "malai Redmi ko mobile order garnu xa: <ORDER_PRODUCT>\n",
      "malai naya saman order garnu xa: <ORDER_PRODUCT>\n",
      "mero order ko status ke xa: <ORDER_STATUS_INQUIRY>\n",
      "ma kasari pay garna sakchu: <PAYMENT_METHOD>\n",
      "Samsung Galaxy ko barema bujhnu xa: <PRODUCT_INQUIRY>\n",
      "pasal ma k k saman xa: <PRODUCT_INQUIRY>\n"
     ]
    }
   ],
   "source": [
    "for sentence in test_data:\n",
    "    intent = classify_intent(sentence)\n",
    "    print(f\"{sentence}: <{intent.upper()}>\")"
   ]
  },
  {
   "cell_type": "markdown",
   "metadata": {},
   "source": [
    "## Save the model"
   ]
  },
  {
   "cell_type": "code",
   "execution_count": 48,
   "metadata": {},
   "outputs": [],
   "source": [
    "torch.save(model.state_dict(), \"./best.pt\")"
   ]
  }
 ],
 "metadata": {
  "kernelspec": {
   "display_name": "Python 3",
   "language": "python",
   "name": "python3"
  },
  "language_info": {
   "codemirror_mode": {
    "name": "ipython",
    "version": 3
   },
   "file_extension": ".py",
   "mimetype": "text/x-python",
   "name": "python",
   "nbconvert_exporter": "python",
   "pygments_lexer": "ipython3",
   "version": "3.12.1"
  }
 },
 "nbformat": 4,
 "nbformat_minor": 2
}
