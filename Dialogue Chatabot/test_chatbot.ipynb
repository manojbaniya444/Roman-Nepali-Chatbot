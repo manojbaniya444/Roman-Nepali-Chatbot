{
 "cells": [
  {
   "cell_type": "markdown",
   "metadata": {},
   "source": [
    "## Dialogue based chatbot"
   ]
  },
  {
   "cell_type": "code",
   "execution_count": 1,
   "metadata": {},
   "outputs": [],
   "source": [
    "import numpy as np\n",
    "from typing import Dict, List, Tuple, Optional"
   ]
  },
  {
   "cell_type": "markdown",
   "metadata": {},
   "source": [
    "## Loading the model"
   ]
  },
  {
   "cell_type": "code",
   "execution_count": 2,
   "metadata": {},
   "outputs": [],
   "source": [
    "from intent_classification_model import IntentClassificationModel"
   ]
  },
  {
   "cell_type": "code",
   "execution_count": 3,
   "metadata": {},
   "outputs": [
    {
     "data": {
      "text/plain": [
       "'payment_method'"
      ]
     },
     "execution_count": 3,
     "metadata": {},
     "output_type": "execute_result"
    }
   ],
   "source": [
    "IntentClassificationModel().predict(\"payment method k k available cha\")"
   ]
  },
  {
   "cell_type": "code",
   "execution_count": 4,
   "metadata": {},
   "outputs": [],
   "source": [
    "from entity_recognition import CRFModel"
   ]
  },
  {
   "cell_type": "code",
   "execution_count": 5,
   "metadata": {},
   "outputs": [
    {
     "data": {
      "text/plain": [
       "array(['B-Location', 'O', 'B-Product', 'I-Product', 'I-Product', 'O',\n",
       "       'B-Quantity', 'O', 'O', 'O'], dtype=object)"
      ]
     },
     "execution_count": 5,
     "metadata": {},
     "output_type": "execute_result"
    }
   ],
   "source": [
    "CRFModel().predict(\"Dharan ma Redmi Note 9 pro 1 ta delivery garidinu\")"
   ]
  },
  {
   "cell_type": "code",
   "execution_count": 6,
   "metadata": {},
   "outputs": [],
   "source": [
    "products_db = [\n",
    "            {\"id\": 1, \"name\": \"IPhone 11\", \"category\": \"mobile\", \"brand\": \"Apple\", \"price\": 799.99},\n",
    "            {\"id\": 2, \"name\": \"Galaxy S21\", \"category\": \"mobile\", \"brand\": \"Samsung\", \"price\": 699.99},\n",
    "            {\"id\": 3, \"name\": \"Sony Television\", \"category\": \"TV\", \"brand\": \"Sony\", \"price\": 179.99},\n",
    "            {\"id\": 5, \"name\": \"Macbook Pro\", \"category\": \"laptop\", \"brand\": \"Apple\", \"price\": 1299.99},\n",
    "            {\"id\": 6, \"name\": \"Redmi Note 9 pro\", \"category\": \"mobile\", \"brand\": \"Xiaomi\", \"price\": 999.99},\n",
    "        ]\n",
    "        "
   ]
  },
  {
   "cell_type": "code",
   "execution_count": 7,
   "metadata": {},
   "outputs": [
    {
     "name": "stderr",
     "output_type": "stream",
     "text": [
      "C:\\Users\\acer\\AppData\\Roaming\\Python\\Python312\\site-packages\\fuzzywuzzy\\fuzz.py:11: UserWarning: Using slow pure-python SequenceMatcher. Install python-Levenshtein to remove this warning\n",
      "  warnings.warn('Using slow pure-python SequenceMatcher. Install python-Levenshtein to remove this warning')\n"
     ]
    }
   ],
   "source": [
    "import random\n",
    "from fuzzywuzzy import process, fuzz\n",
    "\n",
    "class EcommerceBot:\n",
    "    def __init__(self, intent_model, entity_model):\n",
    "        self.intent_model = intent_model\n",
    "        self.entity_model = entity_model\n",
    "        \n",
    "        self.order_db = [\n",
    "            {\n",
    "                \"Id\": \"ORD12345\",\n",
    "                \"status\": \"Processing\"\n",
    "            },\n",
    "            {\n",
    "                \"Id\": \"ORD00000\",\n",
    "                \"status\": \"Shipping\"\n",
    "            }\n",
    "        ]\n",
    "        \n",
    "        self.intent_handlers = {\n",
    "            'payment_method': self._handle_payment_method,\n",
    "            'order_status_inquiry': self._handle_order_status,\n",
    "            'order_product': self._handle_order_product,\n",
    "            'product_inquiry': self._handle_product_inquiry\n",
    "        }\n",
    "        \n",
    "        self.products_db = [\n",
    "            {\"id\": 1, \"name\": \"IPhone 11\", \"category\": \"mobile\", \"brand\": \"Apple\", \"price\": 799.99},\n",
    "            {\"id\": 2, \"name\": \"Galaxy S21\", \"category\": \"mobile\", \"brand\": \"Samsung\", \"price\": 699.99},\n",
    "            {\"id\": 3, \"name\": \"Sony Television\", \"category\": \"TV\", \"brand\": \"Sony\", \"price\": 179.99},\n",
    "            {\"id\": 5, \"name\": \"Macbook Pro\", \"category\": \"laptop\", \"brand\": \"Apple\", \"price\": 1299.99},\n",
    "            {\"id\": 6, \"name\": \"Redmi Note 9 pro\", \"category\": \"mobile\", \"brand\": \"Xiaomi\", \"price\": 999.99},\n",
    "        ]\n",
    "        \n",
    "        # keep the context of the last intent and all the entities\n",
    "        self.conversation_context = {}\n",
    "        \n",
    "    def process_message(self, user_message: str) -> str:\n",
    "        intent = self._predict_intent(user_message)\n",
    "        entities = self._extract_entities(user_message)\n",
    "        \n",
    "        print(f\"Intent: {intent}\")\n",
    "        print(f\"Entities: {entities}\")\n",
    "        \n",
    "        # handling the intent\n",
    "        if intent in self.intent_handlers:\n",
    "            response = self.intent_handlers[intent](entities)\n",
    "        else:\n",
    "            response = \"Maaf garnu hola maile hajurko kura bujhna sakina.\"\n",
    "            \n",
    "        return response\n",
    "    \n",
    "    def _predict_intent(self, sentence):\n",
    "        intent = self.intent_model.predict(sentence)\n",
    "        return intent\n",
    "    \n",
    "    def _extract_entities(self, message: str) -> Dict[str, str]:\n",
    "        entities = self.entity_model.predict(message)\n",
    "        return self._format_entities(entities, message.split())\n",
    "    \n",
    "    def fuzzy_search(self, search_term: str, search_type: str) -> List[Dict]:\n",
    "        \"\"\"\n",
    "        Perform fuzzy search on products based on category, brand, or name\n",
    "        \"\"\"\n",
    "        matches = []\n",
    "        \n",
    "        if search_type == 'category':\n",
    "            # Get unique categories\n",
    "            categories = set(product['category'] for product in self.products_db)\n",
    "            matched_category, score = process.extractOne(search_term, categories)\n",
    "            if score > 80:  # Threshold for matching\n",
    "                matches = [p for p in self.products_db if p['category'] == matched_category]\n",
    "                \n",
    "        elif search_type == 'brand':\n",
    "            # Get unique brands\n",
    "            brands = set(product['brand'] for product in self.products_db)\n",
    "            matched_brand, score = process.extractOne(search_term, brands)\n",
    "            if score > 80:\n",
    "                matches = [p for p in self.products_db if p['brand'] == matched_brand]\n",
    "                \n",
    "        else:  # Search by product name\n",
    "            for product in self.products_db:\n",
    "                score = fuzz.ratio(search_term.lower(), product['name'].lower())\n",
    "                if score > 60:\n",
    "                    matches.append(product)\n",
    "        \n",
    "        return matches\n",
    "    \n",
    "    def format_product_inquiry_message(self, matches: list[dict]):\n",
    "        message = \"\"\n",
    "        for i, product in enumerate(matches):\n",
    "            if i == 0:\n",
    "                msg = f\"Hami sanga product Rs. {product[\"price\"]} parne {product[\"name\"]} xa\\n\"\n",
    "                message += msg\n",
    "            else:\n",
    "                msg = f\"Arko Hami sanga product {product[\"name\"]} xa ra yaslai Rs. {product[\"price\"]} parcha.\\n\"\n",
    "                message += msg\n",
    "            \n",
    "        return message\n",
    "    \n",
    "    def _format_entities(self, entities: List, sentence: List) -> Dict[str, str]:\n",
    "        formatted_entities = {\n",
    "            \"Location\": None,\n",
    "            \"Product\": None,\n",
    "            \"Brand\": None,\n",
    "            \"Category\": None,\n",
    "            \"Quantity\": None,\n",
    "            \"Order_Number\": None\n",
    "        }\n",
    "        \n",
    "        for entity, word in zip(entities, sentence):\n",
    "            # if the entity is present\n",
    "            if entity in formatted_entities:\n",
    "                # if it is a single word entity\n",
    "                formatted_entities[entity] = word\n",
    "            # if it is a more length word entity\n",
    "            elif len(entity.split(\"-\")) == 2:\n",
    "                # check if the entity is the beginning or intermediate\n",
    "                longer_entity = entity.split(\"-\")\n",
    "                if longer_entity[0] == \"B\":\n",
    "                    formatted_entities[longer_entity[1]] = word\n",
    "                elif longer_entity[0] == \"I\":\n",
    "                    formatted_entities[longer_entity[1]] += \" \" + word\n",
    "        # print(formatted_entities)  \n",
    "        return formatted_entities\n",
    "    \n",
    "    def _update_context(self, intent: str, entities: Dict[str, str]):\n",
    "        self.conversation_context[\"last_intent\"] = intent\n",
    "        self.conversation_context.update(entities)\n",
    "        \n",
    "    def _handle_payment_method(self, entities: Dict[str, str]) -> str:\n",
    "        response_sample = [\n",
    "            \"Hami esewa, khalti, mobile banking sabei payment method accept garxau.\",\n",
    "            \"tapai esewa, khalti ya kunei mobile banking baata payment garna saknu huncha.\",\n",
    "        ]\n",
    "        return random.sample(response_sample, 1)[0]\n",
    "    \n",
    "    def _handle_order_status(self, entities: Dict[str, str]) -> str:\n",
    "        if entities[\"Order_Number\"] is None:\n",
    "            return \"Kripaya malai hajurko order number dinuhos.\"\n",
    "        for orders in self.order_db:\n",
    "            if orders[\"Id\"] == entities[\"Order_Number\"]:\n",
    "                status = orders[\"status\"]\n",
    "                return f\"Hajur ko order ko {status} hudei xa.\"\n",
    "            \n",
    "        return \"Kripaya sahi order number dinuhos.\"\n",
    "    \n",
    "    def _handle_order_product(self, entities: Dict[str, str]) -> str:\n",
    "        needed = [\"Product\", \"Quantity\", \"Location\"]\n",
    "        missing = [entity for entity in needed if entities[entity] is None]\n",
    "        \n",
    "        if len(missing) > 0:\n",
    "            return f\"Kripaya pura details dinuhos: {', '.join(missing)} pani vannuhos.\"\n",
    "        \n",
    "        matched_product = self.fuzzy_search(search_term=entities.get(\"Product\"), search_type=\"name\")\n",
    "        \n",
    "        if len(matched_product) == 0:\n",
    "            return f\"Maaf garnu hola {entities.get(\"Product\")} available xaina.\"\n",
    "        product = matched_product[0]\n",
    "        \n",
    "        return f\"Tapaiko order confirm vayo {entities[\"Product\"]}, total quantity:  {entities[\"Quantity\"]} wata ra delivery location {entities[\"Location\"]} total Cost Rs. {int(entities[\"Quantity\"]) * product[\"price\"]} hajur ko order number: ORD12345\"\n",
    "    \n",
    "    def _handle_product_inquiry(self, entities: Dict[str, str]) -> str:\n",
    "        product = entities.get(\"Product\")\n",
    "        category = entities.get(\"Category\")\n",
    "        brand = entities.get(\"Brand\")\n",
    "        \n",
    "        if product:\n",
    "            matches = self.fuzzy_search(search_term=product, search_type=\"name\")\n",
    "            return self.format_product_inquiry_message(matches)\n",
    "        elif brand:\n",
    "            matches = self.fuzzy_search(search_term=brand, search_type=\"brand\")\n",
    "            return self.format_product_inquiry_message(matches)\n",
    "        elif category:\n",
    "            matches = self.fuzzy_search(category, \"category\")\n",
    "            print(matches)\n",
    "            return self.format_product_inquiry_message(matches)\n",
    "        \n",
    "        else: \n",
    "            return \"Kun product ko barema janna chahau huncha name, category wa brand vannu hola\""
   ]
  },
  {
   "cell_type": "code",
   "execution_count": 8,
   "metadata": {},
   "outputs": [],
   "source": [
    "intent_model = IntentClassificationModel()\n",
    "entity_model = CRFModel()"
   ]
  },
  {
   "cell_type": "code",
   "execution_count": 9,
   "metadata": {},
   "outputs": [],
   "source": [
    "bot = EcommerceBot(intent_model, entity_model)"
   ]
  },
  {
   "cell_type": "code",
   "execution_count": 10,
   "metadata": {},
   "outputs": [
    {
     "name": "stdout",
     "output_type": "stream",
     "text": [
      "Hello\n"
     ]
    }
   ],
   "source": [
    "if \"B-Brand\".split(\"-\")[1] in {\"Brand\": None}:\n",
    "    print(\"Hello\")"
   ]
  },
  {
   "cell_type": "code",
   "execution_count": 11,
   "metadata": {},
   "outputs": [
    {
     "data": {
      "text/plain": [
       "True"
      ]
     },
     "execution_count": 11,
     "metadata": {},
     "output_type": "execute_result"
    }
   ],
   "source": [
    "\"A\" in {\"A\": None}"
   ]
  },
  {
   "cell_type": "code",
   "execution_count": 12,
   "metadata": {},
   "outputs": [
    {
     "name": "stdout",
     "output_type": "stream",
     "text": [
      "Intent: order_product\n",
      "Entities: {'Location': 'Dharan', 'Product': 'Redmi Note 9', 'Brand': 'Xiaomi', 'Category': 'mobile', 'Quantity': '1', 'Order_Number': 'ORD12345'}\n"
     ]
    },
    {
     "data": {
      "text/plain": [
       "'Tapaiko order confirm vayo Redmi Note 9, total quantity:  1 wata ra delivery location Dharan total Cost Rs. 999.99 hajur ko order number: ORD12345'"
      ]
     },
     "execution_count": 12,
     "metadata": {},
     "output_type": "execute_result"
    }
   ],
   "source": [
    "bot.process_message(\"Xiaomi ko Redmi Note 9 mobile ko price kati ho Dharan ma 1 ta delivery garidnu ani ORD12345 track garidnu\")"
   ]
  },
  {
   "cell_type": "code",
   "execution_count": 13,
   "metadata": {},
   "outputs": [
    {
     "name": "stdout",
     "output_type": "stream",
     "text": [
      "Intent: order_status_inquiry\n",
      "Entities: {'Location': None, 'Product': None, 'Brand': None, 'Category': None, 'Quantity': None, 'Order_Number': None}\n"
     ]
    },
    {
     "data": {
      "text/plain": [
       "'Kripaya malai hajurko order number dinuhos.'"
      ]
     },
     "execution_count": 13,
     "metadata": {},
     "output_type": "execute_result"
    }
   ],
   "source": [
    "bot.process_message(\"mero order ko status bujhna man xa\")"
   ]
  },
  {
   "cell_type": "code",
   "execution_count": 14,
   "metadata": {},
   "outputs": [
    {
     "name": "stdout",
     "output_type": "stream",
     "text": [
      "Intent: order_status_inquiry\n",
      "Entities: {'Location': None, 'Product': None, 'Brand': None, 'Category': None, 'Quantity': None, 'Order_Number': 'ORD12345'}\n"
     ]
    },
    {
     "data": {
      "text/plain": [
       "'Hajur ko order ko Processing hudei xa.'"
      ]
     },
     "execution_count": 14,
     "metadata": {},
     "output_type": "execute_result"
    }
   ],
   "source": [
    "bot.process_message(\"mero order id ORD12345 ho\")"
   ]
  },
  {
   "cell_type": "code",
   "execution_count": 15,
   "metadata": {},
   "outputs": [
    {
     "name": "stdout",
     "output_type": "stream",
     "text": [
      "Intent: order_status_inquiry\n",
      "Entities: {'Location': None, 'Product': None, 'Brand': None, 'Category': None, 'Quantity': None, 'Order_Number': 'ORD11221'}\n"
     ]
    },
    {
     "data": {
      "text/plain": [
       "'Kripaya sahi order number dinuhos.'"
      ]
     },
     "execution_count": 15,
     "metadata": {},
     "output_type": "execute_result"
    }
   ],
   "source": [
    "bot.process_message(\"mero order id ORD11221 ho\")"
   ]
  },
  {
   "cell_type": "code",
   "execution_count": 16,
   "metadata": {},
   "outputs": [
    {
     "name": "stdout",
     "output_type": "stream",
     "text": [
      "Intent: payment_method\n",
      "Entities: {'Location': None, 'Product': None, 'Brand': None, 'Category': None, 'Quantity': None, 'Order_Number': None}\n"
     ]
    },
    {
     "data": {
      "text/plain": [
       "'Hami esewa, khalti, mobile banking sabei payment method accept garxau.'"
      ]
     },
     "execution_count": 16,
     "metadata": {},
     "output_type": "execute_result"
    }
   ],
   "source": [
    "bot.process_message(\"k k baata pay garna milcha\")"
   ]
  },
  {
   "cell_type": "markdown",
   "metadata": {},
   "source": [
    "## Fuzzy Search"
   ]
  },
  {
   "cell_type": "code",
   "execution_count": 17,
   "metadata": {},
   "outputs": [],
   "source": [
    "from fuzzywuzzy import process, fuzz"
   ]
  },
  {
   "cell_type": "code",
   "execution_count": 18,
   "metadata": {},
   "outputs": [
    {
     "data": {
      "text/plain": [
       "80"
      ]
     },
     "execution_count": 18,
     "metadata": {},
     "output_type": "execute_result"
    }
   ],
   "source": [
    "fuzz.ratio(\"yo auta text ho\", \"yo arko text ho\")"
   ]
  },
  {
   "cell_type": "code",
   "execution_count": 19,
   "metadata": {},
   "outputs": [
    {
     "data": {
      "text/plain": [
       "100"
      ]
     },
     "execution_count": 19,
     "metadata": {},
     "output_type": "execute_result"
    }
   ],
   "source": [
    "fuzz.partial_ratio(\"herayo auta test ho\", \"yo auta test ho\")"
   ]
  },
  {
   "cell_type": "code",
   "execution_count": 20,
   "metadata": {},
   "outputs": [
    {
     "data": {
      "text/plain": [
       "{'TV', 'laptop', 'mobile'}"
      ]
     },
     "execution_count": 20,
     "metadata": {},
     "output_type": "execute_result"
    }
   ],
   "source": [
    "categories = set(product[\"category\"] for product in products_db)\n",
    "categories"
   ]
  },
  {
   "cell_type": "code",
   "execution_count": 21,
   "metadata": {},
   "outputs": [
    {
     "data": {
      "text/plain": [
       "('laptop', 100)"
      ]
     },
     "execution_count": 21,
     "metadata": {},
     "output_type": "execute_result"
    }
   ],
   "source": [
    "process.extractOne(\"laptop\", categories)"
   ]
  },
  {
   "cell_type": "code",
   "execution_count": 22,
   "metadata": {},
   "outputs": [],
   "source": [
    "products_db = [\n",
    "            {\"id\": 1, \"name\": \"IPhone 11\", \"category\": \"mobile\", \"brand\": \"Apple\", \"price\": 799.99},\n",
    "            {\"id\": 2, \"name\": \"Galaxy S21\", \"category\": \"mobile\", \"brand\": \"Samsung\", \"price\": 699.99},\n",
    "            {\"id\": 3, \"name\": \"Sony Television\", \"category\": \"TV\", \"brand\": \"Sony\", \"price\": 179.99},\n",
    "            {\"id\": 5, \"name\": \"Macbook Pro\", \"category\": \"laptop\", \"brand\": \"Apple\", \"price\": 1299.99},\n",
    "            {\"id\": 6, \"name\": \"Redmi Note 9 pro\", \"category\": \"mobile\", \"brand\": \"Xiaomi\", \"price\": 999.99},\n",
    "        ]\n",
    "orders_db = [\n",
    "            {\"order_id\": \"ORD12345\", \"status\": \"delivered\", \"delivery_date\": \"2024-01-01\", \"products\": [\"iPhone 13\"]},\n",
    "            {\"order_id\": \"ORD12100\", \"status\": \"in transit\", \"delivery_date\": \"2024-01-10\", \"products\": [\"Ultra Boost\"]},\n",
    "            {\"order_id\": \"ORD00111\", \"status\": \"processing\", \"delivery_date\": None, \"products\": [\"Macbook Pro\"]},\n",
    "        ]"
   ]
  },
  {
   "cell_type": "code",
   "execution_count": 23,
   "metadata": {},
   "outputs": [],
   "source": [
    "def fuzzy_search(search_term: str, search_type: str) -> List[Dict]:\n",
    "        \"\"\"\n",
    "        Perform fuzzy search on products based on category, brand, or name\n",
    "        \"\"\"\n",
    "        matches = []\n",
    "        \n",
    "        if search_type == 'category':\n",
    "            # Get unique categories\n",
    "            categories = set(product['category'] for product in products_db)\n",
    "            matched_category, score = process.extractOne(search_term, categories)\n",
    "            if score > 80:  # Threshold for matching\n",
    "                matches = [p for p in products_db if p['category'] == matched_category]\n",
    "                \n",
    "        elif search_type == 'brand':\n",
    "            # Get unique brands\n",
    "            brands = set(product['brand'] for product in products_db)\n",
    "            matched_brand, score = process.extractOne(search_term, brands)\n",
    "            if score > 80:\n",
    "                matches = [p for p in products_db if p['brand'] == matched_brand]\n",
    "                \n",
    "        else:  # Search by product name\n",
    "            for product in products_db:\n",
    "                score = fuzz.ratio(search_term.lower(), product['name'].lower())\n",
    "                if score > 60:\n",
    "                    matches.append(product)\n",
    "        \n",
    "        return matches"
   ]
  },
  {
   "cell_type": "code",
   "execution_count": 24,
   "metadata": {},
   "outputs": [
    {
     "data": {
      "text/plain": [
       "[{'id': 5,\n",
       "  'name': 'Macbook Pro',\n",
       "  'category': 'laptop',\n",
       "  'brand': 'Apple',\n",
       "  'price': 1299.99}]"
      ]
     },
     "execution_count": 24,
     "metadata": {},
     "output_type": "execute_result"
    }
   ],
   "source": [
    "fuzzy_search(search_term=\"Laptop\", search_type=\"category\")"
   ]
  },
  {
   "cell_type": "code",
   "execution_count": 25,
   "metadata": {},
   "outputs": [],
   "source": [
    "natch_product = fuzzy_search(search_term=\"galaxy\", search_type=\"name\")"
   ]
  },
  {
   "cell_type": "code",
   "execution_count": 26,
   "metadata": {},
   "outputs": [
    {
     "name": "stdout",
     "output_type": "stream",
     "text": [
      "Hami sanga Galaxy S21 price rs. 699.99\n"
     ]
    }
   ],
   "source": [
    "for product in natch_product:\n",
    "    print(f\"Hami sanga {product[\"name\"]} price rs. {product[\"price\"]}\")"
   ]
  },
  {
   "cell_type": "code",
   "execution_count": 27,
   "metadata": {},
   "outputs": [],
   "source": [
    "def format_product_inquiry_message(matches: list[dict]):\n",
    "    message = \"\"\n",
    "    for i, product in enumerate(matches):\n",
    "        if i == 0:\n",
    "            msg = f\"Hami sanga product Rs. {product[\"price\"]} parne {product[\"name\"]} xa\\n\"\n",
    "            message += msg\n",
    "        else:\n",
    "            msg = f\"Arko Hami sanga product {product[\"name\"]} xa ra yaslai Rs. {product[\"price\"]} parcha.\\n\"\n",
    "            message += msg\n",
    "            \n",
    "    return message"
   ]
  },
  {
   "cell_type": "code",
   "execution_count": 28,
   "metadata": {},
   "outputs": [
    {
     "data": {
      "text/plain": [
       "'Hami sanga product Rs. 1299.99 parne Macbook Pro xa\\n'"
      ]
     },
     "execution_count": 28,
     "metadata": {},
     "output_type": "execute_result"
    }
   ],
   "source": [
    "format_product_inquiry_message([{'id': 5, 'name': 'Macbook Pro', 'category': 'laptop', 'brand': 'Apple', 'price': 1299.99}])"
   ]
  },
  {
   "cell_type": "code",
   "execution_count": 29,
   "metadata": {},
   "outputs": [],
   "source": [
    "response = format_product_inquiry_message(fuzzy_search(search_term=\"mobile\", search_type=\"category\"))"
   ]
  },
  {
   "cell_type": "code",
   "execution_count": 30,
   "metadata": {},
   "outputs": [
    {
     "data": {
      "text/plain": [
       "[{'id': 1,\n",
       "  'name': 'IPhone 11',\n",
       "  'category': 'mobile',\n",
       "  'brand': 'Apple',\n",
       "  'price': 799.99},\n",
       " {'id': 2,\n",
       "  'name': 'Galaxy S21',\n",
       "  'category': 'mobile',\n",
       "  'brand': 'Samsung',\n",
       "  'price': 699.99},\n",
       " {'id': 6,\n",
       "  'name': 'Redmi Note 9 pro',\n",
       "  'category': 'mobile',\n",
       "  'brand': 'Xiaomi',\n",
       "  'price': 999.99}]"
      ]
     },
     "execution_count": 30,
     "metadata": {},
     "output_type": "execute_result"
    }
   ],
   "source": [
    "fuzzy_search(\"mobile\", \"category\")"
   ]
  },
  {
   "cell_type": "code",
   "execution_count": 31,
   "metadata": {},
   "outputs": [
    {
     "name": "stdout",
     "output_type": "stream",
     "text": [
      "Hami sanga product Rs. 799.99 parne IPhone 11 xa\n",
      "Arko Hami sanga product Galaxy S21 xa ra yaslai Rs. 699.99 parcha.\n",
      "Arko Hami sanga product Redmi Note 9 pro xa ra yaslai Rs. 999.99 parcha.\n",
      "\n"
     ]
    }
   ],
   "source": [
    "print(response)"
   ]
  },
  {
   "cell_type": "code",
   "execution_count": 32,
   "metadata": {},
   "outputs": [],
   "source": [
    "bot = EcommerceBot(intent_model,entity_model)"
   ]
  },
  {
   "cell_type": "code",
   "execution_count": 33,
   "metadata": {},
   "outputs": [
    {
     "name": "stdout",
     "output_type": "stream",
     "text": [
      "Intent: product_inquiry\n",
      "Entities: {'Location': None, 'Product': None, 'Brand': None, 'Category': None, 'Quantity': None, 'Order_Number': None}\n"
     ]
    },
    {
     "data": {
      "text/plain": [
       "'Kun product ko barema janna chahau huncha name, category wa brand vannu hola'"
      ]
     },
     "execution_count": 33,
     "metadata": {},
     "output_type": "execute_result"
    }
   ],
   "source": [
    "bot.process_message(\"kun kun product available xa\")"
   ]
  },
  {
   "cell_type": "code",
   "execution_count": 34,
   "metadata": {},
   "outputs": [
    {
     "name": "stdout",
     "output_type": "stream",
     "text": [
      "Intent: product_inquiry\n",
      "Entities: {'Location': None, 'Product': None, 'Brand': None, 'Category': 'laptop', 'Quantity': None, 'Order_Number': None}\n",
      "[{'id': 5, 'name': 'Macbook Pro', 'category': 'laptop', 'brand': 'Apple', 'price': 1299.99}]\n"
     ]
    },
    {
     "data": {
      "text/plain": [
       "'Hami sanga product Rs. 1299.99 parne Macbook Pro xa\\n'"
      ]
     },
     "execution_count": 34,
     "metadata": {},
     "output_type": "execute_result"
    }
   ],
   "source": [
    "bot.process_message(\"malai laptop kun kun xa vanidinu\")"
   ]
  },
  {
   "cell_type": "code",
   "execution_count": 35,
   "metadata": {},
   "outputs": [
    {
     "name": "stdout",
     "output_type": "stream",
     "text": [
      "Intent: product_inquiry\n",
      "Entities: {'Location': None, 'Product': None, 'Brand': None, 'Category': 'mobile', 'Quantity': None, 'Order_Number': None}\n",
      "[{'id': 1, 'name': 'IPhone 11', 'category': 'mobile', 'brand': 'Apple', 'price': 799.99}, {'id': 2, 'name': 'Galaxy S21', 'category': 'mobile', 'brand': 'Samsung', 'price': 699.99}, {'id': 6, 'name': 'Redmi Note 9 pro', 'category': 'mobile', 'brand': 'Xiaomi', 'price': 999.99}]\n",
      "Hami sanga product Rs. 799.99 parne IPhone 11 xa\n",
      "Arko Hami sanga product Galaxy S21 xa ra yaslai Rs. 699.99 parcha.\n",
      "Arko Hami sanga product Redmi Note 9 pro xa ra yaslai Rs. 999.99 parcha.\n",
      "\n"
     ]
    }
   ],
   "source": [
    "print(bot.process_message(\"malai mobile kun kun xa jankari dinu\"))"
   ]
  },
  {
   "cell_type": "code",
   "execution_count": 36,
   "metadata": {},
   "outputs": [
    {
     "name": "stdout",
     "output_type": "stream",
     "text": [
      "Intent: product_inquiry\n",
      "Entities: {'Location': None, 'Product': None, 'Brand': 'Samsung', 'Category': None, 'Quantity': 's21', 'Order_Number': None}\n"
     ]
    },
    {
     "data": {
      "text/plain": [
       "'Hami sanga product Rs. 699.99 parne Galaxy S21 xa\\n'"
      ]
     },
     "execution_count": 36,
     "metadata": {},
     "output_type": "execute_result"
    }
   ],
   "source": [
    "bot.process_message(\"Samsung ko galaxy s21 lai kati price ho\")"
   ]
  },
  {
   "cell_type": "code",
   "execution_count": 37,
   "metadata": {},
   "outputs": [
    {
     "name": "stdout",
     "output_type": "stream",
     "text": [
      "Intent: product_inquiry\n",
      "Entities: {'Location': None, 'Product': None, 'Brand': 'Apple', 'Category': None, 'Quantity': None, 'Order_Number': None}\n"
     ]
    },
    {
     "data": {
      "text/plain": [
       "'Hami sanga product Rs. 799.99 parne IPhone 11 xa\\nArko Hami sanga product Macbook Pro xa ra yaslai Rs. 1299.99 parcha.\\n'"
      ]
     },
     "execution_count": 37,
     "metadata": {},
     "output_type": "execute_result"
    }
   ],
   "source": [
    "bot.process_message(\"Apple ko kun product available xa\")"
   ]
  },
  {
   "cell_type": "code",
   "execution_count": 38,
   "metadata": {},
   "outputs": [
    {
     "name": "stdout",
     "output_type": "stream",
     "text": [
      "Intent: product_inquiry\n",
      "Entities: {'Location': None, 'Product': None, 'Brand': None, 'Category': None, 'Quantity': None, 'Order_Number': None}\n"
     ]
    },
    {
     "data": {
      "text/plain": [
       "'Kun product ko barema janna chahau huncha name, category wa brand vannu hola'"
      ]
     },
     "execution_count": 38,
     "metadata": {},
     "output_type": "execute_result"
    }
   ],
   "source": [
    "bot.process_message(\"kun kun product available xa\")"
   ]
  },
  {
   "cell_type": "markdown",
   "metadata": {},
   "source": [
    "## Order New"
   ]
  },
  {
   "cell_type": "code",
   "execution_count": 39,
   "metadata": {},
   "outputs": [],
   "source": [
    "bot = EcommerceBot(intent_model, entity_model)"
   ]
  },
  {
   "cell_type": "code",
   "execution_count": 40,
   "metadata": {},
   "outputs": [
    {
     "data": {
      "text/plain": [
       "['a']"
      ]
     },
     "execution_count": 40,
     "metadata": {},
     "output_type": "execute_result"
    }
   ],
   "source": [
    "a = [\"a\", \"b\"]\n",
    "e = {\"a\": None, \"b\": 10}\n",
    "\n",
    "[entity for entity in a if e[entity] is  None]"
   ]
  },
  {
   "cell_type": "code",
   "execution_count": 41,
   "metadata": {},
   "outputs": [
    {
     "name": "stdout",
     "output_type": "stream",
     "text": [
      "Intent: order_product\n",
      "Entities: {'Location': None, 'Product': None, 'Brand': None, 'Category': None, 'Quantity': None, 'Order_Number': None}\n"
     ]
    },
    {
     "data": {
      "text/plain": [
       "'Kripaya pura details dinuhos: Product, Quantity, Location pani vannuhos.'"
      ]
     },
     "execution_count": 41,
     "metadata": {},
     "output_type": "execute_result"
    }
   ],
   "source": [
    "bot.process_message(\"malai saman order garnu xa\")"
   ]
  },
  {
   "cell_type": "code",
   "execution_count": 42,
   "metadata": {},
   "outputs": [
    {
     "name": "stdout",
     "output_type": "stream",
     "text": [
      "Intent: order_product\n",
      "Entities: {'Location': 'Dharan', 'Product': None, 'Brand': 'Apple', 'Category': 'mobile', 'Quantity': '1', 'Order_Number': None}\n"
     ]
    },
    {
     "data": {
      "text/plain": [
       "'Kripaya pura details dinuhos: Product pani vannuhos.'"
      ]
     },
     "execution_count": 42,
     "metadata": {},
     "output_type": "execute_result"
    }
   ],
   "source": [
    "bot.process_message(\"malai Apple ko mobile 1 ta Dharan ma delivery garne\")"
   ]
  },
  {
   "cell_type": "code",
   "execution_count": 43,
   "metadata": {},
   "outputs": [
    {
     "name": "stdout",
     "output_type": "stream",
     "text": [
      "Intent: order_product\n",
      "Entities: {'Location': 'Dharan', 'Product': 'Apple Iphone 11', 'Brand': None, 'Category': None, 'Quantity': '2', 'Order_Number': None}\n"
     ]
    },
    {
     "data": {
      "text/plain": [
       "'Tapaiko order confirm vayo Apple Iphone 11, total quantity:  2 wata ra delivery location Dharan total Cost Rs. 1599.98 hajur ko order number: ORD12345'"
      ]
     },
     "execution_count": 43,
     "metadata": {},
     "output_type": "execute_result"
    }
   ],
   "source": [
    "bot.process_message(\"malai Apple Iphone 11 Dharan ma 2 ta deliver garne\")"
   ]
  },
  {
   "cell_type": "code",
   "execution_count": 44,
   "metadata": {},
   "outputs": [
    {
     "name": "stdout",
     "output_type": "stream",
     "text": [
      "Intent: order_status_inquiry\n",
      "Entities: {'Location': None, 'Product': None, 'Brand': None, 'Category': None, 'Quantity': None, 'Order_Number': 'ORD12345'}\n"
     ]
    },
    {
     "data": {
      "text/plain": [
       "'Hajur ko order ko Processing hudei xa.'"
      ]
     },
     "execution_count": 44,
     "metadata": {},
     "output_type": "execute_result"
    }
   ],
   "source": [
    "bot.process_message(\"mero order ORD12345 track garidinu\")"
   ]
  },
  {
   "cell_type": "code",
   "execution_count": 45,
   "metadata": {},
   "outputs": [
    {
     "name": "stdout",
     "output_type": "stream",
     "text": [
      "Intent: order_product\n",
      "Entities: {'Location': 'Dharan', 'Product': 'Iphone', 'Brand': 'Delivery', 'Category': None, 'Quantity': '3', 'Order_Number': None}\n"
     ]
    },
    {
     "data": {
      "text/plain": [
       "'Tapaiko order confirm vayo Iphone, total quantity:  3 wata ra delivery location Dharan total Cost Rs. 2399.9700000000003 hajur ko order number: ORD12345'"
      ]
     },
     "execution_count": 45,
     "metadata": {},
     "output_type": "execute_result"
    }
   ],
   "source": [
    "bot.process_message(\"mero order Apple ko Iphone 3 ta Delivery location Dharan\")"
   ]
  },
  {
   "cell_type": "markdown",
   "metadata": {},
   "source": [
    "## Testing the bot response"
   ]
  },
  {
   "cell_type": "code",
   "execution_count": 46,
   "metadata": {},
   "outputs": [],
   "source": [
    "def chat_with_bot(question: str) -> str:\n",
    "    response = bot.process_message(question)\n",
    "    print(response)"
   ]
  },
  {
   "cell_type": "code",
   "execution_count": 47,
   "metadata": {},
   "outputs": [
    {
     "name": "stdout",
     "output_type": "stream",
     "text": [
      "Intent: order_product\n",
      "Entities: {'Location': None, 'Product': None, 'Brand': None, 'Category': None, 'Quantity': None, 'Order_Number': None}\n",
      "Kripaya pura details dinuhos: Product, Quantity, Location pani vannuhos.\n"
     ]
    }
   ],
   "source": [
    "chat_with_bot(\"malai saman order garnu thiyo\")"
   ]
  },
  {
   "cell_type": "code",
   "execution_count": 48,
   "metadata": {},
   "outputs": [
    {
     "name": "stdout",
     "output_type": "stream",
     "text": [
      "Intent: product_inquiry\n",
      "Entities: {'Location': None, 'Product': None, 'Brand': None, 'Category': None, 'Quantity': '9', 'Order_Number': None}\n",
      "Kun product ko barema janna chahau huncha name, category wa brand vannu hola\n"
     ]
    }
   ],
   "source": [
    "chat_with_bot(\"redmi note 9 ko price kati ho\")"
   ]
  },
  {
   "cell_type": "code",
   "execution_count": 52,
   "metadata": {},
   "outputs": [
    {
     "name": "stdout",
     "output_type": "stream",
     "text": [
      "Intent: product_inquiry\n",
      "Entities: {'Location': None, 'Product': None, 'Brand': None, 'Category': 'mobile', 'Quantity': None, 'Order_Number': None}\n",
      "[{'id': 1, 'name': 'IPhone 11', 'category': 'mobile', 'brand': 'Apple', 'price': 799.99}, {'id': 2, 'name': 'Galaxy S21', 'category': 'mobile', 'brand': 'Samsung', 'price': 699.99}, {'id': 6, 'name': 'Redmi Note 9 pro', 'category': 'mobile', 'brand': 'Xiaomi', 'price': 999.99}]\n",
      "Hami sanga product Rs. 799.99 parne IPhone 11 xa\n",
      "Arko Hami sanga product Galaxy S21 xa ra yaslai Rs. 699.99 parcha.\n",
      "Arko Hami sanga product Redmi Note 9 pro xa ra yaslai Rs. 999.99 parcha.\n",
      "\n"
     ]
    }
   ],
   "source": [
    "chat_with_bot(\"kun kun mobile xa jankari dinu\")"
   ]
  },
  {
   "cell_type": "code",
   "execution_count": 51,
   "metadata": {},
   "outputs": [
    {
     "name": "stdout",
     "output_type": "stream",
     "text": [
      "Intent: product_inquiry\n",
      "Entities: {'Location': None, 'Product': None, 'Brand': None, 'Category': 'mobile', 'Quantity': None, 'Order_Number': None}\n",
      "[{'id': 1, 'name': 'IPhone 11', 'category': 'mobile', 'brand': 'Apple', 'price': 799.99}, {'id': 2, 'name': 'Galaxy S21', 'category': 'mobile', 'brand': 'Samsung', 'price': 699.99}, {'id': 6, 'name': 'Redmi Note 9 pro', 'category': 'mobile', 'brand': 'Xiaomi', 'price': 999.99}]\n"
     ]
    },
    {
     "data": {
      "text/plain": [
       "'Hami sanga product Rs. 799.99 parne IPhone 11 xa\\nArko Hami sanga product Galaxy S21 xa ra yaslai Rs. 699.99 parcha.\\nArko Hami sanga product Redmi Note 9 pro xa ra yaslai Rs. 999.99 parcha.\\n'"
      ]
     },
     "execution_count": 51,
     "metadata": {},
     "output_type": "execute_result"
    }
   ],
   "source": [
    "bot.process_message(\"kun kun mobile xa jankari dinu\")"
   ]
  }
 ],
 "metadata": {
  "kernelspec": {
   "display_name": "Python 3",
   "language": "python",
   "name": "python3"
  },
  "language_info": {
   "codemirror_mode": {
    "name": "ipython",
    "version": 3
   },
   "file_extension": ".py",
   "mimetype": "text/x-python",
   "name": "python",
   "nbconvert_exporter": "python",
   "pygments_lexer": "ipython3",
   "version": "3.12.1"
  }
 },
 "nbformat": 4,
 "nbformat_minor": 2
}
