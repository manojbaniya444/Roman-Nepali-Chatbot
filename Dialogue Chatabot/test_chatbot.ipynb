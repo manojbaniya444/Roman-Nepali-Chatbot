{
 "cells": [
  {
   "cell_type": "markdown",
   "metadata": {},
   "source": [
    "## Dialogue based chatbot"
   ]
  },
  {
   "cell_type": "code",
   "execution_count": 1,
   "metadata": {},
   "outputs": [],
   "source": [
    "import numpy as np\n",
    "from typing import Dict, List, Tuple, Optional"
   ]
  },
  {
   "cell_type": "markdown",
   "metadata": {},
   "source": [
    "## Loading the model"
   ]
  },
  {
   "cell_type": "code",
   "execution_count": 2,
   "metadata": {},
   "outputs": [],
   "source": [
    "from intent_classification_model import IntentClassificationModel"
   ]
  },
  {
   "cell_type": "code",
   "execution_count": 3,
   "metadata": {},
   "outputs": [
    {
     "data": {
      "text/plain": [
       "'payment_method'"
      ]
     },
     "execution_count": 3,
     "metadata": {},
     "output_type": "execute_result"
    }
   ],
   "source": [
    "IntentClassificationModel().predict(\"payment method k k available cha\")"
   ]
  },
  {
   "cell_type": "code",
   "execution_count": 4,
   "metadata": {},
   "outputs": [],
   "source": [
    "from entity_recognition import CRFModel"
   ]
  },
  {
   "cell_type": "code",
   "execution_count": 5,
   "metadata": {},
   "outputs": [
    {
     "data": {
      "text/plain": [
       "array(['B-Location', 'O', 'B-Product', 'I-Product', 'I-Product', 'O',\n",
       "       'B-Quantity', 'O', 'O', 'O'], dtype=object)"
      ]
     },
     "execution_count": 5,
     "metadata": {},
     "output_type": "execute_result"
    }
   ],
   "source": [
    "CRFModel().predict(\"Dharan ma Redmi Note 9 pro 1 ta delivery garidinu\")"
   ]
  },
  {
   "cell_type": "code",
   "execution_count": 6,
   "metadata": {},
   "outputs": [],
   "source": [
    "import random\n",
    "\n",
    "class EcommerceBot:\n",
    "    def __init__(self, intent_model, entity_model):\n",
    "        self.intent_model = intent_model\n",
    "        self.entity_model = entity_model\n",
    "        \n",
    "        self.order_db = [\n",
    "            {\n",
    "                \"Id\": \"ORD12345\",\n",
    "                \"status\": \"Processing\"\n",
    "            },\n",
    "            {\n",
    "                \"Id\": \"ORD00000\",\n",
    "                \"status\": \"Shipping\"\n",
    "            }\n",
    "        ]\n",
    "        \n",
    "        self.intent_handlers = {\n",
    "            'payment_method': self._handle_payment_method,\n",
    "            'order_status_inquiry': self._handle_order_status,\n",
    "            'order_product': self._handle_order_product,\n",
    "            'product_inquiry': self._handle_product_inquiry\n",
    "        }\n",
    "        \n",
    "        # keep the context of the last intent and all the entities\n",
    "        self.conversation_context = {}\n",
    "        \n",
    "    def process_message(self, user_message: str) -> str:\n",
    "        intent = self._predict_intent(user_message)\n",
    "        entities = self._extract_entities(user_message)\n",
    "        \n",
    "        print(f\"Intent: {intent}\")\n",
    "        print(f\"Entities: {entities}\")\n",
    "        \n",
    "        # handling the intent\n",
    "        if intent in self.intent_handlers:\n",
    "            response = self.intent_handlers[intent](entities)\n",
    "        else:\n",
    "            response = \"Maaf garnu hola maile hajurko kura bujhna sakina.\"\n",
    "            \n",
    "        return response\n",
    "    \n",
    "    def _predict_intent(self, sentence):\n",
    "        intent = self.intent_model.predict(sentence)\n",
    "        return intent\n",
    "    \n",
    "    def _extract_entities(self, message: str) -> Dict[str, str]:\n",
    "        entities = self.entity_model.predict(message)\n",
    "        return self._format_entities(entities, message.split())\n",
    "    \n",
    "    def _format_entities(self, entities: List, sentence: List) -> Dict[str, str]:\n",
    "        formatted_entities = {\n",
    "            \"Location\": None,\n",
    "            \"Product\": None,\n",
    "            \"Brand\": None,\n",
    "            \"Category\": None,\n",
    "            \"Quantity\": None,\n",
    "            \"Order_Number\": None\n",
    "        }\n",
    "        \n",
    "        for entity, word in zip(entities, sentence):\n",
    "            # if the entity is present\n",
    "            if entity in formatted_entities:\n",
    "                # if it is a single word entity\n",
    "                formatted_entities[entity] = word\n",
    "            # if it is a more length word entity\n",
    "            elif len(entity.split(\"-\")) == 2:\n",
    "                # check if the entity is the beginning or intermediate\n",
    "                longer_entity = entity.split(\"-\")\n",
    "                if longer_entity[0] == \"B\":\n",
    "                    formatted_entities[longer_entity[1]] = word\n",
    "                elif longer_entity[0] == \"I\":\n",
    "                    formatted_entities[longer_entity[1]] += \" \" + word\n",
    "        # print(formatted_entities)  \n",
    "        return formatted_entities\n",
    "    \n",
    "    def _update_context(self, intent: str, entities: Dict[str, str]):\n",
    "        self.conversation_context[\"last_intent\"] = intent\n",
    "        self.conversation_context.update(entities)\n",
    "        \n",
    "    def _handle_payment_method(self, entities: Dict[str, str]) -> str:\n",
    "        response_sample = [\n",
    "            \"Hami esewa, khalti, mobile banking sabei payment method accept garxau.\",\n",
    "            \"tapai esewa, khalti ya kunei mobile banking baata payment garna saknu huncha.\",\n",
    "        ]\n",
    "        return random.sample(response_sample, 1)[0]\n",
    "    \n",
    "    def _handle_order_status(self, entities: Dict[str, str]) -> str:\n",
    "        if entities[\"Order_Number\"] is None:\n",
    "            return \"Kripaya malai hajurko order number dinuhos.\"\n",
    "        for orders in self.order_db:\n",
    "            if orders[\"Id\"] == entities[\"Order_Number\"]:\n",
    "                status = orders[\"status\"]\n",
    "                return f\"Hajur ko order ko {status} hudei xa.\"\n",
    "            \n",
    "        return \"Kripaya sahi order number dinuhos.\"\n",
    "    \n",
    "    def _handle_order_product(self, entities: Dict[str, str]) -> str:\n",
    "        return \"Tapaiko order confirm vayo\"\n",
    "    \n",
    "    def _handle_product_inquiry(self, entities: Dict[str, str]) -> str:\n",
    "        return \"yo product ko price 1000 ho.\""
   ]
  },
  {
   "cell_type": "code",
   "execution_count": 7,
   "metadata": {},
   "outputs": [],
   "source": [
    "intent_model = IntentClassificationModel()\n",
    "entity_model = CRFModel()"
   ]
  },
  {
   "cell_type": "code",
   "execution_count": 8,
   "metadata": {},
   "outputs": [],
   "source": [
    "bot = EcommerceBot(intent_model, entity_model)"
   ]
  },
  {
   "cell_type": "code",
   "execution_count": 9,
   "metadata": {},
   "outputs": [
    {
     "name": "stdout",
     "output_type": "stream",
     "text": [
      "Hello\n"
     ]
    }
   ],
   "source": [
    "if \"B-Brand\".split(\"-\")[1] in {\"Brand\": None}:\n",
    "    print(\"Hello\")"
   ]
  },
  {
   "cell_type": "code",
   "execution_count": 10,
   "metadata": {},
   "outputs": [
    {
     "name": "stdout",
     "output_type": "stream",
     "text": [
      "Intent: order_product\n",
      "Entities: {'Location': 'Dharan', 'Product': 'Redmi Note 9', 'Brand': 'Xiaomi', 'Category': 'mobile', 'Quantity': '1', 'Order_Number': 'ORD12345'}\n"
     ]
    },
    {
     "data": {
      "text/plain": [
       "'Tapaiko order confirm vayo'"
      ]
     },
     "execution_count": 10,
     "metadata": {},
     "output_type": "execute_result"
    }
   ],
   "source": [
    "bot.process_message(\"Xiaomi ko Redmi Note 9 mobile ko price kati ho Dharan ma 1 ta delivery garidnu ani ORD12345 track garidnu\")"
   ]
  },
  {
   "cell_type": "code",
   "execution_count": 11,
   "metadata": {},
   "outputs": [
    {
     "name": "stdout",
     "output_type": "stream",
     "text": [
      "Intent: order_status_inquiry\n",
      "Entities: {'Location': None, 'Product': None, 'Brand': None, 'Category': None, 'Quantity': None, 'Order_Number': None}\n"
     ]
    },
    {
     "data": {
      "text/plain": [
       "'Kripaya malai hajurko order number dinuhos.'"
      ]
     },
     "execution_count": 11,
     "metadata": {},
     "output_type": "execute_result"
    }
   ],
   "source": [
    "bot.process_message(\"mero order ko status bujhna man xa\")"
   ]
  },
  {
   "cell_type": "code",
   "execution_count": 12,
   "metadata": {},
   "outputs": [
    {
     "name": "stdout",
     "output_type": "stream",
     "text": [
      "Intent: order_status_inquiry\n",
      "Entities: {'Location': None, 'Product': None, 'Brand': None, 'Category': None, 'Quantity': None, 'Order_Number': 'ORD12345'}\n"
     ]
    },
    {
     "data": {
      "text/plain": [
       "'Hajur ko order ko Processing hudei xa.'"
      ]
     },
     "execution_count": 12,
     "metadata": {},
     "output_type": "execute_result"
    }
   ],
   "source": [
    "bot.process_message(\"mero order id ORD12345 ho\")"
   ]
  },
  {
   "cell_type": "code",
   "execution_count": 13,
   "metadata": {},
   "outputs": [
    {
     "name": "stdout",
     "output_type": "stream",
     "text": [
      "Intent: order_status_inquiry\n",
      "Entities: {'Location': None, 'Product': None, 'Brand': None, 'Category': None, 'Quantity': None, 'Order_Number': 'ORD11221'}\n"
     ]
    },
    {
     "data": {
      "text/plain": [
       "'Kripaya sahi order number dinuhos.'"
      ]
     },
     "execution_count": 13,
     "metadata": {},
     "output_type": "execute_result"
    }
   ],
   "source": [
    "bot.process_message(\"mero order id ORD11221 ho\")"
   ]
  },
  {
   "cell_type": "code",
   "execution_count": 15,
   "metadata": {},
   "outputs": [
    {
     "name": "stdout",
     "output_type": "stream",
     "text": [
      "Intent: payment_method\n",
      "Entities: {'Location': None, 'Product': None, 'Brand': None, 'Category': None, 'Quantity': None, 'Order_Number': None}\n"
     ]
    },
    {
     "data": {
      "text/plain": [
       "'Hami esewa, khalti, mobile banking sabei payment method accept garxau.'"
      ]
     },
     "execution_count": 15,
     "metadata": {},
     "output_type": "execute_result"
    }
   ],
   "source": [
    "bot.process_message(\"k k baata pay garna milcha\")"
   ]
  }
 ],
 "metadata": {
  "kernelspec": {
   "display_name": "Python 3",
   "language": "python",
   "name": "python3"
  },
  "language_info": {
   "codemirror_mode": {
    "name": "ipython",
    "version": 3
   },
   "file_extension": ".py",
   "mimetype": "text/x-python",
   "name": "python",
   "nbconvert_exporter": "python",
   "pygments_lexer": "ipython3",
   "version": "3.12.1"
  }
 },
 "nbformat": 4,
 "nbformat_minor": 2
}
