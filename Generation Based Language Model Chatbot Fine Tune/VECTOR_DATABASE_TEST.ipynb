{
 "cells": [
  {
   "cell_type": "markdown",
   "metadata": {},
   "source": [
    "## RAG TEST FOR ROMAN NEPALI"
   ]
  },
  {
   "cell_type": "code",
   "execution_count": 1,
   "metadata": {},
   "outputs": [
    {
     "name": "stderr",
     "output_type": "stream",
     "text": [
      "C:\\Users\\acer\\AppData\\Roaming\\Python\\Python312\\site-packages\\sentence_transformers\\cross_encoder\\CrossEncoder.py:11: TqdmWarning: IProgress not found. Please update jupyter and ipywidgets. See https://ipywidgets.readthedocs.io/en/stable/user_install.html\n",
      "  from tqdm.autonotebook import tqdm, trange\n"
     ]
    }
   ],
   "source": [
    "from sentence_transformers import SentenceTransformer"
   ]
  },
  {
   "cell_type": "code",
   "execution_count": 2,
   "metadata": {},
   "outputs": [],
   "source": [
    "embedding_model = r\"D:\\\\Generative AI\\\\local LLM\\\\local embedding\\\\sentence-transformers-local\\\\all-MiniLM-L6-v2\""
   ]
  },
  {
   "cell_type": "code",
   "execution_count": 15,
   "metadata": {},
   "outputs": [],
   "source": [
    "embeddingsLocal = SentenceTransformer(embedding_model)"
   ]
  },
  {
   "cell_type": "code",
   "execution_count": 16,
   "metadata": {},
   "outputs": [
    {
     "data": {
      "text/plain": [
       "SentenceTransformer(\n",
       "  (0): Transformer({'max_seq_length': 256, 'do_lower_case': False}) with Transformer model: BertModel \n",
       "  (1): Pooling({'word_embedding_dimension': 384, 'pooling_mode_cls_token': False, 'pooling_mode_mean_tokens': True, 'pooling_mode_max_tokens': False, 'pooling_mode_mean_sqrt_len_tokens': False, 'pooling_mode_weightedmean_tokens': False, 'pooling_mode_lasttoken': False, 'include_prompt': True})\n",
       "  (2): Normalize()\n",
       ")"
      ]
     },
     "execution_count": 16,
     "metadata": {},
     "output_type": "execute_result"
    }
   ],
   "source": [
    "embeddingsLocal"
   ]
  },
  {
   "cell_type": "code",
   "execution_count": 17,
   "metadata": {},
   "outputs": [
    {
     "data": {
      "text/plain": [
       "0.44182497"
      ]
     },
     "execution_count": 17,
     "metadata": {},
     "output_type": "execute_result"
    }
   ],
   "source": [
    "from numpy import dot\n",
    "from numpy.linalg import norm\n",
    "\n",
    "text1 = \"store ko naam ke ho?\"\n",
    "text2 = \"what is the store name?\"\n",
    "\n",
    "# Encode text1 and text2\n",
    "embedding1 = embeddingsLocal.encode(text1)\n",
    "embedding2 = embeddingsLocal.encode(text2)\n",
    "\n",
    "# Compute cosine similarity\n",
    "\n",
    "cosine_similarity = dot(embedding1, embedding2) / (norm(embedding1) * norm(embedding2))\n",
    "cosine_similarity"
   ]
  },
  {
   "cell_type": "code",
   "execution_count": 18,
   "metadata": {},
   "outputs": [],
   "source": [
    "text_embeddings = embeddingsLocal.encode(text1)"
   ]
  },
  {
   "cell_type": "code",
   "execution_count": 19,
   "metadata": {},
   "outputs": [
    {
     "data": {
      "text/plain": [
       "(384,)"
      ]
     },
     "execution_count": 19,
     "metadata": {},
     "output_type": "execute_result"
    }
   ],
   "source": [
    "text_embeddings.shape"
   ]
  },
  {
   "cell_type": "code",
   "execution_count": 12,
   "metadata": {},
   "outputs": [],
   "source": [
    "pinecone_api = \"pcsk_2MXqC4_6TLQe3ThqXfoQeAtE3K52QE9V8phYmn8xRF2uhTJzW3LU912wNx2nrbEMTBUDRn\""
   ]
  },
  {
   "cell_type": "code",
   "execution_count": 13,
   "metadata": {},
   "outputs": [
    {
     "name": "stdout",
     "output_type": "stream",
     "text": [
      "EmbeddingsList(\n",
      "  model='multilingual-e5-large',\n",
      "  vector_type='dense',\n",
      "  data=[\n",
      "    {'vector_type': dense, 'values': [0.013641357421875, -0.025390625, ..., -0.041229248046875, -0.01568603515625]},\n",
      "    {'vector_type': dense, 'values': [0.03857421875, -0.0311126708984375, ..., -0.0439453125, -0.03155517578125]},\n",
      "    {'vector_type': dense, 'values': [0.0601806640625, -0.0296630859375, ..., -0.05267333984375, -0.00276947021484375]},\n",
      "    {'vector_type': dense, 'values': [-0.0081329345703125, -0.0267181396484375, ..., -0.036468505859375, 0.00519561767578125]}\n",
      "  ],\n",
      "  usage={'total_tokens': 145}\n",
      ")\n"
     ]
    }
   ],
   "source": [
    "# Import the Pinecone library\n",
    "from pinecone.grpc import PineconeGRPC as Pinecone\n",
    "from pinecone import ServerlessSpec\n",
    "import time\n",
    "\n",
    "# Initialize a Pinecone client with your API key\n",
    "pc = Pinecone(api_key=pinecone_api)\n",
    "\n",
    "# Define a sample dataset where each item has a unique ID, text, and category\n",
    "data = [\n",
    "    {\n",
    "        \"id\": \"rec1\",\n",
    "        \"text\": \"Product-name Redmi Note 9 pro Price: Rs 10000 RAM: 8GB Storage: 128GB description: Redmi Note 9 pro with gorilla glass\",\n",
    "        \"category\": \"product\" \n",
    "    },\n",
    "    {\n",
    "        \"id\": \"rec2\",\n",
    "        \"text\": \"Product-name Samsung Galaxy Price: Rs 130000 RAM: 16GB Storage: 128GB description: Brand new Samsung Galaxy with AI\",\n",
    "        \"category\": \"product\" \n",
    "    },\n",
    "    {\n",
    "        \"id\": \"rec3\",\n",
    "        \"text\": \"\"\"Hamro store ko name All Electronics Store ho.\n",
    "        Hamro store Dharan ma xa.\n",
    "        Store ko contact number 9812345678 ho.\n",
    "        Email: allelectronics@gmail.com\n",
    "        \"\"\",\n",
    "        \"category\": \"information\"\n",
    "    },\n",
    "    {\n",
    "        \"id\": \"rec4\",\n",
    "        \"text\": \"Delivery option All Nepal ho. Inside Dharan delivery same day free hunxa ra outside Dharan Rs. 120 laagxa. Delivery huna 2-3 din laagna sakxa.\",\n",
    "        \"category\": \"Delivery\"\n",
    "    }\n",
    "]\n",
    "\n",
    "# Convert the text into numerical vectors that Pinecone can index\n",
    "embeddings = pc.inference.embed(\n",
    "    model=\"multilingual-e5-large\",\n",
    "    inputs=[d[\"text\"] for d in data],\n",
    "    parameters={\n",
    "        \"input_type\": \"passage\", \n",
    "        \"truncate\": \"END\"\n",
    "    }\n",
    ")\n",
    "\n",
    "print(embeddings)\n"
   ]
  },
  {
   "cell_type": "code",
   "execution_count": 14,
   "metadata": {},
   "outputs": [],
   "source": [
    "index = pc.Index(\"majorproject\")"
   ]
  },
  {
   "cell_type": "code",
   "execution_count": 20,
   "metadata": {},
   "outputs": [],
   "source": [
    "records = []\n",
    "for d, e in zip(data, embeddings):\n",
    "    records.append({\n",
    "        \"id\": d[\"id\"],\n",
    "        \"values\": e[\"values\"],\n",
    "        \"metadata\": {\n",
    "            \"source_text\": d[\"text\"],\n",
    "            \"category\": d[\"category\"]\n",
    "        }\n",
    "    })"
   ]
  },
  {
   "cell_type": "markdown",
   "metadata": {},
   "source": [
    "## Upload Index"
   ]
  },
  {
   "cell_type": "code",
   "execution_count": 22,
   "metadata": {},
   "outputs": [
    {
     "data": {
      "text/plain": [
       "upserted_count: 4"
      ]
     },
     "execution_count": 22,
     "metadata": {},
     "output_type": "execute_result"
    }
   ],
   "source": [
    "index.upsert(\n",
    "    vectors=records,\n",
    "    namespace=\"roman-nepali-v1\"\n",
    ")"
   ]
  },
  {
   "cell_type": "code",
   "execution_count": 25,
   "metadata": {},
   "outputs": [
    {
     "name": "stdout",
     "output_type": "stream",
     "text": [
      "{'dimension': 1024,\n",
      " 'index_fullness': 0.0,\n",
      " 'namespaces': {'roman-nepali-v1': {'vector_count': 4}},\n",
      " 'total_vector_count': 4}\n"
     ]
    }
   ],
   "source": [
    "print(index.describe_index_stats())"
   ]
  },
  {
   "cell_type": "markdown",
   "metadata": {},
   "source": [
    "## Search Index"
   ]
  },
  {
   "cell_type": "code",
   "execution_count": 26,
   "metadata": {},
   "outputs": [],
   "source": [
    "query = \"Store ko name ke ho?\""
   ]
  },
  {
   "cell_type": "code",
   "execution_count": 27,
   "metadata": {},
   "outputs": [],
   "source": [
    "query_embedding = pc.inference.embed(\n",
    "    model=\"multilingual-e5-large\",\n",
    "    inputs=[query],\n",
    "    parameters={\n",
    "        \"input_type\": \"query\"\n",
    "    }\n",
    ")"
   ]
  },
  {
   "cell_type": "code",
   "execution_count": 28,
   "metadata": {},
   "outputs": [],
   "source": [
    "results = index.query(\n",
    "    namespace=\"roman-nepali-v1\",\n",
    "    vector=query_embedding[0].values,\n",
    "    top_k=1,\n",
    "    include_values=False,\n",
    "    include_metadata=True\n",
    ")"
   ]
  },
  {
   "cell_type": "code",
   "execution_count": 29,
   "metadata": {},
   "outputs": [
    {
     "name": "stdout",
     "output_type": "stream",
     "text": [
      "{'matches': [{'id': 'rec3',\n",
      "              'metadata': {'category': 'information',\n",
      "                           'source_text': 'Hamro store ko name All Electronics '\n",
      "                                          'Store ho.\\n'\n",
      "                                          '        Hamro store Dharan ma xa.\\n'\n",
      "                                          '        Store ko contact number '\n",
      "                                          '9812345678 ho.\\n'\n",
      "                                          '        Email: '\n",
      "                                          'allelectronics@gmail.com\\n'\n",
      "                                          '        '},\n",
      "              'score': 0.8375271,\n",
      "              'sparse_values': {'indices': [], 'values': []},\n",
      "              'values': []}],\n",
      " 'namespace': 'roman-nepali-v1',\n",
      " 'usage': {'read_units': 6}}\n"
     ]
    }
   ],
   "source": [
    "print(results)"
   ]
  },
  {
   "cell_type": "code",
   "execution_count": 36,
   "metadata": {},
   "outputs": [
    {
     "name": "stdout",
     "output_type": "stream",
     "text": [
      "Hamro store ko name All Electronics Store ho.\n",
      "        Hamro store Dharan ma xa.\n",
      "        Store ko contact number 9812345678 ho.\n",
      "        Email: allelectronics@gmail.com\n",
      "        \n"
     ]
    }
   ],
   "source": [
    "print(results[\"matches\"][0][\"metadata\"][\"source_text\"])"
   ]
  },
  {
   "cell_type": "code",
   "execution_count": 37,
   "metadata": {},
   "outputs": [],
   "source": [
    "def retrieve_document(query: str):\n",
    "    query_embedding = pc.inference.embed(\n",
    "    model=\"multilingual-e5-large\",\n",
    "    inputs=[query],\n",
    "    parameters={\n",
    "        \"input_type\": \"query\"\n",
    "    }\n",
    "    )\n",
    "    results = index.query(\n",
    "    namespace=\"roman-nepali-v1\",\n",
    "    vector=query_embedding[0].values,\n",
    "    top_k=1,\n",
    "    include_values=False,\n",
    "    include_metadata=True\n",
    "    )\n",
    "    print(results[\"matches\"][0][\"metadata\"][\"source_text\"])"
   ]
  },
  {
   "cell_type": "code",
   "execution_count": 38,
   "metadata": {},
   "outputs": [
    {
     "name": "stdout",
     "output_type": "stream",
     "text": [
      "Hamro store ko name All Electronics Store ho.\n",
      "        Hamro store Dharan ma xa.\n",
      "        Store ko contact number 9812345678 ho.\n",
      "        Email: allelectronics@gmail.com\n",
      "        \n"
     ]
    }
   ],
   "source": [
    "retrieve_document(\"Store ko location kaha xa?\")"
   ]
  },
  {
   "cell_type": "code",
   "execution_count": 39,
   "metadata": {},
   "outputs": [
    {
     "name": "stdout",
     "output_type": "stream",
     "text": [
      "Hamro store ko name All Electronics Store ho.\n",
      "        Hamro store Dharan ma xa.\n",
      "        Store ko contact number 9812345678 ho.\n",
      "        Email: allelectronics@gmail.com\n",
      "        \n"
     ]
    }
   ],
   "source": [
    "retrieve_document(\"store ma kasari samparka garne\")"
   ]
  },
  {
   "cell_type": "code",
   "execution_count": 40,
   "metadata": {},
   "outputs": [
    {
     "name": "stdout",
     "output_type": "stream",
     "text": [
      "Product-name Redmi Note 9 pro Price: Rs 10000 RAM: 8GB Storage: 128GB description: Redmi Note 9 pro with gorilla glass\n"
     ]
    }
   ],
   "source": [
    "retrieve_document(\"Redmi mobile ko barema jankari pam na\")"
   ]
  },
  {
   "cell_type": "code",
   "execution_count": 41,
   "metadata": {},
   "outputs": [
    {
     "name": "stdout",
     "output_type": "stream",
     "text": [
      "Product-name Samsung Galaxy Price: Rs 130000 RAM: 16GB Storage: 128GB description: Brand new Samsung Galaxy with AI\n"
     ]
    }
   ],
   "source": [
    "retrieve_document(\"Samsung mobile ko barema jankari dinu\")"
   ]
  },
  {
   "cell_type": "code",
   "execution_count": 42,
   "metadata": {},
   "outputs": [
    {
     "name": "stdout",
     "output_type": "stream",
     "text": [
      "Delivery option All Nepal ho. Inside Dharan delivery same day free hunxa ra outside Dharan Rs. 120 laagxa. Delivery huna 2-3 din laagna sakxa.\n"
     ]
    }
   ],
   "source": [
    "retrieve_document(\"delivery option xa ki xaina?\")"
   ]
  }
 ],
 "metadata": {
  "kernelspec": {
   "display_name": "Python 3",
   "language": "python",
   "name": "python3"
  },
  "language_info": {
   "codemirror_mode": {
    "name": "ipython",
    "version": 3
   },
   "file_extension": ".py",
   "mimetype": "text/x-python",
   "name": "python",
   "nbconvert_exporter": "python",
   "pygments_lexer": "ipython3",
   "version": "3.12.1"
  }
 },
 "nbformat": 4,
 "nbformat_minor": 2
}
