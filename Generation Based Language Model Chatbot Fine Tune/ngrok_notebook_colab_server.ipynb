{
 "cells": [
  {
   "cell_type": "code",
   "execution_count": 1,
   "metadata": {
    "executionInfo": {
     "elapsed": 11625,
     "status": "ok",
     "timestamp": 1737035249044,
     "user": {
      "displayName": "Manoj Baniya",
      "userId": "07800477237160464018"
     },
     "user_tz": -345
    },
    "id": "ecWvVcT4WqYr"
   },
   "outputs": [],
   "source": [
    "from peft import PeftModel, PeftConfig"
   ]
  },
  {
   "cell_type": "code",
   "execution_count": null,
   "metadata": {
    "colab": {
     "base_uri": "https://localhost:8080/"
    },
    "executionInfo": {
     "elapsed": 3833,
     "status": "ok",
     "timestamp": 1737035252875,
     "user": {
      "displayName": "Manoj Baniya",
      "userId": "07800477237160464018"
     },
     "user_tz": -345
    },
    "id": "uG_4Qk08WrQ5",
    "outputId": "8b881d34-1059-4a3c-b0c4-ebc67ecc0cbb"
   },
   "outputs": [],
   "source": [
    "!pip install bitsandbytes"
   ]
  },
  {
   "cell_type": "code",
   "execution_count": 3,
   "metadata": {
    "executionInfo": {
     "elapsed": 4,
     "status": "ok",
     "timestamp": 1737035252876,
     "user": {
      "displayName": "Manoj Baniya",
      "userId": "07800477237160464018"
     },
     "user_tz": -345
    },
    "id": "hYzEAEKrWx1d"
   },
   "outputs": [],
   "source": [
    "checkpoint_model = \"manojbaniya/best_01\""
   ]
  },
  {
   "cell_type": "code",
   "execution_count": 8,
   "metadata": {
    "colab": {
     "base_uri": "https://localhost:8080/",
     "height": 333,
     "referenced_widgets": [
      "1898f3f9953f4b01b0b7fcd6a17509d5",
      "21d059e434a24facbc9646f9484e08cd",
      "64ae876e2e4e402c8f1488fdcc81da90",
      "d875ca905e6840149cddaf661a2db6de",
      "55ef0d97fef04af3adf468a99a53f335",
      "12846c6f5b10472a8d739ed0bbf957dd",
      "9b57a79904c74fd495bbe42acd5d5158",
      "1107b0c53864446487980a5d5e52325b",
      "f36f67e12c8742db8ef6803db93a1701",
      "c3dc55bc010e450a9bf5daa895cb742a",
      "2024fcdd8120475393083775959375a2",
      "650960d13d404eaab7646aba72ad4761",
      "7435a6ba23e44fbfb78224e1167f5168",
      "7d003f6aaab7460092bfac7d321f7b73",
      "054c1e847bf543f6820a28133a5b8043",
      "a6a247fccdb5434ea7f604519a695b26",
      "54fd49fd72f8407b9f19b9a65295d7ff",
      "aaa450e3858949b9965ddc88b759e4f6",
      "0e73decf696f455fb45652b579551df1",
      "f54fb36e843a4f10b93dae0a93229221",
      "6f81a4904e9e4c9eb47181526088955c",
      "bf70759bd1184055a9a22fc01ac5a79a",
      "7bdc1d8d704b4efd9a8d9869f209fa1c",
      "6f449b3d66734c73917ff167b2e1b335",
      "ef583885f1af47babc4c7d3a924bcedc",
      "1e06034d1ab14f64860c50c69c74e701",
      "384c33324601410988b932fe341ca9c7",
      "4560f2eb2b4a44d98002dd275cefb5d8",
      "09f57ae48e4a4fdfb727b8ffdd1e7dec",
      "bf05cfaef362438da474ff288f02ca9c",
      "8c301d51ec2d4dcab0575415ce900c33",
      "d8af9a10ec6146f6b89ff753e38cb2bf",
      "56d993de4149409e997ab357f252bd98",
      "aeddc6641d2548499b1c342c8369b0ca",
      "0c2aaa39da894e2399134268c02ea28c",
      "2733afce15a1442fb88971f0b6bee82b",
      "dc3d71496e6a4b40bd487fbec5b41ec7",
      "affda2607176452cbd9c9e74a7d7ff5a",
      "d698a1ce0cb849e096a1e50ec07cd2f7",
      "53c792379cd6441a822040907f24711c",
      "54fb9231a25d47d9895954c4b8a9adde",
      "a8477c88a3ec406a8894b9741ed0e0d5",
      "818da3c75b8240f79aec2a11286ac036",
      "56580424724c45bc994e00136508d0f0",
      "1f162385c8f145a3b9e9d94d23df90e6",
      "9c8d7cfadf114db3b391c2beba4c9000",
      "61f040d051064eeb9207556510e945ad",
      "1d24cac21f1b4cb487f1a5f768921ef7",
      "75475beb5cb44f4985a7191a30da27a6",
      "2dc3e13f0eb6433586b52e5e1fe824b2",
      "c52957332c634c8296b4ec2f1d9fac72",
      "8c6ae556b4ce40dfa45d7dc7118705b4",
      "ca867798d54b4852b8fdc3a4f20215d7",
      "6438638783624587bfc46ec61b1f6e03",
      "6a74268ee0224b2284593679fa376a7c",
      "69616922870f4184a83555d267518f08",
      "92760f19c5904ffd9e1880f9357ff2a2",
      "ba1084df0e3a4866bc1086eae24b2c85",
      "7872f0f18bfa433cb9dadf1911b8dcbc",
      "4eec3fc4189f472eadfa4e487f5612d4",
      "dd62c2388c7546809c297e24e2074b0b",
      "20180032fb3e45b6a4ca677dc4dadcf7",
      "4b63a1ad4e074d67889dbbb7df165439",
      "1b36f5f2e6ca4406a4346b00309fc19c",
      "89fc7a256dae4915a6d70a4f4dbd5f61",
      "d6f913402cc94853abfff11ab521e3c0",
      "2a6b0b7671f04acb81380b1c4f5a2d74",
      "cdf26809f29e4332aa6c24f7350d8245",
      "9156c4f2bd574da1b309dd73d1027701",
      "b039fb4cf60a489eb4a7e8b0d1b0cd93",
      "4bbc787211b742b1aa0c0d07fe17b953",
      "bcb14b10eb4842f182bd173d3798dbdf",
      "4b6e1b51a7484811be83e3b6e606114a",
      "2e8ddc749e0e47c9814c7519d92b0dff",
      "3e2b93f9cebd4818a5d2bd9a097f90f2",
      "c1d2d1b6d44a4cad885e918b0f14433c",
      "64b5baaba5e84e8098b4fd70f741565c"
     ]
    },
    "executionInfo": {
     "elapsed": 63151,
     "status": "ok",
     "timestamp": 1737035440357,
     "user": {
      "displayName": "Manoj Baniya",
      "userId": "07800477237160464018"
     },
     "user_tz": -345
    },
    "id": "4tDyyY_gW9DD",
    "outputId": "805e853b-bad5-4f76-855e-f6240002a4bb"
   },
   "outputs": [
    {
     "data": {
      "application/vnd.jupyter.widget-view+json": {
       "model_id": "1898f3f9953f4b01b0b7fcd6a17509d5",
       "version_major": 2,
       "version_minor": 0
      },
      "text/plain": [
       "tokenizer_config.json:   0%|          | 0.00/46.4k [00:00<?, ?B/s]"
      ]
     },
     "metadata": {},
     "output_type": "display_data"
    },
    {
     "data": {
      "application/vnd.jupyter.widget-view+json": {
       "model_id": "650960d13d404eaab7646aba72ad4761",
       "version_major": 2,
       "version_minor": 0
      },
      "text/plain": [
       "tokenizer.model:   0%|          | 0.00/4.24M [00:00<?, ?B/s]"
      ]
     },
     "metadata": {},
     "output_type": "display_data"
    },
    {
     "data": {
      "application/vnd.jupyter.widget-view+json": {
       "model_id": "7bdc1d8d704b4efd9a8d9869f209fa1c",
       "version_major": 2,
       "version_minor": 0
      },
      "text/plain": [
       "tokenizer.json:   0%|          | 0.00/34.4M [00:00<?, ?B/s]"
      ]
     },
     "metadata": {},
     "output_type": "display_data"
    },
    {
     "data": {
      "application/vnd.jupyter.widget-view+json": {
       "model_id": "aeddc6641d2548499b1c342c8369b0ca",
       "version_major": 2,
       "version_minor": 0
      },
      "text/plain": [
       "special_tokens_map.json:   0%|          | 0.00/636 [00:00<?, ?B/s]"
      ]
     },
     "metadata": {},
     "output_type": "display_data"
    },
    {
     "data": {
      "application/vnd.jupyter.widget-view+json": {
       "model_id": "1f162385c8f145a3b9e9d94d23df90e6",
       "version_major": 2,
       "version_minor": 0
      },
      "text/plain": [
       "config.json:   0%|          | 0.00/1.37k [00:00<?, ?B/s]"
      ]
     },
     "metadata": {},
     "output_type": "display_data"
    },
    {
     "name": "stderr",
     "output_type": "stream",
     "text": [
      "The `load_in_4bit` and `load_in_8bit` arguments are deprecated and will be removed in the future versions. Please, pass a `BitsAndBytesConfig` object in `quantization_config` argument instead.\n",
      "Unused kwargs: ['_load_in_4bit', '_load_in_8bit', 'quant_method']. These kwargs are not used in <class 'transformers.utils.quantization_config.BitsAndBytesConfig'>.\n",
      "/usr/local/lib/python3.11/dist-packages/transformers/quantizers/auto.py:186: UserWarning: You passed `quantization_config` or equivalent parameters to `from_pretrained` but the model you're loading already has a `quantization_config` attribute. The `quantization_config` from the model will be used.\n",
      "  warnings.warn(warning_msg)\n"
     ]
    },
    {
     "data": {
      "application/vnd.jupyter.widget-view+json": {
       "model_id": "69616922870f4184a83555d267518f08",
       "version_major": 2,
       "version_minor": 0
      },
      "text/plain": [
       "model.safetensors:   0%|          | 0.00/2.22G [00:00<?, ?B/s]"
      ]
     },
     "metadata": {},
     "output_type": "display_data"
    },
    {
     "data": {
      "application/vnd.jupyter.widget-view+json": {
       "model_id": "2a6b0b7671f04acb81380b1c4f5a2d74",
       "version_major": 2,
       "version_minor": 0
      },
      "text/plain": [
       "generation_config.json:   0%|          | 0.00/190 [00:00<?, ?B/s]"
      ]
     },
     "metadata": {},
     "output_type": "display_data"
    }
   ],
   "source": [
    "from transformers import AutoTokenizer, AutoModelForCausalLM\n",
    "\n",
    "tokenizer = AutoTokenizer.from_pretrained(checkpoint_model, cache_dir=\"./model\")\n",
    "model = AutoModelForCausalLM.from_pretrained(checkpoint_model, load_in_8bit=True, device_map='auto', cache_dir=\"./model\")"
   ]
  },
  {
   "cell_type": "code",
   "execution_count": 5,
   "metadata": {
    "executionInfo": {
     "elapsed": 4,
     "status": "ok",
     "timestamp": 1737035322472,
     "user": {
      "displayName": "Manoj Baniya",
      "userId": "07800477237160464018"
     },
     "user_tz": -345
    },
    "id": "9n76YxgAXMHJ"
   },
   "outputs": [],
   "source": [
    "prompt = \"\"\"\n",
    "Below is an instruction that describes a task paired with an input that provides further context. Write a response that appriately complete the request.\n",
    "\n",
    "### instruction:\n",
    "{instruction}\n",
    "\n",
    "### question:\n",
    "{question}\n",
    "\n",
    "### input:\n",
    "{context}\n",
    "\n",
    "### response:\n",
    "{response}\n",
    "\"\"\""
   ]
  },
  {
   "cell_type": "code",
   "execution_count": 13,
   "metadata": {
    "executionInfo": {
     "elapsed": 476,
     "status": "ok",
     "timestamp": 1737035534441,
     "user": {
      "displayName": "Manoj Baniya",
      "userId": "07800477237160464018"
     },
     "user_tz": -345
    },
    "id": "FmusSzUYXXlt"
   },
   "outputs": [],
   "source": [
    "input = prompt.format(\n",
    "    instruction=\"talako user ko question lai context herera answer vana\",\n",
    "    question=\"store ko location kaha ho\",\n",
    "    context=\"Hamro store name all electronics store ho ra hamro store Dharna ma xa hami esewa khalti baata payment accept garxau\",\n",
    "    response=\"\"\n",
    ")"
   ]
  },
  {
   "cell_type": "code",
   "execution_count": 9,
   "metadata": {
    "colab": {
     "base_uri": "https://localhost:8080/"
    },
    "executionInfo": {
     "elapsed": 2,
     "status": "ok",
     "timestamp": 1737035440357,
     "user": {
      "displayName": "Manoj Baniya",
      "userId": "07800477237160464018"
     },
     "user_tz": -345
    },
    "id": "mAtP0gSGYQaL",
    "outputId": "8f611b6a-e356-45dd-a84f-7bd0458aeb39"
   },
   "outputs": [
    {
     "data": {
      "text/plain": [
       "tensor([[     2,    108,  33501,    603,    671,  14239,    674,  19306,    476,\n",
       "           6911,  44600,    675,    671,   3772,    674,   6572,   4024,   4807,\n",
       "         235265,  15615,    476,   3590,    674, 207546,   2823,   3407,    573,\n",
       "           3853, 235265,    109,   6176,  14239, 235292,    108,   3559,  12841,\n",
       "           2425,   5778,   2872,  50704,   4807,   1070,   1932,   3448, 212193,\n",
       "            109,   6176,   2872, 235292,    108,   6709,   5778,   5201,   5675,\n",
       "            527,   1965,    109,   6176,   3772, 235292,    108,  20949,    514,\n",
       "           4659,   1503,    832,  36147,   4659,   1965,   1051,  12578,    514,\n",
       "           4659,  91995,    556,    718,  50521,    109,   6176,   3590, 235292,\n",
       "            109]], device='cuda:0')"
      ]
     },
     "execution_count": 9,
     "metadata": {},
     "output_type": "execute_result"
    }
   ],
   "source": [
    "inputs = tokenizer(input, return_tensors=\"pt\").to(\"cuda\")\n",
    "inputs[\"input_ids\"]"
   ]
  },
  {
   "cell_type": "code",
   "execution_count": 10,
   "metadata": {
    "colab": {
     "base_uri": "https://localhost:8080/"
    },
    "executionInfo": {
     "elapsed": 6219,
     "status": "ok",
     "timestamp": 1737035476885,
     "user": {
      "displayName": "Manoj Baniya",
      "userId": "07800477237160464018"
     },
     "user_tz": -345
    },
    "id": "V4ms8281Yc7R",
    "outputId": "c24cd06b-e91a-4b88-df49-1d0af35eb2fa"
   },
   "outputs": [
    {
     "name": "stderr",
     "output_type": "stream",
     "text": [
      "The 'batch_size' attribute of HybridCache is deprecated and will be removed in v4.49. Use the more precisely named 'self.max_batch_size' attribute instead.\n"
     ]
    }
   ],
   "source": [
    "outputs = model.generate(**inputs, max_new_tokens=512)"
   ]
  },
  {
   "cell_type": "code",
   "execution_count": 11,
   "metadata": {
    "colab": {
     "base_uri": "https://localhost:8080/"
    },
    "executionInfo": {
     "elapsed": 433,
     "status": "ok",
     "timestamp": 1737035485394,
     "user": {
      "displayName": "Manoj Baniya",
      "userId": "07800477237160464018"
     },
     "user_tz": -345
    },
    "id": "NQycWo3DYgjZ",
    "outputId": "0a0f3af3-d1d1-43d4-d535-9f0ef48f56df"
   },
   "outputs": [
    {
     "name": "stdout",
     "output_type": "stream",
     "text": [
      "\n",
      "Below is an instruction that describes a task paired with an input that provides further context. Write a response that appriately complete the request.\n",
      "\n",
      "### instruction:\n",
      "talako user ko question lai context herera answer vana\n",
      "\n",
      "### question:\n",
      "store ko location kaha ho\n",
      "\n",
      "### input:\n",
      "Hamro store name all electronics store ho ra hamro store Dharna ma xa\n",
      "\n",
      "### response:\n",
      "\n",
      "Hamro store Dharna ma ho ra hamro location Dharna ma xa.\n",
      "\n"
     ]
    }
   ],
   "source": [
    "print(tokenizer.decode(outputs[0], skip_special_tokens=True))"
   ]
  },
  {
   "cell_type": "code",
   "execution_count": 27,
   "metadata": {
    "executionInfo": {
     "elapsed": 552,
     "status": "ok",
     "timestamp": 1737035884128,
     "user": {
      "displayName": "Manoj Baniya",
      "userId": "07800477237160464018"
     },
     "user_tz": -345
    },
    "id": "2_dFckPjYlaM"
   },
   "outputs": [],
   "source": [
    "def generate_answer(question: str) -> str:\n",
    "    input = prompt.format(instruction=\"user le gareko question lai answer deu\",\n",
    "    question=\"store ko location kaha ho\",\n",
    "    context=\"Hamro store name all electronics store ho ra hamro store Dharna ma xa hami esewa khalti baata payment accept garxau\",\n",
    "    response=\"\")\n",
    "    inputs = tokenizer(input, return_tensors=\"pt\").to(\"cuda\")\n",
    "    outputs = model.generate(**inputs, max_new_tokens=512)\n",
    "    return tokenizer.decode(outputs[0], skip_special_tokens=True)"
   ]
  },
  {
   "cell_type": "code",
   "execution_count": 28,
   "metadata": {
    "colab": {
     "base_uri": "https://localhost:8080/",
     "height": 108
    },
    "executionInfo": {
     "elapsed": 1727,
     "status": "ok",
     "timestamp": 1737035888967,
     "user": {
      "displayName": "Manoj Baniya",
      "userId": "07800477237160464018"
     },
     "user_tz": -345
    },
    "id": "Mr4IhJ01Yw-N",
    "outputId": "f5ea5d0f-80ac-4d14-fb37-29b66bdc50a6"
   },
   "outputs": [
    {
     "data": {
      "application/vnd.google.colaboratory.intrinsic+json": {
       "type": "string"
      },
      "text/plain": [
       "'\\nBelow is an instruction that describes a task paired with an input that provides further context. Write a response that appriately complete the request.\\n\\n### instruction:\\nuser le gareko question lai answer deu\\n\\n### question:\\nstore ko location kaha ho\\n\\n### input:\\nHamro store name all electronics store ho ra hamro store Dharna ma xa hami esewa khalti baata payment accept garxau\\n\\n### response:\\n\\nStore Dharna ma ho.\\n'"
      ]
     },
     "execution_count": 28,
     "metadata": {},
     "output_type": "execute_result"
    }
   ],
   "source": [
    "generate_answer(\"payment method ke ke ho\")"
   ]
  },
  {
   "cell_type": "code",
   "execution_count": 30,
   "metadata": {
    "executionInfo": {
     "elapsed": 469,
     "status": "ok",
     "timestamp": 1737035907998,
     "user": {
      "displayName": "Manoj Baniya",
      "userId": "07800477237160464018"
     },
     "user_tz": -345
    },
    "id": "ix0QW1I4ZKWs"
   },
   "outputs": [],
   "source": [
    "def get_inputs(query, prompt=prompt):\n",
    "  instruction = \"User le gareko question lai answer deu\"\n",
    "  question = query\n",
    "  context = \"\"\n",
    "  response = \"\"\n",
    "  inputs = prompt.format(instruction=instruction, question=question, context=context, response=response)\n",
    "  inputs = tokenizer(inputs, return_tensors=\"pt\").to(\"cuda\")\n",
    "  return inputs"
   ]
  },
  {
   "cell_type": "code",
   "execution_count": 31,
   "metadata": {
    "executionInfo": {
     "elapsed": 467,
     "status": "ok",
     "timestamp": 1737035910332,
     "user": {
      "displayName": "Manoj Baniya",
      "userId": "07800477237160464018"
     },
     "user_tz": -345
    },
    "id": "M6XLYAJpZcP-"
   },
   "outputs": [],
   "source": [
    "import torch"
   ]
  },
  {
   "cell_type": "code",
   "execution_count": 46,
   "metadata": {
    "executionInfo": {
     "elapsed": 533,
     "status": "ok",
     "timestamp": 1737036246830,
     "user": {
      "displayName": "Manoj Baniya",
      "userId": "07800477237160464018"
     },
     "user_tz": -345
    },
    "id": "o1u1LLWiZYuM"
   },
   "outputs": [],
   "source": [
    "def generate_tokens(query, max_new_tokens=100):\n",
    "    inputs = get_inputs(query)\n",
    "    is_done = False\n",
    "    tokens = []\n",
    "    text = []\n",
    "    while not is_done:\n",
    "        with torch.no_grad():\n",
    "            outputs = model(inputs[\"input_ids\"])\n",
    "            logits = outputs.logits[:, -1, :]\n",
    "            preds = logits.softmax(dim=1)\n",
    "            label = preds.argmax(dim=-1)\n",
    "            print(tokenizer.decode(label))\n",
    "            text.append(tokenizer.decode(label))\n",
    "            # Convert label to a Python integer before appending\n",
    "            tokens.append(label.item())\n",
    "            inputs[\"input_ids\"] = torch.cat([inputs[\"input_ids\"], label.unsqueeze(-1)], dim=-1)\n",
    "            if label == tokenizer.eos_token_id or len(tokens) >= max_new_tokens:\n",
    "                is_done = True\n",
    "    return tokenizer.decode(tokens)"
   ]
  },
  {
   "cell_type": "code",
   "execution_count": 37,
   "metadata": {
    "colab": {
     "base_uri": "https://localhost:8080/",
     "height": 216
    },
    "executionInfo": {
     "elapsed": 2945,
     "status": "ok",
     "timestamp": 1737036060136,
     "user": {
      "displayName": "Manoj Baniya",
      "userId": "07800477237160464018"
     },
     "user_tz": -345
    },
    "id": "uy0TCR9FZsHu",
    "outputId": "a0abb698-6aab-497c-d762-4a8eff402f57"
   },
   "outputs": [
    {
     "name": "stdout",
     "output_type": "stream",
     "text": [
      "Nepal\n",
      " ko\n",
      " national\n",
      " language\n",
      " Nepali\n",
      " ho\n",
      ".\n",
      "\n",
      "\n",
      "<eos>\n"
     ]
    },
    {
     "data": {
      "application/vnd.google.colaboratory.intrinsic+json": {
       "type": "string"
      },
      "text/plain": [
       "'Nepal ko national language Nepali ho.\\n<eos>'"
      ]
     },
     "execution_count": 37,
     "metadata": {},
     "output_type": "execute_result"
    }
   ],
   "source": [
    "generate_tokens(\"Nepal ko national language lai lai vaninxa?\")"
   ]
  },
  {
   "cell_type": "code",
   "execution_count": 47,
   "metadata": {
    "colab": {
     "base_uri": "https://localhost:8080/",
     "height": 631
    },
    "executionInfo": {
     "elapsed": 10200,
     "status": "ok",
     "timestamp": 1737036260737,
     "user": {
      "displayName": "Manoj Baniya",
      "userId": "07800477237160464018"
     },
     "user_tz": -345
    },
    "id": "tfrPO-HpabPc",
    "outputId": "7b91724b-b7ab-41e7-a400-285f83b4e5ab"
   },
   "outputs": [
    {
     "name": "stdout",
     "output_type": "stream",
     "text": [
      "Good\n",
      " habits\n",
      " develop\n",
      " gar\n",
      "na\n",
      " daily\n",
      " routine\n",
      " ma\n",
      " focus\n",
      " gar\n",
      "na\n",
      ",\n",
      " positive\n",
      " thinking\n",
      " ra\n",
      " positive\n",
      " vibes\n",
      " har\n",
      "u\n",
      ",\n",
      " ra\n",
      " daily\n",
      " goals\n",
      " set\n",
      " gar\n",
      "na\n",
      " par\n",
      "cha\n",
      ".\n",
      "\n",
      "\n",
      "<eos>\n"
     ]
    },
    {
     "data": {
      "application/vnd.google.colaboratory.intrinsic+json": {
       "type": "string"
      },
      "text/plain": [
       "'Good habits develop garna daily routine ma focus garna, positive thinking ra positive vibes haru, ra daily goals set garna parcha.\\n<eos>'"
      ]
     },
     "execution_count": 47,
     "metadata": {},
     "output_type": "execute_result"
    }
   ],
   "source": [
    "generate_tokens(\"kasari good habit develop garne\")"
   ]
  },
  {
   "cell_type": "code",
   "execution_count": 48,
   "metadata": {
    "colab": {
     "base_uri": "https://localhost:8080/",
     "height": 613
    },
    "executionInfo": {
     "elapsed": 9379,
     "status": "ok",
     "timestamp": 1737036274765,
     "user": {
      "displayName": "Manoj Baniya",
      "userId": "07800477237160464018"
     },
     "user_tz": -345
    },
    "id": "m2-1SnEgayE-",
    "outputId": "3ce279a7-8d55-471e-9370-96fc2d4cbf24"
   },
   "outputs": [
    {
     "name": "stdout",
     "output_type": "stream",
     "text": [
      "Healthy\n",
      " diet\n",
      " maintain\n",
      " gar\n",
      "na\n",
      " fresh\n",
      " fruits\n",
      ",\n",
      " vegetables\n",
      ",\n",
      " whole\n",
      " grains\n",
      ",\n",
      " lean\n",
      " proteins\n",
      ",\n",
      " and\n",
      " healthy\n",
      " fats\n",
      " ra\n",
      " healthy\n",
      " lifestyle\n",
      " follow\n",
      " gar\n",
      "na\n",
      " par\n",
      "cha\n",
      ".\n",
      "\n",
      "\n",
      "<eos>\n"
     ]
    },
    {
     "data": {
      "application/vnd.google.colaboratory.intrinsic+json": {
       "type": "string"
      },
      "text/plain": [
       "'Healthy diet maintain garna fresh fruits, vegetables, whole grains, lean proteins, and healthy fats ra healthy lifestyle follow garna parcha.\\n<eos>'"
      ]
     },
     "execution_count": 48,
     "metadata": {},
     "output_type": "execute_result"
    }
   ],
   "source": [
    "generate_tokens(\"kasari healthy diet maintain garne\")"
   ]
  },
  {
   "cell_type": "code",
   "execution_count": 49,
   "metadata": {
    "colab": {
     "base_uri": "https://localhost:8080/",
     "height": 523
    },
    "executionInfo": {
     "elapsed": 7717,
     "status": "ok",
     "timestamp": 1737036286228,
     "user": {
      "displayName": "Manoj Baniya",
      "userId": "07800477237160464018"
     },
     "user_tz": -345
    },
    "id": "a97PIgpnbQsC",
    "outputId": "3cc36d54-edff-42c8-9c34-925dc60ca4ae"
   },
   "outputs": [
    {
     "name": "stdout",
     "output_type": "stream",
     "text": [
      "Coding\n",
      " language\n",
      " ko\n",
      " basics\n",
      ",\n",
      " data\n",
      " structures\n",
      ",\n",
      " algorithms\n",
      ",\n",
      " and\n",
      " programming\n",
      " language\n",
      " ko\n",
      " use\n",
      " learn\n",
      " gar\n",
      "na\n",
      " sak\n",
      "n\n",
      "uh\n",
      "os\n",
      ".\n",
      "\n",
      "\n",
      "<eos>\n"
     ]
    },
    {
     "data": {
      "application/vnd.google.colaboratory.intrinsic+json": {
       "type": "string"
      },
      "text/plain": [
       "'Coding language ko basics, data structures, algorithms, and programming language ko use learn garna saknuhos.\\n<eos>'"
      ]
     },
     "execution_count": 49,
     "metadata": {},
     "output_type": "execute_result"
    }
   ],
   "source": [
    "generate_tokens(\"coding kasari sikna sakinxa\")"
   ]
  },
  {
   "cell_type": "code",
   "execution_count": 51,
   "metadata": {
    "colab": {
     "base_uri": "https://localhost:8080/",
     "height": 288
    },
    "executionInfo": {
     "elapsed": 4139,
     "status": "ok",
     "timestamp": 1737036356130,
     "user": {
      "displayName": "Manoj Baniya",
      "userId": "07800477237160464018"
     },
     "user_tz": -345
    },
    "id": "eH0jjUJabvcd",
    "outputId": "e8175995-ab99-477c-f8e2-d16ff03b9df1"
   },
   "outputs": [
    {
     "name": "stdout",
     "output_type": "stream",
     "text": [
      "india\n",
      " ko\n",
      " prime\n",
      " minister\n",
      " ko\n",
      " name\n",
      " nare\n",
      "ndra\n",
      " modi\n",
      " ho\n",
      ".\n",
      "\n",
      "\n",
      "<eos>\n"
     ]
    },
    {
     "data": {
      "application/vnd.google.colaboratory.intrinsic+json": {
       "type": "string"
      },
      "text/plain": [
       "'india ko prime minister ko name narendra modi ho.\\n<eos>'"
      ]
     },
     "execution_count": 51,
     "metadata": {},
     "output_type": "execute_result"
    }
   ],
   "source": [
    "generate_tokens(\"india ko prime minister ko name ke ho\")"
   ]
  },
  {
   "cell_type": "markdown",
   "metadata": {
    "id": "dERWq1MjdeoI"
   },
   "source": [
    "### serving"
   ]
  },
  {
   "cell_type": "code",
   "execution_count": 64,
   "metadata": {
    "colab": {
     "base_uri": "https://localhost:8080/"
    },
    "executionInfo": {
     "elapsed": 3770,
     "status": "ok",
     "timestamp": 1737036797925,
     "user": {
      "displayName": "Manoj Baniya",
      "userId": "07800477237160464018"
     },
     "user_tz": -345
    },
    "id": "7EfKsNpBdgBZ",
    "outputId": "407a7be9-7712-487a-b151-9c81cc35a7c9"
   },
   "outputs": [
    {
     "name": "stdout",
     "output_type": "stream",
     "text": [
      "Requirement already satisfied: flask in /usr/local/lib/python3.11/dist-packages (3.1.0)\n",
      "Requirement already satisfied: Werkzeug>=3.1 in /usr/local/lib/python3.11/dist-packages (from flask) (3.1.3)\n",
      "Requirement already satisfied: Jinja2>=3.1.2 in /usr/local/lib/python3.11/dist-packages (from flask) (3.1.5)\n",
      "Requirement already satisfied: itsdangerous>=2.2 in /usr/local/lib/python3.11/dist-packages (from flask) (2.2.0)\n",
      "Requirement already satisfied: click>=8.1.3 in /usr/local/lib/python3.11/dist-packages (from flask) (8.1.8)\n",
      "Requirement already satisfied: blinker>=1.9 in /usr/local/lib/python3.11/dist-packages (from flask) (1.9.0)\n",
      "Requirement already satisfied: MarkupSafe>=2.0 in /usr/local/lib/python3.11/dist-packages (from Jinja2>=3.1.2->flask) (3.0.2)\n"
     ]
    }
   ],
   "source": [
    "!pip install flask"
   ]
  },
  {
   "cell_type": "code",
   "execution_count": 66,
   "metadata": {
    "colab": {
     "base_uri": "https://localhost:8080/"
    },
    "executionInfo": {
     "elapsed": 2215,
     "status": "ok",
     "timestamp": 1737036830458,
     "user": {
      "displayName": "Manoj Baniya",
      "userId": "07800477237160464018"
     },
     "user_tz": -345
    },
    "id": "r6RxRXTYdlf1",
    "outputId": "9cdbb42b-b63a-459b-e6c6-b3824de44388"
   },
   "outputs": [
    {
     "name": "stdout",
     "output_type": "stream",
     "text": [
      "Collecting pyngrok\n",
      "  Downloading pyngrok-7.2.3-py3-none-any.whl.metadata (8.7 kB)\n",
      "Requirement already satisfied: PyYAML>=5.1 in /usr/local/lib/python3.11/dist-packages (from pyngrok) (6.0.2)\n",
      "Downloading pyngrok-7.2.3-py3-none-any.whl (23 kB)\n",
      "Installing collected packages: pyngrok\n",
      "Successfully installed pyngrok-7.2.3\n"
     ]
    }
   ],
   "source": [
    "!pip install pyngrok"
   ]
  },
  {
   "cell_type": "code",
   "execution_count": null,
   "metadata": {
    "executionInfo": {
     "elapsed": 535,
     "status": "ok",
     "timestamp": 1737037277535,
     "user": {
      "displayName": "Manoj Baniya",
      "userId": "07800477237160464018"
     },
     "user_tz": -345
    },
    "id": "rDqFPkFzeC-V"
   },
   "outputs": [],
   "source": [
    "ngrok.set_auth_token(\"\")"
   ]
  },
  {
   "cell_type": "code",
   "execution_count": 88,
   "metadata": {
    "colab": {
     "base_uri": "https://localhost:8080/"
    },
    "executionInfo": {
     "elapsed": 913,
     "status": "ok",
     "timestamp": 1737037607719,
     "user": {
      "displayName": "Manoj Baniya",
      "userId": "07800477237160464018"
     },
     "user_tz": -345
    },
    "id": "nSt6uqH1dqx-",
    "outputId": "cbe69564-87cb-4a63-a08b-a115739ae6ed"
   },
   "outputs": [
    {
     "name": "stdout",
     "output_type": "stream",
     "text": [
      "Public URL: NgrokTunnel: \"https://64c2-34-16-160-231.ngrok-free.app\" -> \"http://localhost:5000\"\n"
     ]
    }
   ],
   "source": [
    "from pyngrok import ngrok\n",
    "\n",
    "# Start the Flask server\n",
    "public_url = ngrok.connect(5000)\n",
    "print(\"Public URL:\", public_url)"
   ]
  },
  {
   "cell_type": "code",
   "execution_count": 89,
   "metadata": {
    "colab": {
     "base_uri": "https://localhost:8080/"
    },
    "executionInfo": {
     "elapsed": 778328,
     "status": "ok",
     "timestamp": 1737038388830,
     "user": {
      "displayName": "Manoj Baniya",
      "userId": "07800477237160464018"
     },
     "user_tz": -345
    },
    "id": "0w1nf5a8dh2f",
    "outputId": "e540ca28-57fa-41ec-e0c0-0a5338933f6d"
   },
   "outputs": [
    {
     "name": "stdout",
     "output_type": "stream",
     "text": [
      " * Serving Flask app '__main__'\n",
      " * Debug mode: off\n"
     ]
    },
    {
     "name": "stderr",
     "output_type": "stream",
     "text": [
      "INFO:werkzeug:\u001b[31m\u001b[1mWARNING: This is a development server. Do not use it in a production deployment. Use a production WSGI server instead.\u001b[0m\n",
      " * Running on http://localhost:5000\n",
      "INFO:werkzeug:\u001b[33mPress CTRL+C to quit\u001b[0m\n",
      "INFO:werkzeug:127.0.0.1 - - [16/Jan/2025 14:27:35] \"GET / HTTP/1.1\" 200 -\n",
      "INFO:werkzeug:127.0.0.1 - - [16/Jan/2025 14:27:36] \"\u001b[33mGET /favicon.ico HTTP/1.1\u001b[0m\" 404 -\n",
      "INFO:werkzeug:127.0.0.1 - - [16/Jan/2025 14:27:59] \"GET / HTTP/1.1\" 200 -\n",
      "INFO:werkzeug:127.0.0.1 - - [16/Jan/2025 14:28:05] \"GET / HTTP/1.1\" 200 -\n"
     ]
    },
    {
     "name": "stdout",
     "output_type": "stream",
     "text": [
      "Nepal\n",
      " ko\n",
      " prime\n",
      " minister\n",
      " ko\n",
      " Sher\n",
      " Bahadur\n",
      " De\n",
      "uba\n",
      " ho\n",
      ".\n",
      "\n",
      "\n"
     ]
    },
    {
     "name": "stderr",
     "output_type": "stream",
     "text": [
      "INFO:werkzeug:127.0.0.1 - - [16/Jan/2025 14:28:14] \"POST /chat HTTP/1.1\" 200 -\n"
     ]
    },
    {
     "name": "stdout",
     "output_type": "stream",
     "text": [
      "<eos>\n",
      "Nepal\n",
      " ko\n",
      " prime\n",
      " minister\n",
      " ko\n",
      " Sher\n",
      " Bahadur\n",
      " De\n",
      "uba\n",
      " ho\n",
      ".\n",
      "\n",
      "\n"
     ]
    },
    {
     "name": "stderr",
     "output_type": "stream",
     "text": [
      "INFO:werkzeug:127.0.0.1 - - [16/Jan/2025 14:28:24] \"POST /chat HTTP/1.1\" 200 -\n"
     ]
    },
    {
     "name": "stdout",
     "output_type": "stream",
     "text": [
      "<eos>\n",
      "Nepal\n",
      " ma\n",
      " Himalaya\n",
      ",\n",
      " Ter\n",
      "ai\n",
      ",\n",
      " and\n",
      " Anna\n",
      "pur\n",
      "na\n",
      " zone\n",
      " cha\n",
      ".\n",
      "\n",
      "\n"
     ]
    },
    {
     "name": "stderr",
     "output_type": "stream",
     "text": [
      "INFO:werkzeug:127.0.0.1 - - [16/Jan/2025 14:28:48] \"POST /chat HTTP/1.1\" 200 -\n"
     ]
    },
    {
     "name": "stdout",
     "output_type": "stream",
     "text": [
      "<eos>\n",
      "Au\n",
      "ta\n",
      " motivation\n",
      " deu\n",
      ",\n",
      " sab\n",
      "ai\n",
      " le\n",
      " motivation\n",
      " gar\n",
      "na\n",
      " par\n",
      "cha\n",
      ".\n",
      "\n",
      "\n"
     ]
    },
    {
     "name": "stderr",
     "output_type": "stream",
     "text": [
      "INFO:werkzeug:127.0.0.1 - - [16/Jan/2025 14:29:01] \"POST /chat HTTP/1.1\" 200 -\n"
     ]
    },
    {
     "name": "stdout",
     "output_type": "stream",
     "text": [
      "<eos>\n",
      "The\n",
      " sky\n",
      " is\n",
      " blue\n",
      ".\n",
      "\n",
      "\n"
     ]
    },
    {
     "name": "stderr",
     "output_type": "stream",
     "text": [
      "INFO:werkzeug:127.0.0.1 - - [16/Jan/2025 14:29:16] \"POST /chat HTTP/1.1\" 200 -\n"
     ]
    },
    {
     "name": "stdout",
     "output_type": "stream",
     "text": [
      "<eos>\n",
      "5\n",
      " +\n",
      " \n",
      "5\n",
      " kati\n",
      " hun\n",
      "xa\n",
      " \n",
      "1\n",
      "0\n",
      ".\n",
      "\n",
      "\n"
     ]
    },
    {
     "name": "stderr",
     "output_type": "stream",
     "text": [
      "INFO:werkzeug:127.0.0.1 - - [16/Jan/2025 14:29:29] \"POST /chat HTTP/1.1\" 200 -\n"
     ]
    },
    {
     "name": "stdout",
     "output_type": "stream",
     "text": [
      "<eos>\n",
      "Product\n",
      ":\n",
      " red\n",
      " tshirt\n",
      " \n",
      "1\n",
      "0\n",
      "0\n",
      "0\n",
      ",\n",
      " blue\n",
      " t\n",
      "shi\n",
      "r\n",
      ":\n",
      " \n",
      "2\n",
      "0\n",
      "0\n",
      "0\n",
      ".\n",
      "\n",
      "\n"
     ]
    },
    {
     "name": "stderr",
     "output_type": "stream",
     "text": [
      "INFO:werkzeug:127.0.0.1 - - [16/Jan/2025 14:30:03] \"POST /chat HTTP/1.1\" 200 -\n"
     ]
    },
    {
     "name": "stdout",
     "output_type": "stream",
     "text": [
      "<eos>\n",
      "Healthy\n",
      " diet\n",
      " healthy\n",
      " food\n",
      ",\n",
      " exercise\n",
      ",\n",
      " and\n",
      " stress\n",
      " management\n",
      ".\n",
      "\n",
      "\n"
     ]
    },
    {
     "name": "stderr",
     "output_type": "stream",
     "text": [
      "INFO:werkzeug:127.0.0.1 - - [16/Jan/2025 14:30:23] \"POST /chat HTTP/1.1\" 200 -\n"
     ]
    },
    {
     "name": "stdout",
     "output_type": "stream",
     "text": [
      "Healthy\n",
      "<eos>\n",
      " diet\n",
      " healthy\n",
      " food\n",
      ",\n",
      " exercise\n",
      ",\n",
      " and\n",
      " stress\n",
      " management\n",
      ".\n",
      "\n",
      "\n"
     ]
    },
    {
     "name": "stderr",
     "output_type": "stream",
     "text": [
      "INFO:werkzeug:127.0.0.1 - - [16/Jan/2025 14:30:27] \"POST /chat HTTP/1.1\" 200 -\n"
     ]
    },
    {
     "name": "stdout",
     "output_type": "stream",
     "text": [
      "<eos>\n",
      "cook\n",
      " gar\n",
      "na\n",
      ",\n",
      " ingredients\n",
      " ko\n",
      " combination\n",
      ",\n",
      " cooking\n",
      " method\n",
      ",\n",
      " and\n",
      " taste\n",
      " ko\n",
      " control\n",
      " gar\n",
      "na\n",
      " par\n",
      "cha\n",
      ".\n",
      "\n",
      "\n"
     ]
    },
    {
     "name": "stderr",
     "output_type": "stream",
     "text": [
      "INFO:werkzeug:127.0.0.1 - - [16/Jan/2025 14:30:53] \"POST /chat HTTP/1.1\" 200 -\n"
     ]
    },
    {
     "name": "stdout",
     "output_type": "stream",
     "text": [
      "<eos>\n",
      "Harry\n",
      " Potter\n",
      " kas\n",
      "le\n",
      " lek\n",
      "he\n",
      "ko\n",
      " '\n",
      "Harry\n",
      " Potter\n",
      " and\n",
      " the\n",
      " Philosopher\n",
      "'\n",
      "s\n",
      " Stone\n",
      "'\n",
      " ho\n",
      ".\n",
      "\n",
      "\n"
     ]
    },
    {
     "name": "stderr",
     "output_type": "stream",
     "text": [
      "INFO:werkzeug:127.0.0.1 - - [16/Jan/2025 14:31:12] \"POST /chat HTTP/1.1\" 200 -\n"
     ]
    },
    {
     "name": "stdout",
     "output_type": "stream",
     "text": [
      "<eos>\n",
      "J\n",
      ".\n",
      "K\n",
      ".\n",
      " Rowling\n",
      ",\n",
      " an\n",
      " English\n",
      " author\n",
      ",\n",
      " is\n",
      " the\n",
      " writer\n",
      " of\n",
      " the\n",
      " Harry\n",
      " Potter\n",
      " series\n",
      ".\n",
      "\n",
      "\n"
     ]
    },
    {
     "name": "stderr",
     "output_type": "stream",
     "text": [
      "INFO:werkzeug:127.0.0.1 - - [16/Jan/2025 14:31:33] \"POST /chat HTTP/1.1\" 200 -\n"
     ]
    },
    {
     "name": "stdout",
     "output_type": "stream",
     "text": [
      "<eos>\n",
      "Healthy\n",
      " diet\n",
      " ko\n",
      " bare\n",
      "ma\n",
      " tips\n",
      " include\n",
      " fresh\n",
      " fruits\n",
      ",\n",
      " vegetables\n",
      ",\n",
      " whole\n",
      " grains\n",
      ",\n",
      " and\n",
      " lean\n",
      " proteins\n",
      ".\n",
      " Exercise\n",
      " regularly\n",
      ",\n",
      " drink\n",
      " enough\n",
      " water\n",
      ",\n",
      " and\n",
      " avoid\n",
      " processed\n",
      " foods\n",
      ".\n",
      "\n",
      "\n"
     ]
    },
    {
     "name": "stderr",
     "output_type": "stream",
     "text": [
      "INFO:werkzeug:127.0.0.1 - - [16/Jan/2025 14:32:08] \"POST /chat HTTP/1.1\" 200 -\n"
     ]
    },
    {
     "name": "stdout",
     "output_type": "stream",
     "text": [
      "<eos>\n",
      "K\n",
      " g\n",
      "ary\n",
      "o\n",
      " vane\n",
      " cook\n",
      " gar\n",
      "na\n",
      " saj\n",
      "ilo\n",
      " hun\n",
      "xa\n",
      ".\n",
      "\n",
      "\n"
     ]
    },
    {
     "name": "stderr",
     "output_type": "stream",
     "text": [
      "INFO:werkzeug:127.0.0.1 - - [16/Jan/2025 14:32:44] \"POST /chat HTTP/1.1\" 200 -\n"
     ]
    },
    {
     "name": "stdout",
     "output_type": "stream",
     "text": [
      "<eos>\n",
      "Mountain\n",
      " ko\n",
      " b\n",
      "han\n",
      "in\n",
      "xa\n",
      " ra\n",
      "kh\n",
      "ne\n",
      " ko\n",
      " lagi\n",
      " ra\n",
      "kh\n",
      "ne\n",
      ",\n",
      " ra\n",
      "kh\n",
      "ne\n",
      " ko\n",
      " lagi\n",
      " ra\n",
      "kh\n",
      "ne\n",
      ",\n",
      " ra\n",
      "kh\n",
      "ne\n",
      " ko\n",
      " lagi\n",
      " ra\n",
      "kh\n",
      "ne\n",
      ".\n",
      "\n",
      "\n"
     ]
    },
    {
     "name": "stderr",
     "output_type": "stream",
     "text": [
      "INFO:werkzeug:127.0.0.1 - - [16/Jan/2025 14:33:14] \"POST /chat HTTP/1.1\" 200 -\n"
     ]
    },
    {
     "name": "stdout",
     "output_type": "stream",
     "text": [
      "<eos>\n",
      "iphone\n",
      " ko\n",
      " price\n",
      " \n",
      "1\n",
      "0\n",
      "0\n",
      "0\n",
      "0\n",
      "0\n",
      " rupees\n",
      " ho\n",
      ".\n",
      "\n",
      "\n"
     ]
    },
    {
     "name": "stderr",
     "output_type": "stream",
     "text": [
      "INFO:werkzeug:127.0.0.1 - - [16/Jan/2025 14:33:30] \"POST /chat HTTP/1.1\" 200 -\n"
     ]
    },
    {
     "name": "stdout",
     "output_type": "stream",
     "text": [
      "<eos>\n",
      "iphone\n",
      " ko\n",
      " price\n",
      " \n",
      "2\n",
      "0\n",
      "0\n",
      "0\n",
      "0\n",
      " ho\n",
      ".\n",
      "\n",
      "\n"
     ]
    },
    {
     "name": "stderr",
     "output_type": "stream",
     "text": [
      "INFO:werkzeug:127.0.0.1 - - [16/Jan/2025 14:34:05] \"POST /chat HTTP/1.1\" 200 -\n"
     ]
    },
    {
     "name": "stdout",
     "output_type": "stream",
     "text": [
      "<eos>\n",
      "iphone\n",
      " ko\n",
      " price\n",
      " \n",
      "2\n",
      "0\n",
      "0\n",
      "0\n",
      "0\n",
      " ho\n",
      ".\n",
      "\n",
      "\n"
     ]
    },
    {
     "name": "stderr",
     "output_type": "stream",
     "text": [
      "INFO:werkzeug:127.0.0.1 - - [16/Jan/2025 14:34:32] \"POST /chat HTTP/1.1\" 200 -\n"
     ]
    },
    {
     "name": "stdout",
     "output_type": "stream",
     "text": [
      "<eos>\n",
      "Red\n",
      "mi\n",
      " ko\n",
      " price\n",
      " \n",
      "1\n",
      "0\n",
      "0\n",
      "0\n",
      "0\n",
      " ho\n",
      ".\n",
      "\n",
      "\n"
     ]
    },
    {
     "name": "stderr",
     "output_type": "stream",
     "text": [
      "INFO:werkzeug:127.0.0.1 - - [16/Jan/2025 14:34:47] \"POST /chat HTTP/1.1\" 200 -\n"
     ]
    },
    {
     "name": "stdout",
     "output_type": "stream",
     "text": [
      "<eos>\n",
      "Samsung\n",
      " ko\n",
      " price\n",
      " \n",
      "1\n",
      "5\n",
      "0\n",
      "0\n",
      "0\n",
      " ho\n",
      ".\n",
      "\n",
      "\n"
     ]
    },
    {
     "name": "stderr",
     "output_type": "stream",
     "text": [
      "INFO:werkzeug:127.0.0.1 - - [16/Jan/2025 14:34:58] \"POST /chat HTTP/1.1\" 200 -\n"
     ]
    },
    {
     "name": "stdout",
     "output_type": "stream",
     "text": [
      "<eos>\n",
      "iphone\n",
      " ko\n",
      " price\n",
      " \n",
      "2\n",
      "0\n",
      "0\n",
      "0\n",
      "0\n",
      " ho\n",
      ",\n",
      " redmi\n",
      " \n",
      "9\n",
      " ko\n",
      " price\n",
      " \n",
      "1\n",
      "0\n",
      "0\n",
      "0\n",
      "0\n",
      " ho\n",
      ".\n",
      "\n",
      "\n"
     ]
    },
    {
     "name": "stderr",
     "output_type": "stream",
     "text": [
      "INFO:werkzeug:127.0.0.1 - - [16/Jan/2025 14:35:30] \"POST /chat HTTP/1.1\" 200 -\n"
     ]
    },
    {
     "name": "stdout",
     "output_type": "stream",
     "text": [
      "<eos>\n",
      "The\n",
      " story\n",
      " is\n",
      " about\n",
      " a\n",
      " young\n",
      " girl\n",
      " who\n",
      " was\n",
      " lost\n",
      " in\n",
      " the\n",
      " forest\n",
      " and\n",
      " found\n",
      " a\n",
      " magical\n",
      " flower\n",
      " that\n",
      " granted\n",
      " her\n",
      " wishes\n",
      ".\n",
      " However\n",
      ",\n",
      " she\n",
      " realized\n",
      " that\n",
      " she\n",
      " had\n",
      " to\n",
      " pay\n",
      " a\n",
      " price\n",
      " for\n",
      " her\n",
      " wishes\n",
      ",\n",
      " and\n",
      " she\n",
      " returned\n",
      " the\n",
      " flower\n",
      " to\n",
      " its\n",
      " rightful\n",
      " place\n",
      ".\n",
      "\n",
      "\n"
     ]
    },
    {
     "name": "stderr",
     "output_type": "stream",
     "text": [
      "INFO:werkzeug:127.0.0.1 - - [16/Jan/2025 14:36:02] \"POST /chat HTTP/1.1\" 200 -\n"
     ]
    },
    {
     "name": "stdout",
     "output_type": "stream",
     "text": [
      "<eos>\n",
      "Lionel\n",
      " Messi\n",
      ",\n",
      " a\n",
      " renowned\n",
      " Argentine\n",
      " footballer\n",
      ",\n",
      " is\n",
      " widely\n",
      " regarded\n",
      " as\n",
      " one\n",
      " of\n",
      " the\n",
      " greatest\n",
      " players\n",
      " of\n",
      " all\n",
      " time\n",
      ".\n",
      "\n",
      "\n"
     ]
    },
    {
     "name": "stderr",
     "output_type": "stream",
     "text": [
      "INFO:werkzeug:127.0.0.1 - - [16/Jan/2025 14:36:31] \"POST /chat HTTP/1.1\" 200 -\n"
     ]
    },
    {
     "name": "stdout",
     "output_type": "stream",
     "text": [
      "<eos>\n"
     ]
    },
    {
     "name": "stderr",
     "output_type": "stream",
     "text": [
      "INFO:werkzeug:127.0.0.1 - - [16/Jan/2025 14:36:47] \"\u001b[31m\u001b[1mPOST /chat HTTP/1.1\u001b[0m\" 400 -\n"
     ]
    },
    {
     "name": "stdout",
     "output_type": "stream",
     "text": [
      "Lionel\n",
      " Messi\n",
      " is\n",
      " a\n",
      " professional\n",
      " footballer\n",
      " who\n",
      " plays\n",
      " for\n",
      " Paris\n",
      " Saint\n",
      "-\n",
      "Germain\n",
      " in\n",
      " France\n",
      " and\n",
      " the\n",
      " Argentina\n",
      " national\n",
      " team\n",
      ".\n",
      " He\n",
      " is\n",
      " widely\n",
      " regarded\n",
      " as\n",
      " one\n",
      " of\n",
      " the\n",
      " greatest\n",
      " players\n",
      " of\n",
      " all\n",
      " time\n",
      " and\n",
      " has\n",
      " won\n",
      " numerous\n",
      " individual\n",
      " and\n",
      " team\n",
      " awards\n",
      " throughout\n",
      " his\n",
      " career\n",
      ".\n",
      "\n",
      "\n"
     ]
    },
    {
     "name": "stderr",
     "output_type": "stream",
     "text": [
      "INFO:werkzeug:127.0.0.1 - - [16/Jan/2025 14:37:02] \"POST /chat HTTP/1.1\" 200 -\n"
     ]
    },
    {
     "name": "stdout",
     "output_type": "stream",
     "text": [
      "<eos>\n"
     ]
    }
   ],
   "source": [
    "from flask import Flask, request, jsonify\n",
    "\n",
    "app = Flask(__name__)\n",
    "\n",
    "@app.route('/')\n",
    "def home():\n",
    "    return \"Hello, this is your server running on Google Colab!\"\n",
    "\n",
    "@app.route('/chat', methods=['POST'])\n",
    "def chat():\n",
    "    # Get the user's query from the request\n",
    "    user_query = request.json.get('query', '')\n",
    "\n",
    "    # Process the query (simple example response)\n",
    "    if user_query:\n",
    "        response = generate_tokens(user_query)\n",
    "    else:\n",
    "        response = \"Please provide a valid query.\"\n",
    "\n",
    "    # Return a JSON response\n",
    "    return jsonify({\"response\": response})\n",
    "\n",
    "if __name__ == '__main__':\n",
    "    app.run(host='localhost', port=5000)\n"
   ]
  },
  {
   "cell_type": "markdown",
   "metadata": {
    "id": "kXyQKbMcjbSo"
   },
   "source": [
    "## stream token"
   ]
  },
  {
   "cell_type": "code",
   "execution_count": 93,
   "metadata": {
    "executionInfo": {
     "elapsed": 2,
     "status": "ok",
     "timestamp": 1737038601748,
     "user": {
      "displayName": "Manoj Baniya",
      "userId": "07800477237160464018"
     },
     "user_tz": -345
    },
    "id": "s1232RCJjdAA"
   },
   "outputs": [],
   "source": [
    "def generate_tokens(query, max_new_tokens=100):\n",
    "    inputs = get_inputs(query)\n",
    "    is_done = False\n",
    "    tokens = []\n",
    "\n",
    "    while not is_done:\n",
    "        with torch.no_grad():\n",
    "            outputs = model(inputs[\"input_ids\"])\n",
    "            logits = outputs.logits[:, -1, :]\n",
    "            preds = logits.softmax(dim=1)\n",
    "            label = preds.argmax(dim=-1)\n",
    "\n",
    "            # Decode and yield the token\n",
    "            decoded_token = tokenizer.decode(label)\n",
    "            yield decoded_token  # Yield the decoded token one by one\n",
    "            print(decoded_token)\n",
    "            # Append token to the list\n",
    "            tokens.append(label.item())\n",
    "\n",
    "            # Update the input_ids for the next iteration\n",
    "            inputs[\"input_ids\"] = torch.cat([inputs[\"input_ids\"], label.unsqueeze(-1)], dim=-1)\n",
    "\n",
    "            # Check if generation is done\n",
    "            if label == tokenizer.eos_token_id or len(tokens) >= max_new_tokens:\n",
    "                is_done = True"
   ]
  },
  {
   "cell_type": "code",
   "execution_count": 96,
   "metadata": {
    "colab": {
     "base_uri": "https://localhost:8080/"
    },
    "executionInfo": {
     "elapsed": 448,
     "status": "ok",
     "timestamp": 1737038707229,
     "user": {
      "displayName": "Manoj Baniya",
      "userId": "07800477237160464018"
     },
     "user_tz": -345
    },
    "id": "iytI-x4ijfsS",
    "outputId": "8b61486c-2145-488e-fe95-bda00180f4a8"
   },
   "outputs": [
    {
     "name": "stdout",
     "output_type": "stream",
     "text": [
      "Public URL: NgrokTunnel: \"https://bd1d-34-16-160-231.ngrok-free.app\" -> \"http://localhost:5000\"\n"
     ]
    }
   ],
   "source": [
    "from pyngrok import ngrok\n",
    "\n",
    "# Start the Flask server\n",
    "public_url = ngrok.connect(5000)\n",
    "print(\"Public URL:\", public_url)"
   ]
  },
  {
   "cell_type": "code",
   "execution_count": null,
   "metadata": {
    "colab": {
     "base_uri": "https://localhost:8080/"
    },
    "id": "8rjYAVYjjkhn",
    "outputId": "8e2336fd-705f-4325-9316-27046f7e9ff9"
   },
   "outputs": [
    {
     "name": "stdout",
     "output_type": "stream",
     "text": [
      " * Serving Flask app '__main__'\n",
      " * Debug mode: off\n"
     ]
    },
    {
     "name": "stderr",
     "output_type": "stream",
     "text": [
      "INFO:werkzeug:\u001b[31m\u001b[1mWARNING: This is a development server. Do not use it in a production deployment. Use a production WSGI server instead.\u001b[0m\n",
      " * Running on http://localhost:5000\n",
      "INFO:werkzeug:\u001b[33mPress CTRL+C to quit\u001b[0m\n",
      "WARNING:pyngrok.process.ngrok:t=2025-01-16T14:45:11+0000 lvl=warn msg=\"failed to check for update\" obj=updater err=\"Post \\\"https://update.equinox.io/check\\\": context deadline exceeded\"\n",
      "INFO:werkzeug:127.0.0.1 - - [16/Jan/2025 14:45:23] \"POST /chat HTTP/1.1\" 200 -\n"
     ]
    },
    {
     "name": "stdout",
     "output_type": "stream",
     "text": [
      "Sent: Nepal\n",
      "Nepal\n",
      "Sent:  ko\n",
      " ko\n",
      "Sent:  capital\n",
      " capital\n",
      "Sent:  city\n",
      " city\n",
      "Sent:  Kathmandu\n",
      " Kathmandu\n",
      "Sent:  ho\n",
      " ho\n",
      "Sent: .\n",
      ".\n",
      "Sent: \n",
      "\n",
      "\n",
      "\n",
      "Sent: <eos>\n",
      "<eos>\n"
     ]
    },
    {
     "name": "stderr",
     "output_type": "stream",
     "text": [
      "INFO:werkzeug:127.0.0.1 - - [16/Jan/2025 14:45:43] \"POST /chat HTTP/1.1\" 200 -\n"
     ]
    },
    {
     "name": "stdout",
     "output_type": "stream",
     "text": [
      "Sent: Nepal\n",
      "Nepal\n",
      "Sent:  ko\n",
      " ko\n",
      "Sent:  capital\n",
      " capital\n",
      "Sent:  city\n",
      " city\n",
      "Sent:  Kathmandu\n",
      " Kathmandu\n",
      "Sent:  ho\n",
      " ho\n",
      "Sent: .\n",
      ".\n",
      "Sent: \n",
      "\n",
      "\n",
      "\n",
      "Sent: <eos>\n",
      "<eos>\n"
     ]
    },
    {
     "name": "stderr",
     "output_type": "stream",
     "text": [
      "INFO:werkzeug:127.0.0.1 - - [16/Jan/2025 14:46:38] \"POST /chat HTTP/1.1\" 200 -\n"
     ]
    },
    {
     "name": "stdout",
     "output_type": "stream",
     "text": [
      "Sent: Nepal\n",
      "Nepal\n",
      "Sent:  ko\n",
      " ko\n",
      "Sent:  capital\n",
      " capital\n",
      "Sent:  city\n",
      " city\n",
      "Sent:  Kathmandu\n",
      " Kathmandu\n",
      "Sent:  ho\n",
      " ho\n",
      "Sent: .\n",
      ".\n",
      "Sent: \n",
      "\n",
      "\n",
      "\n",
      "Sent: <eos>\n",
      "<eos>\n"
     ]
    },
    {
     "name": "stderr",
     "output_type": "stream",
     "text": [
      "INFO:werkzeug:127.0.0.1 - - [16/Jan/2025 14:47:20] \"POST /chat HTTP/1.1\" 200 -\n"
     ]
    },
    {
     "name": "stdout",
     "output_type": "stream",
     "text": [
      "Sent: Nepal\n",
      "Nepal\n",
      "Sent:  ko\n",
      " ko\n",
      "Sent:  capital\n",
      " capital\n",
      "Sent:  city\n",
      " city\n",
      "Sent:  Kathmandu\n",
      " Kathmandu\n",
      "Sent:  ho\n",
      " ho\n",
      "Sent: .\n",
      ".\n",
      "Sent: \n",
      "\n",
      "\n",
      "\n",
      "Sent: <eos>\n",
      "<eos>\n"
     ]
    }
   ],
   "source": [
    "from flask import Flask, request, jsonify, Response\n",
    "\n",
    "app = Flask(__name__)\n",
    "\n",
    "@app.route('/')\n",
    "def home():\n",
    "    return \"Hello, this is your server running on Google Colab!\"\n",
    "\n",
    "@app.route('/chat', methods=['POST'])\n",
    "def chat():\n",
    "    # Get the user's query from the request\n",
    "    user_query = request.json.get('query', '')\n",
    "\n",
    "    if not user_query:\n",
    "        # Return a single JSON response if query is missing\n",
    "        return jsonify({\"response\": \"Please provide a valid query.\"})\n",
    "\n",
    "    def generate_response():\n",
    "        # Call the generator function and yield tokens as they are generated\n",
    "        for token in generate_tokens(user_query):\n",
    "            print(f\"Sent: {token}\")\n",
    "            yield f\"data: {token}\\n\\n\"  # Format for server-sent events (SSE)\n",
    "\n",
    "    # Return a streaming response with the correct content type for SSE\n",
    "    return Response(generate_response(), content_type='text/event-stream')\n",
    "\n",
    "if __name__ == '__main__':\n",
    "    app.run(host='localhost', port=5000)"
   ]
  }
 ],
 "metadata": {
  "accelerator": "GPU",
  "colab": {
   "authorship_tag": "ABX9TyPJmjsBTH1m/BppOopO17v+",
   "gpuType": "T4",
   "provenance": []
  },
  "kernelspec": {
   "display_name": "Python 3",
   "name": "python3"
  },
  "language_info": {
   "name": "python"
  },
  "widgets": {
   "application/vnd.jupyter.widget-state+json": {
    "054c1e847bf543f6820a28133a5b8043": {
     "model_module": "@jupyter-widgets/controls",
     "model_module_version": "1.5.0",
     "model_name": "HTMLModel",
     "state": {
      "_dom_classes": [],
      "_model_module": "@jupyter-widgets/controls",
      "_model_module_version": "1.5.0",
      "_model_name": "HTMLModel",
      "_view_count": null,
      "_view_module": "@jupyter-widgets/controls",
      "_view_module_version": "1.5.0",
      "_view_name": "HTMLView",
      "description": "",
      "description_tooltip": null,
      "layout": "IPY_MODEL_6f81a4904e9e4c9eb47181526088955c",
      "placeholder": "​",
      "style": "IPY_MODEL_bf70759bd1184055a9a22fc01ac5a79a",
      "value": " 4.24M/4.24M [00:00&lt;00:00, 15.7MB/s]"
     }
    },
    "09f57ae48e4a4fdfb727b8ffdd1e7dec": {
     "model_module": "@jupyter-widgets/controls",
     "model_module_version": "1.5.0",
     "model_name": "DescriptionStyleModel",
     "state": {
      "_model_module": "@jupyter-widgets/controls",
      "_model_module_version": "1.5.0",
      "_model_name": "DescriptionStyleModel",
      "_view_count": null,
      "_view_module": "@jupyter-widgets/base",
      "_view_module_version": "1.2.0",
      "_view_name": "StyleView",
      "description_width": ""
     }
    },
    "0c2aaa39da894e2399134268c02ea28c": {
     "model_module": "@jupyter-widgets/controls",
     "model_module_version": "1.5.0",
     "model_name": "HTMLModel",
     "state": {
      "_dom_classes": [],
      "_model_module": "@jupyter-widgets/controls",
      "_model_module_version": "1.5.0",
      "_model_name": "HTMLModel",
      "_view_count": null,
      "_view_module": "@jupyter-widgets/controls",
      "_view_module_version": "1.5.0",
      "_view_name": "HTMLView",
      "description": "",
      "description_tooltip": null,
      "layout": "IPY_MODEL_d698a1ce0cb849e096a1e50ec07cd2f7",
      "placeholder": "​",
      "style": "IPY_MODEL_53c792379cd6441a822040907f24711c",
      "value": "special_tokens_map.json: 100%"
     }
    },
    "0e73decf696f455fb45652b579551df1": {
     "model_module": "@jupyter-widgets/base",
     "model_module_version": "1.2.0",
     "model_name": "LayoutModel",
     "state": {
      "_model_module": "@jupyter-widgets/base",
      "_model_module_version": "1.2.0",
      "_model_name": "LayoutModel",
      "_view_count": null,
      "_view_module": "@jupyter-widgets/base",
      "_view_module_version": "1.2.0",
      "_view_name": "LayoutView",
      "align_content": null,
      "align_items": null,
      "align_self": null,
      "border": null,
      "bottom": null,
      "display": null,
      "flex": null,
      "flex_flow": null,
      "grid_area": null,
      "grid_auto_columns": null,
      "grid_auto_flow": null,
      "grid_auto_rows": null,
      "grid_column": null,
      "grid_gap": null,
      "grid_row": null,
      "grid_template_areas": null,
      "grid_template_columns": null,
      "grid_template_rows": null,
      "height": null,
      "justify_content": null,
      "justify_items": null,
      "left": null,
      "margin": null,
      "max_height": null,
      "max_width": null,
      "min_height": null,
      "min_width": null,
      "object_fit": null,
      "object_position": null,
      "order": null,
      "overflow": null,
      "overflow_x": null,
      "overflow_y": null,
      "padding": null,
      "right": null,
      "top": null,
      "visibility": null,
      "width": null
     }
    },
    "1107b0c53864446487980a5d5e52325b": {
     "model_module": "@jupyter-widgets/base",
     "model_module_version": "1.2.0",
     "model_name": "LayoutModel",
     "state": {
      "_model_module": "@jupyter-widgets/base",
      "_model_module_version": "1.2.0",
      "_model_name": "LayoutModel",
      "_view_count": null,
      "_view_module": "@jupyter-widgets/base",
      "_view_module_version": "1.2.0",
      "_view_name": "LayoutView",
      "align_content": null,
      "align_items": null,
      "align_self": null,
      "border": null,
      "bottom": null,
      "display": null,
      "flex": null,
      "flex_flow": null,
      "grid_area": null,
      "grid_auto_columns": null,
      "grid_auto_flow": null,
      "grid_auto_rows": null,
      "grid_column": null,
      "grid_gap": null,
      "grid_row": null,
      "grid_template_areas": null,
      "grid_template_columns": null,
      "grid_template_rows": null,
      "height": null,
      "justify_content": null,
      "justify_items": null,
      "left": null,
      "margin": null,
      "max_height": null,
      "max_width": null,
      "min_height": null,
      "min_width": null,
      "object_fit": null,
      "object_position": null,
      "order": null,
      "overflow": null,
      "overflow_x": null,
      "overflow_y": null,
      "padding": null,
      "right": null,
      "top": null,
      "visibility": null,
      "width": null
     }
    },
    "12846c6f5b10472a8d739ed0bbf957dd": {
     "model_module": "@jupyter-widgets/base",
     "model_module_version": "1.2.0",
     "model_name": "LayoutModel",
     "state": {
      "_model_module": "@jupyter-widgets/base",
      "_model_module_version": "1.2.0",
      "_model_name": "LayoutModel",
      "_view_count": null,
      "_view_module": "@jupyter-widgets/base",
      "_view_module_version": "1.2.0",
      "_view_name": "LayoutView",
      "align_content": null,
      "align_items": null,
      "align_self": null,
      "border": null,
      "bottom": null,
      "display": null,
      "flex": null,
      "flex_flow": null,
      "grid_area": null,
      "grid_auto_columns": null,
      "grid_auto_flow": null,
      "grid_auto_rows": null,
      "grid_column": null,
      "grid_gap": null,
      "grid_row": null,
      "grid_template_areas": null,
      "grid_template_columns": null,
      "grid_template_rows": null,
      "height": null,
      "justify_content": null,
      "justify_items": null,
      "left": null,
      "margin": null,
      "max_height": null,
      "max_width": null,
      "min_height": null,
      "min_width": null,
      "object_fit": null,
      "object_position": null,
      "order": null,
      "overflow": null,
      "overflow_x": null,
      "overflow_y": null,
      "padding": null,
      "right": null,
      "top": null,
      "visibility": null,
      "width": null
     }
    },
    "1898f3f9953f4b01b0b7fcd6a17509d5": {
     "model_module": "@jupyter-widgets/controls",
     "model_module_version": "1.5.0",
     "model_name": "HBoxModel",
     "state": {
      "_dom_classes": [],
      "_model_module": "@jupyter-widgets/controls",
      "_model_module_version": "1.5.0",
      "_model_name": "HBoxModel",
      "_view_count": null,
      "_view_module": "@jupyter-widgets/controls",
      "_view_module_version": "1.5.0",
      "_view_name": "HBoxView",
      "box_style": "",
      "children": [
       "IPY_MODEL_21d059e434a24facbc9646f9484e08cd",
       "IPY_MODEL_64ae876e2e4e402c8f1488fdcc81da90",
       "IPY_MODEL_d875ca905e6840149cddaf661a2db6de"
      ],
      "layout": "IPY_MODEL_55ef0d97fef04af3adf468a99a53f335"
     }
    },
    "1b36f5f2e6ca4406a4346b00309fc19c": {
     "model_module": "@jupyter-widgets/controls",
     "model_module_version": "1.5.0",
     "model_name": "ProgressStyleModel",
     "state": {
      "_model_module": "@jupyter-widgets/controls",
      "_model_module_version": "1.5.0",
      "_model_name": "ProgressStyleModel",
      "_view_count": null,
      "_view_module": "@jupyter-widgets/base",
      "_view_module_version": "1.2.0",
      "_view_name": "StyleView",
      "bar_color": null,
      "description_width": ""
     }
    },
    "1d24cac21f1b4cb487f1a5f768921ef7": {
     "model_module": "@jupyter-widgets/controls",
     "model_module_version": "1.5.0",
     "model_name": "HTMLModel",
     "state": {
      "_dom_classes": [],
      "_model_module": "@jupyter-widgets/controls",
      "_model_module_version": "1.5.0",
      "_model_name": "HTMLModel",
      "_view_count": null,
      "_view_module": "@jupyter-widgets/controls",
      "_view_module_version": "1.5.0",
      "_view_name": "HTMLView",
      "description": "",
      "description_tooltip": null,
      "layout": "IPY_MODEL_6438638783624587bfc46ec61b1f6e03",
      "placeholder": "​",
      "style": "IPY_MODEL_6a74268ee0224b2284593679fa376a7c",
      "value": " 1.37k/1.37k [00:00&lt;00:00, 56.2kB/s]"
     }
    },
    "1e06034d1ab14f64860c50c69c74e701": {
     "model_module": "@jupyter-widgets/controls",
     "model_module_version": "1.5.0",
     "model_name": "HTMLModel",
     "state": {
      "_dom_classes": [],
      "_model_module": "@jupyter-widgets/controls",
      "_model_module_version": "1.5.0",
      "_model_name": "HTMLModel",
      "_view_count": null,
      "_view_module": "@jupyter-widgets/controls",
      "_view_module_version": "1.5.0",
      "_view_name": "HTMLView",
      "description": "",
      "description_tooltip": null,
      "layout": "IPY_MODEL_d8af9a10ec6146f6b89ff753e38cb2bf",
      "placeholder": "​",
      "style": "IPY_MODEL_56d993de4149409e997ab357f252bd98",
      "value": " 34.4M/34.4M [00:00&lt;00:00, 43.0MB/s]"
     }
    },
    "1f162385c8f145a3b9e9d94d23df90e6": {
     "model_module": "@jupyter-widgets/controls",
     "model_module_version": "1.5.0",
     "model_name": "HBoxModel",
     "state": {
      "_dom_classes": [],
      "_model_module": "@jupyter-widgets/controls",
      "_model_module_version": "1.5.0",
      "_model_name": "HBoxModel",
      "_view_count": null,
      "_view_module": "@jupyter-widgets/controls",
      "_view_module_version": "1.5.0",
      "_view_name": "HBoxView",
      "box_style": "",
      "children": [
       "IPY_MODEL_9c8d7cfadf114db3b391c2beba4c9000",
       "IPY_MODEL_61f040d051064eeb9207556510e945ad",
       "IPY_MODEL_1d24cac21f1b4cb487f1a5f768921ef7"
      ],
      "layout": "IPY_MODEL_75475beb5cb44f4985a7191a30da27a6"
     }
    },
    "20180032fb3e45b6a4ca677dc4dadcf7": {
     "model_module": "@jupyter-widgets/controls",
     "model_module_version": "1.5.0",
     "model_name": "DescriptionStyleModel",
     "state": {
      "_model_module": "@jupyter-widgets/controls",
      "_model_module_version": "1.5.0",
      "_model_name": "DescriptionStyleModel",
      "_view_count": null,
      "_view_module": "@jupyter-widgets/base",
      "_view_module_version": "1.2.0",
      "_view_name": "StyleView",
      "description_width": ""
     }
    },
    "2024fcdd8120475393083775959375a2": {
     "model_module": "@jupyter-widgets/controls",
     "model_module_version": "1.5.0",
     "model_name": "DescriptionStyleModel",
     "state": {
      "_model_module": "@jupyter-widgets/controls",
      "_model_module_version": "1.5.0",
      "_model_name": "DescriptionStyleModel",
      "_view_count": null,
      "_view_module": "@jupyter-widgets/base",
      "_view_module_version": "1.2.0",
      "_view_name": "StyleView",
      "description_width": ""
     }
    },
    "21d059e434a24facbc9646f9484e08cd": {
     "model_module": "@jupyter-widgets/controls",
     "model_module_version": "1.5.0",
     "model_name": "HTMLModel",
     "state": {
      "_dom_classes": [],
      "_model_module": "@jupyter-widgets/controls",
      "_model_module_version": "1.5.0",
      "_model_name": "HTMLModel",
      "_view_count": null,
      "_view_module": "@jupyter-widgets/controls",
      "_view_module_version": "1.5.0",
      "_view_name": "HTMLView",
      "description": "",
      "description_tooltip": null,
      "layout": "IPY_MODEL_12846c6f5b10472a8d739ed0bbf957dd",
      "placeholder": "​",
      "style": "IPY_MODEL_9b57a79904c74fd495bbe42acd5d5158",
      "value": "tokenizer_config.json: 100%"
     }
    },
    "2733afce15a1442fb88971f0b6bee82b": {
     "model_module": "@jupyter-widgets/controls",
     "model_module_version": "1.5.0",
     "model_name": "FloatProgressModel",
     "state": {
      "_dom_classes": [],
      "_model_module": "@jupyter-widgets/controls",
      "_model_module_version": "1.5.0",
      "_model_name": "FloatProgressModel",
      "_view_count": null,
      "_view_module": "@jupyter-widgets/controls",
      "_view_module_version": "1.5.0",
      "_view_name": "ProgressView",
      "bar_style": "success",
      "description": "",
      "description_tooltip": null,
      "layout": "IPY_MODEL_54fb9231a25d47d9895954c4b8a9adde",
      "max": 636,
      "min": 0,
      "orientation": "horizontal",
      "style": "IPY_MODEL_a8477c88a3ec406a8894b9741ed0e0d5",
      "value": 636
     }
    },
    "2a6b0b7671f04acb81380b1c4f5a2d74": {
     "model_module": "@jupyter-widgets/controls",
     "model_module_version": "1.5.0",
     "model_name": "HBoxModel",
     "state": {
      "_dom_classes": [],
      "_model_module": "@jupyter-widgets/controls",
      "_model_module_version": "1.5.0",
      "_model_name": "HBoxModel",
      "_view_count": null,
      "_view_module": "@jupyter-widgets/controls",
      "_view_module_version": "1.5.0",
      "_view_name": "HBoxView",
      "box_style": "",
      "children": [
       "IPY_MODEL_cdf26809f29e4332aa6c24f7350d8245",
       "IPY_MODEL_9156c4f2bd574da1b309dd73d1027701",
       "IPY_MODEL_b039fb4cf60a489eb4a7e8b0d1b0cd93"
      ],
      "layout": "IPY_MODEL_4bbc787211b742b1aa0c0d07fe17b953"
     }
    },
    "2dc3e13f0eb6433586b52e5e1fe824b2": {
     "model_module": "@jupyter-widgets/base",
     "model_module_version": "1.2.0",
     "model_name": "LayoutModel",
     "state": {
      "_model_module": "@jupyter-widgets/base",
      "_model_module_version": "1.2.0",
      "_model_name": "LayoutModel",
      "_view_count": null,
      "_view_module": "@jupyter-widgets/base",
      "_view_module_version": "1.2.0",
      "_view_name": "LayoutView",
      "align_content": null,
      "align_items": null,
      "align_self": null,
      "border": null,
      "bottom": null,
      "display": null,
      "flex": null,
      "flex_flow": null,
      "grid_area": null,
      "grid_auto_columns": null,
      "grid_auto_flow": null,
      "grid_auto_rows": null,
      "grid_column": null,
      "grid_gap": null,
      "grid_row": null,
      "grid_template_areas": null,
      "grid_template_columns": null,
      "grid_template_rows": null,
      "height": null,
      "justify_content": null,
      "justify_items": null,
      "left": null,
      "margin": null,
      "max_height": null,
      "max_width": null,
      "min_height": null,
      "min_width": null,
      "object_fit": null,
      "object_position": null,
      "order": null,
      "overflow": null,
      "overflow_x": null,
      "overflow_y": null,
      "padding": null,
      "right": null,
      "top": null,
      "visibility": null,
      "width": null
     }
    },
    "2e8ddc749e0e47c9814c7519d92b0dff": {
     "model_module": "@jupyter-widgets/base",
     "model_module_version": "1.2.0",
     "model_name": "LayoutModel",
     "state": {
      "_model_module": "@jupyter-widgets/base",
      "_model_module_version": "1.2.0",
      "_model_name": "LayoutModel",
      "_view_count": null,
      "_view_module": "@jupyter-widgets/base",
      "_view_module_version": "1.2.0",
      "_view_name": "LayoutView",
      "align_content": null,
      "align_items": null,
      "align_self": null,
      "border": null,
      "bottom": null,
      "display": null,
      "flex": null,
      "flex_flow": null,
      "grid_area": null,
      "grid_auto_columns": null,
      "grid_auto_flow": null,
      "grid_auto_rows": null,
      "grid_column": null,
      "grid_gap": null,
      "grid_row": null,
      "grid_template_areas": null,
      "grid_template_columns": null,
      "grid_template_rows": null,
      "height": null,
      "justify_content": null,
      "justify_items": null,
      "left": null,
      "margin": null,
      "max_height": null,
      "max_width": null,
      "min_height": null,
      "min_width": null,
      "object_fit": null,
      "object_position": null,
      "order": null,
      "overflow": null,
      "overflow_x": null,
      "overflow_y": null,
      "padding": null,
      "right": null,
      "top": null,
      "visibility": null,
      "width": null
     }
    },
    "384c33324601410988b932fe341ca9c7": {
     "model_module": "@jupyter-widgets/base",
     "model_module_version": "1.2.0",
     "model_name": "LayoutModel",
     "state": {
      "_model_module": "@jupyter-widgets/base",
      "_model_module_version": "1.2.0",
      "_model_name": "LayoutModel",
      "_view_count": null,
      "_view_module": "@jupyter-widgets/base",
      "_view_module_version": "1.2.0",
      "_view_name": "LayoutView",
      "align_content": null,
      "align_items": null,
      "align_self": null,
      "border": null,
      "bottom": null,
      "display": null,
      "flex": null,
      "flex_flow": null,
      "grid_area": null,
      "grid_auto_columns": null,
      "grid_auto_flow": null,
      "grid_auto_rows": null,
      "grid_column": null,
      "grid_gap": null,
      "grid_row": null,
      "grid_template_areas": null,
      "grid_template_columns": null,
      "grid_template_rows": null,
      "height": null,
      "justify_content": null,
      "justify_items": null,
      "left": null,
      "margin": null,
      "max_height": null,
      "max_width": null,
      "min_height": null,
      "min_width": null,
      "object_fit": null,
      "object_position": null,
      "order": null,
      "overflow": null,
      "overflow_x": null,
      "overflow_y": null,
      "padding": null,
      "right": null,
      "top": null,
      "visibility": null,
      "width": null
     }
    },
    "3e2b93f9cebd4818a5d2bd9a097f90f2": {
     "model_module": "@jupyter-widgets/controls",
     "model_module_version": "1.5.0",
     "model_name": "ProgressStyleModel",
     "state": {
      "_model_module": "@jupyter-widgets/controls",
      "_model_module_version": "1.5.0",
      "_model_name": "ProgressStyleModel",
      "_view_count": null,
      "_view_module": "@jupyter-widgets/base",
      "_view_module_version": "1.2.0",
      "_view_name": "StyleView",
      "bar_color": null,
      "description_width": ""
     }
    },
    "4560f2eb2b4a44d98002dd275cefb5d8": {
     "model_module": "@jupyter-widgets/base",
     "model_module_version": "1.2.0",
     "model_name": "LayoutModel",
     "state": {
      "_model_module": "@jupyter-widgets/base",
      "_model_module_version": "1.2.0",
      "_model_name": "LayoutModel",
      "_view_count": null,
      "_view_module": "@jupyter-widgets/base",
      "_view_module_version": "1.2.0",
      "_view_name": "LayoutView",
      "align_content": null,
      "align_items": null,
      "align_self": null,
      "border": null,
      "bottom": null,
      "display": null,
      "flex": null,
      "flex_flow": null,
      "grid_area": null,
      "grid_auto_columns": null,
      "grid_auto_flow": null,
      "grid_auto_rows": null,
      "grid_column": null,
      "grid_gap": null,
      "grid_row": null,
      "grid_template_areas": null,
      "grid_template_columns": null,
      "grid_template_rows": null,
      "height": null,
      "justify_content": null,
      "justify_items": null,
      "left": null,
      "margin": null,
      "max_height": null,
      "max_width": null,
      "min_height": null,
      "min_width": null,
      "object_fit": null,
      "object_position": null,
      "order": null,
      "overflow": null,
      "overflow_x": null,
      "overflow_y": null,
      "padding": null,
      "right": null,
      "top": null,
      "visibility": null,
      "width": null
     }
    },
    "4b63a1ad4e074d67889dbbb7df165439": {
     "model_module": "@jupyter-widgets/base",
     "model_module_version": "1.2.0",
     "model_name": "LayoutModel",
     "state": {
      "_model_module": "@jupyter-widgets/base",
      "_model_module_version": "1.2.0",
      "_model_name": "LayoutModel",
      "_view_count": null,
      "_view_module": "@jupyter-widgets/base",
      "_view_module_version": "1.2.0",
      "_view_name": "LayoutView",
      "align_content": null,
      "align_items": null,
      "align_self": null,
      "border": null,
      "bottom": null,
      "display": null,
      "flex": null,
      "flex_flow": null,
      "grid_area": null,
      "grid_auto_columns": null,
      "grid_auto_flow": null,
      "grid_auto_rows": null,
      "grid_column": null,
      "grid_gap": null,
      "grid_row": null,
      "grid_template_areas": null,
      "grid_template_columns": null,
      "grid_template_rows": null,
      "height": null,
      "justify_content": null,
      "justify_items": null,
      "left": null,
      "margin": null,
      "max_height": null,
      "max_width": null,
      "min_height": null,
      "min_width": null,
      "object_fit": null,
      "object_position": null,
      "order": null,
      "overflow": null,
      "overflow_x": null,
      "overflow_y": null,
      "padding": null,
      "right": null,
      "top": null,
      "visibility": null,
      "width": null
     }
    },
    "4b6e1b51a7484811be83e3b6e606114a": {
     "model_module": "@jupyter-widgets/controls",
     "model_module_version": "1.5.0",
     "model_name": "DescriptionStyleModel",
     "state": {
      "_model_module": "@jupyter-widgets/controls",
      "_model_module_version": "1.5.0",
      "_model_name": "DescriptionStyleModel",
      "_view_count": null,
      "_view_module": "@jupyter-widgets/base",
      "_view_module_version": "1.2.0",
      "_view_name": "StyleView",
      "description_width": ""
     }
    },
    "4bbc787211b742b1aa0c0d07fe17b953": {
     "model_module": "@jupyter-widgets/base",
     "model_module_version": "1.2.0",
     "model_name": "LayoutModel",
     "state": {
      "_model_module": "@jupyter-widgets/base",
      "_model_module_version": "1.2.0",
      "_model_name": "LayoutModel",
      "_view_count": null,
      "_view_module": "@jupyter-widgets/base",
      "_view_module_version": "1.2.0",
      "_view_name": "LayoutView",
      "align_content": null,
      "align_items": null,
      "align_self": null,
      "border": null,
      "bottom": null,
      "display": null,
      "flex": null,
      "flex_flow": null,
      "grid_area": null,
      "grid_auto_columns": null,
      "grid_auto_flow": null,
      "grid_auto_rows": null,
      "grid_column": null,
      "grid_gap": null,
      "grid_row": null,
      "grid_template_areas": null,
      "grid_template_columns": null,
      "grid_template_rows": null,
      "height": null,
      "justify_content": null,
      "justify_items": null,
      "left": null,
      "margin": null,
      "max_height": null,
      "max_width": null,
      "min_height": null,
      "min_width": null,
      "object_fit": null,
      "object_position": null,
      "order": null,
      "overflow": null,
      "overflow_x": null,
      "overflow_y": null,
      "padding": null,
      "right": null,
      "top": null,
      "visibility": null,
      "width": null
     }
    },
    "4eec3fc4189f472eadfa4e487f5612d4": {
     "model_module": "@jupyter-widgets/base",
     "model_module_version": "1.2.0",
     "model_name": "LayoutModel",
     "state": {
      "_model_module": "@jupyter-widgets/base",
      "_model_module_version": "1.2.0",
      "_model_name": "LayoutModel",
      "_view_count": null,
      "_view_module": "@jupyter-widgets/base",
      "_view_module_version": "1.2.0",
      "_view_name": "LayoutView",
      "align_content": null,
      "align_items": null,
      "align_self": null,
      "border": null,
      "bottom": null,
      "display": null,
      "flex": null,
      "flex_flow": null,
      "grid_area": null,
      "grid_auto_columns": null,
      "grid_auto_flow": null,
      "grid_auto_rows": null,
      "grid_column": null,
      "grid_gap": null,
      "grid_row": null,
      "grid_template_areas": null,
      "grid_template_columns": null,
      "grid_template_rows": null,
      "height": null,
      "justify_content": null,
      "justify_items": null,
      "left": null,
      "margin": null,
      "max_height": null,
      "max_width": null,
      "min_height": null,
      "min_width": null,
      "object_fit": null,
      "object_position": null,
      "order": null,
      "overflow": null,
      "overflow_x": null,
      "overflow_y": null,
      "padding": null,
      "right": null,
      "top": null,
      "visibility": null,
      "width": null
     }
    },
    "53c792379cd6441a822040907f24711c": {
     "model_module": "@jupyter-widgets/controls",
     "model_module_version": "1.5.0",
     "model_name": "DescriptionStyleModel",
     "state": {
      "_model_module": "@jupyter-widgets/controls",
      "_model_module_version": "1.5.0",
      "_model_name": "DescriptionStyleModel",
      "_view_count": null,
      "_view_module": "@jupyter-widgets/base",
      "_view_module_version": "1.2.0",
      "_view_name": "StyleView",
      "description_width": ""
     }
    },
    "54fb9231a25d47d9895954c4b8a9adde": {
     "model_module": "@jupyter-widgets/base",
     "model_module_version": "1.2.0",
     "model_name": "LayoutModel",
     "state": {
      "_model_module": "@jupyter-widgets/base",
      "_model_module_version": "1.2.0",
      "_model_name": "LayoutModel",
      "_view_count": null,
      "_view_module": "@jupyter-widgets/base",
      "_view_module_version": "1.2.0",
      "_view_name": "LayoutView",
      "align_content": null,
      "align_items": null,
      "align_self": null,
      "border": null,
      "bottom": null,
      "display": null,
      "flex": null,
      "flex_flow": null,
      "grid_area": null,
      "grid_auto_columns": null,
      "grid_auto_flow": null,
      "grid_auto_rows": null,
      "grid_column": null,
      "grid_gap": null,
      "grid_row": null,
      "grid_template_areas": null,
      "grid_template_columns": null,
      "grid_template_rows": null,
      "height": null,
      "justify_content": null,
      "justify_items": null,
      "left": null,
      "margin": null,
      "max_height": null,
      "max_width": null,
      "min_height": null,
      "min_width": null,
      "object_fit": null,
      "object_position": null,
      "order": null,
      "overflow": null,
      "overflow_x": null,
      "overflow_y": null,
      "padding": null,
      "right": null,
      "top": null,
      "visibility": null,
      "width": null
     }
    },
    "54fd49fd72f8407b9f19b9a65295d7ff": {
     "model_module": "@jupyter-widgets/base",
     "model_module_version": "1.2.0",
     "model_name": "LayoutModel",
     "state": {
      "_model_module": "@jupyter-widgets/base",
      "_model_module_version": "1.2.0",
      "_model_name": "LayoutModel",
      "_view_count": null,
      "_view_module": "@jupyter-widgets/base",
      "_view_module_version": "1.2.0",
      "_view_name": "LayoutView",
      "align_content": null,
      "align_items": null,
      "align_self": null,
      "border": null,
      "bottom": null,
      "display": null,
      "flex": null,
      "flex_flow": null,
      "grid_area": null,
      "grid_auto_columns": null,
      "grid_auto_flow": null,
      "grid_auto_rows": null,
      "grid_column": null,
      "grid_gap": null,
      "grid_row": null,
      "grid_template_areas": null,
      "grid_template_columns": null,
      "grid_template_rows": null,
      "height": null,
      "justify_content": null,
      "justify_items": null,
      "left": null,
      "margin": null,
      "max_height": null,
      "max_width": null,
      "min_height": null,
      "min_width": null,
      "object_fit": null,
      "object_position": null,
      "order": null,
      "overflow": null,
      "overflow_x": null,
      "overflow_y": null,
      "padding": null,
      "right": null,
      "top": null,
      "visibility": null,
      "width": null
     }
    },
    "55ef0d97fef04af3adf468a99a53f335": {
     "model_module": "@jupyter-widgets/base",
     "model_module_version": "1.2.0",
     "model_name": "LayoutModel",
     "state": {
      "_model_module": "@jupyter-widgets/base",
      "_model_module_version": "1.2.0",
      "_model_name": "LayoutModel",
      "_view_count": null,
      "_view_module": "@jupyter-widgets/base",
      "_view_module_version": "1.2.0",
      "_view_name": "LayoutView",
      "align_content": null,
      "align_items": null,
      "align_self": null,
      "border": null,
      "bottom": null,
      "display": null,
      "flex": null,
      "flex_flow": null,
      "grid_area": null,
      "grid_auto_columns": null,
      "grid_auto_flow": null,
      "grid_auto_rows": null,
      "grid_column": null,
      "grid_gap": null,
      "grid_row": null,
      "grid_template_areas": null,
      "grid_template_columns": null,
      "grid_template_rows": null,
      "height": null,
      "justify_content": null,
      "justify_items": null,
      "left": null,
      "margin": null,
      "max_height": null,
      "max_width": null,
      "min_height": null,
      "min_width": null,
      "object_fit": null,
      "object_position": null,
      "order": null,
      "overflow": null,
      "overflow_x": null,
      "overflow_y": null,
      "padding": null,
      "right": null,
      "top": null,
      "visibility": null,
      "width": null
     }
    },
    "56580424724c45bc994e00136508d0f0": {
     "model_module": "@jupyter-widgets/controls",
     "model_module_version": "1.5.0",
     "model_name": "DescriptionStyleModel",
     "state": {
      "_model_module": "@jupyter-widgets/controls",
      "_model_module_version": "1.5.0",
      "_model_name": "DescriptionStyleModel",
      "_view_count": null,
      "_view_module": "@jupyter-widgets/base",
      "_view_module_version": "1.2.0",
      "_view_name": "StyleView",
      "description_width": ""
     }
    },
    "56d993de4149409e997ab357f252bd98": {
     "model_module": "@jupyter-widgets/controls",
     "model_module_version": "1.5.0",
     "model_name": "DescriptionStyleModel",
     "state": {
      "_model_module": "@jupyter-widgets/controls",
      "_model_module_version": "1.5.0",
      "_model_name": "DescriptionStyleModel",
      "_view_count": null,
      "_view_module": "@jupyter-widgets/base",
      "_view_module_version": "1.2.0",
      "_view_name": "StyleView",
      "description_width": ""
     }
    },
    "61f040d051064eeb9207556510e945ad": {
     "model_module": "@jupyter-widgets/controls",
     "model_module_version": "1.5.0",
     "model_name": "FloatProgressModel",
     "state": {
      "_dom_classes": [],
      "_model_module": "@jupyter-widgets/controls",
      "_model_module_version": "1.5.0",
      "_model_name": "FloatProgressModel",
      "_view_count": null,
      "_view_module": "@jupyter-widgets/controls",
      "_view_module_version": "1.5.0",
      "_view_name": "ProgressView",
      "bar_style": "success",
      "description": "",
      "description_tooltip": null,
      "layout": "IPY_MODEL_8c6ae556b4ce40dfa45d7dc7118705b4",
      "max": 1372,
      "min": 0,
      "orientation": "horizontal",
      "style": "IPY_MODEL_ca867798d54b4852b8fdc3a4f20215d7",
      "value": 1372
     }
    },
    "6438638783624587bfc46ec61b1f6e03": {
     "model_module": "@jupyter-widgets/base",
     "model_module_version": "1.2.0",
     "model_name": "LayoutModel",
     "state": {
      "_model_module": "@jupyter-widgets/base",
      "_model_module_version": "1.2.0",
      "_model_name": "LayoutModel",
      "_view_count": null,
      "_view_module": "@jupyter-widgets/base",
      "_view_module_version": "1.2.0",
      "_view_name": "LayoutView",
      "align_content": null,
      "align_items": null,
      "align_self": null,
      "border": null,
      "bottom": null,
      "display": null,
      "flex": null,
      "flex_flow": null,
      "grid_area": null,
      "grid_auto_columns": null,
      "grid_auto_flow": null,
      "grid_auto_rows": null,
      "grid_column": null,
      "grid_gap": null,
      "grid_row": null,
      "grid_template_areas": null,
      "grid_template_columns": null,
      "grid_template_rows": null,
      "height": null,
      "justify_content": null,
      "justify_items": null,
      "left": null,
      "margin": null,
      "max_height": null,
      "max_width": null,
      "min_height": null,
      "min_width": null,
      "object_fit": null,
      "object_position": null,
      "order": null,
      "overflow": null,
      "overflow_x": null,
      "overflow_y": null,
      "padding": null,
      "right": null,
      "top": null,
      "visibility": null,
      "width": null
     }
    },
    "64ae876e2e4e402c8f1488fdcc81da90": {
     "model_module": "@jupyter-widgets/controls",
     "model_module_version": "1.5.0",
     "model_name": "FloatProgressModel",
     "state": {
      "_dom_classes": [],
      "_model_module": "@jupyter-widgets/controls",
      "_model_module_version": "1.5.0",
      "_model_name": "FloatProgressModel",
      "_view_count": null,
      "_view_module": "@jupyter-widgets/controls",
      "_view_module_version": "1.5.0",
      "_view_name": "ProgressView",
      "bar_style": "success",
      "description": "",
      "description_tooltip": null,
      "layout": "IPY_MODEL_1107b0c53864446487980a5d5e52325b",
      "max": 46408,
      "min": 0,
      "orientation": "horizontal",
      "style": "IPY_MODEL_f36f67e12c8742db8ef6803db93a1701",
      "value": 46408
     }
    },
    "64b5baaba5e84e8098b4fd70f741565c": {
     "model_module": "@jupyter-widgets/controls",
     "model_module_version": "1.5.0",
     "model_name": "DescriptionStyleModel",
     "state": {
      "_model_module": "@jupyter-widgets/controls",
      "_model_module_version": "1.5.0",
      "_model_name": "DescriptionStyleModel",
      "_view_count": null,
      "_view_module": "@jupyter-widgets/base",
      "_view_module_version": "1.2.0",
      "_view_name": "StyleView",
      "description_width": ""
     }
    },
    "650960d13d404eaab7646aba72ad4761": {
     "model_module": "@jupyter-widgets/controls",
     "model_module_version": "1.5.0",
     "model_name": "HBoxModel",
     "state": {
      "_dom_classes": [],
      "_model_module": "@jupyter-widgets/controls",
      "_model_module_version": "1.5.0",
      "_model_name": "HBoxModel",
      "_view_count": null,
      "_view_module": "@jupyter-widgets/controls",
      "_view_module_version": "1.5.0",
      "_view_name": "HBoxView",
      "box_style": "",
      "children": [
       "IPY_MODEL_7435a6ba23e44fbfb78224e1167f5168",
       "IPY_MODEL_7d003f6aaab7460092bfac7d321f7b73",
       "IPY_MODEL_054c1e847bf543f6820a28133a5b8043"
      ],
      "layout": "IPY_MODEL_a6a247fccdb5434ea7f604519a695b26"
     }
    },
    "69616922870f4184a83555d267518f08": {
     "model_module": "@jupyter-widgets/controls",
     "model_module_version": "1.5.0",
     "model_name": "HBoxModel",
     "state": {
      "_dom_classes": [],
      "_model_module": "@jupyter-widgets/controls",
      "_model_module_version": "1.5.0",
      "_model_name": "HBoxModel",
      "_view_count": null,
      "_view_module": "@jupyter-widgets/controls",
      "_view_module_version": "1.5.0",
      "_view_name": "HBoxView",
      "box_style": "",
      "children": [
       "IPY_MODEL_92760f19c5904ffd9e1880f9357ff2a2",
       "IPY_MODEL_ba1084df0e3a4866bc1086eae24b2c85",
       "IPY_MODEL_7872f0f18bfa433cb9dadf1911b8dcbc"
      ],
      "layout": "IPY_MODEL_4eec3fc4189f472eadfa4e487f5612d4"
     }
    },
    "6a74268ee0224b2284593679fa376a7c": {
     "model_module": "@jupyter-widgets/controls",
     "model_module_version": "1.5.0",
     "model_name": "DescriptionStyleModel",
     "state": {
      "_model_module": "@jupyter-widgets/controls",
      "_model_module_version": "1.5.0",
      "_model_name": "DescriptionStyleModel",
      "_view_count": null,
      "_view_module": "@jupyter-widgets/base",
      "_view_module_version": "1.2.0",
      "_view_name": "StyleView",
      "description_width": ""
     }
    },
    "6f449b3d66734c73917ff167b2e1b335": {
     "model_module": "@jupyter-widgets/controls",
     "model_module_version": "1.5.0",
     "model_name": "HTMLModel",
     "state": {
      "_dom_classes": [],
      "_model_module": "@jupyter-widgets/controls",
      "_model_module_version": "1.5.0",
      "_model_name": "HTMLModel",
      "_view_count": null,
      "_view_module": "@jupyter-widgets/controls",
      "_view_module_version": "1.5.0",
      "_view_name": "HTMLView",
      "description": "",
      "description_tooltip": null,
      "layout": "IPY_MODEL_4560f2eb2b4a44d98002dd275cefb5d8",
      "placeholder": "​",
      "style": "IPY_MODEL_09f57ae48e4a4fdfb727b8ffdd1e7dec",
      "value": "tokenizer.json: 100%"
     }
    },
    "6f81a4904e9e4c9eb47181526088955c": {
     "model_module": "@jupyter-widgets/base",
     "model_module_version": "1.2.0",
     "model_name": "LayoutModel",
     "state": {
      "_model_module": "@jupyter-widgets/base",
      "_model_module_version": "1.2.0",
      "_model_name": "LayoutModel",
      "_view_count": null,
      "_view_module": "@jupyter-widgets/base",
      "_view_module_version": "1.2.0",
      "_view_name": "LayoutView",
      "align_content": null,
      "align_items": null,
      "align_self": null,
      "border": null,
      "bottom": null,
      "display": null,
      "flex": null,
      "flex_flow": null,
      "grid_area": null,
      "grid_auto_columns": null,
      "grid_auto_flow": null,
      "grid_auto_rows": null,
      "grid_column": null,
      "grid_gap": null,
      "grid_row": null,
      "grid_template_areas": null,
      "grid_template_columns": null,
      "grid_template_rows": null,
      "height": null,
      "justify_content": null,
      "justify_items": null,
      "left": null,
      "margin": null,
      "max_height": null,
      "max_width": null,
      "min_height": null,
      "min_width": null,
      "object_fit": null,
      "object_position": null,
      "order": null,
      "overflow": null,
      "overflow_x": null,
      "overflow_y": null,
      "padding": null,
      "right": null,
      "top": null,
      "visibility": null,
      "width": null
     }
    },
    "7435a6ba23e44fbfb78224e1167f5168": {
     "model_module": "@jupyter-widgets/controls",
     "model_module_version": "1.5.0",
     "model_name": "HTMLModel",
     "state": {
      "_dom_classes": [],
      "_model_module": "@jupyter-widgets/controls",
      "_model_module_version": "1.5.0",
      "_model_name": "HTMLModel",
      "_view_count": null,
      "_view_module": "@jupyter-widgets/controls",
      "_view_module_version": "1.5.0",
      "_view_name": "HTMLView",
      "description": "",
      "description_tooltip": null,
      "layout": "IPY_MODEL_54fd49fd72f8407b9f19b9a65295d7ff",
      "placeholder": "​",
      "style": "IPY_MODEL_aaa450e3858949b9965ddc88b759e4f6",
      "value": "tokenizer.model: 100%"
     }
    },
    "75475beb5cb44f4985a7191a30da27a6": {
     "model_module": "@jupyter-widgets/base",
     "model_module_version": "1.2.0",
     "model_name": "LayoutModel",
     "state": {
      "_model_module": "@jupyter-widgets/base",
      "_model_module_version": "1.2.0",
      "_model_name": "LayoutModel",
      "_view_count": null,
      "_view_module": "@jupyter-widgets/base",
      "_view_module_version": "1.2.0",
      "_view_name": "LayoutView",
      "align_content": null,
      "align_items": null,
      "align_self": null,
      "border": null,
      "bottom": null,
      "display": null,
      "flex": null,
      "flex_flow": null,
      "grid_area": null,
      "grid_auto_columns": null,
      "grid_auto_flow": null,
      "grid_auto_rows": null,
      "grid_column": null,
      "grid_gap": null,
      "grid_row": null,
      "grid_template_areas": null,
      "grid_template_columns": null,
      "grid_template_rows": null,
      "height": null,
      "justify_content": null,
      "justify_items": null,
      "left": null,
      "margin": null,
      "max_height": null,
      "max_width": null,
      "min_height": null,
      "min_width": null,
      "object_fit": null,
      "object_position": null,
      "order": null,
      "overflow": null,
      "overflow_x": null,
      "overflow_y": null,
      "padding": null,
      "right": null,
      "top": null,
      "visibility": null,
      "width": null
     }
    },
    "7872f0f18bfa433cb9dadf1911b8dcbc": {
     "model_module": "@jupyter-widgets/controls",
     "model_module_version": "1.5.0",
     "model_name": "HTMLModel",
     "state": {
      "_dom_classes": [],
      "_model_module": "@jupyter-widgets/controls",
      "_model_module_version": "1.5.0",
      "_model_name": "HTMLModel",
      "_view_count": null,
      "_view_module": "@jupyter-widgets/controls",
      "_view_module_version": "1.5.0",
      "_view_name": "HTMLView",
      "description": "",
      "description_tooltip": null,
      "layout": "IPY_MODEL_89fc7a256dae4915a6d70a4f4dbd5f61",
      "placeholder": "​",
      "style": "IPY_MODEL_d6f913402cc94853abfff11ab521e3c0",
      "value": " 2.22G/2.22G [00:52&lt;00:00, 41.6MB/s]"
     }
    },
    "7bdc1d8d704b4efd9a8d9869f209fa1c": {
     "model_module": "@jupyter-widgets/controls",
     "model_module_version": "1.5.0",
     "model_name": "HBoxModel",
     "state": {
      "_dom_classes": [],
      "_model_module": "@jupyter-widgets/controls",
      "_model_module_version": "1.5.0",
      "_model_name": "HBoxModel",
      "_view_count": null,
      "_view_module": "@jupyter-widgets/controls",
      "_view_module_version": "1.5.0",
      "_view_name": "HBoxView",
      "box_style": "",
      "children": [
       "IPY_MODEL_6f449b3d66734c73917ff167b2e1b335",
       "IPY_MODEL_ef583885f1af47babc4c7d3a924bcedc",
       "IPY_MODEL_1e06034d1ab14f64860c50c69c74e701"
      ],
      "layout": "IPY_MODEL_384c33324601410988b932fe341ca9c7"
     }
    },
    "7d003f6aaab7460092bfac7d321f7b73": {
     "model_module": "@jupyter-widgets/controls",
     "model_module_version": "1.5.0",
     "model_name": "FloatProgressModel",
     "state": {
      "_dom_classes": [],
      "_model_module": "@jupyter-widgets/controls",
      "_model_module_version": "1.5.0",
      "_model_name": "FloatProgressModel",
      "_view_count": null,
      "_view_module": "@jupyter-widgets/controls",
      "_view_module_version": "1.5.0",
      "_view_name": "ProgressView",
      "bar_style": "success",
      "description": "",
      "description_tooltip": null,
      "layout": "IPY_MODEL_0e73decf696f455fb45652b579551df1",
      "max": 4241003,
      "min": 0,
      "orientation": "horizontal",
      "style": "IPY_MODEL_f54fb36e843a4f10b93dae0a93229221",
      "value": 4241003
     }
    },
    "818da3c75b8240f79aec2a11286ac036": {
     "model_module": "@jupyter-widgets/base",
     "model_module_version": "1.2.0",
     "model_name": "LayoutModel",
     "state": {
      "_model_module": "@jupyter-widgets/base",
      "_model_module_version": "1.2.0",
      "_model_name": "LayoutModel",
      "_view_count": null,
      "_view_module": "@jupyter-widgets/base",
      "_view_module_version": "1.2.0",
      "_view_name": "LayoutView",
      "align_content": null,
      "align_items": null,
      "align_self": null,
      "border": null,
      "bottom": null,
      "display": null,
      "flex": null,
      "flex_flow": null,
      "grid_area": null,
      "grid_auto_columns": null,
      "grid_auto_flow": null,
      "grid_auto_rows": null,
      "grid_column": null,
      "grid_gap": null,
      "grid_row": null,
      "grid_template_areas": null,
      "grid_template_columns": null,
      "grid_template_rows": null,
      "height": null,
      "justify_content": null,
      "justify_items": null,
      "left": null,
      "margin": null,
      "max_height": null,
      "max_width": null,
      "min_height": null,
      "min_width": null,
      "object_fit": null,
      "object_position": null,
      "order": null,
      "overflow": null,
      "overflow_x": null,
      "overflow_y": null,
      "padding": null,
      "right": null,
      "top": null,
      "visibility": null,
      "width": null
     }
    },
    "89fc7a256dae4915a6d70a4f4dbd5f61": {
     "model_module": "@jupyter-widgets/base",
     "model_module_version": "1.2.0",
     "model_name": "LayoutModel",
     "state": {
      "_model_module": "@jupyter-widgets/base",
      "_model_module_version": "1.2.0",
      "_model_name": "LayoutModel",
      "_view_count": null,
      "_view_module": "@jupyter-widgets/base",
      "_view_module_version": "1.2.0",
      "_view_name": "LayoutView",
      "align_content": null,
      "align_items": null,
      "align_self": null,
      "border": null,
      "bottom": null,
      "display": null,
      "flex": null,
      "flex_flow": null,
      "grid_area": null,
      "grid_auto_columns": null,
      "grid_auto_flow": null,
      "grid_auto_rows": null,
      "grid_column": null,
      "grid_gap": null,
      "grid_row": null,
      "grid_template_areas": null,
      "grid_template_columns": null,
      "grid_template_rows": null,
      "height": null,
      "justify_content": null,
      "justify_items": null,
      "left": null,
      "margin": null,
      "max_height": null,
      "max_width": null,
      "min_height": null,
      "min_width": null,
      "object_fit": null,
      "object_position": null,
      "order": null,
      "overflow": null,
      "overflow_x": null,
      "overflow_y": null,
      "padding": null,
      "right": null,
      "top": null,
      "visibility": null,
      "width": null
     }
    },
    "8c301d51ec2d4dcab0575415ce900c33": {
     "model_module": "@jupyter-widgets/controls",
     "model_module_version": "1.5.0",
     "model_name": "ProgressStyleModel",
     "state": {
      "_model_module": "@jupyter-widgets/controls",
      "_model_module_version": "1.5.0",
      "_model_name": "ProgressStyleModel",
      "_view_count": null,
      "_view_module": "@jupyter-widgets/base",
      "_view_module_version": "1.2.0",
      "_view_name": "StyleView",
      "bar_color": null,
      "description_width": ""
     }
    },
    "8c6ae556b4ce40dfa45d7dc7118705b4": {
     "model_module": "@jupyter-widgets/base",
     "model_module_version": "1.2.0",
     "model_name": "LayoutModel",
     "state": {
      "_model_module": "@jupyter-widgets/base",
      "_model_module_version": "1.2.0",
      "_model_name": "LayoutModel",
      "_view_count": null,
      "_view_module": "@jupyter-widgets/base",
      "_view_module_version": "1.2.0",
      "_view_name": "LayoutView",
      "align_content": null,
      "align_items": null,
      "align_self": null,
      "border": null,
      "bottom": null,
      "display": null,
      "flex": null,
      "flex_flow": null,
      "grid_area": null,
      "grid_auto_columns": null,
      "grid_auto_flow": null,
      "grid_auto_rows": null,
      "grid_column": null,
      "grid_gap": null,
      "grid_row": null,
      "grid_template_areas": null,
      "grid_template_columns": null,
      "grid_template_rows": null,
      "height": null,
      "justify_content": null,
      "justify_items": null,
      "left": null,
      "margin": null,
      "max_height": null,
      "max_width": null,
      "min_height": null,
      "min_width": null,
      "object_fit": null,
      "object_position": null,
      "order": null,
      "overflow": null,
      "overflow_x": null,
      "overflow_y": null,
      "padding": null,
      "right": null,
      "top": null,
      "visibility": null,
      "width": null
     }
    },
    "9156c4f2bd574da1b309dd73d1027701": {
     "model_module": "@jupyter-widgets/controls",
     "model_module_version": "1.5.0",
     "model_name": "FloatProgressModel",
     "state": {
      "_dom_classes": [],
      "_model_module": "@jupyter-widgets/controls",
      "_model_module_version": "1.5.0",
      "_model_name": "FloatProgressModel",
      "_view_count": null,
      "_view_module": "@jupyter-widgets/controls",
      "_view_module_version": "1.5.0",
      "_view_name": "ProgressView",
      "bar_style": "success",
      "description": "",
      "description_tooltip": null,
      "layout": "IPY_MODEL_2e8ddc749e0e47c9814c7519d92b0dff",
      "max": 190,
      "min": 0,
      "orientation": "horizontal",
      "style": "IPY_MODEL_3e2b93f9cebd4818a5d2bd9a097f90f2",
      "value": 190
     }
    },
    "92760f19c5904ffd9e1880f9357ff2a2": {
     "model_module": "@jupyter-widgets/controls",
     "model_module_version": "1.5.0",
     "model_name": "HTMLModel",
     "state": {
      "_dom_classes": [],
      "_model_module": "@jupyter-widgets/controls",
      "_model_module_version": "1.5.0",
      "_model_name": "HTMLModel",
      "_view_count": null,
      "_view_module": "@jupyter-widgets/controls",
      "_view_module_version": "1.5.0",
      "_view_name": "HTMLView",
      "description": "",
      "description_tooltip": null,
      "layout": "IPY_MODEL_dd62c2388c7546809c297e24e2074b0b",
      "placeholder": "​",
      "style": "IPY_MODEL_20180032fb3e45b6a4ca677dc4dadcf7",
      "value": "model.safetensors: 100%"
     }
    },
    "9b57a79904c74fd495bbe42acd5d5158": {
     "model_module": "@jupyter-widgets/controls",
     "model_module_version": "1.5.0",
     "model_name": "DescriptionStyleModel",
     "state": {
      "_model_module": "@jupyter-widgets/controls",
      "_model_module_version": "1.5.0",
      "_model_name": "DescriptionStyleModel",
      "_view_count": null,
      "_view_module": "@jupyter-widgets/base",
      "_view_module_version": "1.2.0",
      "_view_name": "StyleView",
      "description_width": ""
     }
    },
    "9c8d7cfadf114db3b391c2beba4c9000": {
     "model_module": "@jupyter-widgets/controls",
     "model_module_version": "1.5.0",
     "model_name": "HTMLModel",
     "state": {
      "_dom_classes": [],
      "_model_module": "@jupyter-widgets/controls",
      "_model_module_version": "1.5.0",
      "_model_name": "HTMLModel",
      "_view_count": null,
      "_view_module": "@jupyter-widgets/controls",
      "_view_module_version": "1.5.0",
      "_view_name": "HTMLView",
      "description": "",
      "description_tooltip": null,
      "layout": "IPY_MODEL_2dc3e13f0eb6433586b52e5e1fe824b2",
      "placeholder": "​",
      "style": "IPY_MODEL_c52957332c634c8296b4ec2f1d9fac72",
      "value": "config.json: 100%"
     }
    },
    "a6a247fccdb5434ea7f604519a695b26": {
     "model_module": "@jupyter-widgets/base",
     "model_module_version": "1.2.0",
     "model_name": "LayoutModel",
     "state": {
      "_model_module": "@jupyter-widgets/base",
      "_model_module_version": "1.2.0",
      "_model_name": "LayoutModel",
      "_view_count": null,
      "_view_module": "@jupyter-widgets/base",
      "_view_module_version": "1.2.0",
      "_view_name": "LayoutView",
      "align_content": null,
      "align_items": null,
      "align_self": null,
      "border": null,
      "bottom": null,
      "display": null,
      "flex": null,
      "flex_flow": null,
      "grid_area": null,
      "grid_auto_columns": null,
      "grid_auto_flow": null,
      "grid_auto_rows": null,
      "grid_column": null,
      "grid_gap": null,
      "grid_row": null,
      "grid_template_areas": null,
      "grid_template_columns": null,
      "grid_template_rows": null,
      "height": null,
      "justify_content": null,
      "justify_items": null,
      "left": null,
      "margin": null,
      "max_height": null,
      "max_width": null,
      "min_height": null,
      "min_width": null,
      "object_fit": null,
      "object_position": null,
      "order": null,
      "overflow": null,
      "overflow_x": null,
      "overflow_y": null,
      "padding": null,
      "right": null,
      "top": null,
      "visibility": null,
      "width": null
     }
    },
    "a8477c88a3ec406a8894b9741ed0e0d5": {
     "model_module": "@jupyter-widgets/controls",
     "model_module_version": "1.5.0",
     "model_name": "ProgressStyleModel",
     "state": {
      "_model_module": "@jupyter-widgets/controls",
      "_model_module_version": "1.5.0",
      "_model_name": "ProgressStyleModel",
      "_view_count": null,
      "_view_module": "@jupyter-widgets/base",
      "_view_module_version": "1.2.0",
      "_view_name": "StyleView",
      "bar_color": null,
      "description_width": ""
     }
    },
    "aaa450e3858949b9965ddc88b759e4f6": {
     "model_module": "@jupyter-widgets/controls",
     "model_module_version": "1.5.0",
     "model_name": "DescriptionStyleModel",
     "state": {
      "_model_module": "@jupyter-widgets/controls",
      "_model_module_version": "1.5.0",
      "_model_name": "DescriptionStyleModel",
      "_view_count": null,
      "_view_module": "@jupyter-widgets/base",
      "_view_module_version": "1.2.0",
      "_view_name": "StyleView",
      "description_width": ""
     }
    },
    "aeddc6641d2548499b1c342c8369b0ca": {
     "model_module": "@jupyter-widgets/controls",
     "model_module_version": "1.5.0",
     "model_name": "HBoxModel",
     "state": {
      "_dom_classes": [],
      "_model_module": "@jupyter-widgets/controls",
      "_model_module_version": "1.5.0",
      "_model_name": "HBoxModel",
      "_view_count": null,
      "_view_module": "@jupyter-widgets/controls",
      "_view_module_version": "1.5.0",
      "_view_name": "HBoxView",
      "box_style": "",
      "children": [
       "IPY_MODEL_0c2aaa39da894e2399134268c02ea28c",
       "IPY_MODEL_2733afce15a1442fb88971f0b6bee82b",
       "IPY_MODEL_dc3d71496e6a4b40bd487fbec5b41ec7"
      ],
      "layout": "IPY_MODEL_affda2607176452cbd9c9e74a7d7ff5a"
     }
    },
    "affda2607176452cbd9c9e74a7d7ff5a": {
     "model_module": "@jupyter-widgets/base",
     "model_module_version": "1.2.0",
     "model_name": "LayoutModel",
     "state": {
      "_model_module": "@jupyter-widgets/base",
      "_model_module_version": "1.2.0",
      "_model_name": "LayoutModel",
      "_view_count": null,
      "_view_module": "@jupyter-widgets/base",
      "_view_module_version": "1.2.0",
      "_view_name": "LayoutView",
      "align_content": null,
      "align_items": null,
      "align_self": null,
      "border": null,
      "bottom": null,
      "display": null,
      "flex": null,
      "flex_flow": null,
      "grid_area": null,
      "grid_auto_columns": null,
      "grid_auto_flow": null,
      "grid_auto_rows": null,
      "grid_column": null,
      "grid_gap": null,
      "grid_row": null,
      "grid_template_areas": null,
      "grid_template_columns": null,
      "grid_template_rows": null,
      "height": null,
      "justify_content": null,
      "justify_items": null,
      "left": null,
      "margin": null,
      "max_height": null,
      "max_width": null,
      "min_height": null,
      "min_width": null,
      "object_fit": null,
      "object_position": null,
      "order": null,
      "overflow": null,
      "overflow_x": null,
      "overflow_y": null,
      "padding": null,
      "right": null,
      "top": null,
      "visibility": null,
      "width": null
     }
    },
    "b039fb4cf60a489eb4a7e8b0d1b0cd93": {
     "model_module": "@jupyter-widgets/controls",
     "model_module_version": "1.5.0",
     "model_name": "HTMLModel",
     "state": {
      "_dom_classes": [],
      "_model_module": "@jupyter-widgets/controls",
      "_model_module_version": "1.5.0",
      "_model_name": "HTMLModel",
      "_view_count": null,
      "_view_module": "@jupyter-widgets/controls",
      "_view_module_version": "1.5.0",
      "_view_name": "HTMLView",
      "description": "",
      "description_tooltip": null,
      "layout": "IPY_MODEL_c1d2d1b6d44a4cad885e918b0f14433c",
      "placeholder": "​",
      "style": "IPY_MODEL_64b5baaba5e84e8098b4fd70f741565c",
      "value": " 190/190 [00:00&lt;00:00, 10.1kB/s]"
     }
    },
    "ba1084df0e3a4866bc1086eae24b2c85": {
     "model_module": "@jupyter-widgets/controls",
     "model_module_version": "1.5.0",
     "model_name": "FloatProgressModel",
     "state": {
      "_dom_classes": [],
      "_model_module": "@jupyter-widgets/controls",
      "_model_module_version": "1.5.0",
      "_model_name": "FloatProgressModel",
      "_view_count": null,
      "_view_module": "@jupyter-widgets/controls",
      "_view_module_version": "1.5.0",
      "_view_name": "ProgressView",
      "bar_style": "success",
      "description": "",
      "description_tooltip": null,
      "layout": "IPY_MODEL_4b63a1ad4e074d67889dbbb7df165439",
      "max": 2224765107,
      "min": 0,
      "orientation": "horizontal",
      "style": "IPY_MODEL_1b36f5f2e6ca4406a4346b00309fc19c",
      "value": 2224765107
     }
    },
    "bcb14b10eb4842f182bd173d3798dbdf": {
     "model_module": "@jupyter-widgets/base",
     "model_module_version": "1.2.0",
     "model_name": "LayoutModel",
     "state": {
      "_model_module": "@jupyter-widgets/base",
      "_model_module_version": "1.2.0",
      "_model_name": "LayoutModel",
      "_view_count": null,
      "_view_module": "@jupyter-widgets/base",
      "_view_module_version": "1.2.0",
      "_view_name": "LayoutView",
      "align_content": null,
      "align_items": null,
      "align_self": null,
      "border": null,
      "bottom": null,
      "display": null,
      "flex": null,
      "flex_flow": null,
      "grid_area": null,
      "grid_auto_columns": null,
      "grid_auto_flow": null,
      "grid_auto_rows": null,
      "grid_column": null,
      "grid_gap": null,
      "grid_row": null,
      "grid_template_areas": null,
      "grid_template_columns": null,
      "grid_template_rows": null,
      "height": null,
      "justify_content": null,
      "justify_items": null,
      "left": null,
      "margin": null,
      "max_height": null,
      "max_width": null,
      "min_height": null,
      "min_width": null,
      "object_fit": null,
      "object_position": null,
      "order": null,
      "overflow": null,
      "overflow_x": null,
      "overflow_y": null,
      "padding": null,
      "right": null,
      "top": null,
      "visibility": null,
      "width": null
     }
    },
    "bf05cfaef362438da474ff288f02ca9c": {
     "model_module": "@jupyter-widgets/base",
     "model_module_version": "1.2.0",
     "model_name": "LayoutModel",
     "state": {
      "_model_module": "@jupyter-widgets/base",
      "_model_module_version": "1.2.0",
      "_model_name": "LayoutModel",
      "_view_count": null,
      "_view_module": "@jupyter-widgets/base",
      "_view_module_version": "1.2.0",
      "_view_name": "LayoutView",
      "align_content": null,
      "align_items": null,
      "align_self": null,
      "border": null,
      "bottom": null,
      "display": null,
      "flex": null,
      "flex_flow": null,
      "grid_area": null,
      "grid_auto_columns": null,
      "grid_auto_flow": null,
      "grid_auto_rows": null,
      "grid_column": null,
      "grid_gap": null,
      "grid_row": null,
      "grid_template_areas": null,
      "grid_template_columns": null,
      "grid_template_rows": null,
      "height": null,
      "justify_content": null,
      "justify_items": null,
      "left": null,
      "margin": null,
      "max_height": null,
      "max_width": null,
      "min_height": null,
      "min_width": null,
      "object_fit": null,
      "object_position": null,
      "order": null,
      "overflow": null,
      "overflow_x": null,
      "overflow_y": null,
      "padding": null,
      "right": null,
      "top": null,
      "visibility": null,
      "width": null
     }
    },
    "bf70759bd1184055a9a22fc01ac5a79a": {
     "model_module": "@jupyter-widgets/controls",
     "model_module_version": "1.5.0",
     "model_name": "DescriptionStyleModel",
     "state": {
      "_model_module": "@jupyter-widgets/controls",
      "_model_module_version": "1.5.0",
      "_model_name": "DescriptionStyleModel",
      "_view_count": null,
      "_view_module": "@jupyter-widgets/base",
      "_view_module_version": "1.2.0",
      "_view_name": "StyleView",
      "description_width": ""
     }
    },
    "c1d2d1b6d44a4cad885e918b0f14433c": {
     "model_module": "@jupyter-widgets/base",
     "model_module_version": "1.2.0",
     "model_name": "LayoutModel",
     "state": {
      "_model_module": "@jupyter-widgets/base",
      "_model_module_version": "1.2.0",
      "_model_name": "LayoutModel",
      "_view_count": null,
      "_view_module": "@jupyter-widgets/base",
      "_view_module_version": "1.2.0",
      "_view_name": "LayoutView",
      "align_content": null,
      "align_items": null,
      "align_self": null,
      "border": null,
      "bottom": null,
      "display": null,
      "flex": null,
      "flex_flow": null,
      "grid_area": null,
      "grid_auto_columns": null,
      "grid_auto_flow": null,
      "grid_auto_rows": null,
      "grid_column": null,
      "grid_gap": null,
      "grid_row": null,
      "grid_template_areas": null,
      "grid_template_columns": null,
      "grid_template_rows": null,
      "height": null,
      "justify_content": null,
      "justify_items": null,
      "left": null,
      "margin": null,
      "max_height": null,
      "max_width": null,
      "min_height": null,
      "min_width": null,
      "object_fit": null,
      "object_position": null,
      "order": null,
      "overflow": null,
      "overflow_x": null,
      "overflow_y": null,
      "padding": null,
      "right": null,
      "top": null,
      "visibility": null,
      "width": null
     }
    },
    "c3dc55bc010e450a9bf5daa895cb742a": {
     "model_module": "@jupyter-widgets/base",
     "model_module_version": "1.2.0",
     "model_name": "LayoutModel",
     "state": {
      "_model_module": "@jupyter-widgets/base",
      "_model_module_version": "1.2.0",
      "_model_name": "LayoutModel",
      "_view_count": null,
      "_view_module": "@jupyter-widgets/base",
      "_view_module_version": "1.2.0",
      "_view_name": "LayoutView",
      "align_content": null,
      "align_items": null,
      "align_self": null,
      "border": null,
      "bottom": null,
      "display": null,
      "flex": null,
      "flex_flow": null,
      "grid_area": null,
      "grid_auto_columns": null,
      "grid_auto_flow": null,
      "grid_auto_rows": null,
      "grid_column": null,
      "grid_gap": null,
      "grid_row": null,
      "grid_template_areas": null,
      "grid_template_columns": null,
      "grid_template_rows": null,
      "height": null,
      "justify_content": null,
      "justify_items": null,
      "left": null,
      "margin": null,
      "max_height": null,
      "max_width": null,
      "min_height": null,
      "min_width": null,
      "object_fit": null,
      "object_position": null,
      "order": null,
      "overflow": null,
      "overflow_x": null,
      "overflow_y": null,
      "padding": null,
      "right": null,
      "top": null,
      "visibility": null,
      "width": null
     }
    },
    "c52957332c634c8296b4ec2f1d9fac72": {
     "model_module": "@jupyter-widgets/controls",
     "model_module_version": "1.5.0",
     "model_name": "DescriptionStyleModel",
     "state": {
      "_model_module": "@jupyter-widgets/controls",
      "_model_module_version": "1.5.0",
      "_model_name": "DescriptionStyleModel",
      "_view_count": null,
      "_view_module": "@jupyter-widgets/base",
      "_view_module_version": "1.2.0",
      "_view_name": "StyleView",
      "description_width": ""
     }
    },
    "ca867798d54b4852b8fdc3a4f20215d7": {
     "model_module": "@jupyter-widgets/controls",
     "model_module_version": "1.5.0",
     "model_name": "ProgressStyleModel",
     "state": {
      "_model_module": "@jupyter-widgets/controls",
      "_model_module_version": "1.5.0",
      "_model_name": "ProgressStyleModel",
      "_view_count": null,
      "_view_module": "@jupyter-widgets/base",
      "_view_module_version": "1.2.0",
      "_view_name": "StyleView",
      "bar_color": null,
      "description_width": ""
     }
    },
    "cdf26809f29e4332aa6c24f7350d8245": {
     "model_module": "@jupyter-widgets/controls",
     "model_module_version": "1.5.0",
     "model_name": "HTMLModel",
     "state": {
      "_dom_classes": [],
      "_model_module": "@jupyter-widgets/controls",
      "_model_module_version": "1.5.0",
      "_model_name": "HTMLModel",
      "_view_count": null,
      "_view_module": "@jupyter-widgets/controls",
      "_view_module_version": "1.5.0",
      "_view_name": "HTMLView",
      "description": "",
      "description_tooltip": null,
      "layout": "IPY_MODEL_bcb14b10eb4842f182bd173d3798dbdf",
      "placeholder": "​",
      "style": "IPY_MODEL_4b6e1b51a7484811be83e3b6e606114a",
      "value": "generation_config.json: 100%"
     }
    },
    "d698a1ce0cb849e096a1e50ec07cd2f7": {
     "model_module": "@jupyter-widgets/base",
     "model_module_version": "1.2.0",
     "model_name": "LayoutModel",
     "state": {
      "_model_module": "@jupyter-widgets/base",
      "_model_module_version": "1.2.0",
      "_model_name": "LayoutModel",
      "_view_count": null,
      "_view_module": "@jupyter-widgets/base",
      "_view_module_version": "1.2.0",
      "_view_name": "LayoutView",
      "align_content": null,
      "align_items": null,
      "align_self": null,
      "border": null,
      "bottom": null,
      "display": null,
      "flex": null,
      "flex_flow": null,
      "grid_area": null,
      "grid_auto_columns": null,
      "grid_auto_flow": null,
      "grid_auto_rows": null,
      "grid_column": null,
      "grid_gap": null,
      "grid_row": null,
      "grid_template_areas": null,
      "grid_template_columns": null,
      "grid_template_rows": null,
      "height": null,
      "justify_content": null,
      "justify_items": null,
      "left": null,
      "margin": null,
      "max_height": null,
      "max_width": null,
      "min_height": null,
      "min_width": null,
      "object_fit": null,
      "object_position": null,
      "order": null,
      "overflow": null,
      "overflow_x": null,
      "overflow_y": null,
      "padding": null,
      "right": null,
      "top": null,
      "visibility": null,
      "width": null
     }
    },
    "d6f913402cc94853abfff11ab521e3c0": {
     "model_module": "@jupyter-widgets/controls",
     "model_module_version": "1.5.0",
     "model_name": "DescriptionStyleModel",
     "state": {
      "_model_module": "@jupyter-widgets/controls",
      "_model_module_version": "1.5.0",
      "_model_name": "DescriptionStyleModel",
      "_view_count": null,
      "_view_module": "@jupyter-widgets/base",
      "_view_module_version": "1.2.0",
      "_view_name": "StyleView",
      "description_width": ""
     }
    },
    "d875ca905e6840149cddaf661a2db6de": {
     "model_module": "@jupyter-widgets/controls",
     "model_module_version": "1.5.0",
     "model_name": "HTMLModel",
     "state": {
      "_dom_classes": [],
      "_model_module": "@jupyter-widgets/controls",
      "_model_module_version": "1.5.0",
      "_model_name": "HTMLModel",
      "_view_count": null,
      "_view_module": "@jupyter-widgets/controls",
      "_view_module_version": "1.5.0",
      "_view_name": "HTMLView",
      "description": "",
      "description_tooltip": null,
      "layout": "IPY_MODEL_c3dc55bc010e450a9bf5daa895cb742a",
      "placeholder": "​",
      "style": "IPY_MODEL_2024fcdd8120475393083775959375a2",
      "value": " 46.4k/46.4k [00:00&lt;00:00, 769kB/s]"
     }
    },
    "d8af9a10ec6146f6b89ff753e38cb2bf": {
     "model_module": "@jupyter-widgets/base",
     "model_module_version": "1.2.0",
     "model_name": "LayoutModel",
     "state": {
      "_model_module": "@jupyter-widgets/base",
      "_model_module_version": "1.2.0",
      "_model_name": "LayoutModel",
      "_view_count": null,
      "_view_module": "@jupyter-widgets/base",
      "_view_module_version": "1.2.0",
      "_view_name": "LayoutView",
      "align_content": null,
      "align_items": null,
      "align_self": null,
      "border": null,
      "bottom": null,
      "display": null,
      "flex": null,
      "flex_flow": null,
      "grid_area": null,
      "grid_auto_columns": null,
      "grid_auto_flow": null,
      "grid_auto_rows": null,
      "grid_column": null,
      "grid_gap": null,
      "grid_row": null,
      "grid_template_areas": null,
      "grid_template_columns": null,
      "grid_template_rows": null,
      "height": null,
      "justify_content": null,
      "justify_items": null,
      "left": null,
      "margin": null,
      "max_height": null,
      "max_width": null,
      "min_height": null,
      "min_width": null,
      "object_fit": null,
      "object_position": null,
      "order": null,
      "overflow": null,
      "overflow_x": null,
      "overflow_y": null,
      "padding": null,
      "right": null,
      "top": null,
      "visibility": null,
      "width": null
     }
    },
    "dc3d71496e6a4b40bd487fbec5b41ec7": {
     "model_module": "@jupyter-widgets/controls",
     "model_module_version": "1.5.0",
     "model_name": "HTMLModel",
     "state": {
      "_dom_classes": [],
      "_model_module": "@jupyter-widgets/controls",
      "_model_module_version": "1.5.0",
      "_model_name": "HTMLModel",
      "_view_count": null,
      "_view_module": "@jupyter-widgets/controls",
      "_view_module_version": "1.5.0",
      "_view_name": "HTMLView",
      "description": "",
      "description_tooltip": null,
      "layout": "IPY_MODEL_818da3c75b8240f79aec2a11286ac036",
      "placeholder": "​",
      "style": "IPY_MODEL_56580424724c45bc994e00136508d0f0",
      "value": " 636/636 [00:00&lt;00:00, 23.3kB/s]"
     }
    },
    "dd62c2388c7546809c297e24e2074b0b": {
     "model_module": "@jupyter-widgets/base",
     "model_module_version": "1.2.0",
     "model_name": "LayoutModel",
     "state": {
      "_model_module": "@jupyter-widgets/base",
      "_model_module_version": "1.2.0",
      "_model_name": "LayoutModel",
      "_view_count": null,
      "_view_module": "@jupyter-widgets/base",
      "_view_module_version": "1.2.0",
      "_view_name": "LayoutView",
      "align_content": null,
      "align_items": null,
      "align_self": null,
      "border": null,
      "bottom": null,
      "display": null,
      "flex": null,
      "flex_flow": null,
      "grid_area": null,
      "grid_auto_columns": null,
      "grid_auto_flow": null,
      "grid_auto_rows": null,
      "grid_column": null,
      "grid_gap": null,
      "grid_row": null,
      "grid_template_areas": null,
      "grid_template_columns": null,
      "grid_template_rows": null,
      "height": null,
      "justify_content": null,
      "justify_items": null,
      "left": null,
      "margin": null,
      "max_height": null,
      "max_width": null,
      "min_height": null,
      "min_width": null,
      "object_fit": null,
      "object_position": null,
      "order": null,
      "overflow": null,
      "overflow_x": null,
      "overflow_y": null,
      "padding": null,
      "right": null,
      "top": null,
      "visibility": null,
      "width": null
     }
    },
    "ef583885f1af47babc4c7d3a924bcedc": {
     "model_module": "@jupyter-widgets/controls",
     "model_module_version": "1.5.0",
     "model_name": "FloatProgressModel",
     "state": {
      "_dom_classes": [],
      "_model_module": "@jupyter-widgets/controls",
      "_model_module_version": "1.5.0",
      "_model_name": "FloatProgressModel",
      "_view_count": null,
      "_view_module": "@jupyter-widgets/controls",
      "_view_module_version": "1.5.0",
      "_view_name": "ProgressView",
      "bar_style": "success",
      "description": "",
      "description_tooltip": null,
      "layout": "IPY_MODEL_bf05cfaef362438da474ff288f02ca9c",
      "max": 34362873,
      "min": 0,
      "orientation": "horizontal",
      "style": "IPY_MODEL_8c301d51ec2d4dcab0575415ce900c33",
      "value": 34362873
     }
    },
    "f36f67e12c8742db8ef6803db93a1701": {
     "model_module": "@jupyter-widgets/controls",
     "model_module_version": "1.5.0",
     "model_name": "ProgressStyleModel",
     "state": {
      "_model_module": "@jupyter-widgets/controls",
      "_model_module_version": "1.5.0",
      "_model_name": "ProgressStyleModel",
      "_view_count": null,
      "_view_module": "@jupyter-widgets/base",
      "_view_module_version": "1.2.0",
      "_view_name": "StyleView",
      "bar_color": null,
      "description_width": ""
     }
    },
    "f54fb36e843a4f10b93dae0a93229221": {
     "model_module": "@jupyter-widgets/controls",
     "model_module_version": "1.5.0",
     "model_name": "ProgressStyleModel",
     "state": {
      "_model_module": "@jupyter-widgets/controls",
      "_model_module_version": "1.5.0",
      "_model_name": "ProgressStyleModel",
      "_view_count": null,
      "_view_module": "@jupyter-widgets/base",
      "_view_module_version": "1.2.0",
      "_view_name": "StyleView",
      "bar_color": null,
      "description_width": ""
     }
    }
   }
  }
 },
 "nbformat": 4,
 "nbformat_minor": 0
}
